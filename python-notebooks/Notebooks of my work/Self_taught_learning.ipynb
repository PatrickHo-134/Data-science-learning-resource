{
 "cells": [
  {
   "cell_type": "markdown",
   "metadata": {},
   "source": [
    "# PART C: SELF-TAUGHT LEARNING\n",
    "Implement self-taught learning for Neural Network using the Autoencoder and a 3-layer Neural Network\n",
    "\n",
    "## Question 3: Self-taught Neural Network Learning\n",
    "\n",
    "This following part of code is taken from provided codebase to facilitate the process of this assignment\n",
    "\n",
    "### Part I: Load data sets and required libraries (e.g., H2O)\n",
    "- Task2C_labeled.csv and Task2C_unlabeled.csv data set are used for training autoencoder\n",
    "- Task2C_labeled.csv is used for training the classifier"
   ]
  },
  {
   "cell_type": "code",
   "execution_count": 60,
   "metadata": {},
   "outputs": [
    {
     "name": "stdout",
     "output_type": "stream",
     "text": [
      " Connection successful!\n",
      "\n",
      "R is connected to the H2O cluster: \n",
      "    H2O cluster uptime:         34 seconds 48 milliseconds \n",
      "    H2O cluster timezone:       Australia/Sydney \n",
      "    H2O data parsing timezone:  UTC \n",
      "    H2O cluster version:        3.20.0.9 \n",
      "    H2O cluster version age:    12 days  \n",
      "    H2O cluster name:           phath \n",
      "    H2O cluster total nodes:    1 \n",
      "    H2O cluster total memory:   3.50 GB \n",
      "    H2O cluster total cores:    12 \n",
      "    H2O cluster allowed cores:  12 \n",
      "    H2O cluster healthy:        TRUE \n",
      "    H2O Connection ip:          localhost \n",
      "    H2O Connection port:        54321 \n",
      "    H2O Connection proxy:       NA \n",
      "    H2O Internal Security:      FALSE \n",
      "    H2O API Extensions:         Algos, AutoML, Core V3, Core V4 \n",
      "    R Version:                  R version 3.5.1 (2018-07-02) \n",
      "\n"
     ]
    }
   ],
   "source": [
    "##########################\n",
    "options(warn=-1)\n",
    "library(ggplot2)\n",
    "library(reshape2)\n",
    "library(h2o)\n",
    "#If there is a proxy: proxy.old <- Sys.getenv('http_proxy'); Sys.setenv('http_proxy'='');\n",
    "localH2O =  h2o.init(nthreads = -1, port = 54321, max_mem_size = '6G', startH2O = TRUE, strict_version_check = FALSE)"
   ]
  },
  {
   "cell_type": "code",
   "execution_count": 61,
   "metadata": {},
   "outputs": [
    {
     "name": "stdout",
     "output_type": "stream",
     "text": [
      "  |======================================================================| 100%\n",
      "  |======================================================================| 100%\n",
      "  |======================================================================| 100%\n"
     ]
    },
    {
     "data": {
      "text/html": [
       "<ol class=list-inline>\n",
       "\t<li>50</li>\n",
       "\t<li>785</li>\n",
       "</ol>\n"
      ],
      "text/latex": [
       "\\begin{enumerate*}\n",
       "\\item 50\n",
       "\\item 785\n",
       "\\end{enumerate*}\n"
      ],
      "text/markdown": [
       "1. 50\n",
       "2. 785\n",
       "\n",
       "\n"
      ],
      "text/plain": [
       "[1]  50 785"
      ]
     },
     "metadata": {},
     "output_type": "display_data"
    },
    {
     "data": {
      "text/html": [
       "<ol class=list-inline>\n",
       "\t<li>500</li>\n",
       "\t<li>784</li>\n",
       "</ol>\n"
      ],
      "text/latex": [
       "\\begin{enumerate*}\n",
       "\\item 500\n",
       "\\item 784\n",
       "\\end{enumerate*}\n"
      ],
      "text/markdown": [
       "1. 500\n",
       "2. 784\n",
       "\n",
       "\n"
      ],
      "text/plain": [
       "[1] 500 784"
      ]
     },
     "metadata": {},
     "output_type": "display_data"
    },
    {
     "data": {
      "text/html": [
       "<ol class=list-inline>\n",
       "\t<li>1000</li>\n",
       "\t<li>785</li>\n",
       "</ol>\n"
      ],
      "text/latex": [
       "\\begin{enumerate*}\n",
       "\\item 1000\n",
       "\\item 785\n",
       "\\end{enumerate*}\n"
      ],
      "text/markdown": [
       "1. 1000\n",
       "2. 785\n",
       "\n",
       "\n"
      ],
      "text/plain": [
       "[1] 1000  785"
      ]
     },
     "metadata": {},
     "output_type": "display_data"
    }
   ],
   "source": [
    "# load datasets into h2o instance\n",
    "labeled.frame <- h2o.importFile(path = 'D:/Master of Data Science/18S2-FIT5201 - Data Analysis Algorithm/Assignment 2/Task2C_labeled.csv' ,sep=',') \n",
    "unlabeled.frame <- h2o.importFile(path = 'D:/Master of Data Science/18S2-FIT5201 - Data Analysis Algorithm/Assignment 2/Task2C_unlabeled.csv' ,sep=',') \n",
    "test.frame <- h2o.importFile(path = 'D:/Master of Data Science/18S2-FIT5201 - Data Analysis Algorithm/Assignment 2/Task2C_test.csv' ,sep=',') \n",
    "\n",
    "labeled.frame[,1] <- as.factor(labeled.frame$label)\n",
    "unlabeled.frame[,1] <- NA\n",
    "\n",
    "# we will use labeled.frame and unlabeled.frame for training autoencoders\n",
    "train.frame <- h2o.rbind(labeled.frame[,-1], unlabeled.frame[,-1])\n",
    "\n",
    "test.frame[,1] <- as.factor(test.frame$label)\n",
    "\n",
    "dim(labeled.frame)\n",
    "dim(train.frame)\n",
    "dim(test.frame)"
   ]
  },
  {
   "cell_type": "markdown",
   "metadata": {},
   "source": [
    "### Part II: Train an autoencoder with only one hidden layer and change the number of neurons to: 20, 40, ... , 500 "
   ]
  },
  {
   "cell_type": "code",
   "execution_count": 62,
   "metadata": {},
   "outputs": [],
   "source": [
    "####################### GENERAL AUXILIARY FUNCTIONS #######################\n",
    "## The following structure helps us to have functions with multiple outputs\n",
    "### credit: https://stat.ethz.ch/pipermail/r-help/2004-June/053343.html\n",
    "\n",
    "error.rate <- function(Y1, T1){\n",
    "  if (nrow(Y1)!=nrow(T1)){\n",
    "    stop('error.rate: size of true lables and predicted labels mismatch')\n",
    "  }\n",
    "  return (sum(T1!=Y1)/nrow(T1))\n",
    "}"
   ]
  },
  {
   "cell_type": "code",
   "execution_count": 63,
   "metadata": {},
   "outputs": [
    {
     "name": "stdout",
     "output_type": "stream",
     "text": [
      "  |======================================================================| 100%\n",
      "  |======================================================================| 100%\n",
      "  |======================================================================| 100%\n",
      "  |======================================================================| 100%\n",
      "  |======================================================================| 100%\n",
      "  |======================================================================| 100%\n",
      "  |======================================================================| 100%\n",
      "  |======================================================================| 100%\n",
      "  |======================================================================| 100%\n",
      "  |======================================================================| 100%\n",
      "  |======================================================================| 100%\n",
      "  |======================================================================| 100%\n",
      "  |======================================================================| 100%\n",
      "  |======================================================================| 100%\n",
      "  |======================================================================| 100%\n",
      "  |======================================================================| 100%\n",
      "  |======================================================================| 100%\n",
      "  |======================================================================| 100%\n",
      "  |======================================================================| 100%\n",
      "  |======================================================================| 100%\n",
      "  |======================================================================| 100%\n",
      "  |======================================================================| 100%\n",
      "  |======================================================================| 100%\n",
      "  |======================================================================| 100%\n",
      "  |======================================================================| 100%\n"
     ]
    }
   ],
   "source": [
    "# create a list to store variants of autoencoder\n",
    "autoencoder.variants <- list()\n",
    "\n",
    "for (k in seq(20, 500, 20)){\n",
    "    # build a neural network classifier based on the training data\n",
    "    autoencoder.variants[[k/20]] <- h2o.deeplearning(    \n",
    "        x = 1:ncol(train.frame), # select features\n",
    "        training_frame = train.frame, # specify the frame (imported file)    \n",
    "        hidden = c(k), # number of layers and their units\n",
    "        epochs = 50, # maximum number of epoches  \n",
    "        activation = 'Tanh', # activation function \n",
    "        autoencoder = TRUE, # is it an autoencoder? Yes!\n",
    "        l2 = 0.1,\n",
    "        seed=123\n",
    "    )\n",
    "}"
   ]
  },
  {
   "cell_type": "markdown",
   "metadata": {},
   "source": [
    "### Part III: Calculate and record the reconstruction error"
   ]
  },
  {
   "cell_type": "code",
   "execution_count": 64,
   "metadata": {
    "scrolled": true
   },
   "outputs": [
    {
     "data": {
      "text/html": [
       "<table>\n",
       "<thead><tr><th scope=col>K</th><th scope=col>Reconstruction.error</th></tr></thead>\n",
       "<tbody>\n",
       "\t<tr><td> 20       </td><td>0.03425237</td></tr>\n",
       "\t<tr><td> 40       </td><td>0.02158698</td></tr>\n",
       "\t<tr><td> 60       </td><td>0.01721310</td></tr>\n",
       "\t<tr><td> 80       </td><td>0.01530021</td></tr>\n",
       "\t<tr><td>100       </td><td>0.01519593</td></tr>\n",
       "\t<tr><td>120       </td><td>0.01436655</td></tr>\n",
       "\t<tr><td>140       </td><td>0.01428874</td></tr>\n",
       "\t<tr><td>160       </td><td>0.01421573</td></tr>\n",
       "\t<tr><td>180       </td><td>0.01427426</td></tr>\n",
       "\t<tr><td>200       </td><td>0.01426676</td></tr>\n",
       "\t<tr><td>220       </td><td>0.01436685</td></tr>\n",
       "\t<tr><td>240       </td><td>0.01444418</td></tr>\n",
       "\t<tr><td>260       </td><td>0.01474274</td></tr>\n",
       "\t<tr><td>280       </td><td>0.01466704</td></tr>\n",
       "\t<tr><td>300       </td><td>0.01499232</td></tr>\n",
       "\t<tr><td>320       </td><td>0.01487484</td></tr>\n",
       "\t<tr><td>340       </td><td>0.01502372</td></tr>\n",
       "\t<tr><td>360       </td><td>0.01523263</td></tr>\n",
       "\t<tr><td>380       </td><td>0.01513251</td></tr>\n",
       "\t<tr><td>400       </td><td>0.01504425</td></tr>\n",
       "\t<tr><td>420       </td><td>0.01530988</td></tr>\n",
       "\t<tr><td>440       </td><td>0.01408836</td></tr>\n",
       "\t<tr><td>460       </td><td>0.01537885</td></tr>\n",
       "\t<tr><td>480       </td><td>0.01558742</td></tr>\n",
       "\t<tr><td>500       </td><td>0.01414548</td></tr>\n",
       "</tbody>\n",
       "</table>\n"
      ],
      "text/latex": [
       "\\begin{tabular}{r|ll}\n",
       " K & Reconstruction.error\\\\\n",
       "\\hline\n",
       "\t  20        & 0.03425237\\\\\n",
       "\t  40        & 0.02158698\\\\\n",
       "\t  60        & 0.01721310\\\\\n",
       "\t  80        & 0.01530021\\\\\n",
       "\t 100        & 0.01519593\\\\\n",
       "\t 120        & 0.01436655\\\\\n",
       "\t 140        & 0.01428874\\\\\n",
       "\t 160        & 0.01421573\\\\\n",
       "\t 180        & 0.01427426\\\\\n",
       "\t 200        & 0.01426676\\\\\n",
       "\t 220        & 0.01436685\\\\\n",
       "\t 240        & 0.01444418\\\\\n",
       "\t 260        & 0.01474274\\\\\n",
       "\t 280        & 0.01466704\\\\\n",
       "\t 300        & 0.01499232\\\\\n",
       "\t 320        & 0.01487484\\\\\n",
       "\t 340        & 0.01502372\\\\\n",
       "\t 360        & 0.01523263\\\\\n",
       "\t 380        & 0.01513251\\\\\n",
       "\t 400        & 0.01504425\\\\\n",
       "\t 420        & 0.01530988\\\\\n",
       "\t 440        & 0.01408836\\\\\n",
       "\t 460        & 0.01537885\\\\\n",
       "\t 480        & 0.01558742\\\\\n",
       "\t 500        & 0.01414548\\\\\n",
       "\\end{tabular}\n"
      ],
      "text/markdown": [
       "\n",
       "K | Reconstruction.error | \n",
       "|---|---|---|---|---|---|---|---|---|---|---|---|---|---|---|---|---|---|---|---|---|---|---|---|---|\n",
       "|  20        | 0.03425237 | \n",
       "|  40        | 0.02158698 | \n",
       "|  60        | 0.01721310 | \n",
       "|  80        | 0.01530021 | \n",
       "| 100        | 0.01519593 | \n",
       "| 120        | 0.01436655 | \n",
       "| 140        | 0.01428874 | \n",
       "| 160        | 0.01421573 | \n",
       "| 180        | 0.01427426 | \n",
       "| 200        | 0.01426676 | \n",
       "| 220        | 0.01436685 | \n",
       "| 240        | 0.01444418 | \n",
       "| 260        | 0.01474274 | \n",
       "| 280        | 0.01466704 | \n",
       "| 300        | 0.01499232 | \n",
       "| 320        | 0.01487484 | \n",
       "| 340        | 0.01502372 | \n",
       "| 360        | 0.01523263 | \n",
       "| 380        | 0.01513251 | \n",
       "| 400        | 0.01504425 | \n",
       "| 420        | 0.01530988 | \n",
       "| 440        | 0.01408836 | \n",
       "| 460        | 0.01537885 | \n",
       "| 480        | 0.01558742 | \n",
       "| 500        | 0.01414548 | \n",
       "\n",
       "\n"
      ],
      "text/plain": [
       "   K   Reconstruction.error\n",
       "1   20 0.03425237          \n",
       "2   40 0.02158698          \n",
       "3   60 0.01721310          \n",
       "4   80 0.01530021          \n",
       "5  100 0.01519593          \n",
       "6  120 0.01436655          \n",
       "7  140 0.01428874          \n",
       "8  160 0.01421573          \n",
       "9  180 0.01427426          \n",
       "10 200 0.01426676          \n",
       "11 220 0.01436685          \n",
       "12 240 0.01444418          \n",
       "13 260 0.01474274          \n",
       "14 280 0.01466704          \n",
       "15 300 0.01499232          \n",
       "16 320 0.01487484          \n",
       "17 340 0.01502372          \n",
       "18 360 0.01523263          \n",
       "19 380 0.01513251          \n",
       "20 400 0.01504425          \n",
       "21 420 0.01530988          \n",
       "22 440 0.01408836          \n",
       "23 460 0.01537885          \n",
       "24 480 0.01558742          \n",
       "25 500 0.01414548          "
      ]
     },
     "metadata": {},
     "output_type": "display_data"
    }
   ],
   "source": [
    "# dateframe to record reconstruction error rate\n",
    "recons.train.error <- data.frame('K' = seq(20,500,20), 'Reconstruction.error'=rep(0,25))\n",
    "\n",
    "# calculate reconstruction for each model in part II\n",
    "for (k in seq(20, 500, 20)){\n",
    "    error <- mean(h2o.anomaly(autoencoder.variants[[k/20]], train.frame))\n",
    "    recons.train.error[k/20, 'Reconstruction.error'] <- error\n",
    "}\n",
    "\n",
    "recons.train.error"
   ]
  },
  {
   "cell_type": "code",
   "execution_count": 74,
   "metadata": {},
   "outputs": [
    {
     "data": {},
     "metadata": {},
     "output_type": "display_data"
    },
    {
     "data": {
      "image/png": "[encoded data removed]",
      "text/plain": [
       "plot without title"
      ]
     },
     "metadata": {},
     "output_type": "display_data"
    }
   ],
   "source": [
    "# plot reconstruction error corresponding to value of K\n",
    "ggplot(data=recons.train.error, aes(x=K, y=Reconstruction.error, color='red')) + geom_line() + \n",
    "        geom_point(aes(x=recons.train.error[recons.train.error[,2] == min(recons.train.error$Reconstruction.error),]$K, \n",
    "                       y=min(Reconstruction.error)), size=3) +\n",
    "        geom_vline(xintercept=100, linetype = \"longdash\") +\n",
    "        theme_minimal() + ggtitle(\"Reconstruction Error Vs. Values of K in Autoencoder\")"
   ]
  },
  {
   "cell_type": "markdown",
   "metadata": {},
   "source": [
    "#### Explain findings from the plot above\n",
    "From the plot, we can see that an autoencoder with one hidden layer and 440 units in that layer will generate the lowest reconstruction error. The error rate starts to decrease significantly at the beginning when we increase the number of units (K) in the hidden layer, then slightly rises again after it reaches the lowest rate.\n",
    "\n",
    "The structure of autoencoder has a special property, in which the size of input layer is equal to the size of output layer, meaning the algorithm will learn to reconstruct the output from input using encoder and decoder. The encoder learns the most important features from input and compresses it into a latent-space representation (hidden layer). The decoder then reconstructs the input from this hidden layer with an aim to minimize the reconstruction error between input and output. In order to achieve this, we put a constraint on the number of units in hidden layer so that it has smaller dimension than the input and is forced to learn the most important features of the training data. If the dimension of hidden layer is equal or larger than the input, it will simply copy the input forward without learning anything useful. That is why reconstruction error starts to rise again when K approaches the size of input. On the other hand, with small values of K, the autoencoder will excessively reduce useful features from input, resulting in a high reconstruction error. We can observe this in the left part of the first vertical line in the plot."
   ]
  },
  {
   "cell_type": "markdown",
   "metadata": {},
   "source": [
    "### Part IV: Use the 3-layer NN to build a classification model with 100 units in the hidden layer\n",
    "#### Build a new 3-layer neural network with 100 units in the hidden layer"
   ]
  },
  {
   "cell_type": "code",
   "execution_count": 66,
   "metadata": {},
   "outputs": [
    {
     "name": "stdout",
     "output_type": "stream",
     "text": [
      "  |======================================================================| 100%\n"
     ]
    }
   ],
   "source": [
    "# build a neural network classifier using all the original attributes from the training set\n",
    "new.NN <- h2o.deeplearning(    \n",
    "    x = 1:ncol(labeled.frame), # select features\n",
    "    y = 1,\n",
    "    training_frame = labeled.frame, # specify the frame (imported file)    \n",
    "    hidden = c(100), # number of layers and their units\n",
    "    epochs = 50, # maximum number of epoches  \n",
    "    activation = 'Tanh', # activation function \n",
    "    autoencoder = FALSE, # is it an autoencoder?\n",
    "    l2 = 0.1,\n",
    "    seed = 123\n",
    ")"
   ]
  },
  {
   "cell_type": "code",
   "execution_count": 67,
   "metadata": {},
   "outputs": [
    {
     "name": "stdout",
     "output_type": "stream",
     "text": [
      "  |======================================================================| 100%\n",
      "Test error obtained by the 3-layer neural network is: 0.527"
     ]
    }
   ],
   "source": [
    "# use the model built previously to predict the test data\n",
    "predict.test <- h2o.predict(new.NN, test.frame[,-1])[,1]\n",
    "\n",
    "# calculate test error\n",
    "test.error <- error.rate(predict.test, test.frame[,1])\n",
    "cat('Test error obtained by the 3-layer neural network is:', test.error)"
   ]
  },
  {
   "cell_type": "markdown",
   "metadata": {},
   "source": [
    "### Part V: Build augmented self-taught networks using the models learned in part II"
   ]
  },
  {
   "cell_type": "code",
   "execution_count": 68,
   "metadata": {
    "scrolled": true
   },
   "outputs": [
    {
     "name": "stdout",
     "output_type": "stream",
     "text": [
      "  |======================================================================| 100%\n",
      "  |======================================================================| 100%\n",
      "  |======================================================================| 100%\n",
      "  |======================================================================| 100%\n",
      "  |======================================================================| 100%\n",
      "  |======================================================================| 100%\n",
      "  |======================================================================| 100%\n",
      "  |======================================================================| 100%\n",
      "  |======================================================================| 100%\n",
      "  |======================================================================| 100%\n",
      "  |======================================================================| 100%\n",
      "  |======================================================================| 100%\n",
      "  |======================================================================| 100%\n",
      "  |======================================================================| 100%\n",
      "  |======================================================================| 100%\n",
      "  |======================================================================| 100%\n",
      "  |======================================================================| 100%\n",
      "  |======================================================================| 100%\n",
      "  |======================================================================| 100%\n",
      "  |======================================================================| 100%\n",
      "  |======================================================================| 100%\n",
      "  |======================================================================| 100%\n",
      "  |======================================================================| 100%\n",
      "  |======================================================================| 100%\n",
      "  |======================================================================| 100%\n",
      "  |======================================================================| 100%\n",
      "  |======================================================================| 100%\n",
      "  |======================================================================| 100%\n",
      "  |======================================================================| 100%\n",
      "  |======================================================================| 100%\n",
      "  |======================================================================| 100%\n",
      "  |======================================================================| 100%\n",
      "  |======================================================================| 100%\n",
      "  |======================================================================| 100%\n",
      "  |======================================================================| 100%\n",
      "  |======================================================================| 100%\n",
      "  |======================================================================| 100%\n",
      "  |======================================================================| 100%\n",
      "  |======================================================================| 100%\n",
      "  |======================================================================| 100%\n",
      "  |======================================================================| 100%\n",
      "  |======================================================================| 100%\n",
      "  |======================================================================| 100%\n",
      "  |======================================================================| 100%\n",
      "  |======================================================================| 100%\n",
      "  |======================================================================| 100%\n",
      "  |======================================================================| 100%\n",
      "  |======================================================================| 100%\n",
      "  |======================================================================| 100%\n",
      "  |======================================================================| 100%\n",
      "  |======================================================================| 100%\n",
      "  |======================================================================| 100%\n",
      "  |======================================================================| 100%\n",
      "  |======================================================================| 100%\n",
      "  |======================================================================| 100%\n",
      "  |======================================================================| 100%\n",
      "  |======================================================================| 100%\n",
      "  |======================================================================| 100%\n",
      "  |======================================================================| 100%\n",
      "  |======================================================================| 100%\n",
      "  |======================================================================| 100%\n",
      "  |======================================================================| 100%\n",
      "  |======================================================================| 100%\n",
      "  |======================================================================| 100%\n",
      "  |======================================================================| 100%\n",
      "  |======================================================================| 100%\n",
      "  |======================================================================| 100%\n",
      "  |======================================================================| 100%\n",
      "  |======================================================================| 100%\n",
      "  |======================================================================| 100%\n",
      "  |======================================================================| 100%\n",
      "  |======================================================================| 100%\n",
      "  |======================================================================| 100%\n",
      "  |======================================================================| 100%\n",
      "  |======================================================================| 100%\n"
     ]
    },
    {
     "data": {
      "text/html": [
       "<table>\n",
       "<thead><tr><th scope=col>K</th><th scope=col>Extra.features</th><th scope=col>Test.error</th></tr></thead>\n",
       "<tbody>\n",
       "\t<tr><td> 20  </td><td> 20  </td><td>0.556</td></tr>\n",
       "\t<tr><td> 40  </td><td> 40  </td><td>0.542</td></tr>\n",
       "\t<tr><td> 60  </td><td> 60  </td><td>0.577</td></tr>\n",
       "\t<tr><td> 80  </td><td> 80  </td><td>0.564</td></tr>\n",
       "\t<tr><td>100  </td><td>100  </td><td>0.559</td></tr>\n",
       "\t<tr><td>120  </td><td>120  </td><td>0.591</td></tr>\n",
       "\t<tr><td>140  </td><td>140  </td><td>0.553</td></tr>\n",
       "\t<tr><td>160  </td><td>160  </td><td>0.566</td></tr>\n",
       "\t<tr><td>180  </td><td>180  </td><td>0.660</td></tr>\n",
       "\t<tr><td>200  </td><td>200  </td><td>0.333</td></tr>\n",
       "\t<tr><td>220  </td><td>220  </td><td>0.628</td></tr>\n",
       "\t<tr><td>240  </td><td>240  </td><td>0.600</td></tr>\n",
       "\t<tr><td>260  </td><td>260  </td><td>0.337</td></tr>\n",
       "\t<tr><td>280  </td><td>280  </td><td>0.525</td></tr>\n",
       "\t<tr><td>300  </td><td>300  </td><td>0.584</td></tr>\n",
       "\t<tr><td>320  </td><td>320  </td><td>0.585</td></tr>\n",
       "\t<tr><td>340  </td><td>340  </td><td>0.618</td></tr>\n",
       "\t<tr><td>360  </td><td>360  </td><td>0.514</td></tr>\n",
       "\t<tr><td>380  </td><td>380  </td><td>0.611</td></tr>\n",
       "\t<tr><td>400  </td><td>400  </td><td>0.321</td></tr>\n",
       "\t<tr><td>420  </td><td>420  </td><td>0.357</td></tr>\n",
       "\t<tr><td>440  </td><td>440  </td><td>0.350</td></tr>\n",
       "\t<tr><td>460  </td><td>460  </td><td>0.619</td></tr>\n",
       "\t<tr><td>480  </td><td>480  </td><td>0.617</td></tr>\n",
       "\t<tr><td>500  </td><td>500  </td><td>0.546</td></tr>\n",
       "</tbody>\n",
       "</table>\n"
      ],
      "text/latex": [
       "\\begin{tabular}{r|lll}\n",
       " K & Extra.features & Test.error\\\\\n",
       "\\hline\n",
       "\t  20   &  20   & 0.556\\\\\n",
       "\t  40   &  40   & 0.542\\\\\n",
       "\t  60   &  60   & 0.577\\\\\n",
       "\t  80   &  80   & 0.564\\\\\n",
       "\t 100   & 100   & 0.559\\\\\n",
       "\t 120   & 120   & 0.591\\\\\n",
       "\t 140   & 140   & 0.553\\\\\n",
       "\t 160   & 160   & 0.566\\\\\n",
       "\t 180   & 180   & 0.660\\\\\n",
       "\t 200   & 200   & 0.333\\\\\n",
       "\t 220   & 220   & 0.628\\\\\n",
       "\t 240   & 240   & 0.600\\\\\n",
       "\t 260   & 260   & 0.337\\\\\n",
       "\t 280   & 280   & 0.525\\\\\n",
       "\t 300   & 300   & 0.584\\\\\n",
       "\t 320   & 320   & 0.585\\\\\n",
       "\t 340   & 340   & 0.618\\\\\n",
       "\t 360   & 360   & 0.514\\\\\n",
       "\t 380   & 380   & 0.611\\\\\n",
       "\t 400   & 400   & 0.321\\\\\n",
       "\t 420   & 420   & 0.357\\\\\n",
       "\t 440   & 440   & 0.350\\\\\n",
       "\t 460   & 460   & 0.619\\\\\n",
       "\t 480   & 480   & 0.617\\\\\n",
       "\t 500   & 500   & 0.546\\\\\n",
       "\\end{tabular}\n"
      ],
      "text/markdown": [
       "\n",
       "K | Extra.features | Test.error | \n",
       "|---|---|---|---|---|---|---|---|---|---|---|---|---|---|---|---|---|---|---|---|---|---|---|---|---|\n",
       "|  20   |  20   | 0.556 | \n",
       "|  40   |  40   | 0.542 | \n",
       "|  60   |  60   | 0.577 | \n",
       "|  80   |  80   | 0.564 | \n",
       "| 100   | 100   | 0.559 | \n",
       "| 120   | 120   | 0.591 | \n",
       "| 140   | 140   | 0.553 | \n",
       "| 160   | 160   | 0.566 | \n",
       "| 180   | 180   | 0.660 | \n",
       "| 200   | 200   | 0.333 | \n",
       "| 220   | 220   | 0.628 | \n",
       "| 240   | 240   | 0.600 | \n",
       "| 260   | 260   | 0.337 | \n",
       "| 280   | 280   | 0.525 | \n",
       "| 300   | 300   | 0.584 | \n",
       "| 320   | 320   | 0.585 | \n",
       "| 340   | 340   | 0.618 | \n",
       "| 360   | 360   | 0.514 | \n",
       "| 380   | 380   | 0.611 | \n",
       "| 400   | 400   | 0.321 | \n",
       "| 420   | 420   | 0.357 | \n",
       "| 440   | 440   | 0.350 | \n",
       "| 460   | 460   | 0.619 | \n",
       "| 480   | 480   | 0.617 | \n",
       "| 500   | 500   | 0.546 | \n",
       "\n",
       "\n"
      ],
      "text/plain": [
       "   K   Extra.features Test.error\n",
       "1   20  20            0.556     \n",
       "2   40  40            0.542     \n",
       "3   60  60            0.577     \n",
       "4   80  80            0.564     \n",
       "5  100 100            0.559     \n",
       "6  120 120            0.591     \n",
       "7  140 140            0.553     \n",
       "8  160 160            0.566     \n",
       "9  180 180            0.660     \n",
       "10 200 200            0.333     \n",
       "11 220 220            0.628     \n",
       "12 240 240            0.600     \n",
       "13 260 260            0.337     \n",
       "14 280 280            0.525     \n",
       "15 300 300            0.584     \n",
       "16 320 320            0.585     \n",
       "17 340 340            0.618     \n",
       "18 360 360            0.514     \n",
       "19 380 380            0.611     \n",
       "20 400 400            0.321     \n",
       "21 420 420            0.357     \n",
       "22 440 440            0.350     \n",
       "23 460 460            0.619     \n",
       "24 480 480            0.617     \n",
       "25 500 500            0.546     "
      ]
     },
     "metadata": {},
     "output_type": "display_data"
    }
   ],
   "source": [
    "# data frame to record error of each model\n",
    "selftaught.error <- data.frame('K'=seq(20,500,20), 'Extra.features' = rep(0,25), 'Test.error'=rep(0,25))\n",
    "\n",
    "# build a neural network classifier based on the labeled training data\n",
    "for (k in seq(20, 500, 20)){\n",
    "    # add extra feature with original features\n",
    "    extra.feature <- h2o.deepfeatures(autoencoder.variants[[k/20]], labeled.frame, layer=1)\n",
    "    extra.original <- h2o.cbind(labeled.frame, extra.feature) # combine extra features with original ones\n",
    "    \n",
    "    # build a neural network classifier based on the labeled training data\n",
    "    self.taught.nn <- h2o.deeplearning(    \n",
    "        x = 2:ncol(extra.original), # select all pixels + extra features\n",
    "        y= 1,\n",
    "        training_frame = extra.original, # specify the frame (imported file)    \n",
    "        hidden = c(100), # number of layers and their units\n",
    "        epochs = 50, # maximum number of epoches  \n",
    "        activation = 'Tanh', # activation function \n",
    "        autoencoder = FALSE, # is it an autoencoder? Yes!\n",
    "        l2 = 0.1\n",
    "    )\n",
    "    \n",
    "    # record number of extra feature for each classifier\n",
    "    selftaught.error[k/20, 'Extra.features'] <- dim(extra.feature)[2]\n",
    "    \n",
    "    # predict test data\n",
    "    prediction <- h2o.predict(self.taught.nn, test.frame[,-1])[,1]\n",
    "    # calculate and record test error\n",
    "    selftaught.error[k/20, 'Test.error'] <- error.rate(prediction, test.frame$label)\n",
    "}\n",
    "\n",
    "selftaught.error"
   ]
  },
  {
   "cell_type": "markdown",
   "metadata": {},
   "source": [
    "### Part VI: Plot the error rates for the 3-layer neural networks from Step V while the x-axis is the number of extra features and y-axis is the classification error"
   ]
  },
  {
   "cell_type": "code",
   "execution_count": 69,
   "metadata": {},
   "outputs": [
    {
     "data": {},
     "metadata": {},
     "output_type": "display_data"
    },
    {
     "data": {
      "image/png": "[encoded data removed]",
      "text/plain": [
       "plot without title"
      ]
     },
     "metadata": {},
     "output_type": "display_data"
    }
   ],
   "source": [
    "# plot test error corresponding to number of extra features\n",
    "ggplot(data=selftaught.error, aes(x=Extra.features, y=Test.error, color='red')) + geom_line() + \n",
    "        geom_point(aes(x=selftaught.error[selftaught.error[,3] == min(selftaught.error$Test.error),]$Extra.features, \n",
    "                       y=min(Test.error)), size=3) +\n",
    "        xlab(label = 'Number of extra features') +\n",
    "        ylab(label = 'Classification error') +\n",
    "        theme_minimal() + ggtitle(\"Classification Error Vs. Number of Extra Features\")"
   ]
  },
  {
   "cell_type": "markdown",
   "metadata": {},
   "source": [
    "### Part VII: Report the optimum number of units in the middle layer of the autoencoder in terms of the reconstruction and missclassification error.\n",
    "In the plot of part VI, we can see that the neural network classifier obtains the lowest missclassification error when number of extra features equal 400, while reconstruction error hits the bottom at 0.01408836 with K = 440. Moreover, it is difficult to see any relationship between the trend of these types of errors from the plots since we also recognize that both of them are very low at K = 200 and 260. Therefore, if we need to select an optimum value for the number of units in the middle layer of autoencoder, it is likely to be 400 where we get the lowest missclassification error and also a low reconstruction error."
   ]
  },
  {
   "cell_type": "markdown",
   "metadata": {},
   "source": [
    "### Part VIII: Comparing plot from step III and VI "
   ]
  },
  {
   "cell_type": "code",
   "execution_count": 70,
   "metadata": {
    "scrolled": true
   },
   "outputs": [],
   "source": [
    "# combine error rates into a dataframe\n",
    "combine.error <- as.data.frame(cbind(recons.train.error$K, recons.train.error$Reconstruction.error, \n",
    "                                     selftaught.error$Test.error))\n",
    "\n",
    "# scale error rates and combine them into one dataframe\n",
    "scaled.error <- as.data.frame(cbind(recons.train.error$K, scale(recons.train.error$Reconstruction.error), \n",
    "                                     scale(selftaught.error$Test.error)))\n",
    "\n",
    "# rename columns\n",
    "colnames(combine.error) <- c(\"K\", \"Reconstruction.error\", \"Test.error\")\n",
    "colnames(scaled.error) <- c(\"K\", \"Scaled.recon.error\", \"Scaled.test.error\")\n",
    "\n",
    "# transform the dataframes\n",
    "error.melt <- melt(combine.error, id='K')\n",
    "scl.error.melt <- melt(scaled.error, id='K')\n",
    "\n",
    "# rename columns\n",
    "colnames(error.melt) <- c(\"K\", \"Type\", \"Error.rate\")\n",
    "colnames(scl.error.melt) <- c(\"K\", \"Type\", \"Scaled.error.rate\")"
   ]
  },
  {
   "cell_type": "code",
   "execution_count": 71,
   "metadata": {},
   "outputs": [
    {
     "data": {},
     "metadata": {},
     "output_type": "display_data"
    },
    {
     "data": {
      "image/png": "[encoded data removed]",
      "text/plain": [
       "plot without title"
      ]
     },
     "metadata": {},
     "output_type": "display_data"
    }
   ],
   "source": [
    "# compare the plot from step III and step VI\n",
    "ggplot(data=error.melt, aes(x=K, y=Error.rate, color=Type)) + geom_line() +\n",
    "        scale_color_discrete(guide = guide_legend(title = NULL)) + theme_minimal() +\n",
    "        ggtitle(\"Comparing Reconstruction Errors and Test Errors\")"
   ]
  },
  {
   "cell_type": "code",
   "execution_count": 77,
   "metadata": {},
   "outputs": [
    {
     "data": {},
     "metadata": {},
     "output_type": "display_data"
    },
    {
     "data": {
      "image/png": "[encoded data removed]",
      "text/plain": [
       "plot without title"
      ]
     },
     "metadata": {},
     "output_type": "display_data"
    }
   ],
   "source": [
    "# compare the plot from step III and step VI. All error rates have been scaled for a better visualization\n",
    "ggplot(data=scl.error.melt, aes(x=K, y=Scaled.error.rate, color=Type)) + geom_line() +\n",
    "        scale_color_discrete(guide = guide_legend(title = NULL)) + theme_minimal() +\n",
    "        geom_point(aes(x= 440, y= scl.error.melt[scl.error.melt$K==440 & scl.error.melt$Type == 'Scaled.recon.error',]$Scaled.error.rate), size=3, color='red') +\n",
    "        geom_point(aes(x= 400, y= scl.error.melt[scl.error.melt$K==400 & scl.error.melt$Type == 'Scaled.test.error',]$Scaled.error.rate), size=3, color='blue') +\n",
    "        ggtitle(\"Comparing Scaled Reconstruction Errors and Test Errors\")"
   ]
  },
  {
   "cell_type": "markdown",
   "metadata": {},
   "source": [
    "From the plot, we can claim that there is not any relationship between the two errors since there is an immense difference in the trend of these errors. While reconstruction error plunges at the beginning, test error is widely fluctuated with increasing K. Another notable point is that the test error is significantly higher than reconstruction error. This can be explained by the difference in the amount of data we feed for each model since we use 500 data points for training autoencoder (train.frame) and only 50 data points (labeled.frame) for 3-layer neural network classifier. We know that the most reliable way to get better performance is to provide an algorithm more data to learn. That is why autoencoder achieves lower error rates than a 3-layer neural network in this case."
   ]
  },
  {
   "cell_type": "code",
   "execution_count": 73,
   "metadata": {},
   "outputs": [
    {
     "data": {
      "text/html": [
       "<ol class=list-inline>\n",
       "\t<li>50</li>\n",
       "\t<li>785</li>\n",
       "</ol>\n"
      ],
      "text/latex": [
       "\\begin{enumerate*}\n",
       "\\item 50\n",
       "\\item 785\n",
       "\\end{enumerate*}\n"
      ],
      "text/markdown": [
       "1. 50\n",
       "2. 785\n",
       "\n",
       "\n"
      ],
      "text/plain": [
       "[1]  50 785"
      ]
     },
     "metadata": {},
     "output_type": "display_data"
    },
    {
     "data": {
      "text/html": [
       "<ol class=list-inline>\n",
       "\t<li>500</li>\n",
       "\t<li>784</li>\n",
       "</ol>\n"
      ],
      "text/latex": [
       "\\begin{enumerate*}\n",
       "\\item 500\n",
       "\\item 784\n",
       "\\end{enumerate*}\n"
      ],
      "text/markdown": [
       "1. 500\n",
       "2. 784\n",
       "\n",
       "\n"
      ],
      "text/plain": [
       "[1] 500 784"
      ]
     },
     "metadata": {},
     "output_type": "display_data"
    },
    {
     "data": {
      "text/html": [
       "<ol class=list-inline>\n",
       "\t<li>1000</li>\n",
       "\t<li>785</li>\n",
       "</ol>\n"
      ],
      "text/latex": [
       "\\begin{enumerate*}\n",
       "\\item 1000\n",
       "\\item 785\n",
       "\\end{enumerate*}\n"
      ],
      "text/markdown": [
       "1. 1000\n",
       "2. 785\n",
       "\n",
       "\n"
      ],
      "text/plain": [
       "[1] 1000  785"
      ]
     },
     "metadata": {},
     "output_type": "display_data"
    }
   ],
   "source": [
    "dim(labeled.frame)\n",
    "dim(train.frame)\n",
    "dim(test.frame)"
   ]
  },
  {
   "cell_type": "code",
   "execution_count": null,
   "metadata": {},
   "outputs": [],
   "source": []
  }
 ],
 "metadata": {
  "kernelspec": {
   "display_name": "R",
   "language": "R",
   "name": "ir"
  },
  "language_info": {
   "codemirror_mode": "r",
   "file_extension": ".r",
   "mimetype": "text/x-r-source",
   "name": "R",
   "pygments_lexer": "r",
   "version": "3.5.1"
  }
 },
 "nbformat": 4,
 "nbformat_minor": 2
}
