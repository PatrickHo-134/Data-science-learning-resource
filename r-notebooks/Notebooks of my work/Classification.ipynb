{
 "cells": [
  {
   "cell_type": "markdown",
   "metadata": {},
   "source": [
    "# Week 4 tutorial - Classification\n",
    "\n",
    "The materials used in this tutorial are based on the applied exercises provided in the book <font color=\"brown\">\"An Introduction to Statistical Learning with Applications in R\"</font> (<a href=\"http://www-bcf.usc.edu/~gareth/ISL/\">ISLR</a>). We are trying to demonstrate how to use R to build simple classification models and assess their performance on real-world datasets. Besides the exercises that we are going to cover in this tutorial, it is worth trying the other applied exercises by yourself in Section 4.7."
   ]
  },
  {
   "cell_type": "markdown",
   "metadata": {},
   "source": [
    "## Predicting the Moving Direction of Stock Market\n",
    "\n",
    "This question should be answered using the **Weekly** data set, which is part of the <font color=\"red\">ISLR</font> package. This data is similar in nature to the <font color=\"red\">Smarket</font> data used in section 4.6 of ISLR, except that it contains 1,089 weekly returns for 21 years, from the beginning of 1990 to the end of 2010. The task is to predict whether the stock market went up or down on a specific date. We are going to explore four different methods, i.e.,\n",
    "\n",
    "* Multiple logistic regression\n",
    "* Linear Discriminant Analysis (LDA)\n",
    "* Quadratic Discriminant Analysis (QDA)\n",
    "* K-Nearest Neighbors (KNN)\n",
    "\n",
    "Similar to the lab in Section 4.6, we are going to fit the four models with the Weekly data and analyze their predicting accuracy. Besides what has been covered in section 4.6, we will introduce more discussion in regard to the model performance. We suggest that you could finish the tutorial together with section 4.6.\n",
    "\n",
    "We will first start with exploring the data in order to get familiar with the data, as we usually do in data analysis. It is always a good idea to understand your data with EDA."
   ]
  },
  {
   "cell_type": "code",
   "execution_count": 29,
   "metadata": {},
   "outputs": [],
   "source": [
    "library(ISLR)"
   ]
  },
  {
   "cell_type": "code",
   "execution_count": 30,
   "metadata": {},
   "outputs": [
    {
     "data": {
      "text/html": [
       "<table>\n",
       "<thead><tr><th scope=col>Year</th><th scope=col>Lag1</th><th scope=col>Lag2</th><th scope=col>Lag3</th><th scope=col>Lag4</th><th scope=col>Lag5</th><th scope=col>Volume</th><th scope=col>Today</th><th scope=col>Direction</th></tr></thead>\n",
       "<tbody>\n",
       "\t<tr><td>1990     </td><td> 0.816   </td><td> 1.572   </td><td>-3.936   </td><td>-0.229   </td><td>-3.484   </td><td>0.1549760</td><td>-0.270   </td><td>Down     </td></tr>\n",
       "\t<tr><td>1990     </td><td>-0.270   </td><td> 0.816   </td><td> 1.572   </td><td>-3.936   </td><td>-0.229   </td><td>0.1485740</td><td>-2.576   </td><td>Down     </td></tr>\n",
       "\t<tr><td>1990     </td><td>-2.576   </td><td>-0.270   </td><td> 0.816   </td><td> 1.572   </td><td>-3.936   </td><td>0.1598375</td><td> 3.514   </td><td>Up       </td></tr>\n",
       "\t<tr><td>1990     </td><td> 3.514   </td><td>-2.576   </td><td>-0.270   </td><td> 0.816   </td><td> 1.572   </td><td>0.1616300</td><td> 0.712   </td><td>Up       </td></tr>\n",
       "\t<tr><td>1990     </td><td> 0.712   </td><td> 3.514   </td><td>-2.576   </td><td>-0.270   </td><td> 0.816   </td><td>0.1537280</td><td> 1.178   </td><td>Up       </td></tr>\n",
       "\t<tr><td>1990     </td><td> 1.178   </td><td> 0.712   </td><td> 3.514   </td><td>-2.576   </td><td>-0.270   </td><td>0.1544440</td><td>-1.372   </td><td>Down     </td></tr>\n",
       "</tbody>\n",
       "</table>\n"
      ],
      "text/latex": [
       "\\begin{tabular}{r|lllllllll}\n",
       " Year & Lag1 & Lag2 & Lag3 & Lag4 & Lag5 & Volume & Today & Direction\\\\\n",
       "\\hline\n",
       "\t 1990      &  0.816    &  1.572    & -3.936    & -0.229    & -3.484    & 0.1549760 & -0.270    & Down     \\\\\n",
       "\t 1990      & -0.270    &  0.816    &  1.572    & -3.936    & -0.229    & 0.1485740 & -2.576    & Down     \\\\\n",
       "\t 1990      & -2.576    & -0.270    &  0.816    &  1.572    & -3.936    & 0.1598375 &  3.514    & Up       \\\\\n",
       "\t 1990      &  3.514    & -2.576    & -0.270    &  0.816    &  1.572    & 0.1616300 &  0.712    & Up       \\\\\n",
       "\t 1990      &  0.712    &  3.514    & -2.576    & -0.270    &  0.816    & 0.1537280 &  1.178    & Up       \\\\\n",
       "\t 1990      &  1.178    &  0.712    &  3.514    & -2.576    & -0.270    & 0.1544440 & -1.372    & Down     \\\\\n",
       "\\end{tabular}\n"
      ],
      "text/markdown": [
       "\n",
       "Year | Lag1 | Lag2 | Lag3 | Lag4 | Lag5 | Volume | Today | Direction | \n",
       "|---|---|---|---|---|---|\n",
       "| 1990      |  0.816    |  1.572    | -3.936    | -0.229    | -3.484    | 0.1549760 | -0.270    | Down      | \n",
       "| 1990      | -0.270    |  0.816    |  1.572    | -3.936    | -0.229    | 0.1485740 | -2.576    | Down      | \n",
       "| 1990      | -2.576    | -0.270    |  0.816    |  1.572    | -3.936    | 0.1598375 |  3.514    | Up        | \n",
       "| 1990      |  3.514    | -2.576    | -0.270    |  0.816    |  1.572    | 0.1616300 |  0.712    | Up        | \n",
       "| 1990      |  0.712    |  3.514    | -2.576    | -0.270    |  0.816    | 0.1537280 |  1.178    | Up        | \n",
       "| 1990      |  1.178    |  0.712    |  3.514    | -2.576    | -0.270    | 0.1544440 | -1.372    | Down      | \n",
       "\n",
       "\n"
      ],
      "text/plain": [
       "  Year Lag1   Lag2   Lag3   Lag4   Lag5   Volume    Today  Direction\n",
       "1 1990  0.816  1.572 -3.936 -0.229 -3.484 0.1549760 -0.270 Down     \n",
       "2 1990 -0.270  0.816  1.572 -3.936 -0.229 0.1485740 -2.576 Down     \n",
       "3 1990 -2.576 -0.270  0.816  1.572 -3.936 0.1598375  3.514 Up       \n",
       "4 1990  3.514 -2.576 -0.270  0.816  1.572 0.1616300  0.712 Up       \n",
       "5 1990  0.712  3.514 -2.576 -0.270  0.816 0.1537280  1.178 Up       \n",
       "6 1990  1.178  0.712  3.514 -2.576 -0.270 0.1544440 -1.372 Down     "
      ]
     },
     "metadata": {},
     "output_type": "display_data"
    }
   ],
   "source": [
    "head(Weekly)"
   ]
  },
  {
   "cell_type": "markdown",
   "metadata": {},
   "source": [
    "This dataset contains weekly percentage returns for the S&P 500 stock index between 1990 and 2010. It consists of  1089 observations on the following 9 variables. (The following detail is copied and pasted from <a href=\"https://cran.r-project.org/web/packages/ISLR/ISLR.pdf\">here</a>)\n",
    "* <font color=\"orange\">Year</font> The year that the observation was recorded\n",
    "* <font color=\"orange\">Lag1</font> Percentage return for previous week\n",
    "* <font color=\"orange\">Lag2</font> Percentage return for 2 weeks previous\n",
    "* <font color=\"orange\">Lag3</font> Percentage return for 3 weeks previous\n",
    "* <font color=\"orange\">Lag4</font> Percentage return for 4 weeks previous\n",
    "* <font color=\"orange\">Lag5</font> Percentage return for 5 weeks previous\n",
    "* <font color=\"orange\">Volume</font> Volume of shares traded (average number of daily shares traded in billions)\n",
    "* <font color=\"orange\">Today</font> Percentage return for this week\n",
    "* <font color=\"orange\">Direction</font> A factor with levels <font color=\"red\">Down</font> and <font color=\"red\">Up</font> indicating whether the market had a positive or negative\n",
    "return on a given week\n"
   ]
  },
  {
   "cell_type": "markdown",
   "metadata": {},
   "source": [
    "We can have a look at the structure of <font color=\"orange\">Weekly</font> using the <a href=\"https://stat.ethz.ch/R-manual/R-devel/library/utils/html/str.html\">str()</a> function. The function will give us information of the data that you should know. For example, the data type of each column, the total number of observations, the total number of variables, etc. Note that the <font color=\"orange\">Direction</font> is a categorical variable (or a factor) with two levels. In this task, we are going to build linear classification models to predict if the stock market will go up or go down. It is different from what you have learned in tutorial one, where the response variable is a continues variable."
   ]
  },
  {
   "cell_type": "code",
   "execution_count": 31,
   "metadata": {},
   "outputs": [
    {
     "name": "stdout",
     "output_type": "stream",
     "text": [
      "'data.frame':\t1089 obs. of  9 variables:\n",
      " $ Year     : num  1990 1990 1990 1990 1990 1990 1990 1990 1990 1990 ...\n",
      " $ Lag1     : num  0.816 -0.27 -2.576 3.514 0.712 ...\n",
      " $ Lag2     : num  1.572 0.816 -0.27 -2.576 3.514 ...\n",
      " $ Lag3     : num  -3.936 1.572 0.816 -0.27 -2.576 ...\n",
      " $ Lag4     : num  -0.229 -3.936 1.572 0.816 -0.27 ...\n",
      " $ Lag5     : num  -3.484 -0.229 -3.936 1.572 0.816 ...\n",
      " $ Volume   : num  0.155 0.149 0.16 0.162 0.154 ...\n",
      " $ Today    : num  -0.27 -2.576 3.514 0.712 1.178 ...\n",
      " $ Direction: Factor w/ 2 levels \"Down\",\"Up\": 1 1 2 2 2 1 2 2 2 1 ...\n"
     ]
    }
   ],
   "source": [
    "str(Weekly)"
   ]
  },
  {
   "cell_type": "markdown",
   "metadata": {},
   "source": [
    "### 1 Produce some numerical and graphical summaries of the Weekly data. \n",
    "\n",
    "Do there appear to be any patterns?\n",
    "In this task, we are going to perform exploratory data (EDA) analysis using different functions in order to uncover any patterns existing in the data if there are any. You can see that EDA taught in week 2 has been used in each analyses discussed so far in the tutorials. The <a href=\"https://stat.ethz.ch/R-manual/R-devel/library/base/html/summary.html\">summary()</a> function is always a good start point."
   ]
  },
  {
   "cell_type": "code",
   "execution_count": 32,
   "metadata": {},
   "outputs": [
    {
     "data": {
      "text/plain": [
       "      Year           Lag1               Lag2               Lag3         \n",
       " Min.   :1990   Min.   :-18.1950   Min.   :-18.1950   Min.   :-18.1950  \n",
       " 1st Qu.:1995   1st Qu.: -1.1540   1st Qu.: -1.1540   1st Qu.: -1.1580  \n",
       " Median :2000   Median :  0.2410   Median :  0.2410   Median :  0.2410  \n",
       " Mean   :2000   Mean   :  0.1506   Mean   :  0.1511   Mean   :  0.1472  \n",
       " 3rd Qu.:2005   3rd Qu.:  1.4050   3rd Qu.:  1.4090   3rd Qu.:  1.4090  \n",
       " Max.   :2010   Max.   : 12.0260   Max.   : 12.0260   Max.   : 12.0260  \n",
       "      Lag4               Lag5              Volume            Today         \n",
       " Min.   :-18.1950   Min.   :-18.1950   Min.   :0.08747   Min.   :-18.1950  \n",
       " 1st Qu.: -1.1580   1st Qu.: -1.1660   1st Qu.:0.33202   1st Qu.: -1.1540  \n",
       " Median :  0.2380   Median :  0.2340   Median :1.00268   Median :  0.2410  \n",
       " Mean   :  0.1458   Mean   :  0.1399   Mean   :1.57462   Mean   :  0.1499  \n",
       " 3rd Qu.:  1.4090   3rd Qu.:  1.4050   3rd Qu.:2.05373   3rd Qu.:  1.4050  \n",
       " Max.   : 12.0260   Max.   : 12.0260   Max.   :9.32821   Max.   : 12.0260  \n",
       " Direction \n",
       " Down:484  \n",
       " Up  :605  \n",
       "           \n",
       "           \n",
       "           \n",
       "           "
      ]
     },
     "metadata": {},
     "output_type": "display_data"
    }
   ],
   "source": [
    "summary(Weekly)"
   ]
  },
  {
   "cell_type": "markdown",
   "metadata": {},
   "source": [
    "The <a href=\"https://stat.ethz.ch/R-manual/R-devel/library/graphics/html/boxplot.html\">boxplot</a> (a.k.a. box and whisker diagram) is a standardized way of displaying the distribution of data based on the five number summary: minimum, first quartile, median, third quartile, and maximum.\n",
    "<img src=\"./boxplot.png\" alt=\"Explanation of boxplot\" style=\"width:256px;height:256;\">\n",
    "Note the above figure is a screenshot taken from http://www.physics.csbsju.edu/stats/box2.html. "
   ]
  },
  {
   "cell_type": "code",
   "execution_count": 33,
   "metadata": {},
   "outputs": [
    {
     "data": {
      "image/png": "[encoded data removed]",
      "text/plain": [
       "plot without title"
      ]
     },
     "metadata": {},
     "output_type": "display_data"
    }
   ],
   "source": [
    "barplot(table(Weekly[,9]))"
   ]
  },
  {
   "cell_type": "code",
   "execution_count": 34,
   "metadata": {},
   "outputs": [
    {
     "data": {
      "image/png": "[encoded data removed]",
      "text/plain": [
       "plot without title"
      ]
     },
     "metadata": {},
     "output_type": "display_data"
    }
   ],
   "source": [
    "boxplot(Weekly[,-c(1,9)])"
   ]
  },
  {
   "cell_type": "markdown",
   "metadata": {},
   "source": [
    "Note that we set the argument <font color=\"blue\">las = 2</font> in order to draw the ticks on x-axis vertically. \n",
    "\n",
    "The plot shows that the variables <font color=\"orange\">Today</font>, <font color=\"orange\">Lag1</font>, <font color=\"orange\">Lag2</font>, <font color=\"orange\">Lag3</font>, <font color=\"orange\">Lag4</font> and <font color=\"orange\">Lag5</font> are distributed similarly with nearly he same quantiles and median. However, the distribution of <font color=\"orange\">Volume</font> is skewed. Another usage of a boxplot is to detect outliers. Commonly real datasets will have surprisingly large maximums or surprisingly small minimums called outliers. If data points fall 3×IQR (interquartile range, i.e., the vertical length of the colored box in the above plot) or more above the third quartile or 3×IQR or more below the first quartile, we can treat those points as outliers. Do you find any outliers?\n",
    "\n",
    "Now, we are going to study the correlation between variables. The function that you are going to use is <a href=\"https://stat.ethz.ch/R-manual/R-devel/library/graphics/html/pairs.html\">pairs()</a>, that generates a matrix of scatterplots to show us the pair-wise relationship between any two variables in the dataset. "
   ]
  },
  {
   "cell_type": "code",
   "execution_count": 35,
   "metadata": {},
   "outputs": [
    {
     "data": {
      "image/png": "[encoded data removed]",
      "text/plain": [
       "plot without title"
      ]
     },
     "metadata": {},
     "output_type": "display_data"
    }
   ],
   "source": [
    "pairs(Weekly)"
   ]
  },
  {
   "cell_type": "markdown",
   "metadata": {},
   "source": [
    "Are there any patterns that can be identified in the plots?\n",
    "\n",
    "There is a non-linear and positive relationship between <font color=\"orange\">Volume</font> and <font color=\"orange\">Year</font>. The percentage return of this week, i.e., <font color=\"orange\">Today</font>, is correlated with <font color=\"orange\">Direction</font>. Can you tell what kind of correlation between the two variables?\n",
    "\n",
    "Except for the above two patterns, no other patterns are discernible. Let's have a close look at the relationship between <font color=\"orange\">Volume</font> and <font color=\"orange\">Year</font> by taking the corresponding scatterplot out from the matrix."
   ]
  },
  {
   "cell_type": "code",
   "execution_count": 36,
   "metadata": {},
   "outputs": [
    {
     "data": {
      "image/png": "[encoded data removed]",
      "text/plain": [
       "Plot with title \"Scatter plot\""
      ]
     },
     "metadata": {},
     "output_type": "display_data"
    }
   ],
   "source": [
    "par(pin=c(4,4))\n",
    "plot(Weekly$Year, Weekly$Volume, col = \"blue\", main='Scatter plot', ylab='Volume', xlab='Year')"
   ]
  },
  {
   "cell_type": "markdown",
   "metadata": {},
   "source": [
    "It is clear that the traded volume increases while the year changes from 1990 to 2010. To quantify the correlation, we are going to use <font color=\"blue\">cor()</font> and <font color=\"blue\">levelplot()</font>. "
   ]
  },
  {
   "cell_type": "code",
   "execution_count": 37,
   "metadata": {},
   "outputs": [
    {
     "data": {
      "text/html": [
       "0.841941618703162"
      ],
      "text/latex": [
       "0.841941618703162"
      ],
      "text/markdown": [
       "0.841941618703162"
      ],
      "text/plain": [
       "[1] 0.8419416"
      ]
     },
     "metadata": {},
     "output_type": "display_data"
    }
   ],
   "source": [
    "cor(Weekly$Year, Weekly$Volume)"
   ]
  },
  {
   "cell_type": "code",
   "execution_count": 38,
   "metadata": {},
   "outputs": [
    {
     "data": {},
     "metadata": {},
     "output_type": "display_data"
    },
    {
     "data": {
      "image/png": "[encoded data removed]",
      "text/plain": [
       "plot without title"
      ]
     },
     "metadata": {},
     "output_type": "display_data"
    }
   ],
   "source": [
    "library(lattice)\n",
    "levelplot(cor(Weekly[-9]))"
   ]
  },
  {
   "cell_type": "markdown",
   "metadata": {},
   "source": [
    "The correlation matrix and the levelplot further show that there correlation between variables are very small, nearly 0, except for the pair of <font color=\"orange\">Volume</font> and <font color=\"orange\">Year</font>. Given such week correlation, how can we build a classification model to predict <font color=\"orange\">Direction</font>? Indeed, predicting the movement of stock market is very hard."
   ]
  },
  {
   "cell_type": "markdown",
   "metadata": {},
   "source": [
    "### 2 Build a multiple logistic regression model to predict the direction of the stock market\n",
    "\n",
    "Here we will use the full data set to perform a logistic regression with <font color=\"orange\">Direction</font> as the response and the five <font color=\"orange\">Lag</font> variables plus <font color=\"orange\">Volume</font> as predictors, and use the summary function to print the results. Do any of the predictors appear to be statistically significant? If so, which ones? \n",
    "The output shows that Lag2 is statistcally significant"
   ]
  },
  {
   "cell_type": "code",
   "execution_count": 39,
   "metadata": {},
   "outputs": [],
   "source": [
    "fit.glm = glm(Direction ~ Lag1 + Lag2 + Lag3 + Lag4 + Lag5 + Volume, data = Weekly, family = binomial)"
   ]
  },
  {
   "cell_type": "code",
   "execution_count": 40,
   "metadata": {},
   "outputs": [
    {
     "data": {
      "text/plain": [
       "\n",
       "Call:\n",
       "glm(formula = Direction ~ Lag1 + Lag2 + Lag3 + Lag4 + Lag5 + \n",
       "    Volume, family = binomial, data = Weekly)\n",
       "\n",
       "Deviance Residuals: \n",
       "    Min       1Q   Median       3Q      Max  \n",
       "-1.6949  -1.2565   0.9913   1.0849   1.4579  \n",
       "\n",
       "Coefficients:\n",
       "            Estimate Std. Error z value Pr(>|z|)   \n",
       "(Intercept)  0.26686    0.08593   3.106   0.0019 **\n",
       "Lag1        -0.04127    0.02641  -1.563   0.1181   \n",
       "Lag2         0.05844    0.02686   2.175   0.0296 * \n",
       "Lag3        -0.01606    0.02666  -0.602   0.5469   \n",
       "Lag4        -0.02779    0.02646  -1.050   0.2937   \n",
       "Lag5        -0.01447    0.02638  -0.549   0.5833   \n",
       "Volume      -0.02274    0.03690  -0.616   0.5377   \n",
       "---\n",
       "Signif. codes:  0 '***' 0.001 '**' 0.01 '*' 0.05 '.' 0.1 ' ' 1\n",
       "\n",
       "(Dispersion parameter for binomial family taken to be 1)\n",
       "\n",
       "    Null deviance: 1496.2  on 1088  degrees of freedom\n",
       "Residual deviance: 1486.4  on 1082  degrees of freedom\n",
       "AIC: 1500.4\n",
       "\n",
       "Number of Fisher Scoring iterations: 4\n"
      ]
     },
     "metadata": {},
     "output_type": "display_data"
    }
   ],
   "source": [
    "summary(fit.glm)"
   ]
  },
  {
   "cell_type": "markdown",
   "metadata": {},
   "source": [
    "How do we interpret the summary?\n",
    "\n",
    "* Next we see the deviance residuals, a measure of model fit. This part of output shows the distribution of the deviance residuals for individual cases used in the model.\n",
    "    * **Deviance residual** is a generalization of the idea of using the sum of squares of residuals in ordinary least squares to cases where model-fitting is achieved by maximum likelihood. It is the difference in $-2logL$ ($L$ is the model likelihood) between a maximal (saturated) model and the built model. It is a measure of badness of fit-higher number indicate worse fit. In other words, the high residual deviance shows that the model cannot be accepted to have been likely to generated the data.\n",
    "    * Deviance residuals and regular residuals should have similar properties. Like the residuals in linear regression, the deviance residuals shown in the result should looks roughly symmetric. \n",
    "\n",
    "* The next part of the output shows the coefficients, their standard errors, the z-statistic (sometimes called a Wald z-statistic), and the associated p-values. Besides the intercept, the only predictor which has the significant association with the response variable (<font color=\"orange\">Direction</font>) is <font color=\"orange\">Lag2</font>, if we set $\\alpha = 0.05$.\n",
    "    * **Z-value**: The z-value is the regression coefficient divided by its standard error. It is also sometimes called the z-statistic. If the z-value is too big in magnitude (i.e., either too positive or too negative), it indicates that the corresponding true regression coefficient is not 0 and the corresponding X-variable matters.\n",
    "    * Coefficient interpretation: The logistic regression coefficients give the change in the log odds of the outcome for a one unit increase in the predictor variable.\n",
    "\n",
    "Note: The relationship between the regression coefficients, its standard error, the z-value, and the p-value is virtually identical in both logistic regression and regular least-squares regression. So if you understand this is in regular regression, you also understand it in logistic regression.\n",
    "\n",
    "* Below the table of coefficients are fit indices, including the null and deviance residuals and the AIC. \n",
    "    * **Null deviance** indicates that if we assume the model is constant. In other words, the null deviance shows how well the response variable is predicted by a model that includes only the intercept\n",
    "    * **Residual deviance** indicates how well the response variable is predicted with your model.\n",
    "    * **The Akaike Information Criterion (AIC)** provides a method for assessing the quality of your model through comparison of related models.  It’s based on the Deviance, but penalizes you for making the model more complicated.  Much like adjusted R-squared, it’s intent is to prevent you from including irrelevant predictors. If you have more than one similar candidate models (where all of the variables of the simpler model occur in the more complex models), then you should select the model that has the smallest AIC. R defines AIC as\n",
    "       * –2 maximized log-likelihood + 2 number of parameters\n",
    "\n",
    "* **Fisher’s scoring algorithm** is a derivative of Newton’s method for solving maximum likelihood problems numerically. For the model above we see that Fisher’s Scoring Algorithm needed 4 iterations to perform the fit.This doesn’t really tell you a lot that you need to know, other than the fact that the model did indeed converge, and had no trouble doing it.\n",
    "\n",
    "What can we see from the parameters of this model? Lags have somewhat similar effects, except for Lag 2. It seems like we can drop most of the Lag variables, but we can test that with the <a href=\"https://stat.ethz.ch/R-manual/R-devel/library/stats/html/anova.glm.html\">anova()</a> function to give an analysis of deviance table, or the <a href=\"https://stat.ethz.ch/R-manual/R-devel/library/stats/html/add1.html\">drop1()</a> function to try dropping each factors:"
   ]
  },
  {
   "cell_type": "code",
   "execution_count": 41,
   "metadata": {},
   "outputs": [
    {
     "data": {
      "text/html": [
       "<table>\n",
       "<thead><tr><th></th><th scope=col>Df</th><th scope=col>Deviance</th><th scope=col>Resid. Df</th><th scope=col>Resid. Dev</th><th scope=col>Pr(&gt;Chi)</th></tr></thead>\n",
       "<tbody>\n",
       "\t<tr><th scope=row>NULL</th><td>NA        </td><td>       NA </td><td>1088      </td><td>1496.202  </td><td>        NA</td></tr>\n",
       "\t<tr><th scope=row>Lag1</th><td> 1        </td><td>2.7373129 </td><td>1087      </td><td>1493.465  </td><td>0.09802948</td></tr>\n",
       "\t<tr><th scope=row>Lag2</th><td> 1        </td><td>5.2446489 </td><td>1086      </td><td>1488.220  </td><td>0.02201437</td></tr>\n",
       "\t<tr><th scope=row>Lag3</th><td> 1        </td><td>0.2611399 </td><td>1085      </td><td>1487.959  </td><td>0.60933809</td></tr>\n",
       "\t<tr><th scope=row>Lag4</th><td> 1        </td><td>0.9604164 </td><td>1084      </td><td>1486.999  </td><td>0.32708199</td></tr>\n",
       "\t<tr><th scope=row>Lag5</th><td> 1        </td><td>0.2623276 </td><td>1083      </td><td>1486.736  </td><td>0.60852553</td></tr>\n",
       "\t<tr><th scope=row>Volume</th><td> 1        </td><td>0.3793900 </td><td>1082      </td><td>1486.357  </td><td>0.53792989</td></tr>\n",
       "</tbody>\n",
       "</table>\n"
      ],
      "text/latex": [
       "\\begin{tabular}{r|lllll}\n",
       "  & Df & Deviance & Resid. Df & Resid. Dev & Pr(>Chi)\\\\\n",
       "\\hline\n",
       "\tNULL & NA         &        NA  & 1088       & 1496.202   &         NA\\\\\n",
       "\tLag1 &  1         & 2.7373129  & 1087       & 1493.465   & 0.09802948\\\\\n",
       "\tLag2 &  1         & 5.2446489  & 1086       & 1488.220   & 0.02201437\\\\\n",
       "\tLag3 &  1         & 0.2611399  & 1085       & 1487.959   & 0.60933809\\\\\n",
       "\tLag4 &  1         & 0.9604164  & 1084       & 1486.999   & 0.32708199\\\\\n",
       "\tLag5 &  1         & 0.2623276  & 1083       & 1486.736   & 0.60852553\\\\\n",
       "\tVolume &  1         & 0.3793900  & 1082       & 1486.357   & 0.53792989\\\\\n",
       "\\end{tabular}\n"
      ],
      "text/markdown": [
       "\n",
       "| <!--/--> | Df | Deviance | Resid. Df | Resid. Dev | Pr(>Chi) | \n",
       "|---|---|---|---|---|---|---|\n",
       "| NULL | NA         |        NA  | 1088       | 1496.202   |         NA | \n",
       "| Lag1 |  1         | 2.7373129  | 1087       | 1493.465   | 0.09802948 | \n",
       "| Lag2 |  1         | 5.2446489  | 1086       | 1488.220   | 0.02201437 | \n",
       "| Lag3 |  1         | 0.2611399  | 1085       | 1487.959   | 0.60933809 | \n",
       "| Lag4 |  1         | 0.9604164  | 1084       | 1486.999   | 0.32708199 | \n",
       "| Lag5 |  1         | 0.2623276  | 1083       | 1486.736   | 0.60852553 | \n",
       "| Volume |  1         | 0.3793900  | 1082       | 1486.357   | 0.53792989 | \n",
       "\n",
       "\n"
      ],
      "text/plain": [
       "       Df Deviance  Resid. Df Resid. Dev Pr(>Chi)  \n",
       "NULL   NA        NA 1088      1496.202           NA\n",
       "Lag1    1 2.7373129 1087      1493.465   0.09802948\n",
       "Lag2    1 5.2446489 1086      1488.220   0.02201437\n",
       "Lag3    1 0.2611399 1085      1487.959   0.60933809\n",
       "Lag4    1 0.9604164 1084      1486.999   0.32708199\n",
       "Lag5    1 0.2623276 1083      1486.736   0.60852553\n",
       "Volume  1 0.3793900 1082      1486.357   0.53792989"
      ]
     },
     "metadata": {},
     "output_type": "display_data"
    }
   ],
   "source": [
    "anova(fit.glm, test = \"Chisq\")"
   ]
  },
  {
   "cell_type": "markdown",
   "metadata": {},
   "source": [
    "The difference between the null deviance and the residual deviance shows how our model is doing against the null model. Analyzing the table we can see the drop in deviance when adding each variable one at a time. The table shows that <font color=\"orange\">Lag2</font> are statistically significant, if $\\alpha = 0.05$.\n",
    "The anova() test tries to adding the response variables only in the order given in the model formula. \n",
    "In order to carry out stepwise regression analysis, one can consider the use of the <a href=\"https://stat.ethz.ch/R-manual/R-devel/library/stats/html/add1.html\">drop1(), add1()</a> and <a href=\"https://stat.ethz.ch/R-manual/R-devel/library/stats/html/step.html\">step()</a> functions.\n",
    "\n",
    "The following Chisq test tells us that our model as a whole does not fits significantly better than an empty model, as the p-value is quite large."
   ]
  },
  {
   "cell_type": "code",
   "execution_count": 42,
   "metadata": {},
   "outputs": [
    {
     "data": {
      "text/html": [
       "0.131322605705327"
      ],
      "text/latex": [
       "0.131322605705327"
      ],
      "text/markdown": [
       "0.131322605705327"
      ],
      "text/plain": [
       "[1] 0.1313226"
      ]
     },
     "metadata": {},
     "output_type": "display_data"
    }
   ],
   "source": [
    "with(fit.glm, pchisq(null.deviance - deviance, df.null - df.residual, lower.tail = FALSE))"
   ]
  },
  {
   "cell_type": "markdown",
   "metadata": {},
   "source": [
    "### 3 Compute the confusion matrix and overall fraction of correct predictions. \n",
    "In this task, we are going to predict the <font color=\"orange\">Direction</font> variable based on our developed logistic regression model. Then, the confusion matrix is generated to show how many of the predicted directions match the true directions. You need to explain what the confusion matrix is telling you about the types of mistakes made by logistic regression."
   ]
  },
  {
   "cell_type": "code",
   "execution_count": 43,
   "metadata": {},
   "outputs": [
    {
     "data": {
      "text/plain": [
       "        Direction\n",
       "pred.glm Down  Up\n",
       "    Down   54  48\n",
       "    Up    430 557"
      ]
     },
     "metadata": {},
     "output_type": "display_data"
    }
   ],
   "source": [
    "probs <- predict(fit.glm, type = \"response\")\n",
    "pred.glm <- rep(\"Down\", length(probs))\n",
    "pred.glm[probs > 0.5] <- \"Up\"\n",
    "Direction = Weekly$Direction\n",
    "table(pred.glm, Direction)"
   ]
  },
  {
   "cell_type": "markdown",
   "metadata": {},
   "source": [
    "The matrix shows that the fitted model predicted that a total of 987 (430+557) observed returns would go up. Of these observations, 557 actually went up and 430 went down. Hence 430 out of 484 (88.8%) observed returns that actually went down were incorrectly labeled. The error rate is very high. In contrast, of 605 observed returns that actually went up, just 48 (7.9%) were missed by the logistic regression model. There are two terms, sensitivity and specificity, which are used to characterize the performance of a classifier. The sensitivity is the percentage of returns that actually went up are correctly identified, which is computed as 557/(557+48) = 92.1%. The specificity is the percentage of those that actually went down are correctly labeled, i.e., 1-88.8% = 11.2%. Therefore, it is clear that the sensitivity is quite high, but the specificity is very low.\n",
    "\n",
    "The overall fraction of correct predictions on the training data is calculated using the following code: "
   ]
  },
  {
   "cell_type": "code",
   "execution_count": 44,
   "metadata": {},
   "outputs": [
    {
     "data": {
      "text/html": [
       "0.561065197428834"
      ],
      "text/latex": [
       "0.561065197428834"
      ],
      "text/markdown": [
       "0.561065197428834"
      ],
      "text/plain": [
       "[1] 0.5610652"
      ]
     },
     "metadata": {},
     "output_type": "display_data"
    }
   ],
   "source": [
    "mean(pred.glm == Direction)"
   ]
  },
  {
   "cell_type": "markdown",
   "metadata": {},
   "source": [
    "The fitted model has correctly predicted 56.1% of the directions in the data set. It is computed as (54+557)/(54+557+48+430) = 56.1%."
   ]
  },
  {
   "cell_type": "markdown",
   "metadata": {},
   "source": [
    "### 4 Now fit the logistic regression model using a training data period from 1990 to 2008, with Lag2 as the only predictor.\n",
    "\n",
    "Compute the confusion matrix and the overall fraction of correct predictions for the held out data (that is, the data from 2009 and 2010). Firstly, we split the whole dataset into training and testing. The training dataset contains the observed returns from 1990 to 2008. All the other observations are in testing set."
   ]
  },
  {
   "cell_type": "code",
   "execution_count": 45,
   "metadata": {},
   "outputs": [],
   "source": [
    "train = (Weekly$Year < 2009)\n",
    "test = Weekly[!train,]\n",
    "Direction.test = Weekly$Direction[!train]"
   ]
  },
  {
   "cell_type": "markdown",
   "metadata": {},
   "source": [
    "Now, we fit a logistic regression with one predictor, i.e., <font color=\"orange\">Lag2</font>, on the training dataset, as the previous analysis has shown that  <font color=\"orange\">Lag2</font> has a strong association with the response variable."
   ]
  },
  {
   "cell_type": "code",
   "execution_count": 47,
   "metadata": {},
   "outputs": [],
   "source": [
    "fit.glm2 <- glm(Direction ~ Lag2, data = Weekly, family = binomial)"
   ]
  },
  {
   "cell_type": "markdown",
   "metadata": {},
   "source": [
    "Does this model fit significantly better than the null model?"
   ]
  },
  {
   "cell_type": "code",
   "execution_count": 48,
   "metadata": {},
   "outputs": [
    {
     "data": {
      "text/html": [
       "0.0161744924914136"
      ],
      "text/latex": [
       "0.0161744924914136"
      ],
      "text/markdown": [
       "0.0161744924914136"
      ],
      "text/plain": [
       "[1] 0.01617449"
      ]
     },
     "metadata": {},
     "output_type": "display_data"
    }
   ],
   "source": [
    "with(fit.glm2, pchisq(null.deviance - deviance, df.null - df.residual, lower.tail = FALSE))"
   ]
  },
  {
   "cell_type": "markdown",
   "metadata": {},
   "source": [
    "If we choose $\\alpha = 0.05$, the p-value shown above indicate that <font color='red'>fit.glm2</font> fits significantly better than the null model.\n",
    "\n",
    "Similar, let's have a look at the predicting accuracy of the model with only one predictor."
   ]
  },
  {
   "cell_type": "code",
   "execution_count": 49,
   "metadata": {},
   "outputs": [
    {
     "data": {
      "text/plain": [
       "         Direction.test\n",
       "pred.glm2 Down Up\n",
       "     Down    9  5\n",
       "     Up     34 56"
      ]
     },
     "metadata": {},
     "output_type": "display_data"
    }
   ],
   "source": [
    "probs2 <- predict(fit.glm2, test, type = \"response\")\n",
    "pred.glm2 <- rep(\"Down\", length(probs2))\n",
    "pred.glm2[probs2 > 0.5] <- \"Up\"\n",
    "table(pred.glm2, Direction.test)"
   ]
  },
  {
   "cell_type": "markdown",
   "metadata": {},
   "source": [
    "The overall fraction of correct predictions on the test dataset is:"
   ]
  },
  {
   "cell_type": "code",
   "execution_count": 50,
   "metadata": {},
   "outputs": [
    {
     "data": {
      "text/html": [
       "0.625"
      ],
      "text/latex": [
       "0.625"
      ],
      "text/markdown": [
       "0.625"
      ],
      "text/plain": [
       "[1] 0.625"
      ]
     },
     "metadata": {},
     "output_type": "display_data"
    }
   ],
   "source": [
    "mean(pred.glm2 == Direction.test)"
   ]
  },
  {
   "cell_type": "markdown",
   "metadata": {},
   "source": [
    "When we use the new model (<font color=\"red\">fit.glm2</font>), we can predict the directions in test data correctly by rate of 62.5%. \n",
    "\n",
    "Now, let's use the <font color=\"blue\">confusionMatrix()</font> function from the R library called <font color=\"red\">caret</font>. The documentation of all the functions in caret can be found https://cran.r-project.org/web/packages/caret/caret.pdf"
   ]
  },
  {
   "cell_type": "code",
   "execution_count": 51,
   "metadata": {},
   "outputs": [
    {
     "name": "stderr",
     "output_type": "stream",
     "text": [
      "Loading required package: ggplot2\n"
     ]
    }
   ],
   "source": [
    "library(caret)"
   ]
  },
  {
   "cell_type": "code",
   "execution_count": 52,
   "metadata": {},
   "outputs": [
    {
     "data": {
      "text/plain": [
       "Confusion Matrix and Statistics\n",
       "\n",
       "         Direction.test\n",
       "pred.glm2 Down Up\n",
       "     Down    9  5\n",
       "     Up     34 56\n",
       "                                         \n",
       "               Accuracy : 0.625          \n",
       "                 95% CI : (0.5247, 0.718)\n",
       "    No Information Rate : 0.5865         \n",
       "    P-Value [Acc > NIR] : 0.2439         \n",
       "                                         \n",
       "                  Kappa : 0.1414         \n",
       " Mcnemar's Test P-Value : 7.34e-06       \n",
       "                                         \n",
       "            Sensitivity : 0.9180         \n",
       "            Specificity : 0.2093         \n",
       "         Pos Pred Value : 0.6222         \n",
       "         Neg Pred Value : 0.6429         \n",
       "             Prevalence : 0.5865         \n",
       "         Detection Rate : 0.5385         \n",
       "   Detection Prevalence : 0.8654         \n",
       "      Balanced Accuracy : 0.5637         \n",
       "                                         \n",
       "       'Positive' Class : Up             \n",
       "                                         "
      ]
     },
     "metadata": {},
     "output_type": "display_data"
    }
   ],
   "source": [
    "confusionMatrix(table(pred.glm2, Direction.test), positive='Up') "
   ]
  },
  {
   "cell_type": "markdown",
   "metadata": {},
   "source": [
    "What are the other statistics? For example,\n",
    "\n",
    "* No information rate:  the largest proportion of the observed classes\n",
    "* P-Value [Acc > NIR]: A hypothesis test is also computed to evaluate whether the overall accuracy rate is greater than the rate of the largest class\n",
    "* Sensitivity: the percentage of observed returns that actually went up are correctly identified. \n",
    "* Specificity: the percentage of observed returns that acutally went down are correctly identified.\n",
    "\n",
    "Some reading materials that might be of your interest:\n",
    "    * Measure model performance: http://topepo.github.io/caret/other.html\n",
    "    "
   ]
  },
  {
   "cell_type": "markdown",
   "metadata": {
    "collapsed": true
   },
   "source": [
    "### 5 Repeat <font color=\"red\">4</font> using LDA.\n",
    "In this task, we are going to develop another classification model using Linear Discriminant Analysis. To apply this method, we need to load <font color=\"red\">MASS</font> library. The documentation of the library can be download <a href=\"https://cran.r-project.org/web/packages/MASS/MASS.pdf\">here</a>. Please refer to it for the specification of its functions. The function that you are going to use is <a href=\"https://stat.ethz.ch/R-manual/R-devel/library/MASS/html/lda.html\">lda()</a>."
   ]
  },
  {
   "cell_type": "code",
   "execution_count": 53,
   "metadata": {},
   "outputs": [],
   "source": [
    "library(MASS)"
   ]
  },
  {
   "cell_type": "code",
   "execution_count": 70,
   "metadata": {},
   "outputs": [
    {
     "data": {
      "text/plain": [
       "Call:\n",
       "lda(Direction ~ Lag2, data = Weekly)\n",
       "\n",
       "Prior probabilities of groups:\n",
       "     Down        Up \n",
       "0.4444444 0.5555556 \n",
       "\n",
       "Group means:\n",
       "            Lag2\n",
       "Down -0.04042355\n",
       "Up    0.30428099\n",
       "\n",
       "Coefficients of linear discriminants:\n",
       "           LD1\n",
       "Lag2 0.4251523"
      ]
     },
     "metadata": {},
     "output_type": "display_data"
    }
   ],
   "source": [
    "fit.lda = lda(Direction ~ Lag2, data = Weekly)\n",
    "fit.lda"
   ]
  },
  {
   "cell_type": "code",
   "execution_count": 71,
   "metadata": {},
   "outputs": [
    {
     "data": {
      "text/html": [
       "<dl>\n",
       "\t<dt>$class</dt>\n",
       "\t\t<dd><ol class=list-inline>\n",
       "\t<li>Up</li>\n",
       "\t<li>Up</li>\n",
       "\t<li>Down</li>\n",
       "\t<li>Down</li>\n",
       "\t<li>Up</li>\n",
       "\t<li>Up</li>\n",
       "\t<li>Up</li>\n",
       "\t<li>Down</li>\n",
       "\t<li>Down</li>\n",
       "\t<li>Down</li>\n",
       "\t<li>Down</li>\n",
       "\t<li>Up</li>\n",
       "\t<li>Up</li>\n",
       "\t<li>Up</li>\n",
       "\t<li>Up</li>\n",
       "\t<li>Up</li>\n",
       "\t<li>Up</li>\n",
       "\t<li>Up</li>\n",
       "\t<li>Up</li>\n",
       "\t<li>Up</li>\n",
       "\t<li>Down</li>\n",
       "\t<li>Up</li>\n",
       "\t<li>Up</li>\n",
       "\t<li>Up</li>\n",
       "\t<li>Up</li>\n",
       "\t<li>Up</li>\n",
       "\t<li>Up</li>\n",
       "\t<li>Up</li>\n",
       "\t<li>Up</li>\n",
       "\t<li>Up</li>\n",
       "\t<li>Up</li>\n",
       "\t<li>Up</li>\n",
       "\t<li>Up</li>\n",
       "\t<li>Up</li>\n",
       "\t<li>Up</li>\n",
       "\t<li>Up</li>\n",
       "\t<li>Up</li>\n",
       "\t<li>Up</li>\n",
       "\t<li>Up</li>\n",
       "\t<li>Up</li>\n",
       "\t<li>Up</li>\n",
       "\t<li>Up</li>\n",
       "\t<li>Up</li>\n",
       "\t<li>Up</li>\n",
       "\t<li>Down</li>\n",
       "\t<li>Up</li>\n",
       "\t<li>Up</li>\n",
       "\t<li>Up</li>\n",
       "\t<li>Up</li>\n",
       "\t<li>Up</li>\n",
       "\t<li>Up</li>\n",
       "\t<li>Up</li>\n",
       "\t<li>Up</li>\n",
       "\t<li>Up</li>\n",
       "\t<li>Up</li>\n",
       "\t<li>Up</li>\n",
       "\t<li>Down</li>\n",
       "\t<li>Up</li>\n",
       "\t<li>Up</li>\n",
       "\t<li>Up</li>\n",
       "\t<li>Up</li>\n",
       "\t<li>Up</li>\n",
       "\t<li>Up</li>\n",
       "\t<li>Up</li>\n",
       "\t<li>Up</li>\n",
       "\t<li>Up</li>\n",
       "\t<li>Up</li>\n",
       "\t<li>Up</li>\n",
       "\t<li>Up</li>\n",
       "\t<li>Up</li>\n",
       "\t<li>Up</li>\n",
       "\t<li>Down</li>\n",
       "\t<li>Up</li>\n",
       "\t<li>Down</li>\n",
       "\t<li>Up</li>\n",
       "\t<li>Up</li>\n",
       "\t<li>Up</li>\n",
       "\t<li>Up</li>\n",
       "\t<li>Down</li>\n",
       "\t<li>Down</li>\n",
       "\t<li>Up</li>\n",
       "\t<li>Up</li>\n",
       "\t<li>Up</li>\n",
       "\t<li>Up</li>\n",
       "\t<li>Up</li>\n",
       "\t<li>Down</li>\n",
       "\t<li>Up</li>\n",
       "\t<li>Up</li>\n",
       "\t<li>Up</li>\n",
       "\t<li>Up</li>\n",
       "\t<li>Up</li>\n",
       "\t<li>Up</li>\n",
       "\t<li>Up</li>\n",
       "\t<li>Up</li>\n",
       "\t<li>Up</li>\n",
       "\t<li>Up</li>\n",
       "\t<li>Up</li>\n",
       "\t<li>Up</li>\n",
       "\t<li>Up</li>\n",
       "\t<li>Up</li>\n",
       "\t<li>Up</li>\n",
       "\t<li>Up</li>\n",
       "\t<li>Up</li>\n",
       "\t<li>Up</li>\n",
       "</ol>\n",
       "\n",
       "<details>\n",
       "\t<summary style=display:list-item;cursor:pointer>\n",
       "\t\t<strong>Levels</strong>:\n",
       "\t</summary>\n",
       "\t<ol class=list-inline>\n",
       "\t\t<li>'Down'</li>\n",
       "\t\t<li>'Up'</li>\n",
       "\t</ol>\n",
       "</details></dd>\n",
       "\t<dt>$posterior</dt>\n",
       "\t\t<dd><table>\n",
       "<thead><tr><th></th><th scope=col>Down</th><th scope=col>Up</th></tr></thead>\n",
       "<tbody>\n",
       "\t<tr><th scope=row>986</th><td>0.4727454</td><td>0.5272546</td></tr>\n",
       "\t<tr><th scope=row>987</th><td>0.3461246</td><td>0.6538754</td></tr>\n",
       "\t<tr><th scope=row>988</th><td>0.5155494</td><td>0.4844506</td></tr>\n",
       "\t<tr><th scope=row>989</th><td>0.5166386</td><td>0.4833614</td></tr>\n",
       "\t<tr><th scope=row>990</th><td>0.4795680</td><td>0.5204320</td></tr>\n",
       "\t<tr><th scope=row>991</th><td>0.4577412</td><td>0.5422588</td></tr>\n",
       "\t<tr><th scope=row>992</th><td>0.3688306</td><td>0.6311694</td></tr>\n",
       "\t<tr><th scope=row>993</th><td>0.5211494</td><td>0.4788506</td></tr>\n",
       "\t<tr><th scope=row>994</th><td>0.5530496</td><td>0.4469504</td></tr>\n",
       "\t<tr><th scope=row>995</th><td>0.5169809</td><td>0.4830191</td></tr>\n",
       "\t<tr><th scope=row>996</th><td>0.5556202</td><td>0.4443798</td></tr>\n",
       "\t<tr><th scope=row>997</th><td>0.2927545</td><td>0.7072455</td></tr>\n",
       "\t<tr><th scope=row>998</th><td>0.4222168</td><td>0.5777832</td></tr>\n",
       "\t<tr><th scope=row>999</th><td>0.3545193</td><td>0.6454807</td></tr>\n",
       "\t<tr><th scope=row>1000</th><td>0.3970595</td><td>0.6029405</td></tr>\n",
       "\t<tr><th scope=row>1001</th><td>0.4209405</td><td>0.5790595</td></tr>\n",
       "\t<tr><th scope=row>1002</th><td>0.4231746</td><td>0.5768254</td></tr>\n",
       "\t<tr><th scope=row>1003</th><td>0.4524570</td><td>0.5475430</td></tr>\n",
       "\t<tr><th scope=row>1004</th><td>0.4265089</td><td>0.5734911</td></tr>\n",
       "\t<tr><th scope=row>1005</th><td>0.3584500</td><td>0.6415500</td></tr>\n",
       "\t<tr><th scope=row>1006</th><td>0.5239475</td><td>0.4760525</td></tr>\n",
       "\t<tr><th scope=row>1007</th><td>0.4392957</td><td>0.5607043</td></tr>\n",
       "\t<tr><th scope=row>1008</th><td>0.3915834</td><td>0.6084166</td></tr>\n",
       "\t<tr><th scope=row>1009</th><td>0.4117051</td><td>0.5882949</td></tr>\n",
       "\t<tr><th scope=row>1010</th><td>0.4364739</td><td>0.5635261</td></tr>\n",
       "\t<tr><th scope=row>1011</th><td>0.4873943</td><td>0.5126057</td></tr>\n",
       "\t<tr><th scope=row>1012</th><td>0.4503740</td><td>0.5496260</td></tr>\n",
       "\t<tr><th scope=row>1013</th><td>0.4843749</td><td>0.5156251</td></tr>\n",
       "\t<tr><th scope=row>1014</th><td>0.4763343</td><td>0.5236657</td></tr>\n",
       "\t<tr><th scope=row>1015</th><td>0.3432114</td><td>0.6567886</td></tr>\n",
       "\t<tr><th scope=row>...</th><td>...</td><td>...</td></tr>\n",
       "\t<tr><th scope=row>1060</th><td>0.4440434</td><td>0.5559566</td></tr>\n",
       "\t<tr><th scope=row>1061</th><td>0.4813566</td><td>0.5186434</td></tr>\n",
       "\t<tr><th scope=row>1062</th><td>0.4082387</td><td>0.5917613</td></tr>\n",
       "\t<tr><th scope=row>1063</th><td>0.4102722</td><td>0.5897278</td></tr>\n",
       "\t<tr><th scope=row>1064</th><td>0.5030618</td><td>0.4969382</td></tr>\n",
       "\t<tr><th scope=row>1065</th><td>0.5246312</td><td>0.4753688</td></tr>\n",
       "\t<tr><th scope=row>1066</th><td>0.3653130</td><td>0.6346870</td></tr>\n",
       "\t<tr><th scope=row>1067</th><td>0.4652200</td><td>0.5347800</td></tr>\n",
       "\t<tr><th scope=row>1068</th><td>0.3926973</td><td>0.6073027</td></tr>\n",
       "\t<tr><th scope=row>1069</th><td>0.4479537</td><td>0.5520463</td></tr>\n",
       "\t<tr><th scope=row>1070</th><td>0.4186641</td><td>0.5813359</td></tr>\n",
       "\t<tr><th scope=row>1071</th><td>0.5051334</td><td>0.4948666</td></tr>\n",
       "\t<tr><th scope=row>1072</th><td>0.4572773</td><td>0.5427227</td></tr>\n",
       "\t<tr><th scope=row>1073</th><td>0.4567052</td><td>0.5432948</td></tr>\n",
       "\t<tr><th scope=row>1074</th><td>0.3896998</td><td>0.6103002</td></tr>\n",
       "\t<tr><th scope=row>1075</th><td>0.4394646</td><td>0.5605354</td></tr>\n",
       "\t<tr><th scope=row>1076</th><td>0.4243309</td><td>0.5756691</td></tr>\n",
       "\t<tr><th scope=row>1077</th><td>0.4151653</td><td>0.5848347</td></tr>\n",
       "\t<tr><th scope=row>1078</th><td>0.4497417</td><td>0.5502583</td></tr>\n",
       "\t<tr><th scope=row>1079</th><td>0.4212291</td><td>0.5787709</td></tr>\n",
       "\t<tr><th scope=row>1080</th><td>0.4319277</td><td>0.5680723</td></tr>\n",
       "\t<tr><th scope=row>1081</th><td>0.4374702</td><td>0.5625298</td></tr>\n",
       "\t<tr><th scope=row>1082</th><td>0.4462440</td><td>0.5537560</td></tr>\n",
       "\t<tr><th scope=row>1083</th><td>0.3919397</td><td>0.6080603</td></tr>\n",
       "\t<tr><th scope=row>1084</th><td>0.4801278</td><td>0.5198722</td></tr>\n",
       "\t<tr><th scope=row>1085</th><td>0.4458130</td><td>0.5541870</td></tr>\n",
       "\t<tr><th scope=row>1086</th><td>0.4597679</td><td>0.5402321</td></tr>\n",
       "\t<tr><th scope=row>1087</th><td>0.4013333</td><td>0.5986667</td></tr>\n",
       "\t<tr><th scope=row>1088</th><td>0.4268442</td><td>0.5731558</td></tr>\n",
       "\t<tr><th scope=row>1089</th><td>0.4421215</td><td>0.5578785</td></tr>\n",
       "</tbody>\n",
       "</table>\n",
       "</dd>\n",
       "\t<dt>$x</dt>\n",
       "\t\t<dd><table>\n",
       "<thead><tr><th></th><th scope=col>LD1</th></tr></thead>\n",
       "<tbody>\n",
       "\t<tr><th scope=row>986</th><td>-0.7861401</td></tr>\n",
       "\t<tr><th scope=row>987</th><td> 2.8097979</td></tr>\n",
       "\t<tr><th scope=row>988</th><td>-1.9553089</td></tr>\n",
       "\t<tr><th scope=row>989</th><td>-1.9850696</td></tr>\n",
       "\t<tr><th scope=row>990</th><td>-0.9727820</td></tr>\n",
       "\t<tr><th scope=row>991</th><td>-0.3745927</td></tr>\n",
       "\t<tr><th scope=row>992</th><td> 2.1350812</td></tr>\n",
       "\t<tr><th scope=row>993</th><td>-2.1083637</td></tr>\n",
       "\t<tr><th scope=row>994</th><td>-2.9841774</td></tr>\n",
       "\t<tr><th scope=row>995</th><td>-1.9944229</td></tr>\n",
       "\t<tr><th scope=row>996</th><td>-3.0551779</td></tr>\n",
       "\t<tr><th scope=row>997</th><td> 4.4878739</td></tr>\n",
       "\t<tr><th scope=row>998</th><td> 0.6096348</td></tr>\n",
       "\t<tr><th scope=row>999</th><td> 2.5581077</td></tr>\n",
       "\t<tr><th scope=row>1000</th><td> 1.3196391</td></tr>\n",
       "\t<tr><th scope=row>1001</th><td> 0.6453476</td></tr>\n",
       "\t<tr><th scope=row>1002</th><td> 0.5828502</td></tr>\n",
       "\t<tr><th scope=row>1003</th><td>-0.2291907</td></tr>\n",
       "\t<tr><th scope=row>1004</th><td> 0.4897419</td></tr>\n",
       "\t<tr><th scope=row>1005</th><td> 2.4411908</td></tr>\n",
       "\t<tr><th scope=row>1006</th><td>-2.1848912</td></tr>\n",
       "\t<tr><th scope=row>1007</th><td> 0.1343145</td></tr>\n",
       "\t<tr><th scope=row>1008</th><td> 1.4760951</td></tr>\n",
       "\t<tr><th scope=row>1009</th><td> 0.9046905</td></tr>\n",
       "\t<tr><th scope=row>1010</th><td> 0.2125426</td></tr>\n",
       "\t<tr><th scope=row>1011</th><td>-1.1866336</td></tr>\n",
       "\t<tr><th scope=row>1012</th><td>-0.1717951</td></tr>\n",
       "\t<tr><th scope=row>1013</th><td>-1.1041541</td></tr>\n",
       "\t<tr><th scope=row>1014</th><td>-0.8843503</td></tr>\n",
       "\t<tr><th scope=row>1015</th><td> 2.8978044</td></tr>\n",
       "\t<tr><th scope=row>...</th><td>...</td></tr>\n",
       "\t<tr><th scope=row>1060</th><td> 0.002942491</td></tr>\n",
       "\t<tr><th scope=row>1061</th><td>-1.021674510</td></tr>\n",
       "\t<tr><th scope=row>1062</th><td> 1.002475507</td></tr>\n",
       "\t<tr><th scope=row>1063</th><td> 0.945079949</td></tr>\n",
       "\t<tr><th scope=row>1064</th><td>-1.614336791</td></tr>\n",
       "\t<tr><th scope=row>1065</th><td>-2.203597855</td></tr>\n",
       "\t<tr><th scope=row>1066</th><td> 2.238393192</td></tr>\n",
       "\t<tr><th scope=row>1067</th><td>-0.579941288</td></tr>\n",
       "\t<tr><th scope=row>1068</th><td> 1.444208729</td></tr>\n",
       "\t<tr><th scope=row>1069</th><td>-0.105046189</td></tr>\n",
       "\t<tr><th scope=row>1070</th><td> 0.709120432</td></tr>\n",
       "\t<tr><th scope=row>1071</th><td>-1.670882045</td></tr>\n",
       "\t<tr><th scope=row>1072</th><td>-0.361838167</td></tr>\n",
       "\t<tr><th scope=row>1073</th><td>-0.346107533</td></tr>\n",
       "\t<tr><th scope=row>1074</th><td> 1.530089490</td></tr>\n",
       "\t<tr><th scope=row>1075</th><td> 0.129637871</td></tr>\n",
       "\t<tr><th scope=row>1076</th><td> 0.550538631</td></tr>\n",
       "\t<tr><th scope=row>1077</th><td> 0.807330609</td></tr>\n",
       "\t<tr><th scope=row>1078</th><td>-0.154363853</td></tr>\n",
       "\t<tr><th scope=row>1079</th><td> 0.637269696</td></tr>\n",
       "\t<tr><th scope=row>1080</th><td> 0.338812794</td></tr>\n",
       "\t<tr><th scope=row>1081</th><td> 0.184907668</td></tr>\n",
       "\t<tr><th scope=row>1082</th><td>-0.057854285</td></tr>\n",
       "\t<tr><th scope=row>1083</th><td> 1.465891495</td></tr>\n",
       "\t<tr><th scope=row>1084</th><td>-0.988087479</td></tr>\n",
       "\t<tr><th scope=row>1085</th><td>-0.045950021</td></tr>\n",
       "\t<tr><th scope=row>1086</th><td>-0.430287685</td></tr>\n",
       "\t<tr><th scope=row>1087</th><td> 1.198045557</td></tr>\n",
       "\t<tr><th scope=row>1088</th><td> 0.480388504</td></tr>\n",
       "\t<tr><th scope=row>1089</th><td> 0.056086526</td></tr>\n",
       "</tbody>\n",
       "</table>\n",
       "</dd>\n",
       "</dl>\n"
      ],
      "text/latex": [
       "\\begin{description}\n",
       "\\item[\\$class] \\begin{enumerate*}\n",
       "\\item Up\n",
       "\\item Up\n",
       "\\item Down\n",
       "\\item Down\n",
       "\\item Up\n",
       "\\item Up\n",
       "\\item Up\n",
       "\\item Down\n",
       "\\item Down\n",
       "\\item Down\n",
       "\\item Down\n",
       "\\item Up\n",
       "\\item Up\n",
       "\\item Up\n",
       "\\item Up\n",
       "\\item Up\n",
       "\\item Up\n",
       "\\item Up\n",
       "\\item Up\n",
       "\\item Up\n",
       "\\item Down\n",
       "\\item Up\n",
       "\\item Up\n",
       "\\item Up\n",
       "\\item Up\n",
       "\\item Up\n",
       "\\item Up\n",
       "\\item Up\n",
       "\\item Up\n",
       "\\item Up\n",
       "\\item Up\n",
       "\\item Up\n",
       "\\item Up\n",
       "\\item Up\n",
       "\\item Up\n",
       "\\item Up\n",
       "\\item Up\n",
       "\\item Up\n",
       "\\item Up\n",
       "\\item Up\n",
       "\\item Up\n",
       "\\item Up\n",
       "\\item Up\n",
       "\\item Up\n",
       "\\item Down\n",
       "\\item Up\n",
       "\\item Up\n",
       "\\item Up\n",
       "\\item Up\n",
       "\\item Up\n",
       "\\item Up\n",
       "\\item Up\n",
       "\\item Up\n",
       "\\item Up\n",
       "\\item Up\n",
       "\\item Up\n",
       "\\item Down\n",
       "\\item Up\n",
       "\\item Up\n",
       "\\item Up\n",
       "\\item Up\n",
       "\\item Up\n",
       "\\item Up\n",
       "\\item Up\n",
       "\\item Up\n",
       "\\item Up\n",
       "\\item Up\n",
       "\\item Up\n",
       "\\item Up\n",
       "\\item Up\n",
       "\\item Up\n",
       "\\item Down\n",
       "\\item Up\n",
       "\\item Down\n",
       "\\item Up\n",
       "\\item Up\n",
       "\\item Up\n",
       "\\item Up\n",
       "\\item Down\n",
       "\\item Down\n",
       "\\item Up\n",
       "\\item Up\n",
       "\\item Up\n",
       "\\item Up\n",
       "\\item Up\n",
       "\\item Down\n",
       "\\item Up\n",
       "\\item Up\n",
       "\\item Up\n",
       "\\item Up\n",
       "\\item Up\n",
       "\\item Up\n",
       "\\item Up\n",
       "\\item Up\n",
       "\\item Up\n",
       "\\item Up\n",
       "\\item Up\n",
       "\\item Up\n",
       "\\item Up\n",
       "\\item Up\n",
       "\\item Up\n",
       "\\item Up\n",
       "\\item Up\n",
       "\\item Up\n",
       "\\end{enumerate*}\n",
       "\n",
       "\\emph{Levels}: \\begin{enumerate*}\n",
       "\\item 'Down'\n",
       "\\item 'Up'\n",
       "\\end{enumerate*}\n",
       "\n",
       "\\item[\\$posterior] \\begin{tabular}{r|ll}\n",
       "  & Down & Up\\\\\n",
       "\\hline\n",
       "\t986 & 0.4727454 & 0.5272546\\\\\n",
       "\t987 & 0.3461246 & 0.6538754\\\\\n",
       "\t988 & 0.5155494 & 0.4844506\\\\\n",
       "\t989 & 0.5166386 & 0.4833614\\\\\n",
       "\t990 & 0.4795680 & 0.5204320\\\\\n",
       "\t991 & 0.4577412 & 0.5422588\\\\\n",
       "\t992 & 0.3688306 & 0.6311694\\\\\n",
       "\t993 & 0.5211494 & 0.4788506\\\\\n",
       "\t994 & 0.5530496 & 0.4469504\\\\\n",
       "\t995 & 0.5169809 & 0.4830191\\\\\n",
       "\t996 & 0.5556202 & 0.4443798\\\\\n",
       "\t997 & 0.2927545 & 0.7072455\\\\\n",
       "\t998 & 0.4222168 & 0.5777832\\\\\n",
       "\t999 & 0.3545193 & 0.6454807\\\\\n",
       "\t1000 & 0.3970595 & 0.6029405\\\\\n",
       "\t1001 & 0.4209405 & 0.5790595\\\\\n",
       "\t1002 & 0.4231746 & 0.5768254\\\\\n",
       "\t1003 & 0.4524570 & 0.5475430\\\\\n",
       "\t1004 & 0.4265089 & 0.5734911\\\\\n",
       "\t1005 & 0.3584500 & 0.6415500\\\\\n",
       "\t1006 & 0.5239475 & 0.4760525\\\\\n",
       "\t1007 & 0.4392957 & 0.5607043\\\\\n",
       "\t1008 & 0.3915834 & 0.6084166\\\\\n",
       "\t1009 & 0.4117051 & 0.5882949\\\\\n",
       "\t1010 & 0.4364739 & 0.5635261\\\\\n",
       "\t1011 & 0.4873943 & 0.5126057\\\\\n",
       "\t1012 & 0.4503740 & 0.5496260\\\\\n",
       "\t1013 & 0.4843749 & 0.5156251\\\\\n",
       "\t1014 & 0.4763343 & 0.5236657\\\\\n",
       "\t1015 & 0.3432114 & 0.6567886\\\\\n",
       "\t... & ... & ...\\\\\n",
       "\t1060 & 0.4440434 & 0.5559566\\\\\n",
       "\t1061 & 0.4813566 & 0.5186434\\\\\n",
       "\t1062 & 0.4082387 & 0.5917613\\\\\n",
       "\t1063 & 0.4102722 & 0.5897278\\\\\n",
       "\t1064 & 0.5030618 & 0.4969382\\\\\n",
       "\t1065 & 0.5246312 & 0.4753688\\\\\n",
       "\t1066 & 0.3653130 & 0.6346870\\\\\n",
       "\t1067 & 0.4652200 & 0.5347800\\\\\n",
       "\t1068 & 0.3926973 & 0.6073027\\\\\n",
       "\t1069 & 0.4479537 & 0.5520463\\\\\n",
       "\t1070 & 0.4186641 & 0.5813359\\\\\n",
       "\t1071 & 0.5051334 & 0.4948666\\\\\n",
       "\t1072 & 0.4572773 & 0.5427227\\\\\n",
       "\t1073 & 0.4567052 & 0.5432948\\\\\n",
       "\t1074 & 0.3896998 & 0.6103002\\\\\n",
       "\t1075 & 0.4394646 & 0.5605354\\\\\n",
       "\t1076 & 0.4243309 & 0.5756691\\\\\n",
       "\t1077 & 0.4151653 & 0.5848347\\\\\n",
       "\t1078 & 0.4497417 & 0.5502583\\\\\n",
       "\t1079 & 0.4212291 & 0.5787709\\\\\n",
       "\t1080 & 0.4319277 & 0.5680723\\\\\n",
       "\t1081 & 0.4374702 & 0.5625298\\\\\n",
       "\t1082 & 0.4462440 & 0.5537560\\\\\n",
       "\t1083 & 0.3919397 & 0.6080603\\\\\n",
       "\t1084 & 0.4801278 & 0.5198722\\\\\n",
       "\t1085 & 0.4458130 & 0.5541870\\\\\n",
       "\t1086 & 0.4597679 & 0.5402321\\\\\n",
       "\t1087 & 0.4013333 & 0.5986667\\\\\n",
       "\t1088 & 0.4268442 & 0.5731558\\\\\n",
       "\t1089 & 0.4421215 & 0.5578785\\\\\n",
       "\\end{tabular}\n",
       "\n",
       "\\item[\\$x] \\begin{tabular}{r|l}\n",
       "  & LD1\\\\\n",
       "\\hline\n",
       "\t986 & -0.7861401\\\\\n",
       "\t987 &  2.8097979\\\\\n",
       "\t988 & -1.9553089\\\\\n",
       "\t989 & -1.9850696\\\\\n",
       "\t990 & -0.9727820\\\\\n",
       "\t991 & -0.3745927\\\\\n",
       "\t992 &  2.1350812\\\\\n",
       "\t993 & -2.1083637\\\\\n",
       "\t994 & -2.9841774\\\\\n",
       "\t995 & -1.9944229\\\\\n",
       "\t996 & -3.0551779\\\\\n",
       "\t997 &  4.4878739\\\\\n",
       "\t998 &  0.6096348\\\\\n",
       "\t999 &  2.5581077\\\\\n",
       "\t1000 &  1.3196391\\\\\n",
       "\t1001 &  0.6453476\\\\\n",
       "\t1002 &  0.5828502\\\\\n",
       "\t1003 & -0.2291907\\\\\n",
       "\t1004 &  0.4897419\\\\\n",
       "\t1005 &  2.4411908\\\\\n",
       "\t1006 & -2.1848912\\\\\n",
       "\t1007 &  0.1343145\\\\\n",
       "\t1008 &  1.4760951\\\\\n",
       "\t1009 &  0.9046905\\\\\n",
       "\t1010 &  0.2125426\\\\\n",
       "\t1011 & -1.1866336\\\\\n",
       "\t1012 & -0.1717951\\\\\n",
       "\t1013 & -1.1041541\\\\\n",
       "\t1014 & -0.8843503\\\\\n",
       "\t1015 &  2.8978044\\\\\n",
       "\t... & ...\\\\\n",
       "\t1060 &  0.002942491\\\\\n",
       "\t1061 & -1.021674510\\\\\n",
       "\t1062 &  1.002475507\\\\\n",
       "\t1063 &  0.945079949\\\\\n",
       "\t1064 & -1.614336791\\\\\n",
       "\t1065 & -2.203597855\\\\\n",
       "\t1066 &  2.238393192\\\\\n",
       "\t1067 & -0.579941288\\\\\n",
       "\t1068 &  1.444208729\\\\\n",
       "\t1069 & -0.105046189\\\\\n",
       "\t1070 &  0.709120432\\\\\n",
       "\t1071 & -1.670882045\\\\\n",
       "\t1072 & -0.361838167\\\\\n",
       "\t1073 & -0.346107533\\\\\n",
       "\t1074 &  1.530089490\\\\\n",
       "\t1075 &  0.129637871\\\\\n",
       "\t1076 &  0.550538631\\\\\n",
       "\t1077 &  0.807330609\\\\\n",
       "\t1078 & -0.154363853\\\\\n",
       "\t1079 &  0.637269696\\\\\n",
       "\t1080 &  0.338812794\\\\\n",
       "\t1081 &  0.184907668\\\\\n",
       "\t1082 & -0.057854285\\\\\n",
       "\t1083 &  1.465891495\\\\\n",
       "\t1084 & -0.988087479\\\\\n",
       "\t1085 & -0.045950021\\\\\n",
       "\t1086 & -0.430287685\\\\\n",
       "\t1087 &  1.198045557\\\\\n",
       "\t1088 &  0.480388504\\\\\n",
       "\t1089 &  0.056086526\\\\\n",
       "\\end{tabular}\n",
       "\n",
       "\\end{description}\n"
      ],
      "text/markdown": [
       "$class\n",
       ":   1. Up\n",
       "2. Up\n",
       "3. Down\n",
       "4. Down\n",
       "5. Up\n",
       "6. Up\n",
       "7. Up\n",
       "8. Down\n",
       "9. Down\n",
       "10. Down\n",
       "11. Down\n",
       "12. Up\n",
       "13. Up\n",
       "14. Up\n",
       "15. Up\n",
       "16. Up\n",
       "17. Up\n",
       "18. Up\n",
       "19. Up\n",
       "20. Up\n",
       "21. Down\n",
       "22. Up\n",
       "23. Up\n",
       "24. Up\n",
       "25. Up\n",
       "26. Up\n",
       "27. Up\n",
       "28. Up\n",
       "29. Up\n",
       "30. Up\n",
       "31. Up\n",
       "32. Up\n",
       "33. Up\n",
       "34. Up\n",
       "35. Up\n",
       "36. Up\n",
       "37. Up\n",
       "38. Up\n",
       "39. Up\n",
       "40. Up\n",
       "41. Up\n",
       "42. Up\n",
       "43. Up\n",
       "44. Up\n",
       "45. Down\n",
       "46. Up\n",
       "47. Up\n",
       "48. Up\n",
       "49. Up\n",
       "50. Up\n",
       "51. Up\n",
       "52. Up\n",
       "53. Up\n",
       "54. Up\n",
       "55. Up\n",
       "56. Up\n",
       "57. Down\n",
       "58. Up\n",
       "59. Up\n",
       "60. Up\n",
       "61. Up\n",
       "62. Up\n",
       "63. Up\n",
       "64. Up\n",
       "65. Up\n",
       "66. Up\n",
       "67. Up\n",
       "68. Up\n",
       "69. Up\n",
       "70. Up\n",
       "71. Up\n",
       "72. Down\n",
       "73. Up\n",
       "74. Down\n",
       "75. Up\n",
       "76. Up\n",
       "77. Up\n",
       "78. Up\n",
       "79. Down\n",
       "80. Down\n",
       "81. Up\n",
       "82. Up\n",
       "83. Up\n",
       "84. Up\n",
       "85. Up\n",
       "86. Down\n",
       "87. Up\n",
       "88. Up\n",
       "89. Up\n",
       "90. Up\n",
       "91. Up\n",
       "92. Up\n",
       "93. Up\n",
       "94. Up\n",
       "95. Up\n",
       "96. Up\n",
       "97. Up\n",
       "98. Up\n",
       "99. Up\n",
       "100. Up\n",
       "101. Up\n",
       "102. Up\n",
       "103. Up\n",
       "104. Up\n",
       "\n",
       "\n",
       "\n",
       "**Levels**: 1. 'Down'\n",
       "2. 'Up'\n",
       "\n",
       "\n",
       "\n",
       "$posterior\n",
       ":   \n",
       "| <!--/--> | Down | Up | \n",
       "|---|---|---|---|---|---|---|---|---|---|---|---|---|---|---|---|---|---|---|---|---|---|---|---|---|---|---|---|---|---|---|---|---|---|---|---|---|---|---|---|---|---|---|---|---|---|---|---|---|---|---|---|---|---|---|---|---|---|---|---|---|\n",
       "| 986 | 0.4727454 | 0.5272546 | \n",
       "| 987 | 0.3461246 | 0.6538754 | \n",
       "| 988 | 0.5155494 | 0.4844506 | \n",
       "| 989 | 0.5166386 | 0.4833614 | \n",
       "| 990 | 0.4795680 | 0.5204320 | \n",
       "| 991 | 0.4577412 | 0.5422588 | \n",
       "| 992 | 0.3688306 | 0.6311694 | \n",
       "| 993 | 0.5211494 | 0.4788506 | \n",
       "| 994 | 0.5530496 | 0.4469504 | \n",
       "| 995 | 0.5169809 | 0.4830191 | \n",
       "| 996 | 0.5556202 | 0.4443798 | \n",
       "| 997 | 0.2927545 | 0.7072455 | \n",
       "| 998 | 0.4222168 | 0.5777832 | \n",
       "| 999 | 0.3545193 | 0.6454807 | \n",
       "| 1000 | 0.3970595 | 0.6029405 | \n",
       "| 1001 | 0.4209405 | 0.5790595 | \n",
       "| 1002 | 0.4231746 | 0.5768254 | \n",
       "| 1003 | 0.4524570 | 0.5475430 | \n",
       "| 1004 | 0.4265089 | 0.5734911 | \n",
       "| 1005 | 0.3584500 | 0.6415500 | \n",
       "| 1006 | 0.5239475 | 0.4760525 | \n",
       "| 1007 | 0.4392957 | 0.5607043 | \n",
       "| 1008 | 0.3915834 | 0.6084166 | \n",
       "| 1009 | 0.4117051 | 0.5882949 | \n",
       "| 1010 | 0.4364739 | 0.5635261 | \n",
       "| 1011 | 0.4873943 | 0.5126057 | \n",
       "| 1012 | 0.4503740 | 0.5496260 | \n",
       "| 1013 | 0.4843749 | 0.5156251 | \n",
       "| 1014 | 0.4763343 | 0.5236657 | \n",
       "| 1015 | 0.3432114 | 0.6567886 | \n",
       "| ... | ... | ... | \n",
       "| 1060 | 0.4440434 | 0.5559566 | \n",
       "| 1061 | 0.4813566 | 0.5186434 | \n",
       "| 1062 | 0.4082387 | 0.5917613 | \n",
       "| 1063 | 0.4102722 | 0.5897278 | \n",
       "| 1064 | 0.5030618 | 0.4969382 | \n",
       "| 1065 | 0.5246312 | 0.4753688 | \n",
       "| 1066 | 0.3653130 | 0.6346870 | \n",
       "| 1067 | 0.4652200 | 0.5347800 | \n",
       "| 1068 | 0.3926973 | 0.6073027 | \n",
       "| 1069 | 0.4479537 | 0.5520463 | \n",
       "| 1070 | 0.4186641 | 0.5813359 | \n",
       "| 1071 | 0.5051334 | 0.4948666 | \n",
       "| 1072 | 0.4572773 | 0.5427227 | \n",
       "| 1073 | 0.4567052 | 0.5432948 | \n",
       "| 1074 | 0.3896998 | 0.6103002 | \n",
       "| 1075 | 0.4394646 | 0.5605354 | \n",
       "| 1076 | 0.4243309 | 0.5756691 | \n",
       "| 1077 | 0.4151653 | 0.5848347 | \n",
       "| 1078 | 0.4497417 | 0.5502583 | \n",
       "| 1079 | 0.4212291 | 0.5787709 | \n",
       "| 1080 | 0.4319277 | 0.5680723 | \n",
       "| 1081 | 0.4374702 | 0.5625298 | \n",
       "| 1082 | 0.4462440 | 0.5537560 | \n",
       "| 1083 | 0.3919397 | 0.6080603 | \n",
       "| 1084 | 0.4801278 | 0.5198722 | \n",
       "| 1085 | 0.4458130 | 0.5541870 | \n",
       "| 1086 | 0.4597679 | 0.5402321 | \n",
       "| 1087 | 0.4013333 | 0.5986667 | \n",
       "| 1088 | 0.4268442 | 0.5731558 | \n",
       "| 1089 | 0.4421215 | 0.5578785 | \n",
       "\n",
       "\n",
       "\n",
       "$x\n",
       ":   \n",
       "| <!--/--> | LD1 | \n",
       "|---|---|---|---|---|---|---|---|---|---|---|---|---|---|---|---|---|---|---|---|---|---|---|---|---|---|---|---|---|---|---|---|---|---|---|---|---|---|---|---|---|---|---|---|---|---|---|---|---|---|---|---|---|---|---|---|---|---|---|---|---|\n",
       "| 986 | -0.7861401 | \n",
       "| 987 |  2.8097979 | \n",
       "| 988 | -1.9553089 | \n",
       "| 989 | -1.9850696 | \n",
       "| 990 | -0.9727820 | \n",
       "| 991 | -0.3745927 | \n",
       "| 992 |  2.1350812 | \n",
       "| 993 | -2.1083637 | \n",
       "| 994 | -2.9841774 | \n",
       "| 995 | -1.9944229 | \n",
       "| 996 | -3.0551779 | \n",
       "| 997 |  4.4878739 | \n",
       "| 998 |  0.6096348 | \n",
       "| 999 |  2.5581077 | \n",
       "| 1000 |  1.3196391 | \n",
       "| 1001 |  0.6453476 | \n",
       "| 1002 |  0.5828502 | \n",
       "| 1003 | -0.2291907 | \n",
       "| 1004 |  0.4897419 | \n",
       "| 1005 |  2.4411908 | \n",
       "| 1006 | -2.1848912 | \n",
       "| 1007 |  0.1343145 | \n",
       "| 1008 |  1.4760951 | \n",
       "| 1009 |  0.9046905 | \n",
       "| 1010 |  0.2125426 | \n",
       "| 1011 | -1.1866336 | \n",
       "| 1012 | -0.1717951 | \n",
       "| 1013 | -1.1041541 | \n",
       "| 1014 | -0.8843503 | \n",
       "| 1015 |  2.8978044 | \n",
       "| ... | ... | \n",
       "| 1060 |  0.002942491 | \n",
       "| 1061 | -1.021674510 | \n",
       "| 1062 |  1.002475507 | \n",
       "| 1063 |  0.945079949 | \n",
       "| 1064 | -1.614336791 | \n",
       "| 1065 | -2.203597855 | \n",
       "| 1066 |  2.238393192 | \n",
       "| 1067 | -0.579941288 | \n",
       "| 1068 |  1.444208729 | \n",
       "| 1069 | -0.105046189 | \n",
       "| 1070 |  0.709120432 | \n",
       "| 1071 | -1.670882045 | \n",
       "| 1072 | -0.361838167 | \n",
       "| 1073 | -0.346107533 | \n",
       "| 1074 |  1.530089490 | \n",
       "| 1075 |  0.129637871 | \n",
       "| 1076 |  0.550538631 | \n",
       "| 1077 |  0.807330609 | \n",
       "| 1078 | -0.154363853 | \n",
       "| 1079 |  0.637269696 | \n",
       "| 1080 |  0.338812794 | \n",
       "| 1081 |  0.184907668 | \n",
       "| 1082 | -0.057854285 | \n",
       "| 1083 |  1.465891495 | \n",
       "| 1084 | -0.988087479 | \n",
       "| 1085 | -0.045950021 | \n",
       "| 1086 | -0.430287685 | \n",
       "| 1087 |  1.198045557 | \n",
       "| 1088 |  0.480388504 | \n",
       "| 1089 |  0.056086526 | \n",
       "\n",
       "\n",
       "\n",
       "\n",
       "\n"
      ],
      "text/plain": [
       "$class\n",
       "  [1] Up   Up   Down Down Up   Up   Up   Down Down Down Down Up   Up   Up   Up  \n",
       " [16] Up   Up   Up   Up   Up   Down Up   Up   Up   Up   Up   Up   Up   Up   Up  \n",
       " [31] Up   Up   Up   Up   Up   Up   Up   Up   Up   Up   Up   Up   Up   Up   Down\n",
       " [46] Up   Up   Up   Up   Up   Up   Up   Up   Up   Up   Up   Down Up   Up   Up  \n",
       " [61] Up   Up   Up   Up   Up   Up   Up   Up   Up   Up   Up   Down Up   Down Up  \n",
       " [76] Up   Up   Up   Down Down Up   Up   Up   Up   Up   Down Up   Up   Up   Up  \n",
       " [91] Up   Up   Up   Up   Up   Up   Up   Up   Up   Up   Up   Up   Up   Up  \n",
       "Levels: Down Up\n",
       "\n",
       "$posterior\n",
       "          Down        Up\n",
       "986  0.4727454 0.5272546\n",
       "987  0.3461246 0.6538754\n",
       "988  0.5155494 0.4844506\n",
       "989  0.5166386 0.4833614\n",
       "990  0.4795680 0.5204320\n",
       "991  0.4577412 0.5422588\n",
       "992  0.3688306 0.6311694\n",
       "993  0.5211494 0.4788506\n",
       "994  0.5530496 0.4469504\n",
       "995  0.5169809 0.4830191\n",
       "996  0.5556202 0.4443798\n",
       "997  0.2927545 0.7072455\n",
       "998  0.4222168 0.5777832\n",
       "999  0.3545193 0.6454807\n",
       "1000 0.3970595 0.6029405\n",
       "1001 0.4209405 0.5790595\n",
       "1002 0.4231746 0.5768254\n",
       "1003 0.4524570 0.5475430\n",
       "1004 0.4265089 0.5734911\n",
       "1005 0.3584500 0.6415500\n",
       "1006 0.5239475 0.4760525\n",
       "1007 0.4392957 0.5607043\n",
       "1008 0.3915834 0.6084166\n",
       "1009 0.4117051 0.5882949\n",
       "1010 0.4364739 0.5635261\n",
       "1011 0.4873943 0.5126057\n",
       "1012 0.4503740 0.5496260\n",
       "1013 0.4843749 0.5156251\n",
       "1014 0.4763343 0.5236657\n",
       "1015 0.3432114 0.6567886\n",
       "1016 0.3840247 0.6159753\n",
       "1017 0.4335949 0.5664051\n",
       "1018 0.4109508 0.5890492\n",
       "1019 0.4562260 0.5437740\n",
       "1020 0.4129734 0.5870266\n",
       "1021 0.4422752 0.5577248\n",
       "1022 0.4652975 0.5347025\n",
       "1023 0.4070050 0.5929950\n",
       "1024 0.4090969 0.5909031\n",
       "1025 0.4811543 0.5188457\n",
       "1026 0.4748891 0.5251109\n",
       "1027 0.3784396 0.6215604\n",
       "1028 0.4233420 0.5766580\n",
       "1029 0.4579422 0.5420578\n",
       "1030 0.5089022 0.4910978\n",
       "1031 0.3979548 0.6020452\n",
       "1032 0.4119768 0.5880232\n",
       "1033 0.4494333 0.5505667\n",
       "1034 0.4463210 0.5536790\n",
       "1035 0.4261279 0.5738721\n",
       "1036 0.4458746 0.5541254\n",
       "1037 0.4519631 0.5480369\n",
       "1038 0.4132302 0.5867698\n",
       "1039 0.4620746 0.5379254\n",
       "1040 0.4056673 0.5943327\n",
       "1041 0.4585455 0.5414545\n",
       "1042 0.5069712 0.4930288\n",
       "1043 0.4718292 0.5281708\n",
       "1044 0.4575092 0.5424908\n",
       "1045 0.4330594 0.5669406\n",
       "1046 0.3989255 0.6010745\n",
       "1047 0.4529818 0.5470182\n",
       "1048 0.3994187 0.6005813\n",
       "1049 0.4312705 0.5687295\n",
       "1050 0.4332430 0.5667570\n",
       "1051 0.4376083 0.5623917\n",
       "1052 0.4313316 0.5686684\n",
       "1053 0.4253205 0.5746795\n",
       "1054 0.4493717 0.5506283\n",
       "1055 0.4142579 0.5857421\n",
       "1056 0.4854176 0.5145824\n",
       "1057 0.5456458 0.4543542\n",
       "1058 0.4124146 0.5875854\n",
       "1059 0.5120940 0.4879060\n",
       "1060 0.4440434 0.5559566\n",
       "1061 0.4813566 0.5186434\n",
       "1062 0.4082387 0.5917613\n",
       "1063 0.4102722 0.5897278\n",
       "1064 0.5030618 0.4969382\n",
       "1065 0.5246312 0.4753688\n",
       "1066 0.3653130 0.6346870\n",
       "1067 0.4652200 0.5347800\n",
       "1068 0.3926973 0.6073027\n",
       "1069 0.4479537 0.5520463\n",
       "1070 0.4186641 0.5813359\n",
       "1071 0.5051334 0.4948666\n",
       "1072 0.4572773 0.5427227\n",
       "1073 0.4567052 0.5432948\n",
       "1074 0.3896998 0.6103002\n",
       "1075 0.4394646 0.5605354\n",
       "1076 0.4243309 0.5756691\n",
       "1077 0.4151653 0.5848347\n",
       "1078 0.4497417 0.5502583\n",
       "1079 0.4212291 0.5787709\n",
       "1080 0.4319277 0.5680723\n",
       "1081 0.4374702 0.5625298\n",
       "1082 0.4462440 0.5537560\n",
       "1083 0.3919397 0.6080603\n",
       "1084 0.4801278 0.5198722\n",
       "1085 0.4458130 0.5541870\n",
       "1086 0.4597679 0.5402321\n",
       "1087 0.4013333 0.5986667\n",
       "1088 0.4268442 0.5731558\n",
       "1089 0.4421215 0.5578785\n",
       "\n",
       "$x\n",
       "              LD1\n",
       "986  -0.786140145\n",
       "987   2.809797860\n",
       "988  -1.955308922\n",
       "989  -1.985069582\n",
       "990  -0.972781997\n",
       "991  -0.374592736\n",
       "992   2.135081188\n",
       "993  -2.108363744\n",
       "994  -2.984177445\n",
       "995  -1.994422932\n",
       "996  -3.055177877\n",
       "997   4.487873919\n",
       "998   0.609634798\n",
       "999   2.558107709\n",
       "1000  1.319639110\n",
       "1001  0.645347590\n",
       "1002  0.582850204\n",
       "1003 -0.229190655\n",
       "1004  0.489741854\n",
       "1005  2.441190831\n",
       "1006 -2.184891154\n",
       "1007  0.134314546\n",
       "1008  1.476095150\n",
       "1009  0.904690482\n",
       "1010  0.212542566\n",
       "1011 -1.186633595\n",
       "1012 -0.171795097\n",
       "1013 -1.104154052\n",
       "1014 -0.884350322\n",
       "1015  2.897804382\n",
       "1016  1.693347966\n",
       "1017  0.292471195\n",
       "1018  0.925948096\n",
       "1019 -0.332927812\n",
       "1020  0.868977690\n",
       "1021  0.051835004\n",
       "1022 -0.582067050\n",
       "1023  1.037337994\n",
       "1024  0.978241827\n",
       "1025 -1.016147530\n",
       "1026 -0.844811160\n",
       "1027  1.854905833\n",
       "1028  0.578173529\n",
       "1029 -0.380119715\n",
       "1030 -1.773768897\n",
       "1031  1.294129973\n",
       "1032  0.897037741\n",
       "1033 -0.145860808\n",
       "1034 -0.059980047\n",
       "1035  0.500370662\n",
       "1036 -0.047650631\n",
       "1037 -0.215585782\n",
       "1038  0.861750102\n",
       "1039 -0.493635375\n",
       "1040  1.075176547\n",
       "1041 -0.396700654\n",
       "1042 -1.721050014\n",
       "1043 -0.761056161\n",
       "1044 -0.368215452\n",
       "1045  0.307351525\n",
       "1046  1.266495074\n",
       "1047 -0.243645833\n",
       "1048  1.252465049\n",
       "1049  0.357094342\n",
       "1050  0.302249698\n",
       "1051  0.181081297\n",
       "1052  0.355393733\n",
       "1053  0.522903732\n",
       "1054 -0.144160199\n",
       "1055  0.832839746\n",
       "1056 -1.132639255\n",
       "1057 -2.780104350\n",
       "1058  0.884708325\n",
       "1059 -1.860925115\n",
       "1060  0.002942491\n",
       "1061 -1.021674510\n",
       "1062  1.002475507\n",
       "1063  0.945079949\n",
       "1064 -1.614336791\n",
       "1065 -2.203597855\n",
       "1066  2.238393192\n",
       "1067 -0.579941288\n",
       "1068  1.444208729\n",
       "1069 -0.105046189\n",
       "1070  0.709120432\n",
       "1071 -1.670882045\n",
       "1072 -0.361838167\n",
       "1073 -0.346107533\n",
       "1074  1.530089490\n",
       "1075  0.129637871\n",
       "1076  0.550538631\n",
       "1077  0.807330609\n",
       "1078 -0.154363853\n",
       "1079  0.637269696\n",
       "1080  0.338812794\n",
       "1081  0.184907668\n",
       "1082 -0.057854285\n",
       "1083  1.465891495\n",
       "1084 -0.988087479\n",
       "1085 -0.045950021\n",
       "1086 -0.430287685\n",
       "1087  1.198045557\n",
       "1088  0.480388504\n",
       "1089  0.056086526\n"
      ]
     },
     "metadata": {},
     "output_type": "display_data"
    }
   ],
   "source": [
    "pred.lda = predict(fit.lda, test, type = \"response\")\n",
    "pred.lda"
   ]
  },
  {
   "cell_type": "markdown",
   "metadata": {},
   "source": [
    "Now, you should generate the confusion matrix by calling confusionMatrix():"
   ]
  },
  {
   "cell_type": "code",
   "execution_count": 72,
   "metadata": {},
   "outputs": [
    {
     "data": {
      "text/plain": [
       "Confusion Matrix and Statistics\n",
       "\n",
       "          Reference\n",
       "Prediction Down Up\n",
       "      Down    9  5\n",
       "      Up     34 56\n",
       "                                         \n",
       "               Accuracy : 0.625          \n",
       "                 95% CI : (0.5247, 0.718)\n",
       "    No Information Rate : 0.5865         \n",
       "    P-Value [Acc > NIR] : 0.2439         \n",
       "                                         \n",
       "                  Kappa : 0.1414         \n",
       " Mcnemar's Test P-Value : 7.34e-06       \n",
       "                                         \n",
       "            Sensitivity : 0.20930        \n",
       "            Specificity : 0.91803        \n",
       "         Pos Pred Value : 0.64286        \n",
       "         Neg Pred Value : 0.62222        \n",
       "             Prevalence : 0.41346        \n",
       "         Detection Rate : 0.08654        \n",
       "   Detection Prevalence : 0.13462        \n",
       "      Balanced Accuracy : 0.56367        \n",
       "                                         \n",
       "       'Positive' Class : Down           \n",
       "                                         "
      ]
     },
     "metadata": {},
     "output_type": "display_data"
    }
   ],
   "source": [
    "confusionMatrix(pred.lda$class, Direction.test) "
   ]
  },
  {
   "cell_type": "markdown",
   "metadata": {},
   "source": [
    "When we use the model (<font color=\"red\">fit.lda</font>), we can correctly predict the directions of the returns by 62.5%, which is the sames as the simple logistic regression model above. The matrix also shows that the sensitivity score is very high, but the specificity score is very lower. The fitted model nearly mis-classified all the returns that actually went down."
   ]
  },
  {
   "cell_type": "markdown",
   "metadata": {},
   "source": [
    "### 6 Repeat <font color=\"red\">4</font> using QDA.\n",
    "In this task, we are going to develop another classification model using Quadratic Discriminant Analysis. QDA has a similar generative process to LDA. But instead of assuming all the classes share the same covariance matrix, QDA assumes that each class has its own covariance matrix. To fit a QDA model, you should call the <a href=\"https://stat.ethz.ch/R-manual/R-devel/library/MASS/html/qda.html\">qda()</a> function."
   ]
  },
  {
   "cell_type": "code",
   "execution_count": 73,
   "metadata": {},
   "outputs": [
    {
     "data": {
      "text/plain": [
       "Call:\n",
       "qda(Direction ~ Lag2, data = Weekly)\n",
       "\n",
       "Prior probabilities of groups:\n",
       "     Down        Up \n",
       "0.4444444 0.5555556 \n",
       "\n",
       "Group means:\n",
       "            Lag2\n",
       "Down -0.04042355\n",
       "Up    0.30428099"
      ]
     },
     "metadata": {},
     "output_type": "display_data"
    }
   ],
   "source": [
    "fit.qda = qda(Direction ~ Lag2, data = Weekly)\n",
    "fit.qda"
   ]
  },
  {
   "cell_type": "markdown",
   "metadata": {},
   "source": [
    "Similar to what you have done for LDA, here you need to generate the confusion matrix to assess the predicting accuracy of the model."
   ]
  },
  {
   "cell_type": "code",
   "execution_count": 74,
   "metadata": {},
   "outputs": [
    {
     "data": {
      "text/plain": [
       "Confusion Matrix and Statistics\n",
       "\n",
       "          Reference\n",
       "Prediction Down Up\n",
       "      Down    0  0\n",
       "      Up     43 61\n",
       "                                          \n",
       "               Accuracy : 0.5865          \n",
       "                 95% CI : (0.4858, 0.6823)\n",
       "    No Information Rate : 0.5865          \n",
       "    P-Value [Acc > NIR] : 0.5419          \n",
       "                                          \n",
       "                  Kappa : 0               \n",
       " Mcnemar's Test P-Value : 1.504e-10       \n",
       "                                          \n",
       "            Sensitivity : 0.0000          \n",
       "            Specificity : 1.0000          \n",
       "         Pos Pred Value :    NaN          \n",
       "         Neg Pred Value : 0.5865          \n",
       "             Prevalence : 0.4135          \n",
       "         Detection Rate : 0.0000          \n",
       "   Detection Prevalence : 0.0000          \n",
       "      Balanced Accuracy : 0.5000          \n",
       "                                          \n",
       "       'Positive' Class : Down            \n",
       "                                          "
      ]
     },
     "metadata": {},
     "output_type": "display_data"
    }
   ],
   "source": [
    "pred.qda = predict(fit.qda, test, type = \"response\")\n",
    "confusionMatrix(pred.qda$class, Direction.test) "
   ]
  },
  {
   "cell_type": "markdown",
   "metadata": {},
   "source": [
    "The above output shows that the overall accuracy of the fitted QDA model is 58.65%, which is lower than the accuracy score yielded by the fitted LDA model. Having a close look at the confusion matrix, you will find that QDA has predicted that all returns would go up, which results in sensitivity is 1.0, and specificity is 0.0."
   ]
  },
  {
   "cell_type": "markdown",
   "metadata": {},
   "source": [
    "### 7 Repeat <font color=\"red\">4</font> using KNN with K = 1.\n",
    "\n",
    "The last classifier that we are going to fit is K-Nearest Neighbor. We are going to use the <a href=\"https://stat.ethz.ch/R-manual/R-devel/library/class/html/knn.html\">knn()</a> function in <font color=\"red\">class</font> library. The KNN classifier first identifies the $K$ points in the training data that are closest to the test observation. Then according to the class labels of the K pints, KNN applies Bayes rule and classifies the test observation to the class with the highest probabilities. See section 2.2.3 of ISLR. "
   ]
  },
  {
   "cell_type": "code",
   "execution_count": 75,
   "metadata": {},
   "outputs": [],
   "source": [
    "library(class)"
   ]
  },
  {
   "cell_type": "code",
   "execution_count": 76,
   "metadata": {},
   "outputs": [
    {
     "data": {
      "text/plain": [
       "Confusion Matrix and Statistics\n",
       "\n",
       "          Reference\n",
       "Prediction Down Up\n",
       "      Down   21 30\n",
       "      Up     22 31\n",
       "                                          \n",
       "               Accuracy : 0.5             \n",
       "                 95% CI : (0.4003, 0.5997)\n",
       "    No Information Rate : 0.5865          \n",
       "    P-Value [Acc > NIR] : 0.9700          \n",
       "                                          \n",
       "                  Kappa : -0.0033         \n",
       " Mcnemar's Test P-Value : 0.3317          \n",
       "                                          \n",
       "            Sensitivity : 0.5082          \n",
       "            Specificity : 0.4884          \n",
       "         Pos Pred Value : 0.5849          \n",
       "         Neg Pred Value : 0.4118          \n",
       "             Prevalence : 0.5865          \n",
       "         Detection Rate : 0.2981          \n",
       "   Detection Prevalence : 0.5096          \n",
       "      Balanced Accuracy : 0.4983          \n",
       "                                          \n",
       "       'Positive' Class : Up              \n",
       "                                          "
      ]
     },
     "metadata": {},
     "output_type": "display_data"
    }
   ],
   "source": [
    "train.X <- as.matrix(Weekly$Lag2[train])\n",
    "test.X <- as.matrix(Weekly$Lag2[!train])\n",
    "train.Direction <- Weekly$Direction[train]\n",
    "set.seed(1)\n",
    "pred.knn <- knn(train.X, test.X, train.Direction, k = 1)\n",
    "confusionMatrix(pred.knn, Direction.test, positive=\"Up\")"
   ]
  },
  {
   "cell_type": "markdown",
   "metadata": {},
   "source": [
    "The accuracy of the fitted KNN model is 50%, no better than random."
   ]
  },
  {
   "cell_type": "markdown",
   "metadata": {},
   "source": [
    "### 8 Which of these methods appears to provide the best results on this data?"
   ]
  },
  {
   "cell_type": "markdown",
   "metadata": {},
   "source": [
    "According to the accuracy rate, <font color=\"red\">fit.glm2</font> and <font color=\"red\">fit.lda</font> models provide the best results in terms of overall accuracy."
   ]
  }
 ],
 "metadata": {
  "kernelspec": {
   "display_name": "R",
   "language": "R",
   "name": "ir"
  },
  "language_info": {
   "codemirror_mode": "r",
   "file_extension": ".r",
   "mimetype": "text/x-r-source",
   "name": "R",
   "pygments_lexer": "r",
   "version": "3.4.4"
  }
 },
 "nbformat": 4,
 "nbformat_minor": 1
}
