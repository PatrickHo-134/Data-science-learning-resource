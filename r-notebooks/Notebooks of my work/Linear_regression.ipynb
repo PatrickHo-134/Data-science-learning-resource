{
 "cells": [
  {
   "cell_type": "markdown",
   "metadata": {},
   "source": [
    "# Linear regression\n",
    "\n",
    "The materials used in this tutorial are based on the applied exercises provided in the book <font color=\"orange\">\"An Introduction to Statistical Learning with Applications in R\"</font> (ISLR). We are trying to demonstrate how to use R to carry out linear regression analysis on real-world datasets. Besides the exercises that we are going to cover in this tutorial, it is worth trying the other applied exercises by yourself."
   ]
  },
  {
   "cell_type": "markdown",
   "metadata": {},
   "source": [
    "## Question 1 Analyzing the Auto data set with Multiple Linear Regression\n",
    "\n",
    "The first question is about applying multiple linear regression to analyzing the **Auto** dataset. You are going to \n",
    "* explore the correlation between variables, \n",
    "* use <a href=\"https://stat.ethz.ch/R-manual/R-devel/library/stats/html/lm.html\">lm()</a> to build a multiple linear regression with <font color=\"orange\">mpg</font> as the response variable. Building the regression model is just one simple step. You will learn to interpret the output of the <font color=\"blue\">lm()</font> function using the <a href=\"https://stat.ethz.ch/R-manual/R-devel/library/base/html/summary.html\">summary()</a> function.\n",
    "* use the <font color=\"blue\">plot()</font> function to produce diagnostic plots, e.g., residual plot and QQ plot.\n",
    "* explore possible interaction between variables\n",
    "* study how different variable transformations will affect the model.\n",
    "\n",
    "Firstly, let's start with importing the <font color=\"red\">ISLR</font> library used in the textbook."
   ]
  },
  {
   "cell_type": "code",
   "execution_count": 1,
   "metadata": {},
   "outputs": [],
   "source": [
    "# install.packages(\"ISLR\", repos='http://cran.us.r-project.org')\n",
    "library(ISLR)"
   ]
  },
  {
   "cell_type": "markdown",
   "metadata": {},
   "source": [
    "Next, the data should be loaded and inspected."
   ]
  },
  {
   "cell_type": "code",
   "execution_count": 2,
   "metadata": {},
   "outputs": [
    {
     "data": {
      "text/html": [
       "<table>\n",
       "<thead><tr><th scope=col>mpg</th><th scope=col>cylinders</th><th scope=col>displacement</th><th scope=col>horsepower</th><th scope=col>weight</th><th scope=col>acceleration</th><th scope=col>year</th><th scope=col>origin</th><th scope=col>name</th></tr></thead>\n",
       "<tbody>\n",
       "\t<tr><td>18                       </td><td>8                        </td><td>307                      </td><td>130                      </td><td>3504                     </td><td>12.0                     </td><td>70                       </td><td>1                        </td><td>chevrolet chevelle malibu</td></tr>\n",
       "\t<tr><td>15                       </td><td>8                        </td><td>350                      </td><td>165                      </td><td>3693                     </td><td>11.5                     </td><td>70                       </td><td>1                        </td><td>buick skylark 320        </td></tr>\n",
       "\t<tr><td>18                       </td><td>8                        </td><td>318                      </td><td>150                      </td><td>3436                     </td><td>11.0                     </td><td>70                       </td><td>1                        </td><td>plymouth satellite       </td></tr>\n",
       "\t<tr><td>16                       </td><td>8                        </td><td>304                      </td><td>150                      </td><td>3433                     </td><td>12.0                     </td><td>70                       </td><td>1                        </td><td>amc rebel sst            </td></tr>\n",
       "\t<tr><td>17                       </td><td>8                        </td><td>302                      </td><td>140                      </td><td>3449                     </td><td>10.5                     </td><td>70                       </td><td>1                        </td><td>ford torino              </td></tr>\n",
       "\t<tr><td>15                       </td><td>8                        </td><td>429                      </td><td>198                      </td><td>4341                     </td><td>10.0                     </td><td>70                       </td><td>1                        </td><td>ford galaxie 500         </td></tr>\n",
       "</tbody>\n",
       "</table>\n"
      ],
      "text/latex": [
       "\\begin{tabular}{r|lllllllll}\n",
       " mpg & cylinders & displacement & horsepower & weight & acceleration & year & origin & name\\\\\n",
       "\\hline\n",
       "\t 18                        & 8                         & 307                       & 130                       & 3504                      & 12.0                      & 70                        & 1                         & chevrolet chevelle malibu\\\\\n",
       "\t 15                        & 8                         & 350                       & 165                       & 3693                      & 11.5                      & 70                        & 1                         & buick skylark 320        \\\\\n",
       "\t 18                        & 8                         & 318                       & 150                       & 3436                      & 11.0                      & 70                        & 1                         & plymouth satellite       \\\\\n",
       "\t 16                        & 8                         & 304                       & 150                       & 3433                      & 12.0                      & 70                        & 1                         & amc rebel sst            \\\\\n",
       "\t 17                        & 8                         & 302                       & 140                       & 3449                      & 10.5                      & 70                        & 1                         & ford torino              \\\\\n",
       "\t 15                        & 8                         & 429                       & 198                       & 4341                      & 10.0                      & 70                        & 1                         & ford galaxie 500         \\\\\n",
       "\\end{tabular}\n"
      ],
      "text/markdown": [
       "\n",
       "mpg | cylinders | displacement | horsepower | weight | acceleration | year | origin | name | \n",
       "|---|---|---|---|---|---|\n",
       "| 18                        | 8                         | 307                       | 130                       | 3504                      | 12.0                      | 70                        | 1                         | chevrolet chevelle malibu | \n",
       "| 15                        | 8                         | 350                       | 165                       | 3693                      | 11.5                      | 70                        | 1                         | buick skylark 320         | \n",
       "| 18                        | 8                         | 318                       | 150                       | 3436                      | 11.0                      | 70                        | 1                         | plymouth satellite        | \n",
       "| 16                        | 8                         | 304                       | 150                       | 3433                      | 12.0                      | 70                        | 1                         | amc rebel sst             | \n",
       "| 17                        | 8                         | 302                       | 140                       | 3449                      | 10.5                      | 70                        | 1                         | ford torino               | \n",
       "| 15                        | 8                         | 429                       | 198                       | 4341                      | 10.0                      | 70                        | 1                         | ford galaxie 500          | \n",
       "\n",
       "\n"
      ],
      "text/plain": [
       "  mpg cylinders displacement horsepower weight acceleration year origin\n",
       "1 18  8         307          130        3504   12.0         70   1     \n",
       "2 15  8         350          165        3693   11.5         70   1     \n",
       "3 18  8         318          150        3436   11.0         70   1     \n",
       "4 16  8         304          150        3433   12.0         70   1     \n",
       "5 17  8         302          140        3449   10.5         70   1     \n",
       "6 15  8         429          198        4341   10.0         70   1     \n",
       "  name                     \n",
       "1 chevrolet chevelle malibu\n",
       "2 buick skylark 320        \n",
       "3 plymouth satellite       \n",
       "4 amc rebel sst            \n",
       "5 ford torino              \n",
       "6 ford galaxie 500         "
      ]
     },
     "metadata": {},
     "output_type": "display_data"
    }
   ],
   "source": [
    "# If you downloaded and stored the CSV locally in your computer\n",
    "# Auto = read.csv(\"Auto.csv\", header = T, na.strings = \"?\")\n",
    "# If not, you can use the read.csv() function to read the file directly from the web.\n",
    "Auto = read.csv(\"http://www-bcf.usc.edu/~gareth/ISL/Auto.csv\", header = T, na.strings = \"?\")\n",
    "Auto = na.omit(Auto) # if there are missing values.\n",
    "head(Auto)"
   ]
  },
  {
   "cell_type": "markdown",
   "metadata": {},
   "source": [
    "The dataset contains 392 observations on the following 9 variables. (The following detail is copied and pasted from <a href=\"https://cran.r-project.org/web/packages/ISLR/ISLR.pdf\">here</a>)\n",
    "* <font color=\"orange\">mpg</font> miles per gallon\n",
    "* <font color=\"orange\">cylinders</font> Number of cylinders between 4 and 8 displacement Engine displacement (cu. inches)\n",
    "* <font color=\"orange\">horsepower</font> Engine horsepower\n",
    "* <font color=\"orange\">weight</font> Vehicle weight (lbs.)\n",
    "* <font color=\"orange\">acceleration</font> Time to accelerate from 0 to 60 mph (sec.)\n",
    "* <font color=\"orange\">year</font> Model year (modulo 100)\n",
    "* <font color=\"orange\">origin</font> Origin of car (1. American, 2. European, 3. Japanese)\n",
    "* <font color=\"orange\">name</font> Vehicle name\n",
    "\n",
    "Assume that we are not interested in <font color=\"orange\">name</font>. \n",
    "Here, <font color=\"orange\">name</font> is actually a categorical variable. In the following task, we will not use it, so here we delete it from the dataframe. It is quite simple to delete the columns that you don't want. "
   ]
  },
  {
   "cell_type": "code",
   "execution_count": 3,
   "metadata": {},
   "outputs": [],
   "source": [
    "Auto$name = NULL # drop name"
   ]
  },
  {
   "cell_type": "code",
   "execution_count": 4,
   "metadata": {},
   "outputs": [
    {
     "data": {
      "text/html": [
       "<table>\n",
       "<thead><tr><th scope=col>mpg</th><th scope=col>cylinders</th><th scope=col>displacement</th><th scope=col>horsepower</th><th scope=col>weight</th><th scope=col>acceleration</th><th scope=col>year</th><th scope=col>origin</th></tr></thead>\n",
       "<tbody>\n",
       "\t<tr><td>18  </td><td>8   </td><td>307 </td><td>130 </td><td>3504</td><td>12.0</td><td>70  </td><td>1   </td></tr>\n",
       "\t<tr><td>15  </td><td>8   </td><td>350 </td><td>165 </td><td>3693</td><td>11.5</td><td>70  </td><td>1   </td></tr>\n",
       "\t<tr><td>18  </td><td>8   </td><td>318 </td><td>150 </td><td>3436</td><td>11.0</td><td>70  </td><td>1   </td></tr>\n",
       "\t<tr><td>16  </td><td>8   </td><td>304 </td><td>150 </td><td>3433</td><td>12.0</td><td>70  </td><td>1   </td></tr>\n",
       "\t<tr><td>17  </td><td>8   </td><td>302 </td><td>140 </td><td>3449</td><td>10.5</td><td>70  </td><td>1   </td></tr>\n",
       "\t<tr><td>15  </td><td>8   </td><td>429 </td><td>198 </td><td>4341</td><td>10.0</td><td>70  </td><td>1   </td></tr>\n",
       "</tbody>\n",
       "</table>\n"
      ],
      "text/latex": [
       "\\begin{tabular}{r|llllllll}\n",
       " mpg & cylinders & displacement & horsepower & weight & acceleration & year & origin\\\\\n",
       "\\hline\n",
       "\t 18   & 8    & 307  & 130  & 3504 & 12.0 & 70   & 1   \\\\\n",
       "\t 15   & 8    & 350  & 165  & 3693 & 11.5 & 70   & 1   \\\\\n",
       "\t 18   & 8    & 318  & 150  & 3436 & 11.0 & 70   & 1   \\\\\n",
       "\t 16   & 8    & 304  & 150  & 3433 & 12.0 & 70   & 1   \\\\\n",
       "\t 17   & 8    & 302  & 140  & 3449 & 10.5 & 70   & 1   \\\\\n",
       "\t 15   & 8    & 429  & 198  & 4341 & 10.0 & 70   & 1   \\\\\n",
       "\\end{tabular}\n"
      ],
      "text/markdown": [
       "\n",
       "mpg | cylinders | displacement | horsepower | weight | acceleration | year | origin | \n",
       "|---|---|---|---|---|---|\n",
       "| 18   | 8    | 307  | 130  | 3504 | 12.0 | 70   | 1    | \n",
       "| 15   | 8    | 350  | 165  | 3693 | 11.5 | 70   | 1    | \n",
       "| 18   | 8    | 318  | 150  | 3436 | 11.0 | 70   | 1    | \n",
       "| 16   | 8    | 304  | 150  | 3433 | 12.0 | 70   | 1    | \n",
       "| 17   | 8    | 302  | 140  | 3449 | 10.5 | 70   | 1    | \n",
       "| 15   | 8    | 429  | 198  | 4341 | 10.0 | 70   | 1    | \n",
       "\n",
       "\n"
      ],
      "text/plain": [
       "  mpg cylinders displacement horsepower weight acceleration year origin\n",
       "1 18  8         307          130        3504   12.0         70   1     \n",
       "2 15  8         350          165        3693   11.5         70   1     \n",
       "3 18  8         318          150        3436   11.0         70   1     \n",
       "4 16  8         304          150        3433   12.0         70   1     \n",
       "5 17  8         302          140        3449   10.5         70   1     \n",
       "6 15  8         429          198        4341   10.0         70   1     "
      ]
     },
     "metadata": {},
     "output_type": "display_data"
    }
   ],
   "source": [
    "head(Auto)"
   ]
  },
  {
   "cell_type": "markdown",
   "metadata": {},
   "source": [
    "You see that we always check the data after each manipulation, which is a very good practice in real data analysis. You should always be aware of what your data looks like.\n",
    "\n",
    "We can have a look at the structure of <font color=\"orange\">Auto</font> using the <a href=\"https://stat.ethz.ch/R-manual/R-devel/library/utils/html/str.html\">str()</a> function. The function will give us information of the data that you should know. For example, the data type of each column, the total number of observations, the total number of variables, etc."
   ]
  },
  {
   "cell_type": "code",
   "execution_count": 5,
   "metadata": {},
   "outputs": [
    {
     "name": "stdout",
     "output_type": "stream",
     "text": [
      "'data.frame':\t392 obs. of  8 variables:\n",
      " $ mpg         : num  18 15 18 16 17 15 14 14 14 15 ...\n",
      " $ cylinders   : int  8 8 8 8 8 8 8 8 8 8 ...\n",
      " $ displacement: num  307 350 318 304 302 429 454 440 455 390 ...\n",
      " $ horsepower  : int  130 165 150 150 140 198 220 215 225 190 ...\n",
      " $ weight      : int  3504 3693 3436 3433 3449 4341 4354 4312 4425 3850 ...\n",
      " $ acceleration: num  12 11.5 11 12 10.5 10 9 8.5 10 8.5 ...\n",
      " $ year        : int  70 70 70 70 70 70 70 70 70 70 ...\n",
      " $ origin      : int  1 1 1 1 1 1 1 1 1 1 ...\n",
      " - attr(*, \"na.action\")=Class 'omit'  Named int [1:5] 33 127 331 337 355\n",
      "  .. ..- attr(*, \"names\")= chr [1:5] \"33\" \"127\" \"331\" \"337\" ...\n"
     ]
    }
   ],
   "source": [
    "str(Auto)"
   ]
  },
  {
   "cell_type": "markdown",
   "metadata": {},
   "source": [
    "### 1.1 Produce a scatter plot matrix which includes all of the variables in the data set. \n",
    "In this task, you are going to generate pairwise scatter plots to explore the relationship between any two variables. The function that you will use is <a href=\"https://stat.ethz.ch/R-manual/R-devel/library/graphics/html/pairs.html\">pairs()</a> to see its documentation, where you can find the specification of each argument. Click the hyper-link. You will find the API documentation of this function."
   ]
  },
  {
   "cell_type": "code",
   "execution_count": 7,
   "metadata": {},
   "outputs": [
    {
     "data": {
      "image/png": "[encoded data removed]",
      "text/plain": [
       "plot without title"
      ]
     },
     "metadata": {},
     "output_type": "display_data"
    }
   ],
   "source": [
    "pairs(Auto)"
   ]
  },
  {
   "cell_type": "markdown",
   "metadata": {},
   "source": [
    "Try to explain the plots by finding some interesting relationships. For example, you will find \n",
    " * a negative correlation between <font color='orange'>mpg</font> and  <font color='orange'>horsepower</font>\n",
    " * a positive correlation between  <font color='orange'>horsepower</font> and  <font color='orange'>weight</font>\n",
    " \n",
    "You will find that pairwise scatter plots reveals a lot of information that we need while we are developing our model."
   ]
  },
  {
   "cell_type": "markdown",
   "metadata": {},
   "source": [
    "### 1.2 Compute the matrix of correlations between the variables using the function cor(). \n",
    "In the previous task, we explore the relationship between two variable with scatter plots. Now, the question is whether or not we can quantify the correlation between each pair of variables. Here we are going to use the <a href=\"https://stat.ethz.ch/R-manual/R-devel/library/stats/html/cor.html\">cor()</a>, which will generate a square matrix, where columns and rows are variables in the dataset. "
   ]
  },
  {
   "cell_type": "code",
   "execution_count": 8,
   "metadata": {},
   "outputs": [
    {
     "data": {
      "text/html": [
       "<table>\n",
       "<thead><tr><th></th><th scope=col>mpg</th><th scope=col>cylinders</th><th scope=col>displacement</th><th scope=col>horsepower</th><th scope=col>weight</th><th scope=col>acceleration</th><th scope=col>year</th><th scope=col>origin</th></tr></thead>\n",
       "<tbody>\n",
       "\t<tr><th scope=row>mpg</th><td> 1.0000000</td><td>-0.7776175</td><td>-0.8051269</td><td>-0.7784268</td><td>-0.8322442</td><td> 0.4233285</td><td> 0.5805410</td><td> 0.5652088</td></tr>\n",
       "\t<tr><th scope=row>cylinders</th><td>-0.7776175</td><td> 1.0000000</td><td> 0.9508233</td><td> 0.8429834</td><td> 0.8975273</td><td>-0.5046834</td><td>-0.3456474</td><td>-0.5689316</td></tr>\n",
       "\t<tr><th scope=row>displacement</th><td>-0.8051269</td><td> 0.9508233</td><td> 1.0000000</td><td> 0.8972570</td><td> 0.9329944</td><td>-0.5438005</td><td>-0.3698552</td><td>-0.6145351</td></tr>\n",
       "\t<tr><th scope=row>horsepower</th><td>-0.7784268</td><td> 0.8429834</td><td> 0.8972570</td><td> 1.0000000</td><td> 0.8645377</td><td>-0.6891955</td><td>-0.4163615</td><td>-0.4551715</td></tr>\n",
       "\t<tr><th scope=row>weight</th><td>-0.8322442</td><td> 0.8975273</td><td> 0.9329944</td><td> 0.8645377</td><td> 1.0000000</td><td>-0.4168392</td><td>-0.3091199</td><td>-0.5850054</td></tr>\n",
       "\t<tr><th scope=row>acceleration</th><td> 0.4233285</td><td>-0.5046834</td><td>-0.5438005</td><td>-0.6891955</td><td>-0.4168392</td><td> 1.0000000</td><td> 0.2903161</td><td> 0.2127458</td></tr>\n",
       "\t<tr><th scope=row>year</th><td> 0.5805410</td><td>-0.3456474</td><td>-0.3698552</td><td>-0.4163615</td><td>-0.3091199</td><td> 0.2903161</td><td> 1.0000000</td><td> 0.1815277</td></tr>\n",
       "\t<tr><th scope=row>origin</th><td> 0.5652088</td><td>-0.5689316</td><td>-0.6145351</td><td>-0.4551715</td><td>-0.5850054</td><td> 0.2127458</td><td> 0.1815277</td><td> 1.0000000</td></tr>\n",
       "</tbody>\n",
       "</table>\n"
      ],
      "text/latex": [
       "\\begin{tabular}{r|llllllll}\n",
       "  & mpg & cylinders & displacement & horsepower & weight & acceleration & year & origin\\\\\n",
       "\\hline\n",
       "\tmpg &  1.0000000 & -0.7776175 & -0.8051269 & -0.7784268 & -0.8322442 &  0.4233285 &  0.5805410 &  0.5652088\\\\\n",
       "\tcylinders & -0.7776175 &  1.0000000 &  0.9508233 &  0.8429834 &  0.8975273 & -0.5046834 & -0.3456474 & -0.5689316\\\\\n",
       "\tdisplacement & -0.8051269 &  0.9508233 &  1.0000000 &  0.8972570 &  0.9329944 & -0.5438005 & -0.3698552 & -0.6145351\\\\\n",
       "\thorsepower & -0.7784268 &  0.8429834 &  0.8972570 &  1.0000000 &  0.8645377 & -0.6891955 & -0.4163615 & -0.4551715\\\\\n",
       "\tweight & -0.8322442 &  0.8975273 &  0.9329944 &  0.8645377 &  1.0000000 & -0.4168392 & -0.3091199 & -0.5850054\\\\\n",
       "\tacceleration &  0.4233285 & -0.5046834 & -0.5438005 & -0.6891955 & -0.4168392 &  1.0000000 &  0.2903161 &  0.2127458\\\\\n",
       "\tyear &  0.5805410 & -0.3456474 & -0.3698552 & -0.4163615 & -0.3091199 &  0.2903161 &  1.0000000 &  0.1815277\\\\\n",
       "\torigin &  0.5652088 & -0.5689316 & -0.6145351 & -0.4551715 & -0.5850054 &  0.2127458 &  0.1815277 &  1.0000000\\\\\n",
       "\\end{tabular}\n"
      ],
      "text/markdown": [
       "\n",
       "| <!--/--> | mpg | cylinders | displacement | horsepower | weight | acceleration | year | origin | \n",
       "|---|---|---|---|---|---|---|---|\n",
       "| mpg |  1.0000000 | -0.7776175 | -0.8051269 | -0.7784268 | -0.8322442 |  0.4233285 |  0.5805410 |  0.5652088 | \n",
       "| cylinders | -0.7776175 |  1.0000000 |  0.9508233 |  0.8429834 |  0.8975273 | -0.5046834 | -0.3456474 | -0.5689316 | \n",
       "| displacement | -0.8051269 |  0.9508233 |  1.0000000 |  0.8972570 |  0.9329944 | -0.5438005 | -0.3698552 | -0.6145351 | \n",
       "| horsepower | -0.7784268 |  0.8429834 |  0.8972570 |  1.0000000 |  0.8645377 | -0.6891955 | -0.4163615 | -0.4551715 | \n",
       "| weight | -0.8322442 |  0.8975273 |  0.9329944 |  0.8645377 |  1.0000000 | -0.4168392 | -0.3091199 | -0.5850054 | \n",
       "| acceleration |  0.4233285 | -0.5046834 | -0.5438005 | -0.6891955 | -0.4168392 |  1.0000000 |  0.2903161 |  0.2127458 | \n",
       "| year |  0.5805410 | -0.3456474 | -0.3698552 | -0.4163615 | -0.3091199 |  0.2903161 |  1.0000000 |  0.1815277 | \n",
       "| origin |  0.5652088 | -0.5689316 | -0.6145351 | -0.4551715 | -0.5850054 |  0.2127458 |  0.1815277 |  1.0000000 | \n",
       "\n",
       "\n"
      ],
      "text/plain": [
       "             mpg        cylinders  displacement horsepower weight    \n",
       "mpg           1.0000000 -0.7776175 -0.8051269   -0.7784268 -0.8322442\n",
       "cylinders    -0.7776175  1.0000000  0.9508233    0.8429834  0.8975273\n",
       "displacement -0.8051269  0.9508233  1.0000000    0.8972570  0.9329944\n",
       "horsepower   -0.7784268  0.8429834  0.8972570    1.0000000  0.8645377\n",
       "weight       -0.8322442  0.8975273  0.9329944    0.8645377  1.0000000\n",
       "acceleration  0.4233285 -0.5046834 -0.5438005   -0.6891955 -0.4168392\n",
       "year          0.5805410 -0.3456474 -0.3698552   -0.4163615 -0.3091199\n",
       "origin        0.5652088 -0.5689316 -0.6145351   -0.4551715 -0.5850054\n",
       "             acceleration year       origin    \n",
       "mpg           0.4233285    0.5805410  0.5652088\n",
       "cylinders    -0.5046834   -0.3456474 -0.5689316\n",
       "displacement -0.5438005   -0.3698552 -0.6145351\n",
       "horsepower   -0.6891955   -0.4163615 -0.4551715\n",
       "weight       -0.4168392   -0.3091199 -0.5850054\n",
       "acceleration  1.0000000    0.2903161  0.2127458\n",
       "year          0.2903161    1.0000000  0.1815277\n",
       "origin        0.2127458    0.1815277  1.0000000"
      ]
     },
     "metadata": {},
     "output_type": "display_data"
    }
   ],
   "source": [
    "cor(Auto)"
   ]
  },
  {
   "cell_type": "markdown",
   "metadata": {},
   "source": [
    "In the matrix, we will see that some values are positive and the other are negative, and all the values are in the range of -1 to +1. What do the values mean?\n",
    "\n",
    "* A positive value indicates two variables are positively correlated. That is to say, for any two variables X and Y, an increase in X is associated with an increase in Y as well. The bigger the value, the stronger the positive correlation. 1 shows a perfect, linear positive correlation.\n",
    "* Zero indicates there is no correlation between two variables.\n",
    "* A negative value indicates two variables are negatively correlated. In other words, for any two variables X and Y, an increase in X is associated with a decrease in Y. -1 shows a perfect, linear negative correlation.\n",
    "\n",
    "For more information, please read the following two webpages.\n",
    " 1. What does a negative correlation coefficient mean?  http://www.investopedia.com/ask/answers/041015/what-does-negative-correlation-coefficient-mean.asp#ixzz4GVtQC8Eu \n",
    " 2. What does a negative correlation coefficient mean?  http://www.investopedia.com/ask/answers/041015/what-does-negative-correlation-coefficient-mean.asp#ixzz4GVtIDfM3 \n",
    "\n",
    "We can also visualize the correlation matrix. The R library we are going to use is <a href=\"https://stat.ethz.ch/R-manual/R-devel/library/lattice/html/Lattice.html\">lattice</a>. (Click the hyper-link and see more details of the lattice package, and look for <font color= \"blue\">levelplot()</font>). Here you are going to use the <font color= \"blue\">levelplot()</font> function by passing the output of the <font color= \"blue\">cor()</font> function as an argument."
   ]
  },
  {
   "cell_type": "code",
   "execution_count": 9,
   "metadata": {},
   "outputs": [],
   "source": [
    "library(lattice)"
   ]
  },
  {
   "cell_type": "code",
   "execution_count": 10,
   "metadata": {},
   "outputs": [
    {
     "data": {},
     "metadata": {},
     "output_type": "display_data"
    },
    {
     "data": {
      "image/png": "[encoded data removed]",
      "text/plain": [
       "plot without title"
      ]
     },
     "metadata": {},
     "output_type": "display_data"
    }
   ],
   "source": [
    "levelplot(cor(Auto))"
   ]
  },
  {
   "cell_type": "markdown",
   "metadata": {},
   "source": [
    "The above plot shows that some variables are either positively or negatively correlated. \n",
    "We can also add the quantified correlation values to the plot, change the color scheme, add a title, etc."
   ]
  },
  {
   "cell_type": "markdown",
   "metadata": {},
   "source": [
    "### 1.3 Use the lm() function to perform a multiple linear regression with mpg as the response and all other variables as the predictors.\n",
    "\n",
    "In this task, we are going to build a multiple linear regression model to predict <font color='orange'>mpg</font> (miles per gallon) by using all the other variables as predictors. By interpreting the results given by the <font color=\"blue\">summary()</font>, you should be able to answer the following questions \n",
    "* Is there a relationship between the predictors and the response?\n",
    "* Which predictors appear to have a statistically significant relationship to the response?\n",
    "* What does the coefficient for the year variable suggest?\n",
    "\n",
    "Let's build the regression model with the <a href=\"https://stat.ethz.ch/R-manual/R-devel/library/stats/html/lm.html\">lm()</a> function. The formula is \"<font color=\"red\">mpg~.</a>\""
   ]
  },
  {
   "cell_type": "code",
   "execution_count": 11,
   "metadata": {},
   "outputs": [],
   "source": [
    "my_fit = lm(mpg~., data = Auto, method = \"qr\")"
   ]
  },
  {
   "cell_type": "markdown",
   "metadata": {},
   "source": [
    "where <font color=\"red\">\"mpg~.\"</font> means the model regresses <font color=\"orange\">mpg</font> on all the other variables. Now, we can print the result of our model with the <font color=\"blue\">summary()</font> function"
   ]
  },
  {
   "cell_type": "code",
   "execution_count": 12,
   "metadata": {},
   "outputs": [
    {
     "data": {
      "text/plain": [
       "\n",
       "Call:\n",
       "lm(formula = mpg ~ ., data = Auto, method = \"qr\")\n",
       "\n",
       "Residuals:\n",
       "    Min      1Q  Median      3Q     Max \n",
       "-9.5903 -2.1565 -0.1169  1.8690 13.0604 \n",
       "\n",
       "Coefficients:\n",
       "               Estimate Std. Error t value Pr(>|t|)    \n",
       "(Intercept)  -17.218435   4.644294  -3.707  0.00024 ***\n",
       "cylinders     -0.493376   0.323282  -1.526  0.12780    \n",
       "displacement   0.019896   0.007515   2.647  0.00844 ** \n",
       "horsepower    -0.016951   0.013787  -1.230  0.21963    \n",
       "weight        -0.006474   0.000652  -9.929  < 2e-16 ***\n",
       "acceleration   0.080576   0.098845   0.815  0.41548    \n",
       "year           0.750773   0.050973  14.729  < 2e-16 ***\n",
       "origin         1.426141   0.278136   5.127 4.67e-07 ***\n",
       "---\n",
       "Signif. codes:  0 '***' 0.001 '**' 0.01 '*' 0.05 '.' 0.1 ' ' 1\n",
       "\n",
       "Residual standard error: 3.328 on 384 degrees of freedom\n",
       "Multiple R-squared:  0.8215,\tAdjusted R-squared:  0.8182 \n",
       "F-statistic: 252.4 on 7 and 384 DF,  p-value: < 2.2e-16\n"
      ]
     },
     "metadata": {},
     "output_type": "display_data"
    }
   ],
   "source": [
    "summary(my_fit)"
   ]
  },
  {
   "cell_type": "markdown",
   "metadata": {},
   "source": [
    "The output contains: residuals, coefficients, residual standard error, $R^2$, and F-statistic. They are the statistics that you need to assess the accuracy of your model. \n",
    "\n",
    "For example, the p-values shows that there is not a statistically significant relationship between <font color='orange'>mpg</font> and <font color='orange'>horsepower</font>, and between <font color='orange'>mpg</font> and <font color='orange'>acceleration</font>. In this case, we might choose to exclude the variables in the model."
   ]
  },
  {
   "cell_type": "code",
   "execution_count": 13,
   "metadata": {},
   "outputs": [
    {
     "data": {
      "text/plain": [
       "\n",
       "Call:\n",
       "lm(formula = mpg ~ ., data = subset(Auto, select = c(-horsepower, \n",
       "    -acceleration)))\n",
       "\n",
       "Residuals:\n",
       "     Min       1Q   Median       3Q      Max \n",
       "-10.0622  -2.0922  -0.0593   1.8165  13.2758 \n",
       "\n",
       "Coefficients:\n",
       "               Estimate Std. Error t value Pr(>|t|)    \n",
       "(Intercept)  -1.781e+01  4.070e+00  -4.375 1.57e-05 ***\n",
       "cylinders    -4.240e-01  3.221e-01  -1.316   0.1889    \n",
       "displacement  1.176e-02  6.685e-03   1.759   0.0793 .  \n",
       "weight       -6.506e-03  5.591e-04 -11.637  < 2e-16 ***\n",
       "year          7.724e-01  4.977e-02  15.518  < 2e-16 ***\n",
       "origin        1.250e+00  2.673e-01   4.676 4.05e-06 ***\n",
       "---\n",
       "Signif. codes:  0 '***' 0.001 '**' 0.01 '*' 0.05 '.' 0.1 ' ' 1\n",
       "\n",
       "Residual standard error: 3.343 on 386 degrees of freedom\n",
       "Multiple R-squared:  0.8189,\tAdjusted R-squared:  0.8166 \n",
       "F-statistic: 349.1 on 5 and 386 DF,  p-value: < 2.2e-16\n"
      ]
     },
     "metadata": {},
     "output_type": "display_data"
    }
   ],
   "source": [
    "summary(lm(mpg~., data = subset(Auto, select=c( -horsepower, -acceleration ))))"
   ]
  },
  {
   "cell_type": "markdown",
   "metadata": {},
   "source": [
    "There are many other ways of excluding specific set of variable from your linear model. For example,\n",
    "```R\n",
    "summary(lm(mpg~.-horsepower-acceleration, data = Auto))\n",
    "```\n",
    "\n",
    "Actually, you can compare the two summaries from the full model and the one excluding <font color=\"orange\">horsepower</font> and <font color='orange'>acceleration</font>. The Adjusted R-squared for the full model is 0.8182, the one for the second model is 0.8166. There is not much difference between the two values. In other words, excluding the two variables makes the model simple but without losing the modeling accuracy.\n",
    "\n",
    "Let's look at the F-statistic. F-statistic is a good indicator of whether there is a relationship between our predictor and the response variables. The further the F-statistic is from 1 the better it is.\n",
    "The p-values shows that both models are statistically different from the constant model.  "
   ]
  },
  {
   "cell_type": "markdown",
   "metadata": {},
   "source": [
    "### 1.4 Use the plot() function to produce diagnostic plots of the linear regression fit.\n",
    "In this task, we will further diagnose your linear model with different plot. As discussed in the lecture, we need to check the following assumptions:\n",
    "* <font color=\"red\">Constant variance</font>\n",
    "* <font color=\"red\">linearity</font> \n",
    "* <font color=\"red\">Normality</font>\n",
    "\n",
    "\n",
    "In order to do so, we need the <font color = \"blue\">plot()</font> function. Without specifying which plot to show, the function will give us four diagnostic plots as follows. The argument should be the object returned by lm(). "
   ]
  },
  {
   "cell_type": "code",
   "execution_count": 14,
   "metadata": {
    "scrolled": false
   },
   "outputs": [
    {
     "data": {
      "image/png": "[encoded data removed]",
      "text/plain": [
       "Plot with title \"\""
      ]
     },
     "metadata": {},
     "output_type": "display_data"
    }
   ],
   "source": [
    "par(mfcol=c(2,2)) # generate 2*2 plots\n",
    "plot(my_fit)"
   ]
  },
  {
   "cell_type": "markdown",
   "metadata": {},
   "source": [
    "The diagnostic plots show residuals in four different ways.\n",
    "\n",
    "1. The **residual vs fitted plot**: This plot is used to check the linear assumption. It shows if residuals have non-linear patterns. If you find equally spread residuals around a horizontal line without distinct patterns, that is a good indication you have linear relationships. However, if the relationship between predictors and an response variable is non-linear, an obvious pattern could show up in this plot if the model cannot capture the non-linearity. The first plot above shows that there could be a non-linear relationship between <font color='orange'>mpg </font>and all the predictors, as the residuals are not scattered evenly.\n",
    "* The normal **Q-Q plot**: The Q-Q plot (i.e., quantile-quantile plot) is a graphical tool to help us assess if a set of data plausibly came from some theoretical distribution such as a Normal. For example, if we run a statistical analysis that assumes our dependent variable is Normally distributed, we can use a Normal Q-Q plot to check that assumption. In the case of linear regression analysis, we assume that residual is normally distributed with constant variance and mean equal to zero. The normal Q-Q plot shows if residuals are normally distributed. Do residuals follow a straight line well or do they deviate severely? It is good if residuals are lined well on the straight dashed line.  What do you think about the normal Q-Q plot above? Of course it cannot be a perfect straight line and this will be your call. it seems that the residuals are distributed normally. \n",
    "* The **scale-location plot**: It is used to check the assumption of equal variance by showing if residuals are spread equally along the ranges of predictors. It is good if we can see a horizontal line with equally (randomly) spread points. The scale-location plot shows that the residuals appear randomly spread.\n",
    "\n",
    "* The **residual-leverage plot**: it helps us identify influential data samples. Not all outliers are influential in linear regression analysis. Here we care about the samples that are influential to determine the regression line. These samples can very influential even if they look to be within a reasonable range of the values. They can alter the results if we exclude them from analysis. In the residual-leverage plot, we look for outlying values at the upper right corner or at the lower right corner. Samples located in those places can be influential against a regression line. How do we identify those samples? We usually use Cook’s distance, indicated by a red dash line. When samples are outside of the Cook’s distance (i.e, they have high Cook’s distance scores, Cook’s distance measures how much the entire regression function changes when the i-th case is deleted.), the samples are influential to the regression results. The regression results will be altered if we exclude those samples. The fourth plot shows some outliers, such as 14. However, we can barely see Cook’s distance lines because all cases are well inside of the Cook’s distance lines. Therefore no influential cases are observed."
   ]
  },
  {
   "cell_type": "markdown",
   "metadata": {},
   "source": [
    "You can also choose to just show one of the four plots. For example, if you would like to print the residual plot for the residual analysis, add one more argument to the plot() function, which is \"<font color=\"red\">which = 1</font>\"."
   ]
  },
  {
   "cell_type": "code",
   "execution_count": 15,
   "metadata": {},
   "outputs": [
    {
     "data": {
      "image/png": "[encoded data removed]",
      "text/plain": [
       "Plot with title \"\""
      ]
     },
     "metadata": {},
     "output_type": "display_data"
    }
   ],
   "source": [
    "plot(my_fit, which=1)"
   ]
  },
  {
   "cell_type": "markdown",
   "metadata": {},
   "source": [
    "### 1.5 Use the \":\" symbol to fit linear regression models with interaction effects.\n",
    "Do any interactions appear to be statistically significant? Here we would like to explore some possible interaction between variables. For example, let's try to check whether or not the interaction between <font color=\"orange\">horsepower</font> and <font color=\"orange\">weight</font> can affect the model accuracy. Instead of listing all the predictors, we can update the linear model fitted in Question 1.3. The function that you are going to use is <a href=\"https://stat.ethz.ch/R-manual/R-devel/library/stats/html/update.html\">update()</a>."
   ]
  },
  {
   "cell_type": "code",
   "execution_count": 35,
   "metadata": {},
   "outputs": [
    {
     "data": {
      "text/plain": [
       "\n",
       "Call:\n",
       "lm(formula = mpg ~ cylinders + displacement + horsepower + weight + \n",
       "    acceleration + year + origin + horsepower:weight, data = Auto, \n",
       "    method = \"qr\")\n",
       "\n",
       "Residuals:\n",
       "   Min     1Q Median     3Q    Max \n",
       "-8.589 -1.617 -0.184  1.541 12.001 \n",
       "\n",
       "Coefficients:\n",
       "                    Estimate Std. Error t value Pr(>|t|)    \n",
       "(Intercept)        2.876e+00  4.511e+00   0.638 0.524147    \n",
       "cylinders         -2.955e-02  2.881e-01  -0.103 0.918363    \n",
       "displacement       5.950e-03  6.750e-03   0.881 0.378610    \n",
       "horsepower        -2.313e-01  2.363e-02  -9.791  < 2e-16 ***\n",
       "weight            -1.121e-02  7.285e-04 -15.393  < 2e-16 ***\n",
       "acceleration      -9.019e-02  8.855e-02  -1.019 0.309081    \n",
       "year               7.695e-01  4.494e-02  17.124  < 2e-16 ***\n",
       "origin             8.344e-01  2.513e-01   3.320 0.000986 ***\n",
       "horsepower:weight  5.529e-05  5.227e-06  10.577  < 2e-16 ***\n",
       "---\n",
       "Signif. codes:  0 '***' 0.001 '**' 0.01 '*' 0.05 '.' 0.1 ' ' 1\n",
       "\n",
       "Residual standard error: 2.931 on 383 degrees of freedom\n",
       "Multiple R-squared:  0.8618,\tAdjusted R-squared:  0.859 \n",
       "F-statistic: 298.6 on 8 and 383 DF,  p-value: < 2.2e-16\n"
      ]
     },
     "metadata": {},
     "output_type": "display_data"
    }
   ],
   "source": [
    "my_fit.update <- update(my_fit, .~. + horsepower:weight)\n",
    "summary(my_fit.update)"
   ]
  },
  {
   "cell_type": "markdown",
   "metadata": {},
   "source": [
    "You can compare the summary above with that generated by the model without the interaction terms. You will find the model with the interaction term explains more variation of the data than the one without interaction, see the Adjusted R-squared score.\n",
    "\n",
    "We can also use the <a href=\"https://stat.ethz.ch/R-manual/R-devel/library/stats/html/anova.lm.html\">anova()</a> function to compare models. Note that the <font color=\"blue\">anova()</font> function has one strong requirement when comparing two models: <font color=\"red\">one model must be contained within the other</font>. In other words, all the terms of the smaller model must appear in the larger model. Otherwise, the comparison is impossible."
   ]
  },
  {
   "cell_type": "code",
   "execution_count": 36,
   "metadata": {
    "scrolled": true
   },
   "outputs": [
    {
     "data": {
      "text/html": [
       "<table>\n",
       "<thead><tr><th scope=col>Res.Df</th><th scope=col>RSS</th><th scope=col>Df</th><th scope=col>Sum of Sq</th><th scope=col>F</th><th scope=col>Pr(&gt;F)</th></tr></thead>\n",
       "<tbody>\n",
       "\t<tr><td>383        </td><td>3290.884   </td><td>NA         </td><td>       NA  </td><td>      NA   </td><td>         NA</td></tr>\n",
       "\t<tr><td>384        </td><td>4252.213   </td><td>-1         </td><td>-961.3283  </td><td>111.8814   </td><td>4.11858e-23</td></tr>\n",
       "</tbody>\n",
       "</table>\n"
      ],
      "text/latex": [
       "\\begin{tabular}{r|llllll}\n",
       " Res.Df & RSS & Df & Sum of Sq & F & Pr(>F)\\\\\n",
       "\\hline\n",
       "\t 383         & 3290.884    & NA          &        NA   &       NA    &          NA\\\\\n",
       "\t 384         & 4252.213    & -1          & -961.3283   & 111.8814    & 4.11858e-23\\\\\n",
       "\\end{tabular}\n"
      ],
      "text/markdown": [
       "\n",
       "Res.Df | RSS | Df | Sum of Sq | F | Pr(>F) | \n",
       "|---|---|\n",
       "| 383         | 3290.884    | NA          |        NA   |       NA    |          NA | \n",
       "| 384         | 4252.213    | -1          | -961.3283   | 111.8814    | 4.11858e-23 | \n",
       "\n",
       "\n"
      ],
      "text/plain": [
       "  Res.Df RSS      Df Sum of Sq F        Pr(>F)     \n",
       "1 383    3290.884 NA        NA       NA          NA\n",
       "2 384    4252.213 -1 -961.3283 111.8814 4.11858e-23"
      ]
     },
     "metadata": {},
     "output_type": "display_data"
    }
   ],
   "source": [
    "anova(my_fit.update, my_fit)"
   ]
  },
  {
   "cell_type": "markdown",
   "metadata": {},
   "source": [
    "The p-value shows that the two models are statistically different as The p-value is very low. It means that adding the interaction term does make a difference.\n",
    "\n",
    "Try the following script, which transforms <font color=\"orange\"> horsepower</font> with a log() function."
   ]
  },
  {
   "cell_type": "code",
   "execution_count": 18,
   "metadata": {},
   "outputs": [
    {
     "data": {
      "text/plain": [
       "\n",
       "Call:\n",
       "lm(formula = mpg ~ cylinders + displacement + weight + acceleration + \n",
       "    year + origin + log(horsepower), data = Auto, method = \"qr\")\n",
       "\n",
       "Residuals:\n",
       "    Min      1Q  Median      3Q     Max \n",
       "-9.3115 -2.0041 -0.1726  1.8393 12.6579 \n",
       "\n",
       "Coefficients:\n",
       "                 Estimate Std. Error t value Pr(>|t|)    \n",
       "(Intercept)     27.254005   8.589614   3.173  0.00163 ** \n",
       "cylinders       -0.486206   0.306692  -1.585  0.11372    \n",
       "displacement     0.019456   0.006876   2.830  0.00491 ** \n",
       "weight          -0.004266   0.000694  -6.148 1.97e-09 ***\n",
       "acceleration    -0.292088   0.103804  -2.814  0.00515 ** \n",
       "year             0.705329   0.048456  14.556  < 2e-16 ***\n",
       "origin           1.482435   0.259347   5.716 2.19e-08 ***\n",
       "log(horsepower) -9.506436   1.539619  -6.175 1.69e-09 ***\n",
       "---\n",
       "Signif. codes:  0 '***' 0.001 '**' 0.01 '*' 0.05 '.' 0.1 ' ' 1\n",
       "\n",
       "Residual standard error: 3.18 on 384 degrees of freedom\n",
       "Multiple R-squared:  0.837,\tAdjusted R-squared:  0.834 \n",
       "F-statistic: 281.6 on 7 and 384 DF,  p-value: < 2.2e-16\n"
      ]
     },
     "metadata": {},
     "output_type": "display_data"
    }
   ],
   "source": [
    "summary(update(my_fit, . ~ . - horsepower + log(horsepower)))"
   ]
  },
  {
   "cell_type": "markdown",
   "metadata": {},
   "source": [
    "Try to explain the summary by yourself."
   ]
  },
  {
   "cell_type": "markdown",
   "metadata": {},
   "source": [
    "## Question 2.  Analyzing sales of child car seats at 400 different stores.  \n",
    "\n",
    "The following questions should be answered using the Carseats data set packaged in the ISLR library. In this task, we will learn how to handle qualitative variables (or categorical variables) in linear regression. We already imported the <font color=\"red\">ISLR</font> library. Next, the <a href=\"http://127.0.0.1:12351/library/ISLR/html/Carseats.html\">Carseats</a> data should be loaded and inspected. Similar to what we have done in question 1, we can use, for example, the <font color=\"blue\">head()</font> function and the <font color=\"blue\">str()</font>."
   ]
  },
  {
   "cell_type": "code",
   "execution_count": 19,
   "metadata": {},
   "outputs": [],
   "source": [
    "library(ISLR)"
   ]
  },
  {
   "cell_type": "code",
   "execution_count": 20,
   "metadata": {},
   "outputs": [
    {
     "data": {
      "text/html": [
       "<table>\n",
       "<thead><tr><th scope=col>Sales</th><th scope=col>CompPrice</th><th scope=col>Income</th><th scope=col>Advertising</th><th scope=col>Population</th><th scope=col>Price</th><th scope=col>ShelveLoc</th><th scope=col>Age</th><th scope=col>Education</th><th scope=col>Urban</th><th scope=col>US</th></tr></thead>\n",
       "<tbody>\n",
       "\t<tr><td> 9.50 </td><td>138   </td><td> 73   </td><td>11    </td><td>276   </td><td>120   </td><td>Bad   </td><td>42    </td><td>17    </td><td>Yes   </td><td>Yes   </td></tr>\n",
       "\t<tr><td>11.22 </td><td>111   </td><td> 48   </td><td>16    </td><td>260   </td><td> 83   </td><td>Good  </td><td>65    </td><td>10    </td><td>Yes   </td><td>Yes   </td></tr>\n",
       "\t<tr><td>10.06 </td><td>113   </td><td> 35   </td><td>10    </td><td>269   </td><td> 80   </td><td>Medium</td><td>59    </td><td>12    </td><td>Yes   </td><td>Yes   </td></tr>\n",
       "\t<tr><td> 7.40 </td><td>117   </td><td>100   </td><td> 4    </td><td>466   </td><td> 97   </td><td>Medium</td><td>55    </td><td>14    </td><td>Yes   </td><td>Yes   </td></tr>\n",
       "\t<tr><td> 4.15 </td><td>141   </td><td> 64   </td><td> 3    </td><td>340   </td><td>128   </td><td>Bad   </td><td>38    </td><td>13    </td><td>Yes   </td><td>No    </td></tr>\n",
       "\t<tr><td>10.81 </td><td>124   </td><td>113   </td><td>13    </td><td>501   </td><td> 72   </td><td>Bad   </td><td>78    </td><td>16    </td><td>No    </td><td>Yes   </td></tr>\n",
       "</tbody>\n",
       "</table>\n"
      ],
      "text/latex": [
       "\\begin{tabular}{r|lllllllllll}\n",
       " Sales & CompPrice & Income & Advertising & Population & Price & ShelveLoc & Age & Education & Urban & US\\\\\n",
       "\\hline\n",
       "\t  9.50  & 138    &  73    & 11     & 276    & 120    & Bad    & 42     & 17     & Yes    & Yes   \\\\\n",
       "\t 11.22  & 111    &  48    & 16     & 260    &  83    & Good   & 65     & 10     & Yes    & Yes   \\\\\n",
       "\t 10.06  & 113    &  35    & 10     & 269    &  80    & Medium & 59     & 12     & Yes    & Yes   \\\\\n",
       "\t  7.40  & 117    & 100    &  4     & 466    &  97    & Medium & 55     & 14     & Yes    & Yes   \\\\\n",
       "\t  4.15  & 141    &  64    &  3     & 340    & 128    & Bad    & 38     & 13     & Yes    & No    \\\\\n",
       "\t 10.81  & 124    & 113    & 13     & 501    &  72    & Bad    & 78     & 16     & No     & Yes   \\\\\n",
       "\\end{tabular}\n"
      ],
      "text/markdown": [
       "\n",
       "Sales | CompPrice | Income | Advertising | Population | Price | ShelveLoc | Age | Education | Urban | US | \n",
       "|---|---|---|---|---|---|\n",
       "|  9.50  | 138    |  73    | 11     | 276    | 120    | Bad    | 42     | 17     | Yes    | Yes    | \n",
       "| 11.22  | 111    |  48    | 16     | 260    |  83    | Good   | 65     | 10     | Yes    | Yes    | \n",
       "| 10.06  | 113    |  35    | 10     | 269    |  80    | Medium | 59     | 12     | Yes    | Yes    | \n",
       "|  7.40  | 117    | 100    |  4     | 466    |  97    | Medium | 55     | 14     | Yes    | Yes    | \n",
       "|  4.15  | 141    |  64    |  3     | 340    | 128    | Bad    | 38     | 13     | Yes    | No     | \n",
       "| 10.81  | 124    | 113    | 13     | 501    |  72    | Bad    | 78     | 16     | No     | Yes    | \n",
       "\n",
       "\n"
      ],
      "text/plain": [
       "  Sales CompPrice Income Advertising Population Price ShelveLoc Age Education\n",
       "1  9.50 138        73    11          276        120   Bad       42  17       \n",
       "2 11.22 111        48    16          260         83   Good      65  10       \n",
       "3 10.06 113        35    10          269         80   Medium    59  12       \n",
       "4  7.40 117       100     4          466         97   Medium    55  14       \n",
       "5  4.15 141        64     3          340        128   Bad       38  13       \n",
       "6 10.81 124       113    13          501         72   Bad       78  16       \n",
       "  Urban US \n",
       "1 Yes   Yes\n",
       "2 Yes   Yes\n",
       "3 Yes   Yes\n",
       "4 Yes   Yes\n",
       "5 Yes   No \n",
       "6 No    Yes"
      ]
     },
     "metadata": {},
     "output_type": "display_data"
    }
   ],
   "source": [
    "head(Carseats)"
   ]
  },
  {
   "cell_type": "markdown",
   "metadata": {},
   "source": [
    "As you can see, the data frame contains 400 observations, each of which has 11 variables. (The following detail is copied and pasted from <a href=\"https://cran.r-project.org/web/packages/ISLR/ISLR.pdf\">here</a>)\n",
    "* <font color=\"orange\">Sales</font> Unit sales (in thousands) at each location\n",
    "* <font color=\"orange\">CompPrice</font> Price charged by competitor at each location\n",
    "* <font color=\"orange\">Income</font> Community income level (in thousands of dollars)\n",
    "* <font color=\"orange\">Advertising</font> Local advertising budget for company at each location (in thousands of dollars)\n",
    "* <font color=\"orange\">Population</font> Population size in region (in thousands)\n",
    "* <font color=\"orange\">Price</font> Price company charges for car seats at each site\n",
    "* <font color=\"orange\">ShelveLoc</font> A factor with levels Bad, Good and Medium indicating the quality of the shelving location for the car seats at each site\n",
    "* <font color=\"orange\">Age</font> Average age of the local population\n",
    "* <font color=\"orange\">Education</font> Education level at each location\n",
    "* <font color=\"orange\">Urban</font> A factor with levels No and Yes to indicate whether the store is in an urban or rural location\n",
    "* <font color=\"orange\">US</font> A factor with levels No and Yes to indicate whether the store is in the US or not\n",
    "\n",
    "Assume that we are going to build a linear regression model to predict <font color=\"orange\">Sales</font> by using all the other variables as predictors. We are interested in analyzing which explanatory variables (i.e., predictors) are strongly associated with <font color=\"orange\">Sales</font>."
   ]
  },
  {
   "cell_type": "markdown",
   "metadata": {},
   "source": [
    "### 2.1 Fit a multiple regression model to predict sales as a function of all the other variables, being careful to handle the qualitative variables.\n",
    "\n",
    "Now it should be easy for you to build a multiple linear regression model to predict <font color=\"orange\">sales</font> by using all the other variables as predictors. What you should pay attention to is how the <font color=\"blue\"> lm() </font> treats categorical variables. What you should do is to fit the model and print the summary."
   ]
  },
  {
   "cell_type": "code",
   "execution_count": 21,
   "metadata": {},
   "outputs": [
    {
     "data": {
      "text/plain": [
       "\n",
       "Call:\n",
       "lm(formula = Sales ~ ., data = Carseats, method = \"qr\")\n",
       "\n",
       "Coefficients:\n",
       "    (Intercept)        CompPrice           Income      Advertising  \n",
       "      5.6606231        0.0928153        0.0158028        0.1230951  \n",
       "     Population            Price    ShelveLocGood  ShelveLocMedium  \n",
       "      0.0002079       -0.0953579        4.8501827        1.9567148  \n",
       "            Age        Education         UrbanYes            USYes  \n",
       "     -0.0460452       -0.0211018        0.1228864       -0.1840928  \n"
      ]
     },
     "metadata": {},
     "output_type": "display_data"
    }
   ],
   "source": [
    "fit1 <- lm(Sales ~., data = Carseats, method ='qr')\n",
    "fit1"
   ]
  },
  {
   "cell_type": "markdown",
   "metadata": {},
   "source": [
    "Print out the summary of your fitted linear model:"
   ]
  },
  {
   "cell_type": "code",
   "execution_count": 22,
   "metadata": {},
   "outputs": [
    {
     "data": {
      "text/plain": [
       "\n",
       "Call:\n",
       "lm(formula = Sales ~ ., data = Carseats, method = \"qr\")\n",
       "\n",
       "Residuals:\n",
       "    Min      1Q  Median      3Q     Max \n",
       "-2.8692 -0.6908  0.0211  0.6636  3.4115 \n",
       "\n",
       "Coefficients:\n",
       "                  Estimate Std. Error t value Pr(>|t|)    \n",
       "(Intercept)      5.6606231  0.6034487   9.380  < 2e-16 ***\n",
       "CompPrice        0.0928153  0.0041477  22.378  < 2e-16 ***\n",
       "Income           0.0158028  0.0018451   8.565 2.58e-16 ***\n",
       "Advertising      0.1230951  0.0111237  11.066  < 2e-16 ***\n",
       "Population       0.0002079  0.0003705   0.561    0.575    \n",
       "Price           -0.0953579  0.0026711 -35.700  < 2e-16 ***\n",
       "ShelveLocGood    4.8501827  0.1531100  31.678  < 2e-16 ***\n",
       "ShelveLocMedium  1.9567148  0.1261056  15.516  < 2e-16 ***\n",
       "Age             -0.0460452  0.0031817 -14.472  < 2e-16 ***\n",
       "Education       -0.0211018  0.0197205  -1.070    0.285    \n",
       "UrbanYes         0.1228864  0.1129761   1.088    0.277    \n",
       "USYes           -0.1840928  0.1498423  -1.229    0.220    \n",
       "---\n",
       "Signif. codes:  0 '***' 0.001 '**' 0.01 '*' 0.05 '.' 0.1 ' ' 1\n",
       "\n",
       "Residual standard error: 1.019 on 388 degrees of freedom\n",
       "Multiple R-squared:  0.8734,\tAdjusted R-squared:  0.8698 \n",
       "F-statistic: 243.4 on 11 and 388 DF,  p-value: < 2.2e-16\n"
      ]
     },
     "metadata": {},
     "output_type": "display_data"
    }
   ],
   "source": [
    "summary(fit1)"
   ]
  },
  {
   "cell_type": "markdown",
   "metadata": {},
   "source": [
    "You have seen that the <font color='blue'>str()</font> shows that <font color='orange'>ShelveLoc</font> is a categorical variable (or factor), which can take values on \"bad\", \"Medium\" and \"Good\". To interpret a trinary variable, the linear model in R generates two binary variables, \"ShelveLocGood\" and \"ShelveLocMedium\". In other words, for a categorical variable that can take n values, we need to introduce n-1 binary variables.  \n",
    "\n",
    "As discussed in Section 3.6.6 in the textbook, \"the <a href=\"https://stat.ethz.ch/R-manual/R-devel/library/stats/html/contrasts.html\"><font color=\"blue\">contrasts()</font></a> function returns the coding that R uses for the dummy variables.\""
   ]
  },
  {
   "cell_type": "code",
   "execution_count": 23,
   "metadata": {},
   "outputs": [
    {
     "data": {
      "text/html": [
       "<table>\n",
       "<thead><tr><th></th><th scope=col>Good</th><th scope=col>Medium</th></tr></thead>\n",
       "<tbody>\n",
       "\t<tr><th scope=row>Bad</th><td>0</td><td>0</td></tr>\n",
       "\t<tr><th scope=row>Good</th><td>1</td><td>0</td></tr>\n",
       "\t<tr><th scope=row>Medium</th><td>0</td><td>1</td></tr>\n",
       "</tbody>\n",
       "</table>\n"
      ],
      "text/latex": [
       "\\begin{tabular}{r|ll}\n",
       "  & Good & Medium\\\\\n",
       "\\hline\n",
       "\tBad & 0 & 0\\\\\n",
       "\tGood & 1 & 0\\\\\n",
       "\tMedium & 0 & 1\\\\\n",
       "\\end{tabular}\n"
      ],
      "text/markdown": [
       "\n",
       "| <!--/--> | Good | Medium | \n",
       "|---|---|---|\n",
       "| Bad | 0 | 0 | \n",
       "| Good | 1 | 0 | \n",
       "| Medium | 0 | 1 | \n",
       "\n",
       "\n"
      ],
      "text/plain": [
       "       Good Medium\n",
       "Bad    0    0     \n",
       "Good   1    0     \n",
       "Medium 0    1     "
      ]
     },
     "metadata": {},
     "output_type": "display_data"
    }
   ],
   "source": [
    "contrasts(Carseats$ShelveLoc)"
   ]
  },
  {
   "cell_type": "markdown",
   "metadata": {},
   "source": [
    "<font color=\"blue\">contrasts()</font></a> function sets and views the contrasts associated with a factor. "
   ]
  },
  {
   "cell_type": "code",
   "execution_count": 24,
   "metadata": {},
   "outputs": [
    {
     "data": {
      "text/plain": [
       "\n",
       "Call:\n",
       "lm(formula = Sales ~ ., data = Carseats)\n",
       "\n",
       "Residuals:\n",
       "    Min      1Q  Median      3Q     Max \n",
       "-2.8692 -0.6908  0.0211  0.6636  3.4115 \n",
       "\n",
       "Coefficients:\n",
       "              Estimate Std. Error t value Pr(>|t|)    \n",
       "(Intercept)  5.6606231  0.6034487   9.380  < 2e-16 ***\n",
       "CompPrice    0.0928153  0.0041477  22.378  < 2e-16 ***\n",
       "Income       0.0158028  0.0018451   8.565 2.58e-16 ***\n",
       "Advertising  0.1230951  0.0111237  11.066  < 2e-16 ***\n",
       "Population   0.0002079  0.0003705   0.561    0.575    \n",
       "Price       -0.0953579  0.0026711 -35.700  < 2e-16 ***\n",
       "ShelveLoc2   4.8501827  0.1531100  31.678  < 2e-16 ***\n",
       "ShelveLoc3   1.9567148  0.1261056  15.516  < 2e-16 ***\n",
       "Age         -0.0460452  0.0031817 -14.472  < 2e-16 ***\n",
       "Education   -0.0211018  0.0197205  -1.070    0.285    \n",
       "UrbanYes     0.1228864  0.1129761   1.088    0.277    \n",
       "USYes       -0.1840928  0.1498423  -1.229    0.220    \n",
       "---\n",
       "Signif. codes:  0 '***' 0.001 '**' 0.01 '*' 0.05 '.' 0.1 ' ' 1\n",
       "\n",
       "Residual standard error: 1.019 on 388 degrees of freedom\n",
       "Multiple R-squared:  0.8734,\tAdjusted R-squared:  0.8698 \n",
       "F-statistic: 243.4 on 11 and 388 DF,  p-value: < 2.2e-16\n"
      ]
     },
     "metadata": {},
     "output_type": "display_data"
    }
   ],
   "source": [
    "contrasts(Carseats$ShelveLoc) = contr.treatment(length(unique(Carseats$ShelveLoc)))\n",
    "summary(lm(Sales~., data = Carseats))"
   ]
  },
  {
   "cell_type": "markdown",
   "metadata": {},
   "source": [
    "Can you see the difference?"
   ]
  },
  {
   "cell_type": "markdown",
   "metadata": {},
   "source": [
    "### 2.2 For which of the predictors can you reject the null hypothesis <font color=\"red\">H0: j = 0</font>?\n",
    "\n",
    "In order to answer this question, we need to look at the p-value in the summary, which is indicated by Pr(>|t|).\n",
    "For the predictors which have the low p-value (less than 0.01), we can reject the null hypothesis. What are the predictors that have a strong association with the predictor?"
   ]
  },
  {
   "cell_type": "markdown",
   "metadata": {},
   "source": [
    "Answer: CompPrice, Income, Advertising, Price, ShelveLoc, Age"
   ]
  },
  {
   "cell_type": "markdown",
   "metadata": {},
   "source": [
    "### 2.3 On the basis of your response to the previous question, fit a smaller model that only uses the predictors for which there is evidence of association with the outcome\n",
    "\n",
    "In this task, we are going to build a new multiple linear regression model. The new model includes the predictors which had the significant association with the response variable in the previous model. We are going to explore the difference between a full model and a model with less but meaningful predictors. Here we will use the variables identified in Question 2.2."
   ]
  },
  {
   "cell_type": "code",
   "execution_count": 25,
   "metadata": {},
   "outputs": [
    {
     "data": {
      "text/plain": [
       "\n",
       "Call:\n",
       "lm(formula = Sales ~ CompPrice + Income + Advertising + Price + \n",
       "    ShelveLoc + Age, data = Carseats)\n",
       "\n",
       "Coefficients:\n",
       "(Intercept)    CompPrice       Income  Advertising        Price   ShelveLoc2  \n",
       "    5.47523      0.09257      0.01578      0.11590     -0.09532      4.83567  \n",
       " ShelveLoc3          Age  \n",
       "    1.95199     -0.04613  \n"
      ]
     },
     "metadata": {},
     "output_type": "display_data"
    }
   ],
   "source": [
    "fit2 <- lm(Sales~ CompPrice + Income + Advertising + Price + ShelveLoc + Age, data = Carseats)\n",
    "fit2"
   ]
  },
  {
   "cell_type": "markdown",
   "metadata": {},
   "source": [
    "Print out the summary of your fitted linear model:"
   ]
  },
  {
   "cell_type": "code",
   "execution_count": 26,
   "metadata": {},
   "outputs": [
    {
     "data": {
      "text/plain": [
       "\n",
       "Call:\n",
       "lm(formula = Sales ~ CompPrice + Income + Advertising + Price + \n",
       "    ShelveLoc + Age, data = Carseats)\n",
       "\n",
       "Residuals:\n",
       "    Min      1Q  Median      3Q     Max \n",
       "-2.7728 -0.6954  0.0282  0.6732  3.3292 \n",
       "\n",
       "Coefficients:\n",
       "             Estimate Std. Error t value Pr(>|t|)    \n",
       "(Intercept)  5.475226   0.505005   10.84   <2e-16 ***\n",
       "CompPrice    0.092571   0.004123   22.45   <2e-16 ***\n",
       "Income       0.015785   0.001838    8.59   <2e-16 ***\n",
       "Advertising  0.115903   0.007724   15.01   <2e-16 ***\n",
       "Price       -0.095319   0.002670  -35.70   <2e-16 ***\n",
       "ShelveLoc2   4.835675   0.152499   31.71   <2e-16 ***\n",
       "ShelveLoc3   1.951993   0.125375   15.57   <2e-16 ***\n",
       "Age         -0.046128   0.003177  -14.52   <2e-16 ***\n",
       "---\n",
       "Signif. codes:  0 '***' 0.001 '**' 0.01 '*' 0.05 '.' 0.1 ' ' 1\n",
       "\n",
       "Residual standard error: 1.019 on 392 degrees of freedom\n",
       "Multiple R-squared:  0.872,\tAdjusted R-squared:  0.8697 \n",
       "F-statistic: 381.4 on 7 and 392 DF,  p-value: < 2.2e-16\n"
      ]
     },
     "metadata": {},
     "output_type": "display_data"
    }
   ],
   "source": [
    "summary(fit2)"
   ]
  },
  {
   "cell_type": "markdown",
   "metadata": {},
   "source": [
    "### 2.4 How well do the models in <font color=\"red\">2.1</font> and <font color=\"red\">2.3</font> fit the data?\n",
    "\n",
    "Now, we want to compare these two models. For this purpose, we examine the models using the following items:\n",
    "* Look at the <font color=\"red\">R-squared</font> and <font color=\"red\">F</font> statistics and the corresponding p-values.\n",
    "* Check the residuals with various residual plots.\n",
    "* Perform F-tests by comparing the two models using the <font color=\"blue\">anova()</font> function\n",
    "\n",
    "As can be seen, there is not much difference between the full model and the one with less predictors. The multiple R-squared and the adjusted R-squared scores slightly drops. The trade-off between simple model and modeling accuracy is very small. In this case, we would like to choose the simple model.\n",
    "\n",
    "Of course, you can also compare the diagnostic plots, for example"
   ]
  },
  {
   "cell_type": "code",
   "execution_count": 27,
   "metadata": {},
   "outputs": [
    {
     "data": {
      "image/png": "[encoded data removed]",
      "text/plain": [
       "Plot with title \"\""
      ]
     },
     "metadata": {},
     "output_type": "display_data"
    }
   ],
   "source": [
    "par(mfcol=c(2,2))\n",
    "plot(fit1, which = 1)\n",
    "plot(fit1, which = 2)\n",
    "plot(fit2, which = 1)\n",
    "plot(fit2, which = 2)"
   ]
  },
  {
   "cell_type": "markdown",
   "metadata": {
    "collapsed": true
   },
   "source": [
    "The plots show that both models comply with the assumptions.\n",
    "We can also use the <font color=\"blue\">anova</font> function."
   ]
  },
  {
   "cell_type": "code",
   "execution_count": 28,
   "metadata": {},
   "outputs": [
    {
     "data": {
      "text/html": [
       "<table>\n",
       "<thead><tr><th scope=col>Res.Df</th><th scope=col>RSS</th><th scope=col>Df</th><th scope=col>Sum of Sq</th><th scope=col>F</th><th scope=col>Pr(&gt;F)</th></tr></thead>\n",
       "<tbody>\n",
       "\t<tr><td>388      </td><td>402.8335 </td><td>NA       </td><td>       NA</td><td>     NA  </td><td>       NA</td></tr>\n",
       "\t<tr><td>392      </td><td>407.3869 </td><td>-4       </td><td>-4.553347</td><td>1.09642  </td><td>0.3579599</td></tr>\n",
       "</tbody>\n",
       "</table>\n"
      ],
      "text/latex": [
       "\\begin{tabular}{r|llllll}\n",
       " Res.Df & RSS & Df & Sum of Sq & F & Pr(>F)\\\\\n",
       "\\hline\n",
       "\t 388       & 402.8335  & NA        &        NA &      NA   &        NA\\\\\n",
       "\t 392       & 407.3869  & -4        & -4.553347 & 1.09642   & 0.3579599\\\\\n",
       "\\end{tabular}\n"
      ],
      "text/markdown": [
       "\n",
       "Res.Df | RSS | Df | Sum of Sq | F | Pr(>F) | \n",
       "|---|---|\n",
       "| 388       | 402.8335  | NA        |        NA |      NA   |        NA | \n",
       "| 392       | 407.3869  | -4        | -4.553347 | 1.09642   | 0.3579599 | \n",
       "\n",
       "\n"
      ],
      "text/plain": [
       "  Res.Df RSS      Df Sum of Sq F       Pr(>F)   \n",
       "1 388    402.8335 NA        NA      NA        NA\n",
       "2 392    407.3869 -4 -4.553347 1.09642 0.3579599"
      ]
     },
     "metadata": {},
     "output_type": "display_data"
    }
   ],
   "source": [
    "anova(fit1, fit2)"
   ]
  },
  {
   "cell_type": "markdown",
   "metadata": {},
   "source": [
    "The p-value is quite large, so we cannot reject the null hypothesis. It is not statistically significant that the difference between the full model and the model with only the coefficients strongly associated with the response. In regard to the interpretability of the model, we'd prefer a model with less predictors."
   ]
  },
  {
   "cell_type": "markdown",
   "metadata": {},
   "source": [
    "### 2.5 Select the best regression variables with the <a href=\"https://stat.ethz.ch/R-manual/R-devel/library/stats/html/step.html\">step()</a> function.\n",
    "\n",
    "Instead of manually selecting a subset of variables that are strongly associated with the predictor, R provides some automatic approaches of variable selection. Here, you are going to study how to use the <font color=\"blue\">step()</font></a> function. This function can perform stepwise regression, either forward or backward. For more details, please refer to section 11.7 of \"<a href=\"http://ebookcentral.proquest.com.ezproxy.lib.monash.edu.au/lib/monash/detail.action?docID=680900\">R Cookbook\"</a.>\n",
    "\n",
    "The step() function should give you the same model as we just generated according to the P-Value."
   ]
  },
  {
   "cell_type": "code",
   "execution_count": 39,
   "metadata": {},
   "outputs": [
    {
     "name": "stdout",
     "output_type": "stream",
     "text": [
      "Start:  AIC=26.82\n",
      "Sales ~ CompPrice + Income + Advertising + Population + Price + \n",
      "    ShelveLoc + Age + Education + Urban + US\n",
      "\n",
      "              Df Sum of Sq     RSS    AIC\n",
      "- Population   1      0.33  403.16  25.15\n",
      "- Education    1      1.19  404.02  26.00\n",
      "- Urban        1      1.23  404.06  26.04\n",
      "- US           1      1.57  404.40  26.38\n",
      "<none>                      402.83  26.82\n",
      "- Income       1     76.16  478.99  94.09\n",
      "- Advertising  1    127.14  529.97 134.54\n",
      "- Age          1    217.44  620.27 197.48\n",
      "- CompPrice    1    519.91  922.74 356.35\n",
      "- ShelveLoc    2   1053.20 1456.03 536.80\n",
      "- Price        1   1323.23 1726.06 606.85\n",
      "\n",
      "Step:  AIC=25.15\n",
      "Sales ~ CompPrice + Income + Advertising + Price + ShelveLoc + \n",
      "    Age + Education + Urban + US\n",
      "\n",
      "              Df Sum of Sq     RSS    AIC\n",
      "- Urban        1      1.15  404.31  24.29\n",
      "- Education    1      1.36  404.52  24.49\n",
      "- US           1      1.89  405.05  25.02\n",
      "<none>                      403.16  25.15\n",
      "- Income       1     75.94  479.10  92.18\n",
      "- Advertising  1    145.38  548.54 146.32\n",
      "- Age          1    218.52  621.68 196.38\n",
      "- CompPrice    1    521.69  924.85 355.27\n",
      "- ShelveLoc    2   1053.18 1456.34 534.89\n",
      "- Price        1   1323.51 1726.67 605.00\n",
      "\n",
      "Step:  AIC=24.29\n",
      "Sales ~ CompPrice + Income + Advertising + Price + ShelveLoc + \n",
      "    Age + Education + US\n",
      "\n",
      "              Df Sum of Sq     RSS    AIC\n",
      "- Education    1      1.44  405.76  23.72\n",
      "- US           1      1.85  406.16  24.12\n",
      "<none>                      404.31  24.29\n",
      "- Income       1     76.64  480.96  91.73\n",
      "- Advertising  1    146.03  550.34 145.63\n",
      "- Age          1    217.59  621.91 194.53\n",
      "- CompPrice    1    526.17  930.48 355.69\n",
      "- ShelveLoc    2   1053.93 1458.25 533.41\n",
      "- Price        1   1322.80 1727.11 603.10\n",
      "\n",
      "Step:  AIC=23.72\n",
      "Sales ~ CompPrice + Income + Advertising + Price + ShelveLoc + \n",
      "    Age + US\n",
      "\n",
      "              Df Sum of Sq     RSS    AIC\n",
      "- US           1      1.63  407.39  23.32\n",
      "<none>                      405.76  23.72\n",
      "- Income       1     77.87  483.62  91.94\n",
      "- Advertising  1    145.30  551.06 144.15\n",
      "- Age          1    217.97  623.73 193.70\n",
      "- CompPrice    1    525.25  931.00 353.92\n",
      "- ShelveLoc    2   1056.88 1462.64 532.61\n",
      "- Price        1   1322.83 1728.58 601.44\n",
      "\n",
      "Step:  AIC=23.32\n",
      "Sales ~ CompPrice + Income + Advertising + Price + ShelveLoc + \n",
      "    Age\n",
      "\n",
      "              Df Sum of Sq     RSS    AIC\n",
      "<none>                      407.39  23.32\n",
      "- Income       1     76.68  484.07  90.30\n",
      "- Age          1    219.12  626.51 193.48\n",
      "- Advertising  1    234.03  641.42 202.89\n",
      "- CompPrice    1    523.83  931.22 352.01\n",
      "- ShelveLoc    2   1055.51 1462.90 530.68\n",
      "- Price        1   1324.42 1731.81 600.18\n"
     ]
    }
   ],
   "source": [
    "model.bwd = step(fit1, direction=\"backward\")"
   ]
  },
  {
   "cell_type": "markdown",
   "metadata": {},
   "source": [
    "As shown above, the best model is selected based on AIC after four steps. The best model has <font color=\"orange\">CompPrice</font>, <font color=\"orange\">Income</font>, <font color=\"orange\">Advertising</font>, <font color=\"orange\">Price</font>, <font color=\"orange\">ShelveLoc</font> and <font color=\"orange\">Age</font> as predictors. \n",
    "\n",
    "The best model learned by the <font color=\"blue\">step()</font> function is exactly the same as model derived in Question 2.3. You can print out the summary of the model using the <font color=\"blue\">summary()</font> function.\n",
    "\n",
    "AIC and BIC hold the same interpretation in terms of model comparison. That is, the larger difference in either AIC or BIC indicates stronger evidence for one model over the other (the lower the better). It's just the the AIC doesn't penalize the number of parameters as strongly as BIC. There is also a correction to the AIC (the AICc) that is used for smaller sample sizes.\n",
    "\n",
    "Model with lower AIC would be the preferred one.\n",
    "\n",
    "Smaller BIC (further left on the number line) is better"
   ]
  },
  {
   "cell_type": "code",
   "execution_count": 30,
   "metadata": {},
   "outputs": [
    {
     "data": {
      "text/plain": [
       "\n",
       "Call:\n",
       "lm(formula = Sales ~ CompPrice + Income + Advertising + Price + \n",
       "    ShelveLoc + Age, data = Carseats, method = \"qr\")\n",
       "\n",
       "Residuals:\n",
       "    Min      1Q  Median      3Q     Max \n",
       "-2.7728 -0.6954  0.0282  0.6732  3.3292 \n",
       "\n",
       "Coefficients:\n",
       "             Estimate Std. Error t value Pr(>|t|)    \n",
       "(Intercept)  5.475226   0.505005   10.84   <2e-16 ***\n",
       "CompPrice    0.092571   0.004123   22.45   <2e-16 ***\n",
       "Income       0.015785   0.001838    8.59   <2e-16 ***\n",
       "Advertising  0.115903   0.007724   15.01   <2e-16 ***\n",
       "Price       -0.095319   0.002670  -35.70   <2e-16 ***\n",
       "ShelveLoc2   4.835675   0.152499   31.71   <2e-16 ***\n",
       "ShelveLoc3   1.951993   0.125375   15.57   <2e-16 ***\n",
       "Age         -0.046128   0.003177  -14.52   <2e-16 ***\n",
       "---\n",
       "Signif. codes:  0 '***' 0.001 '**' 0.01 '*' 0.05 '.' 0.1 ' ' 1\n",
       "\n",
       "Residual standard error: 1.019 on 392 degrees of freedom\n",
       "Multiple R-squared:  0.872,\tAdjusted R-squared:  0.8697 \n",
       "F-statistic: 381.4 on 7 and 392 DF,  p-value: < 2.2e-16\n"
      ]
     },
     "metadata": {},
     "output_type": "display_data"
    }
   ],
   "source": [
    "summary(model.bwd)"
   ]
  },
  {
   "cell_type": "markdown",
   "metadata": {},
   "source": [
    "### 2.6 Expand the model in <font color=\"red\">2.3</font> with interaction effects using the <font color=\"red\">:</font> symbols. \n",
    "In order to further explore the data set and study the model, we want to investigate how the potential interactions between predictors can effect the linear model. Here we'd like to try <font color=\"blue\">income: advertising</font>,  <font color=\"blue\">price:age</font>, or both. Do any interactions appear to be statistically significant?\n",
    "\n",
    "The function you used is the <font color=\"blue\">update()</font> function. Remember to print out the summary of your fitted models."
   ]
  },
  {
   "cell_type": "code",
   "execution_count": 42,
   "metadata": {},
   "outputs": [
    {
     "data": {
      "text/plain": [
       "\n",
       "Call:\n",
       "lm(formula = Sales ~ CompPrice + Income + Advertising + Price + \n",
       "    ShelveLoc + Age + Income:Advertising, data = Carseats)\n",
       "\n",
       "Residuals:\n",
       "    Min      1Q  Median      3Q     Max \n",
       "-2.8365 -0.7154  0.0082  0.6731  3.3728 \n",
       "\n",
       "Coefficients:\n",
       "                     Estimate Std. Error t value Pr(>|t|)    \n",
       "(Intercept)         5.7252919  0.5083105  11.263  < 2e-16 ***\n",
       "CompPrice           0.0929201  0.0040888  22.725  < 2e-16 ***\n",
       "Income              0.0106546  0.0025709   4.144 4.18e-05 ***\n",
       "Advertising         0.0615973  0.0206746   2.979  0.00307 ** \n",
       "Price              -0.0952009  0.0026469 -35.967  < 2e-16 ***\n",
       "ShelveLoc2          4.8476841  0.1512156  32.058  < 2e-16 ***\n",
       "ShelveLoc3          1.9578038  0.1242880  15.752  < 2e-16 ***\n",
       "Age                -0.0454636  0.0031575 -14.399  < 2e-16 ***\n",
       "Income:Advertising  0.0007805  0.0002760   2.828  0.00493 ** \n",
       "---\n",
       "Signif. codes:  0 '***' 0.001 '**' 0.01 '*' 0.05 '.' 0.1 ' ' 1\n",
       "\n",
       "Residual standard error: 1.01 on 391 degrees of freedom\n",
       "Multiple R-squared:  0.8745,\tAdjusted R-squared:  0.872 \n",
       "F-statistic: 340.7 on 8 and 391 DF,  p-value: < 2.2e-16\n"
      ]
     },
     "metadata": {},
     "output_type": "display_data"
    }
   ],
   "source": [
    "fit3 = update(fit2, .~. + Income:Advertising)\n",
    "summary(fit3)"
   ]
  },
  {
   "cell_type": "markdown",
   "metadata": {},
   "source": [
    "In the ANOVA test, the small p-value indicates that the models are significantly different. If we set the significant code to 0.01, adding just Income: Advertising to the model derived in Question 2.3 makes a significant difference."
   ]
  },
  {
   "cell_type": "markdown",
   "metadata": {},
   "source": [
    "### 2.7 Using the model from <font color=\"red\">2.6</font>, obtain 95% confidence intervals for the coefficients."
   ]
  },
  {
   "cell_type": "code",
   "execution_count": 43,
   "metadata": {},
   "outputs": [
    {
     "data": {
      "text/html": [
       "<table>\n",
       "<thead><tr><th></th><th scope=col>2.5 %</th><th scope=col>97.5 %</th></tr></thead>\n",
       "<tbody>\n",
       "\t<tr><th scope=row>(Intercept)</th><td> 4.7259282932</td><td> 6.724655507 </td></tr>\n",
       "\t<tr><th scope=row>CompPrice</th><td> 0.0848812789</td><td> 0.100958927 </td></tr>\n",
       "\t<tr><th scope=row>Income</th><td> 0.0056000685</td><td> 0.015709098 </td></tr>\n",
       "\t<tr><th scope=row>Advertising</th><td> 0.0209499979</td><td> 0.102244701 </td></tr>\n",
       "\t<tr><th scope=row>Price</th><td>-0.1004048098</td><td>-0.089996895 </td></tr>\n",
       "\t<tr><th scope=row>ShelveLoc2</th><td> 4.5503868572</td><td> 5.144981440 </td></tr>\n",
       "\t<tr><th scope=row>ShelveLoc3</th><td> 1.7134473389</td><td> 2.202160234 </td></tr>\n",
       "\t<tr><th scope=row>Age</th><td>-0.0516713660</td><td>-0.039255919 </td></tr>\n",
       "\t<tr><th scope=row>Income:Advertising</th><td> 0.0002378429</td><td> 0.001323225 </td></tr>\n",
       "</tbody>\n",
       "</table>\n"
      ],
      "text/latex": [
       "\\begin{tabular}{r|ll}\n",
       "  & 2.5 \\% & 97.5 \\%\\\\\n",
       "\\hline\n",
       "\t(Intercept) &  4.7259282932 &  6.724655507 \\\\\n",
       "\tCompPrice &  0.0848812789 &  0.100958927 \\\\\n",
       "\tIncome &  0.0056000685 &  0.015709098 \\\\\n",
       "\tAdvertising &  0.0209499979 &  0.102244701 \\\\\n",
       "\tPrice & -0.1004048098 & -0.089996895 \\\\\n",
       "\tShelveLoc2 &  4.5503868572 &  5.144981440 \\\\\n",
       "\tShelveLoc3 &  1.7134473389 &  2.202160234 \\\\\n",
       "\tAge & -0.0516713660 & -0.039255919 \\\\\n",
       "\tIncome:Advertising &  0.0002378429 &  0.001323225 \\\\\n",
       "\\end{tabular}\n"
      ],
      "text/markdown": [
       "\n",
       "| <!--/--> | 2.5 % | 97.5 % | \n",
       "|---|---|---|---|---|---|---|---|---|\n",
       "| (Intercept) |  4.7259282932 |  6.724655507  | \n",
       "| CompPrice |  0.0848812789 |  0.100958927  | \n",
       "| Income |  0.0056000685 |  0.015709098  | \n",
       "| Advertising |  0.0209499979 |  0.102244701  | \n",
       "| Price | -0.1004048098 | -0.089996895  | \n",
       "| ShelveLoc2 |  4.5503868572 |  5.144981440  | \n",
       "| ShelveLoc3 |  1.7134473389 |  2.202160234  | \n",
       "| Age | -0.0516713660 | -0.039255919  | \n",
       "| Income:Advertising |  0.0002378429 |  0.001323225  | \n",
       "\n",
       "\n"
      ],
      "text/plain": [
       "                   2.5 %         97.5 %      \n",
       "(Intercept)         4.7259282932  6.724655507\n",
       "CompPrice           0.0848812789  0.100958927\n",
       "Income              0.0056000685  0.015709098\n",
       "Advertising         0.0209499979  0.102244701\n",
       "Price              -0.1004048098 -0.089996895\n",
       "ShelveLoc2          4.5503868572  5.144981440\n",
       "ShelveLoc3          1.7134473389  2.202160234\n",
       "Age                -0.0516713660 -0.039255919\n",
       "Income:Advertising  0.0002378429  0.001323225"
      ]
     },
     "metadata": {},
     "output_type": "display_data"
    }
   ],
   "source": [
    "confint(fit3, level = 0.95)"
   ]
  },
  {
   "cell_type": "markdown",
   "metadata": {},
   "source": [
    "### 2.8 Is there evidence of outliers or high leverage observations in the model from <font color=\"red\">2.6</font>?\n",
    "\n",
    "There are many ways of checking if there are some outliers in your data. As discussed in the core textbook, we can use residual plots to identify outliers. Let's have a look"
   ]
  },
  {
   "cell_type": "code",
   "execution_count": 50,
   "metadata": {},
   "outputs": [
    {
     "data": {
      "image/png": "[encoded data removed]",
      "text/plain": [
       "Plot with title \"\""
      ]
     },
     "metadata": {},
     "output_type": "display_data"
    }
   ],
   "source": [
    "plot(fit3, which = 3)"
   ]
  },
  {
   "cell_type": "markdown",
   "metadata": {},
   "source": [
    "In the plot above, we can find some data points that stay a bit far from the majority of the points. Can we conclude that there are some outliers?\n",
    "\n",
    "Let's use the <a href=\"http://artax.karlin.mff.cuni.cz/r-help/library/art/html/outlierTest.html\"><font color=\"blue\">outlierTest()</font></a> function to do an outlier test. The function will report the Bonferroni p-values for studentized residuals in linear regression models."
   ]
  },
  {
   "cell_type": "code",
   "execution_count": 45,
   "metadata": {},
   "outputs": [
    {
     "name": "stderr",
     "output_type": "stream",
     "text": [
      "Loading required package: carData\n"
     ]
    }
   ],
   "source": [
    "library(car)"
   ]
  },
  {
   "cell_type": "code",
   "execution_count": 46,
   "metadata": {},
   "outputs": [
    {
     "data": {
      "text/plain": [
       "No Studentized residuals with Bonferonni p < 0.05\n",
       "Largest |rstudent|:\n",
       "    rstudent unadjusted p-value Bonferonni p\n",
       "358 3.417326         0.00069897      0.27959"
      ]
     },
     "metadata": {},
     "output_type": "display_data"
    }
   ],
   "source": [
    "outlierTest(fit3, cutoff=0.05, digits = 1)"
   ]
  },
  {
   "cell_type": "markdown",
   "metadata": {},
   "source": [
    "The test shows that data point <font color='red'>358</font> is not an outlier.\n",
    "\n",
    "Are there any influential data points? To answer this question, we can use the <font color=\"blue\">influencePlot()</font> function. If influential points are identified, the function will also return a data frame with the hat values, Studentized residuals and Cook's distance."
   ]
  },
  {
   "cell_type": "code",
   "execution_count": 51,
   "metadata": {},
   "outputs": [
    {
     "name": "stderr",
     "output_type": "stream",
     "text": [
      "Warning message in plot.window(...):\n",
      "\"\"id.method\" is not a graphical parameter\"Warning message in plot.xy(xy, type, ...):\n",
      "\"\"id.method\" is not a graphical parameter\"Warning message in axis(side = side, at = at, labels = labels, ...):\n",
      "\"\"id.method\" is not a graphical parameter\"Warning message in axis(side = side, at = at, labels = labels, ...):\n",
      "\"\"id.method\" is not a graphical parameter\"Warning message in box(...):\n",
      "\"\"id.method\" is not a graphical parameter\"Warning message in title(...):\n",
      "\"\"id.method\" is not a graphical parameter\"Warning message in plot.xy(xy.coords(x, y), type = type, ...):\n",
      "\"\"id.method\" is not a graphical parameter\""
     ]
    },
    {
     "data": {
      "text/html": [
       "<table>\n",
       "<thead><tr><th></th><th scope=col>StudRes</th><th scope=col>Hat</th><th scope=col>CookD</th></tr></thead>\n",
       "<tbody>\n",
       "\t<tr><th scope=row>76</th><td> 0.4635676 </td><td>0.07562967 </td><td>0.001957504</td></tr>\n",
       "\t<tr><th scope=row>208</th><td> 3.0767511 </td><td>0.02340162 </td><td>0.024669972</td></tr>\n",
       "\t<tr><th scope=row>248</th><td> 2.6373894 </td><td>0.03960442 </td><td>0.031393092</td></tr>\n",
       "\t<tr><th scope=row>306</th><td> 1.2764466 </td><td>0.09078717 </td><td>0.018047758</td></tr>\n",
       "\t<tr><th scope=row>357</th><td>-2.5051422 </td><td>0.04076356 </td><td>0.029238021</td></tr>\n",
       "\t<tr><th scope=row>358</th><td> 3.4173263 </td><td>0.01987199 </td><td>0.025608697</td></tr>\n",
       "</tbody>\n",
       "</table>\n"
      ],
      "text/latex": [
       "\\begin{tabular}{r|lll}\n",
       "  & StudRes & Hat & CookD\\\\\n",
       "\\hline\n",
       "\t76 &  0.4635676  & 0.07562967  & 0.001957504\\\\\n",
       "\t208 &  3.0767511  & 0.02340162  & 0.024669972\\\\\n",
       "\t248 &  2.6373894  & 0.03960442  & 0.031393092\\\\\n",
       "\t306 &  1.2764466  & 0.09078717  & 0.018047758\\\\\n",
       "\t357 & -2.5051422  & 0.04076356  & 0.029238021\\\\\n",
       "\t358 &  3.4173263  & 0.01987199  & 0.025608697\\\\\n",
       "\\end{tabular}\n"
      ],
      "text/markdown": [
       "\n",
       "| <!--/--> | StudRes | Hat | CookD | \n",
       "|---|---|---|---|---|---|\n",
       "| 76 |  0.4635676  | 0.07562967  | 0.001957504 | \n",
       "| 208 |  3.0767511  | 0.02340162  | 0.024669972 | \n",
       "| 248 |  2.6373894  | 0.03960442  | 0.031393092 | \n",
       "| 306 |  1.2764466  | 0.09078717  | 0.018047758 | \n",
       "| 357 | -2.5051422  | 0.04076356  | 0.029238021 | \n",
       "| 358 |  3.4173263  | 0.01987199  | 0.025608697 | \n",
       "\n",
       "\n"
      ],
      "text/plain": [
       "    StudRes    Hat        CookD      \n",
       "76   0.4635676 0.07562967 0.001957504\n",
       "208  3.0767511 0.02340162 0.024669972\n",
       "248  2.6373894 0.03960442 0.031393092\n",
       "306  1.2764466 0.09078717 0.018047758\n",
       "357 -2.5051422 0.04076356 0.029238021\n",
       "358  3.4173263 0.01987199 0.025608697"
      ]
     },
     "metadata": {},
     "output_type": "display_data"
    },
    {
     "data": {
      "image/png": "[encoded data removed]",
      "text/plain": [
       "Plot with title \"Influence Plot\""
      ]
     },
     "metadata": {},
     "output_type": "display_data"
    }
   ],
   "source": [
    "influencePlot(fit3, scale=5, id.method=\"noteworthy\", main=\"Influence Plot\", sub=\"Circle size is proportial to Cook's Distance\" )"
   ]
  },
  {
   "cell_type": "markdown",
   "metadata": {},
   "source": [
    "In the influence plot, the two dashed vertical lines are drawn at twice and three times the average hat value respectively. The three horizontal lines are drawn at -2, 0 and 2 on the Studentized-residual scale."
   ]
  }
 ],
 "metadata": {
  "kernelspec": {
   "display_name": "R",
   "language": "R",
   "name": "ir"
  },
  "language_info": {
   "codemirror_mode": "r",
   "file_extension": ".r",
   "mimetype": "text/x-r-source",
   "name": "R",
   "pygments_lexer": "r",
   "version": "3.4.4"
  }
 },
 "nbformat": 4,
 "nbformat_minor": 1
}
