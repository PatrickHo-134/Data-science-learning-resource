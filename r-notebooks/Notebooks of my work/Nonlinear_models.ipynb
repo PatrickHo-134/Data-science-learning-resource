{
 "cells": [
  {
   "cell_type": "markdown",
   "metadata": {},
   "source": [
    "# Nonlinear models\n",
    "\n",
    "The materials used in this tutorial are based on the applied exercises provided in the book \"An Introduction to Statistical Learning with Applications in R\" (ISLR). We are trying to demonstrate how to implement the following nonlinear models:\n",
    "* Polynomial regression\n",
    "* Regression spline\n",
    "* Generalized additive model\n",
    "\n",
    "Even though you will learn how to use the above methods, it still is worth trying by yourself\n",
    "    1. Section 7.8 in the textbook\n",
    "\n",
    "\n",
    "## 1. Predict nitrogen oxides concentration in Boston\n",
    "This question uses the variables <font color=\"brown\">dis</font> (the weighted mean of distances to five Boston employment centers) and <font color=\"brown\">nox</font> (nitrogen oxides concentration in parts per 10 million) from the <font color=\"brown\">Boston</font> data. We will treat <font color=\"brown\">dis</font> as the predictor and <font color=\"brown\">nox</font> as the response."
   ]
  },
  {
   "cell_type": "code",
   "execution_count": 1,
   "metadata": {},
   "outputs": [],
   "source": [
    "library(MASS)"
   ]
  },
  {
   "cell_type": "markdown",
   "metadata": {
    "collapsed": true
   },
   "source": [
    "### 1.1 Fit a polynomial regression model\n",
    "Use the <font color=\"blue\">poly()</font> function to fit a cubic polynomial regression to predict <font color=\"brown\">nox</font> using <font color=\"brown\">dis</font>. Report the regression output, and plot the resulting data and polynomial fits. If you are not familiar with the poly() function, remember to use the help() function to print out its usage."
   ]
  },
  {
   "cell_type": "code",
   "execution_count": 2,
   "metadata": {
    "scrolled": true
   },
   "outputs": [],
   "source": [
    "help(poly)"
   ]
  },
  {
   "cell_type": "markdown",
   "metadata": {},
   "source": [
    "Now, you can follow the lab in section 7.8.1 to fit a simple polynomial regression model with degree 3."
   ]
  },
  {
   "cell_type": "code",
   "execution_count": 3,
   "metadata": {},
   "outputs": [
    {
     "data": {
      "text/plain": [
       "\n",
       "Call:\n",
       "lm(formula = nox ~ poly(dis, 3), data = Boston)\n",
       "\n",
       "Residuals:\n",
       "      Min        1Q    Median        3Q       Max \n",
       "-0.121130 -0.040619 -0.009738  0.023385  0.194904 \n",
       "\n",
       "Coefficients:\n",
       "               Estimate Std. Error t value Pr(>|t|)    \n",
       "(Intercept)    0.554695   0.002759 201.021  < 2e-16 ***\n",
       "poly(dis, 3)1 -2.003096   0.062071 -32.271  < 2e-16 ***\n",
       "poly(dis, 3)2  0.856330   0.062071  13.796  < 2e-16 ***\n",
       "poly(dis, 3)3 -0.318049   0.062071  -5.124 4.27e-07 ***\n",
       "---\n",
       "Signif. codes:  0 '***' 0.001 '**' 0.01 '*' 0.05 '.' 0.1 ' ' 1\n",
       "\n",
       "Residual standard error: 0.06207 on 502 degrees of freedom\n",
       "Multiple R-squared:  0.7148,\tAdjusted R-squared:  0.7131 \n",
       "F-statistic: 419.3 on 3 and 502 DF,  p-value: < 2.2e-16\n"
      ]
     },
     "metadata": {},
     "output_type": "display_data"
    }
   ],
   "source": [
    "set.seed(1)\n",
    "poly.fit <- lm(nox ~ poly(dis, 3), data = Boston)\n",
    "summary(poly.fit)"
   ]
  },
  {
   "cell_type": "markdown",
   "metadata": {},
   "source": [
    "Similar to what we have done with linear regression models, we can diagnose the model by looking at the summary. The p-value indicates that all the polynomial terms are significantly associated with the predictor. In order to see some differences, you can fit a polynomial model with degree 5:"
   ]
  },
  {
   "cell_type": "code",
   "execution_count": 4,
   "metadata": {},
   "outputs": [
    {
     "data": {
      "text/plain": [
       "\n",
       "Call:\n",
       "lm(formula = nox ~ poly(dis, 5), data = Boston)\n",
       "\n",
       "Residuals:\n",
       "      Min        1Q    Median        3Q       Max \n",
       "-0.123244 -0.040417 -0.008737  0.024004  0.193135 \n",
       "\n",
       "Coefficients:\n",
       "               Estimate Std. Error t value Pr(>|t|)    \n",
       "(Intercept)    0.554695   0.002751 201.603  < 2e-16 ***\n",
       "poly(dis, 5)1 -2.003096   0.061892 -32.365  < 2e-16 ***\n",
       "poly(dis, 5)2  0.856330   0.061892  13.836  < 2e-16 ***\n",
       "poly(dis, 5)3 -0.318049   0.061892  -5.139 3.97e-07 ***\n",
       "poly(dis, 5)4  0.033547   0.061892   0.542   0.5880    \n",
       "poly(dis, 5)5  0.133009   0.061892   2.149   0.0321 *  \n",
       "---\n",
       "Signif. codes:  0 '***' 0.001 '**' 0.01 '*' 0.05 '.' 0.1 ' ' 1\n",
       "\n",
       "Residual standard error: 0.06189 on 500 degrees of freedom\n",
       "Multiple R-squared:  0.7175,\tAdjusted R-squared:  0.7147 \n",
       "F-statistic:   254 on 5 and 500 DF,  p-value: < 2.2e-16\n"
      ]
     },
     "metadata": {},
     "output_type": "display_data"
    }
   ],
   "source": [
    "fit_5 <- lm(nox ~ poly(dis, 5), data = Boston)\n",
    "summary(fit_5)"
   ]
  },
  {
   "cell_type": "markdown",
   "metadata": {},
   "source": [
    "You will find that it is still that the first three polynomial terms are significant.\n",
    "\n",
    "Next, let's plot the fitted curve."
   ]
  },
  {
   "cell_type": "code",
   "execution_count": 5,
   "metadata": {},
   "outputs": [
    {
     "data": {
      "image/png": "[encoded data removed]",
      "text/plain": [
       "Plot with title \"Third degree polynomial fit\""
      ]
     },
     "metadata": {},
     "output_type": "display_data"
    }
   ],
   "source": [
    "dislims <- range(Boston$dis)\n",
    "dis.grid <- seq(from = dislims[1], to = dislims[2], by = 0.1)\n",
    "poly.preds <- predict(poly.fit, list(dis = dis.grid))\n",
    "plot(nox ~ dis, data = Boston, col = \"darkgrey\", main='Third degree polynomial fit')\n",
    "lines(dis.grid, poly.preds, col = \"red\", lwd = 2)"
   ]
  },
  {
   "cell_type": "markdown",
   "metadata": {},
   "source": [
    "### 1.2 Compare the polynomial models with different degrees.\n",
    "Plot the polynomial fits for a range of different polynomial degrees (say, from 1 to 10), and report the associated residual sum of squares. Here you need to generate one figure, where RSS is ploted as a function of polynomial degrees."
   ]
  },
  {
   "cell_type": "code",
   "execution_count": 6,
   "metadata": {},
   "outputs": [
    {
     "data": {
      "image/png": "[encoded data removed]",
      "text/plain": [
       "plot without title"
      ]
     },
     "metadata": {},
     "output_type": "display_data"
    }
   ],
   "source": [
    "rss <- rep(NA, 10)\n",
    "for (i in 1:10) {\n",
    "    fit <- lm(nox ~ poly(dis, i), data = Boston)\n",
    "    rss[i] <- sum(fit$residuals^2)\n",
    "}\n",
    "plot(1:10, rss, xlab = \"Degree\", ylab = \"RSS\", type = \"l\")"
   ]
  },
  {
   "cell_type": "markdown",
   "metadata": {
    "collapsed": true
   },
   "source": [
    "### 1.3 Cross-validate the polynomial degree\n",
    "Perform cross-validation to select the optimal degree for the polynomial, and explain your results. Here, you are going to implement a 10-fold cross validation to pick the best polynomial regression model."
   ]
  },
  {
   "cell_type": "code",
   "execution_count": 3,
   "metadata": {},
   "outputs": [],
   "source": [
    "require(splines)\n",
    "library(ISLR)\n",
    "library(boot)"
   ]
  },
  {
   "cell_type": "code",
   "execution_count": 8,
   "metadata": {},
   "outputs": [
    {
     "data": {
      "image/png": "[encoded data removed]",
      "text/plain": [
       "plot without title"
      ]
     },
     "metadata": {},
     "output_type": "display_data"
    }
   ],
   "source": [
    "deltas <- rep(NA, 10)\n",
    "for (i in 1:10) {\n",
    "    fit <- glm(nox ~ poly(dis, i), data = Boston)\n",
    "    deltas[i] <- cv.glm(Boston, fit, K = 10)$delta[1]\n",
    "}\n",
    "plot(1:10, deltas, xlab = \"Degree\", ylab = \"Test MSE\", type = \"l\")"
   ]
  },
  {
   "cell_type": "markdown",
   "metadata": {},
   "source": [
    "A 10-fold CV shows that the CV error reduces as we increase degree from 1 to 3, stay almost constant till degree 5, and the starts increasing for higher degrees. We pick 4 as the best polynomial degree."
   ]
  },
  {
   "cell_type": "markdown",
   "metadata": {},
   "source": [
    "### 1.4 Fit a regression spline\n",
    "\n",
    "Use the <font color=\"blue\">bs()</font> function to fit a regression spline to predict <font color=\"brown\">nox</font> using <font color=\"brown\">dis</font>. Report the output for the fit using four degrees of freedom. How did you choose the knots ? Plot the resulting fit. Examples about how to use the <font color=\"blue\">bs()</font> function can be found in section 7.8.2.\n",
    "\n",
    "We see that <font color=\"brown\">dis</font> has limits of about 1 and 13 respectively. (You can use the summary() function to print out the min, max, mean, median, etc) We split this range in roughly equal 4 intervals and establish knots at $[4, 7, 11]$. Note: bs function in R expects either df or knots argument. If both are specified, knots are ignored."
   ]
  },
  {
   "cell_type": "code",
   "execution_count": 9,
   "metadata": {},
   "outputs": [
    {
     "data": {
      "text/plain": [
       "\n",
       "Call:\n",
       "lm(formula = nox ~ bs(dis, knots = c(4, 7, 11)), data = Boston)\n",
       "\n",
       "Residuals:\n",
       "      Min        1Q    Median        3Q       Max \n",
       "-0.124567 -0.040355 -0.008702  0.024740  0.192920 \n",
       "\n",
       "Coefficients:\n",
       "                              Estimate Std. Error t value Pr(>|t|)    \n",
       "(Intercept)                    0.73926    0.01331  55.537  < 2e-16 ***\n",
       "bs(dis, knots = c(4, 7, 11))1 -0.08861    0.02504  -3.539  0.00044 ***\n",
       "bs(dis, knots = c(4, 7, 11))2 -0.31341    0.01680 -18.658  < 2e-16 ***\n",
       "bs(dis, knots = c(4, 7, 11))3 -0.26618    0.03147  -8.459 3.00e-16 ***\n",
       "bs(dis, knots = c(4, 7, 11))4 -0.39802    0.04647  -8.565  < 2e-16 ***\n",
       "bs(dis, knots = c(4, 7, 11))5 -0.25681    0.09001  -2.853  0.00451 ** \n",
       "bs(dis, knots = c(4, 7, 11))6 -0.32926    0.06327  -5.204 2.85e-07 ***\n",
       "---\n",
       "Signif. codes:  0 '***' 0.001 '**' 0.01 '*' 0.05 '.' 0.1 ' ' 1\n",
       "\n",
       "Residual standard error: 0.06185 on 499 degrees of freedom\n",
       "Multiple R-squared:  0.7185,\tAdjusted R-squared:  0.7151 \n",
       "F-statistic: 212.3 on 6 and 499 DF,  p-value: < 2.2e-16\n"
      ]
     },
     "metadata": {},
     "output_type": "display_data"
    }
   ],
   "source": [
    "rs.fit <- lm(nox ~ bs(dis, knots = c(4, 7, 11)), data = Boston)\n",
    "summary(rs.fit)"
   ]
  },
  {
   "cell_type": "markdown",
   "metadata": {},
   "source": [
    "The summary shows that all terms in spline fit are significant.\n",
    "Now, we can plot the fitted model."
   ]
  },
  {
   "cell_type": "code",
   "execution_count": 10,
   "metadata": {},
   "outputs": [
    {
     "data": {
      "image/png": "[encoded data removed]",
      "text/plain": [
       "plot without title"
      ]
     },
     "metadata": {},
     "output_type": "display_data"
    }
   ],
   "source": [
    "rs.preds <- predict(rs.fit, list(dis = dis.grid))\n",
    "plot(nox ~ dis, data = Boston, col = \"darkgrey\")\n",
    "lines(dis.grid, rs.preds, col = \"red\", lwd = 2)"
   ]
  },
  {
   "cell_type": "markdown",
   "metadata": {},
   "source": [
    "Plot shows that the spline fits data well except at the extreme values of $dis$, (especially $dis > 10$).\n",
    "\n",
    "### 1.5 Fit a set of splines with different degrees of freedom.\n",
    "\n",
    "Now fit a regression spline for a range of degrees of freedom, and plot the resulting fits and report the resulting RSS. Describe the results obtained. \n",
    "\n",
    "We fit regression splines with dfs between 3 and 16."
   ]
  },
  {
   "cell_type": "code",
   "execution_count": 11,
   "metadata": {},
   "outputs": [
    {
     "data": {
      "image/png": "[encoded data removed]",
      "text/plain": [
       "plot without title"
      ]
     },
     "metadata": {},
     "output_type": "display_data"
    }
   ],
   "source": [
    "rss <- rep(NA, 16)\n",
    "for (i in 3:16) {\n",
    "    fit <- lm(nox ~ bs(dis, df = i), data = Boston)\n",
    "    rss[i] <- sum(fit$residuals^2)\n",
    "}\n",
    "plot(3:16, rss[-c(1, 2)], xlab = \"Degrees of freedom\", ylab = \"RSS\", type = \"l\")"
   ]
  },
  {
   "cell_type": "markdown",
   "metadata": {},
   "source": [
    "Train RSS monotonically decreases till df=14 and then slightly increases for df=15 and df=16. Now, we need to select the best degree of freedom. \n",
    "\n",
    "### 1.6 Cross-validate the degree of freedom in regression spline\n",
    "\n",
    "Perform cross-validation in order to select the best degrees of freedom for a regression spline on this data. Describe your results. As what we did 1.3, we are going to use 10-fold cross-validation. (Note ignore the warning messages)"
   ]
  },
  {
   "cell_type": "code",
   "execution_count": 12,
   "metadata": {},
   "outputs": [
    {
     "name": "stderr",
     "output_type": "stream",
     "text": [
      "Warning message in bs(dis, degree = 3L, knots = numeric(0), Boundary.knots = c(1.1296, :\n",
      "\"some 'x' values beyond boundary knots may cause ill-conditioned bases\"Warning message in bs(dis, degree = 3L, knots = numeric(0), Boundary.knots = c(1.1296, :\n",
      "\"some 'x' values beyond boundary knots may cause ill-conditioned bases\"Warning message in bs(dis, degree = 3L, knots = numeric(0), Boundary.knots = c(1.137, :\n",
      "\"some 'x' values beyond boundary knots may cause ill-conditioned bases\"Warning message in bs(dis, degree = 3L, knots = numeric(0), Boundary.knots = c(1.137, :\n",
      "\"some 'x' values beyond boundary knots may cause ill-conditioned bases\"Warning message in bs(dis, degree = 3L, knots = structure(3.0993, .Names = \"50%\"), :\n",
      "\"some 'x' values beyond boundary knots may cause ill-conditioned bases\"Warning message in bs(dis, degree = 3L, knots = structure(3.0993, .Names = \"50%\"), :\n",
      "\"some 'x' values beyond boundary knots may cause ill-conditioned bases\"Warning message in bs(dis, degree = 3L, knots = structure(3.1523, .Names = \"50%\"), :\n",
      "\"some 'x' values beyond boundary knots may cause ill-conditioned bases\"Warning message in bs(dis, degree = 3L, knots = structure(3.1523, .Names = \"50%\"), :\n",
      "\"some 'x' values beyond boundary knots may cause ill-conditioned bases\"Warning message in bs(dis, degree = 3L, knots = structure(c(2.38403333333333, 4.25576666666667:\n",
      "\"some 'x' values beyond boundary knots may cause ill-conditioned bases\"Warning message in bs(dis, degree = 3L, knots = structure(c(2.38403333333333, 4.25576666666667:\n",
      "\"some 'x' values beyond boundary knots may cause ill-conditioned bases\"Warning message in bs(dis, degree = 3L, knots = structure(c(2.38876666666667, 4.4031:\n",
      "\"some 'x' values beyond boundary knots may cause ill-conditioned bases\"Warning message in bs(dis, degree = 3L, knots = structure(c(2.38876666666667, 4.4031:\n",
      "\"some 'x' values beyond boundary knots may cause ill-conditioned bases\"Warning message in bs(dis, degree = 3L, knots = structure(c(2.102875, 3.26745, 5.218725:\n",
      "\"some 'x' values beyond boundary knots may cause ill-conditioned bases\"Warning message in bs(dis, degree = 3L, knots = structure(c(2.102875, 3.26745, 5.218725:\n",
      "\"some 'x' values beyond boundary knots may cause ill-conditioned bases\"Warning message in bs(dis, degree = 3L, knots = structure(c(2.0788, 3.2721, 5.2119:\n",
      "\"some 'x' values beyond boundary knots may cause ill-conditioned bases\"Warning message in bs(dis, degree = 3L, knots = structure(c(2.0788, 3.2721, 5.2119:\n",
      "\"some 'x' values beyond boundary knots may cause ill-conditioned bases\"Warning message in bs(dis, degree = 3L, knots = structure(c(1.94264, 2.62334, 3.9175, :\n",
      "\"some 'x' values beyond boundary knots may cause ill-conditioned bases\"Warning message in bs(dis, degree = 3L, knots = structure(c(1.94264, 2.62334, 3.9175, :\n",
      "\"some 'x' values beyond boundary knots may cause ill-conditioned bases\"Warning message in bs(dis, degree = 3L, knots = structure(c(1.97036, 2.66262, 3.85838, :\n",
      "\"some 'x' values beyond boundary knots may cause ill-conditioned bases\"Warning message in bs(dis, degree = 3L, knots = structure(c(1.97036, 2.66262, 3.85838, :\n",
      "\"some 'x' values beyond boundary knots may cause ill-conditioned bases\"Warning message in bs(dis, degree = 3L, knots = structure(c(1.87351666666667, 2.3865, :\n",
      "\"some 'x' values beyond boundary knots may cause ill-conditioned bases\"Warning message in bs(dis, degree = 3L, knots = structure(c(1.87351666666667, 2.3865, :\n",
      "\"some 'x' values beyond boundary knots may cause ill-conditioned bases\"Warning message in bs(dis, degree = 3L, knots = structure(c(1.84476666666667, 2.3817, :\n",
      "\"some 'x' values beyond boundary knots may cause ill-conditioned bases\"Warning message in bs(dis, degree = 3L, knots = structure(c(1.84476666666667, 2.3817, :\n",
      "\"some 'x' values beyond boundary knots may cause ill-conditioned bases\"Warning message in bs(dis, degree = 3L, knots = structure(c(1.79777142857143, 2.219, :\n",
      "\"some 'x' values beyond boundary knots may cause ill-conditioned bases\"Warning message in bs(dis, degree = 3L, knots = structure(c(1.79777142857143, 2.219, :\n",
      "\"some 'x' values beyond boundary knots may cause ill-conditioned bases\"Warning message in bs(dis, degree = 3L, knots = structure(c(1.79078571428571, 2.16592857142857, :\n",
      "\"some 'x' values beyond boundary knots may cause ill-conditioned bases\"Warning message in bs(dis, degree = 3L, knots = structure(c(1.79078571428571, 2.16592857142857, :\n",
      "\"some 'x' values beyond boundary knots may cause ill-conditioned bases\"Warning message in bs(dis, degree = 3L, knots = structure(c(1.734325, 2.0493, 2.4718, :\n",
      "\"some 'x' values beyond boundary knots may cause ill-conditioned bases\"Warning message in bs(dis, degree = 3L, knots = structure(c(1.734325, 2.0493, 2.4718, :\n",
      "\"some 'x' values beyond boundary knots may cause ill-conditioned bases\"Warning message in bs(dis, degree = 3L, knots = structure(c(1.7275, 2.0581, 2.4553, :\n",
      "\"some 'x' values beyond boundary knots may cause ill-conditioned bases\"Warning message in bs(dis, degree = 3L, knots = structure(c(1.7275, 2.0581, 2.4553, :\n",
      "\"some 'x' values beyond boundary knots may cause ill-conditioned bases\"Warning message in bs(dis, degree = 3L, knots = structure(c(1.65344444444444, 1.98665555555556, :\n",
      "\"some 'x' values beyond boundary knots may cause ill-conditioned bases\"Warning message in bs(dis, degree = 3L, knots = structure(c(1.65344444444444, 1.98665555555556, :\n",
      "\"some 'x' values beyond boundary knots may cause ill-conditioned bases\"Warning message in bs(dis, degree = 3L, knots = structure(c(1.71806666666667, 2.00333333333333, :\n",
      "\"some 'x' values beyond boundary knots may cause ill-conditioned bases\"Warning message in bs(dis, degree = 3L, knots = structure(c(1.71806666666667, 2.00333333333333, :\n",
      "\"some 'x' values beyond boundary knots may cause ill-conditioned bases\"Warning message in bs(dis, degree = 3L, knots = structure(c(1.6424, 1.96376, 2.26178, :\n",
      "\"some 'x' values beyond boundary knots may cause ill-conditioned bases\"Warning message in bs(dis, degree = 3L, knots = structure(c(1.6424, 1.96376, 2.26178, :\n",
      "\"some 'x' values beyond boundary knots may cause ill-conditioned bases\"Warning message in bs(dis, degree = 3L, knots = structure(c(1.64186, 1.95434, 2.2693, :\n",
      "\"some 'x' values beyond boundary knots may cause ill-conditioned bases\"Warning message in bs(dis, degree = 3L, knots = structure(c(1.64186, 1.95434, 2.2693, :\n",
      "\"some 'x' values beyond boundary knots may cause ill-conditioned bases\"Warning message in bs(dis, degree = 3L, knots = structure(c(1.59590909090909, 1.90056363636364, :\n",
      "\"some 'x' values beyond boundary knots may cause ill-conditioned bases\"Warning message in bs(dis, degree = 3L, knots = structure(c(1.59590909090909, 1.90056363636364, :\n",
      "\"some 'x' values beyond boundary knots may cause ill-conditioned bases\"Warning message in bs(dis, degree = 3L, knots = structure(c(1.61450909090909, 1.9047, :\n",
      "\"some 'x' values beyond boundary knots may cause ill-conditioned bases\"Warning message in bs(dis, degree = 3L, knots = structure(c(1.61450909090909, 1.9047, :\n",
      "\"some 'x' values beyond boundary knots may cause ill-conditioned bases\"Warning message in bs(dis, degree = 3L, knots = structure(c(1.591425, 1.86565, 2.100525, :\n",
      "\"some 'x' values beyond boundary knots may cause ill-conditioned bases\"Warning message in bs(dis, degree = 3L, knots = structure(c(1.591425, 1.86565, 2.100525, :\n",
      "\"some 'x' values beyond boundary knots may cause ill-conditioned bases\"Warning message in bs(dis, degree = 3L, knots = structure(c(1.58948333333333, 1.85083333333333, :\n",
      "\"some 'x' values beyond boundary knots may cause ill-conditioned bases\"Warning message in bs(dis, degree = 3L, knots = structure(c(1.58948333333333, 1.85083333333333, :\n",
      "\"some 'x' values beyond boundary knots may cause ill-conditioned bases\"Warning message in bs(dis, degree = 3L, knots = structure(c(1.5888, 1.8172, 2.0407, :\n",
      "\"some 'x' values beyond boundary knots may cause ill-conditioned bases\"Warning message in bs(dis, degree = 3L, knots = structure(c(1.5888, 1.8172, 2.0407, :\n",
      "\"some 'x' values beyond boundary knots may cause ill-conditioned bases\"Warning message in bs(dis, degree = 3L, knots = structure(c(1.5311, 1.80062857142857, :\n",
      "\"some 'x' values beyond boundary knots may cause ill-conditioned bases\"Warning message in bs(dis, degree = 3L, knots = structure(c(1.5311, 1.80062857142857, :\n",
      "\"some 'x' values beyond boundary knots may cause ill-conditioned bases\"Warning message in bs(dis, degree = 3L, knots = structure(c(1.584, 1.81652857142857, :\n",
      "\"some 'x' values beyond boundary knots may cause ill-conditioned bases\"Warning message in bs(dis, degree = 3L, knots = structure(c(1.584, 1.81652857142857, :\n",
      "\"some 'x' values beyond boundary knots may cause ill-conditioned bases\""
     ]
    }
   ],
   "source": [
    "cv <- rep(NA, 16)\n",
    "for (i in 3:16) {\n",
    "    fit <- glm(nox ~ bs(dis, df = i), data = Boston)\n",
    "    cv[i] <- cv.glm(Boston, fit, K = 10)$delta[1]\n",
    "}"
   ]
  },
  {
   "cell_type": "markdown",
   "metadata": {},
   "source": [
    "Now, visualize the CV errors by plotting Test MSE against the degree of freedom."
   ]
  },
  {
   "cell_type": "code",
   "execution_count": 13,
   "metadata": {},
   "outputs": [
    {
     "data": {
      "image/png": "[encoded data removed]",
      "text/plain": [
       "plot without title"
      ]
     },
     "metadata": {},
     "output_type": "display_data"
    }
   ],
   "source": [
    "plot(3:16, cv[-c(1, 2)], xlab = \"Degrees of freedom\", ylab = \"Test MSE\", type = \"l\")"
   ]
  },
  {
   "cell_type": "markdown",
   "metadata": {},
   "source": [
    "CV error is more jumpy in this case, but attains minimum at df=10. We pick $10$ as the optimal degrees of freedom."
   ]
  },
  {
   "cell_type": "markdown",
   "metadata": {},
   "source": [
    "## 2 Generalized additive model\n",
    "\n",
    "In this exercise, we are going to learn how to fit a GAM model to predict the out-of-state tuition on the <font color = \"brown\">College</font> data set. We start with splitting the data into a training set and a test set."
   ]
  },
  {
   "cell_type": "code",
   "execution_count": 4,
   "metadata": {},
   "outputs": [
    {
     "ename": "ERROR",
     "evalue": "Error in library(leaps): there is no package called 'leaps'\n",
     "output_type": "error",
     "traceback": [
      "Error in library(leaps): there is no package called 'leaps'\nTraceback:\n",
      "1. library(leaps)",
      "2. stop(txt, domain = NA)"
     ]
    }
   ],
   "source": [
    "library(leaps)\n",
    "set.seed(1)\n",
    "attach(College)\n",
    "train <- sample(length(Outstate), length(Outstate) / 2)\n",
    "test <- -train\n",
    "College.train <- College[train, ]\n",
    "College.test <- College[test, ]"
   ]
  },
  {
   "cell_type": "markdown",
   "metadata": {},
   "source": [
    "### 2.1 Perform forward stepwise selection\n",
    "Using out-of-state tuition as the response and the other variables as the predictors, perform forward stepwise selection on the training set in order to identify a satisfactory  model that uses just a subset of the predictors.\n"
   ]
  },
  {
   "cell_type": "code",
   "execution_count": 15,
   "metadata": {},
   "outputs": [
    {
     "data": {
      "text/plain": [
       "Subset selection object\n",
       "Call: regsubsets.formula(Outstate ~ ., data = College.train, nvmax = 17, \n",
       "    method = \"forward\")\n",
       "17 Variables  (and intercept)\n",
       "            Forced in Forced out\n",
       "PrivateYes      FALSE      FALSE\n",
       "Apps            FALSE      FALSE\n",
       "Accept          FALSE      FALSE\n",
       "Enroll          FALSE      FALSE\n",
       "Top10perc       FALSE      FALSE\n",
       "Top25perc       FALSE      FALSE\n",
       "F.Undergrad     FALSE      FALSE\n",
       "P.Undergrad     FALSE      FALSE\n",
       "Room.Board      FALSE      FALSE\n",
       "Books           FALSE      FALSE\n",
       "Personal        FALSE      FALSE\n",
       "PhD             FALSE      FALSE\n",
       "Terminal        FALSE      FALSE\n",
       "S.F.Ratio       FALSE      FALSE\n",
       "perc.alumni     FALSE      FALSE\n",
       "Expend          FALSE      FALSE\n",
       "Grad.Rate       FALSE      FALSE\n",
       "1 subsets of each size up to 17\n",
       "Selection Algorithm: forward\n",
       "          PrivateYes Apps Accept Enroll Top10perc Top25perc F.Undergrad\n",
       "1  ( 1 )  \" \"        \" \"  \" \"    \" \"    \" \"       \" \"       \" \"        \n",
       "2  ( 1 )  \"*\"        \" \"  \" \"    \" \"    \" \"       \" \"       \" \"        \n",
       "3  ( 1 )  \"*\"        \" \"  \" \"    \" \"    \" \"       \" \"       \" \"        \n",
       "4  ( 1 )  \"*\"        \" \"  \" \"    \" \"    \" \"       \" \"       \" \"        \n",
       "5  ( 1 )  \"*\"        \" \"  \" \"    \" \"    \" \"       \" \"       \" \"        \n",
       "6  ( 1 )  \"*\"        \" \"  \" \"    \" \"    \" \"       \" \"       \" \"        \n",
       "7  ( 1 )  \"*\"        \" \"  \" \"    \" \"    \" \"       \" \"       \" \"        \n",
       "8  ( 1 )  \"*\"        \" \"  \" \"    \" \"    \" \"       \" \"       \" \"        \n",
       "9  ( 1 )  \"*\"        \" \"  \"*\"    \" \"    \" \"       \" \"       \" \"        \n",
       "10  ( 1 ) \"*\"        \"*\"  \"*\"    \" \"    \" \"       \" \"       \" \"        \n",
       "11  ( 1 ) \"*\"        \"*\"  \"*\"    \" \"    \" \"       \" \"       \"*\"        \n",
       "12  ( 1 ) \"*\"        \"*\"  \"*\"    \" \"    \" \"       \" \"       \"*\"        \n",
       "13  ( 1 ) \"*\"        \"*\"  \"*\"    \" \"    \"*\"       \" \"       \"*\"        \n",
       "14  ( 1 ) \"*\"        \"*\"  \"*\"    \" \"    \"*\"       \" \"       \"*\"        \n",
       "15  ( 1 ) \"*\"        \"*\"  \"*\"    \" \"    \"*\"       \"*\"       \"*\"        \n",
       "16  ( 1 ) \"*\"        \"*\"  \"*\"    \"*\"    \"*\"       \"*\"       \"*\"        \n",
       "17  ( 1 ) \"*\"        \"*\"  \"*\"    \"*\"    \"*\"       \"*\"       \"*\"        \n",
       "          P.Undergrad Room.Board Books Personal PhD Terminal S.F.Ratio\n",
       "1  ( 1 )  \" \"         \" \"        \" \"   \" \"      \" \" \" \"      \" \"      \n",
       "2  ( 1 )  \" \"         \" \"        \" \"   \" \"      \" \" \" \"      \" \"      \n",
       "3  ( 1 )  \" \"         \"*\"        \" \"   \" \"      \" \" \" \"      \" \"      \n",
       "4  ( 1 )  \" \"         \"*\"        \" \"   \" \"      \" \" \" \"      \" \"      \n",
       "5  ( 1 )  \" \"         \"*\"        \" \"   \" \"      \" \" \"*\"      \" \"      \n",
       "6  ( 1 )  \" \"         \"*\"        \" \"   \" \"      \" \" \"*\"      \" \"      \n",
       "7  ( 1 )  \" \"         \"*\"        \" \"   \"*\"      \" \" \"*\"      \" \"      \n",
       "8  ( 1 )  \" \"         \"*\"        \" \"   \"*\"      \" \" \"*\"      \"*\"      \n",
       "9  ( 1 )  \" \"         \"*\"        \" \"   \"*\"      \" \" \"*\"      \"*\"      \n",
       "10  ( 1 ) \" \"         \"*\"        \" \"   \"*\"      \" \" \"*\"      \"*\"      \n",
       "11  ( 1 ) \" \"         \"*\"        \" \"   \"*\"      \" \" \"*\"      \"*\"      \n",
       "12  ( 1 ) \"*\"         \"*\"        \" \"   \"*\"      \" \" \"*\"      \"*\"      \n",
       "13  ( 1 ) \"*\"         \"*\"        \" \"   \"*\"      \" \" \"*\"      \"*\"      \n",
       "14  ( 1 ) \"*\"         \"*\"        \" \"   \"*\"      \"*\" \"*\"      \"*\"      \n",
       "15  ( 1 ) \"*\"         \"*\"        \" \"   \"*\"      \"*\" \"*\"      \"*\"      \n",
       "16  ( 1 ) \"*\"         \"*\"        \" \"   \"*\"      \"*\" \"*\"      \"*\"      \n",
       "17  ( 1 ) \"*\"         \"*\"        \"*\"   \"*\"      \"*\" \"*\"      \"*\"      \n",
       "          perc.alumni Expend Grad.Rate\n",
       "1  ( 1 )  \" \"         \"*\"    \" \"      \n",
       "2  ( 1 )  \" \"         \"*\"    \" \"      \n",
       "3  ( 1 )  \" \"         \"*\"    \" \"      \n",
       "4  ( 1 )  \"*\"         \"*\"    \" \"      \n",
       "5  ( 1 )  \"*\"         \"*\"    \" \"      \n",
       "6  ( 1 )  \"*\"         \"*\"    \"*\"      \n",
       "7  ( 1 )  \"*\"         \"*\"    \"*\"      \n",
       "8  ( 1 )  \"*\"         \"*\"    \"*\"      \n",
       "9  ( 1 )  \"*\"         \"*\"    \"*\"      \n",
       "10  ( 1 ) \"*\"         \"*\"    \"*\"      \n",
       "11  ( 1 ) \"*\"         \"*\"    \"*\"      \n",
       "12  ( 1 ) \"*\"         \"*\"    \"*\"      \n",
       "13  ( 1 ) \"*\"         \"*\"    \"*\"      \n",
       "14  ( 1 ) \"*\"         \"*\"    \"*\"      \n",
       "15  ( 1 ) \"*\"         \"*\"    \"*\"      \n",
       "16  ( 1 ) \"*\"         \"*\"    \"*\"      \n",
       "17  ( 1 ) \"*\"         \"*\"    \"*\"      "
      ]
     },
     "metadata": {},
     "output_type": "display_data"
    }
   ],
   "source": [
    "fit <- regsubsets(Outstate ~ ., data = College.train, nvmax = 17, method = \"forward\")\n",
    "fit.summary <- summary(fit)\n",
    "fit.summary"
   ]
  },
  {
   "cell_type": "markdown",
   "metadata": {},
   "source": [
    "We plot $C_p$, BIC and adjusted-$R^2$ scores in order to identify a satisfactory model."
   ]
  },
  {
   "cell_type": "code",
   "execution_count": 16,
   "metadata": {},
   "outputs": [
    {
     "data": {
      "image/png": "[encoded data removed]",
      "text/plain": [
       "plot without title"
      ]
     },
     "metadata": {},
     "output_type": "display_data"
    }
   ],
   "source": [
    "par(mfrow = c(1, 3))\n",
    "plot(fit.summary$cp, xlab = \"Number of variables\", ylab = \"Cp\", type = \"l\")\n",
    "min.cp <- min(fit.summary$cp)\n",
    "std.cp <- sd(fit.summary$cp)\n",
    "abline(h = min.cp + 0.2 * std.cp, col = \"red\", lty = 2)\n",
    "abline(h = min.cp - 0.2 * std.cp, col = \"red\", lty = 2)\n",
    "plot(fit.summary$bic, xlab = \"Number of variables\", ylab = \"BIC\", type='l')\n",
    "min.bic <- min(fit.summary$bic)\n",
    "std.bic <- sd(fit.summary$bic)\n",
    "abline(h = min.bic + 0.2 * std.bic, col = \"red\", lty = 2)\n",
    "abline(h = min.bic - 0.2 * std.bic, col = \"red\", lty = 2)\n",
    "plot(fit.summary$adjr2, xlab = \"Number of variables\", ylab = \"Adjusted R2\", type = \"l\", ylim = c(0.4, 0.84))\n",
    "max.adjr2 <- max(fit.summary$adjr2)\n",
    "std.adjr2 <- sd(fit.summary$adjr2)\n",
    "abline(h = max.adjr2 + 0.2 * std.adjr2, col = \"red\", lty = 2)\n",
    "abline(h = max.adjr2 - 0.2 * std.adjr2, col = \"red\", lty = 2)"
   ]
  },
  {
   "cell_type": "markdown",
   "metadata": {},
   "source": [
    "$C_p$, BIC and adjusted-$R^2$ show that size 6 is the minimum size for the subset for which the scores\n",
    "are within 0.2 standard deviations of optimum. We pick 6 as the best subset size and find best 6 variables using entire data."
   ]
  },
  {
   "cell_type": "code",
   "execution_count": 17,
   "metadata": {},
   "outputs": [
    {
     "data": {
      "text/html": [
       "<ol class=list-inline>\n",
       "\t<li>'(Intercept)'</li>\n",
       "\t<li>'PrivateYes'</li>\n",
       "\t<li>'Room.Board'</li>\n",
       "\t<li>'PhD'</li>\n",
       "\t<li>'perc.alumni'</li>\n",
       "\t<li>'Expend'</li>\n",
       "\t<li>'Grad.Rate'</li>\n",
       "</ol>\n"
      ],
      "text/latex": [
       "\\begin{enumerate*}\n",
       "\\item '(Intercept)'\n",
       "\\item 'PrivateYes'\n",
       "\\item 'Room.Board'\n",
       "\\item 'PhD'\n",
       "\\item 'perc.alumni'\n",
       "\\item 'Expend'\n",
       "\\item 'Grad.Rate'\n",
       "\\end{enumerate*}\n"
      ],
      "text/markdown": [
       "1. '(Intercept)'\n",
       "2. 'PrivateYes'\n",
       "3. 'Room.Board'\n",
       "4. 'PhD'\n",
       "5. 'perc.alumni'\n",
       "6. 'Expend'\n",
       "7. 'Grad.Rate'\n",
       "\n",
       "\n"
      ],
      "text/plain": [
       "[1] \"(Intercept)\" \"PrivateYes\"  \"Room.Board\"  \"PhD\"         \"perc.alumni\"\n",
       "[6] \"Expend\"      \"Grad.Rate\"  "
      ]
     },
     "metadata": {},
     "output_type": "display_data"
    }
   ],
   "source": [
    "fit <- regsubsets(Outstate ~ ., data = College, method = \"forward\")\n",
    "coeffs <- coef(fit, id = 6)\n",
    "names(coeffs)"
   ]
  },
  {
   "cell_type": "markdown",
   "metadata": {},
   "source": [
    "### 2.2 Fit a GAM\n",
    "Fit a GAM on the training data, using out-of-state tuition as the response and the features selected in the previous step as the predictors. Plot the results, and explain your findings."
   ]
  },
  {
   "cell_type": "code",
   "execution_count": 5,
   "metadata": {},
   "outputs": [
    {
     "name": "stderr",
     "output_type": "stream",
     "text": [
      "Loading required package: gam\n",
      "Warning message in library(package, lib.loc = lib.loc, character.only = TRUE, logical.return = TRUE, :\n",
      "\"there is no package called 'gam'\""
     ]
    }
   ],
   "source": [
    "require(gam)"
   ]
  },
  {
   "cell_type": "markdown",
   "metadata": {},
   "source": [
    "We are going to use smooth spline as the feature function, which can be implemented by using the <font color=\"blue\">s()</font> function in the <font color=\"brown\">gam</font> library."
   ]
  },
  {
   "cell_type": "code",
   "execution_count": 22,
   "metadata": {},
   "outputs": [],
   "source": [
    "gam.fit <- gam(Outstate ~ Private + s(Room.Board, df = 2) + s(PhD, df = 2) + s(perc.alumni, df = 2) + s(Expend, df = 5) + s(Grad.Rate, df = 2), data=College.train)"
   ]
  },
  {
   "cell_type": "markdown",
   "metadata": {},
   "source": [
    "In order to produce similar plots as shown in Figure 7.12 in the textbook, we simply call the <font color=\"blue\">plot()</font> function."
   ]
  },
  {
   "cell_type": "code",
   "execution_count": 24,
   "metadata": {},
   "outputs": [
    {
     "data": {
      "image/png": "[encoded data removed]",
      "text/plain": [
       "plot without title"
      ]
     },
     "metadata": {},
     "output_type": "display_data"
    }
   ],
   "source": [
    "par(mfrow = c(2, 3))\n",
    "plot(gam.fit, se = T, col = \"blue\")"
   ]
  },
  {
   "cell_type": "markdown",
   "metadata": {},
   "source": [
    "### 2.3 Model evaluation\n",
    "\n",
    "Evaluate the model obtained on the test set, and explain the results obtained."
   ]
  },
  {
   "cell_type": "code",
   "execution_count": 25,
   "metadata": {},
   "outputs": [
    {
     "data": {
      "text/html": [
       "3745459.63669017"
      ],
      "text/latex": [
       "3745459.63669017"
      ],
      "text/markdown": [
       "3745459.63669017"
      ],
      "text/plain": [
       "[1] 3745460"
      ]
     },
     "metadata": {},
     "output_type": "display_data"
    }
   ],
   "source": [
    "gam.preds <- predict(gam.fit, College.test)\n",
    "gam.err <- mean((College.test$Outstate - gam.preds)^2)\n",
    "gam.err"
   ]
  },
  {
   "cell_type": "code",
   "execution_count": 26,
   "metadata": {},
   "outputs": [
    {
     "data": {
      "text/html": [
       "0.76969156220419"
      ],
      "text/latex": [
       "0.76969156220419"
      ],
      "text/markdown": [
       "0.76969156220419"
      ],
      "text/plain": [
       "[1] 0.7696916"
      ]
     },
     "metadata": {},
     "output_type": "display_data"
    }
   ],
   "source": [
    "gam.tss = mean((College.test$Outstate - mean(College.test$Outstate))^2)\n",
    "test.rss = 1 - gam.err/gam.tss\n",
    "test.rss"
   ]
  },
  {
   "cell_type": "markdown",
   "metadata": {},
   "source": [
    "We obtain a test R-squared of 0.77 using GAM with 6 predictors. This is a slight improvement over a test RSS of 0.74 obtained using OLS.\n",
    "\n",
    "For which variables, if any, is there evidence of a non-linear relationship with the response?"
   ]
  },
  {
   "cell_type": "code",
   "execution_count": 27,
   "metadata": {},
   "outputs": [
    {
     "data": {
      "text/plain": [
       "\n",
       "Call: gam(formula = Outstate ~ Private + s(Room.Board, df = 2) + s(PhD, \n",
       "    df = 2) + s(perc.alumni, df = 2) + s(Expend, df = 5) + s(Grad.Rate, \n",
       "    df = 2), data = College.train)\n",
       "Deviance Residuals:\n",
       "     Min       1Q   Median       3Q      Max \n",
       "-4977.74 -1184.52    58.33  1220.04  7688.30 \n",
       "\n",
       "(Dispersion Parameter for gaussian family taken to be 3300711)\n",
       "\n",
       "    Null Deviance: 6221998532 on 387 degrees of freedom\n",
       "Residual Deviance: 1231165118 on 373 degrees of freedom\n",
       "AIC: 6941.542 \n",
       "\n",
       "Number of Local Scoring Iterations: 2 \n",
       "\n",
       "Anova for Parametric Effects\n",
       "                        Df     Sum Sq    Mean Sq F value    Pr(>F)    \n",
       "Private                  1 1779433688 1779433688 539.106 < 2.2e-16 ***\n",
       "s(Room.Board, df = 2)    1 1221825562 1221825562 370.171 < 2.2e-16 ***\n",
       "s(PhD, df = 2)           1  382472137  382472137 115.876 < 2.2e-16 ***\n",
       "s(perc.alumni, df = 2)   1  328493313  328493313  99.522 < 2.2e-16 ***\n",
       "s(Expend, df = 5)        1  416585875  416585875 126.211 < 2.2e-16 ***\n",
       "s(Grad.Rate, df = 2)     1   55284580   55284580  16.749 5.232e-05 ***\n",
       "Residuals              373 1231165118    3300711                      \n",
       "---\n",
       "Signif. codes:  0 '***' 0.001 '**' 0.01 '*' 0.05 '.' 0.1 ' ' 1\n",
       "\n",
       "Anova for Nonparametric Effects\n",
       "                       Npar Df  Npar F     Pr(F)    \n",
       "(Intercept)                                         \n",
       "Private                                             \n",
       "s(Room.Board, df = 2)        1  3.5562   0.06010 .  \n",
       "s(PhD, df = 2)               1  4.3421   0.03786 *  \n",
       "s(perc.alumni, df = 2)       1  1.9158   0.16715    \n",
       "s(Expend, df = 5)            4 16.8636 1.016e-12 ***\n",
       "s(Grad.Rate, df = 2)         1  3.7208   0.05450 .  \n",
       "---\n",
       "Signif. codes:  0 '***' 0.001 '**' 0.01 '*' 0.05 '.' 0.1 ' ' 1"
      ]
     },
     "metadata": {},
     "output_type": "display_data"
    }
   ],
   "source": [
    "summary(gam.fit)"
   ]
  },
  {
   "cell_type": "markdown",
   "metadata": {},
   "source": [
    "Non-parametric Anova test shows a strong evidence of non-linear relationship between response and Expend, and a moderately strong non-linear relationship (using p value of 0.05) between response and Grad.Rate or PhD."
   ]
  }
 ],
 "metadata": {
  "kernelspec": {
   "display_name": "R",
   "language": "R",
   "name": "ir"
  },
  "language_info": {
   "codemirror_mode": "r",
   "file_extension": ".r",
   "mimetype": "text/x-r-source",
   "name": "R",
   "pygments_lexer": "r",
   "version": "3.5.1"
  }
 },
 "nbformat": 4,
 "nbformat_minor": 1
}
