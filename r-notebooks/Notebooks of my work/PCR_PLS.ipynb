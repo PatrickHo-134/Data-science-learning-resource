{
 "cells": [
  {
   "cell_type": "markdown",
   "metadata": {},
   "source": [
    "# PCR and PLS\n",
    "\n",
    "The materials used in this tutorial are based on the applied exercises provided in the book \"An Introduction to Statistical Learning with Applications in R\" (ISLR). We are trying to demonstrate how to implement the following methods to deal with the curse of dimensionality:\n",
    "* Principle Component Regression (PCR)\n",
    "* Partial Least Squares (PLS)\n",
    "    \n",
    "We have discussed that if the number of predictors is approximately equal to or larger than the number of observations, we can easily yield an over-fitted model. The problem of high dimension is very common in, for example, image processing, bio-informatics, etc. In the following exercises, we will show you how to use PCA and PLS.\n",
    "\n",
    "\n",
    "## 1. Predict the number of applications in the College data\n",
    "\n",
    "In the last tutorial, we how demonstrate how to penalize the linear regression with $L_1$ and $L_2$ regularization. In this exercise, we will predict the number of applications received using the other variables in the College data set with PCA and PLS."
   ]
  },
  {
   "cell_type": "code",
   "execution_count": 1,
   "metadata": {},
   "outputs": [],
   "source": [
    "library(ISLR)\n",
    "data(College)"
   ]
  },
  {
   "cell_type": "code",
   "execution_count": 2,
   "metadata": {},
   "outputs": [],
   "source": [
    "help(College)"
   ]
  },
  {
   "cell_type": "code",
   "execution_count": 3,
   "metadata": {},
   "outputs": [
    {
     "data": {
      "text/plain": [
       " Private        Apps           Accept          Enroll       Top10perc    \n",
       " No :212   Min.   :   81   Min.   :   72   Min.   :  35   Min.   : 1.00  \n",
       " Yes:565   1st Qu.:  776   1st Qu.:  604   1st Qu.: 242   1st Qu.:15.00  \n",
       "           Median : 1558   Median : 1110   Median : 434   Median :23.00  \n",
       "           Mean   : 3002   Mean   : 2019   Mean   : 780   Mean   :27.56  \n",
       "           3rd Qu.: 3624   3rd Qu.: 2424   3rd Qu.: 902   3rd Qu.:35.00  \n",
       "           Max.   :48094   Max.   :26330   Max.   :6392   Max.   :96.00  \n",
       "   Top25perc      F.Undergrad     P.Undergrad         Outstate    \n",
       " Min.   :  9.0   Min.   :  139   Min.   :    1.0   Min.   : 2340  \n",
       " 1st Qu.: 41.0   1st Qu.:  992   1st Qu.:   95.0   1st Qu.: 7320  \n",
       " Median : 54.0   Median : 1707   Median :  353.0   Median : 9990  \n",
       " Mean   : 55.8   Mean   : 3700   Mean   :  855.3   Mean   :10441  \n",
       " 3rd Qu.: 69.0   3rd Qu.: 4005   3rd Qu.:  967.0   3rd Qu.:12925  \n",
       " Max.   :100.0   Max.   :31643   Max.   :21836.0   Max.   :21700  \n",
       "   Room.Board       Books           Personal         PhD        \n",
       " Min.   :1780   Min.   :  96.0   Min.   : 250   Min.   :  8.00  \n",
       " 1st Qu.:3597   1st Qu.: 470.0   1st Qu.: 850   1st Qu.: 62.00  \n",
       " Median :4200   Median : 500.0   Median :1200   Median : 75.00  \n",
       " Mean   :4358   Mean   : 549.4   Mean   :1341   Mean   : 72.66  \n",
       " 3rd Qu.:5050   3rd Qu.: 600.0   3rd Qu.:1700   3rd Qu.: 85.00  \n",
       " Max.   :8124   Max.   :2340.0   Max.   :6800   Max.   :103.00  \n",
       "    Terminal       S.F.Ratio      perc.alumni        Expend     \n",
       " Min.   : 24.0   Min.   : 2.50   Min.   : 0.00   Min.   : 3186  \n",
       " 1st Qu.: 71.0   1st Qu.:11.50   1st Qu.:13.00   1st Qu.: 6751  \n",
       " Median : 82.0   Median :13.60   Median :21.00   Median : 8377  \n",
       " Mean   : 79.7   Mean   :14.09   Mean   :22.74   Mean   : 9660  \n",
       " 3rd Qu.: 92.0   3rd Qu.:16.50   3rd Qu.:31.00   3rd Qu.:10830  \n",
       " Max.   :100.0   Max.   :39.80   Max.   :64.00   Max.   :56233  \n",
       "   Grad.Rate     \n",
       " Min.   : 10.00  \n",
       " 1st Qu.: 53.00  \n",
       " Median : 65.00  \n",
       " Mean   : 65.46  \n",
       " 3rd Qu.: 78.00  \n",
       " Max.   :118.00  "
      ]
     },
     "metadata": {},
     "output_type": "display_data"
    }
   ],
   "source": [
    "summary(College)"
   ]
  },
  {
   "cell_type": "markdown",
   "metadata": {},
   "source": [
    "### 1.1 Split the data set into a training set and a test set. \n",
    "As what we usually do, we should split the whole data set into a training set and a test set. We then fit our model on the training set and test its performance on the test set. Here, we randomly choose half of the data to be training data, the other half to be test data."
   ]
  },
  {
   "cell_type": "code",
   "execution_count": 4,
   "metadata": {},
   "outputs": [],
   "source": [
    "set.seed(1)\n",
    "# Randomly sample \n",
    "train = sample(1:dim(College)[1], dim(College)[1] / 2)\n",
    "test <- -train \n",
    "College.train <- College[train, ]\n",
    "College.test <- College[test, ]"
   ]
  },
  {
   "cell_type": "markdown",
   "metadata": {},
   "source": [
    "### 1.2 Fit a PCR model\n",
    "\n",
    "Fit a PCR model on the training set, with M chosen by cross-validation. Report the test error obtained, along with the value of M selected by cross-validation. In this task, the R library that you need is <a href=\"https://cran.r-project.org/web/packages/pls/pls.pdf\">pls</a>. If you would like to know more about the usage of pls, you can read Sections 3 to 8 of <a href=\"https://cran.r-project.org/web/packages/pls/vignettes/pls-manual.pdf\">\"Introduction to the pls Package\"</a>.\n"
   ]
  },
  {
   "cell_type": "code",
   "execution_count": 8,
   "metadata": {},
   "outputs": [],
   "source": [
    "library(pls)\n",
    "# install.packages(\"pls\", repos = 'http://cran.us.r-project.org')"
   ]
  },
  {
   "cell_type": "markdown",
   "metadata": {},
   "source": [
    "A typical way of fitting a PCR model with cross-validation is to use the <font color=\"blue\">pcr()</font> function, to see the usage of the function please type "
   ]
  },
  {
   "cell_type": "code",
   "execution_count": 9,
   "metadata": {},
   "outputs": [],
   "source": [
    "help(pcr)"
   ]
  },
  {
   "cell_type": "markdown",
   "metadata": {},
   "source": [
    "According to the usage of <font color=\"blue\">pcr()</font>, write your fitting code"
   ]
  },
  {
   "cell_type": "code",
   "execution_count": 10,
   "metadata": {},
   "outputs": [
    {
     "name": "stdout",
     "output_type": "stream",
     "text": [
      "Data: \tX dimension: 388 17 \n",
      "\tY dimension: 388 1\n",
      "Fit method: svdpc\n",
      "Number of components considered: 17\n",
      "\n",
      "VALIDATION: RMSEP\n",
      "Cross-validated using 10 random segments.\n",
      "       (Intercept)  1 comps  2 comps  3 comps  4 comps  5 comps  6 comps\n",
      "CV            4335     4194     2363     2378     2106     1858     1858\n",
      "adjCV         4335     4194     2359     2379     1892     1845     1850\n",
      "       7 comps  8 comps  9 comps  10 comps  11 comps  12 comps  13 comps\n",
      "CV        1859     1867     1824      1822      1824      1829      1837\n",
      "adjCV     1852     1860     1815      1814      1815      1821      1828\n",
      "       14 comps  15 comps  16 comps  17 comps\n",
      "CV         1830      1819      1267      1285\n",
      "adjCV      1823      1790      1255      1272\n",
      "\n",
      "TRAINING: % variance explained\n",
      "      1 comps  2 comps  3 comps  4 comps  5 comps  6 comps  7 comps  8 comps\n",
      "X      31.216    57.68    64.73    70.55    76.33    81.30    85.01    88.40\n",
      "Apps    6.976    71.47    71.58    83.32    83.44    83.45    83.46    83.47\n",
      "      9 comps  10 comps  11 comps  12 comps  13 comps  14 comps  15 comps\n",
      "X       91.16     93.36     95.38     96.94     97.96     98.76     99.40\n",
      "Apps    84.53     84.86     84.98     84.98     84.99     85.24     90.87\n",
      "      16 comps  17 comps\n",
      "X        99.87    100.00\n",
      "Apps     93.93     93.97\n"
     ]
    }
   ],
   "source": [
    "fit.pcr <- pcr(Apps ~ ., data = College.train, scale = TRUE, validation = \"CV\")\n",
    "summary(fit.pcr) "
   ]
  },
  {
   "cell_type": "markdown",
   "metadata": {},
   "source": [
    "In the summary, there are two main results, namely the validation error and the cumulative percentage of variance explained using n components. The cross validation results are computed for each number of components used so that you can easily check the score with a particular number of components. The validation results are Root Mean Squared Error of Prediction (RMSEP). There are two cross-validation estimates: CV is the ordinary CV estimate, and adjCV is a bias-corrected CV estimate. Note that the percentage of variance explained in the predictors and in the response using different $M$ increases as $M$ increases.\n",
    "\n",
    "If is often simpler to judge the RMSEPs by plotting them, one way to do that\n",
    "is to use \n",
    "```r\n",
    "plot(RMSEP(fit.pcr), legendpos=\"topright\")\n",
    "```\n",
    "Instead, you can use the <font color=\"blue\">validationplot()</font> function."
   ]
  },
  {
   "cell_type": "code",
   "execution_count": 11,
   "metadata": {},
   "outputs": [
    {
     "data": {
      "image/png": "[encoded data removed]",
      "text/plain": [
       "Plot with title \"Apps\""
      ]
     },
     "metadata": {},
     "output_type": "display_data"
    }
   ],
   "source": [
    "validationplot(fit.pcr, val.type = \"MSEP\", legendpos=\"topright\")\n",
    "#help(validationplot)"
   ]
  },
  {
   "cell_type": "markdown",
   "metadata": {},
   "source": [
    "The plot shows that the smallest cross-validation error occurs when $M = 16$, which is only one less than the total number of predictors in the data set. We might think about just performing least squares.\n",
    "\n",
    "Now, we have found the lowest cross-validation error occurs when $M= 16$ components are used. We can compute the test MSE as follows"
   ]
  },
  {
   "cell_type": "code",
   "execution_count": 12,
   "metadata": {},
   "outputs": [
    {
     "data": {
      "text/html": [
       "1166897.06906373"
      ],
      "text/latex": [
       "1166897.06906373"
      ],
      "text/markdown": [
       "1166897.06906373"
      ],
      "text/plain": [
       "[1] 1166897"
      ]
     },
     "metadata": {},
     "output_type": "display_data"
    }
   ],
   "source": [
    "pred.pcr <- predict(fit.pcr, College.test, ncomp = 16)\n",
    "mean((pred.pcr - College.test$Apps)^2)"
   ]
  },
  {
   "cell_type": "markdown",
   "metadata": {},
   "source": [
    "Compared with the MSE derived by Lasso and Ridge regression, the MSE given by PCR is larger. In this case, one might just choose to use either Lasso or Ridge regression."
   ]
  },
  {
   "cell_type": "markdown",
   "metadata": {},
   "source": [
    "### 1.3  FIT a PLS model\n",
    "Similar to what you have done with PCR, fit a PLS model on the training set, with M chosen by cross-validation. Report the test error obtained, along with the value of M selected by cross-validation.\n",
    "\n",
    "To do so, you need the <font color=\"blue\"> plsr()</font> function, and remember to print out the summary.\n"
   ]
  },
  {
   "cell_type": "code",
   "execution_count": 13,
   "metadata": {},
   "outputs": [
    {
     "name": "stdout",
     "output_type": "stream",
     "text": [
      "Data: \tX dimension: 388 17 \n",
      "\tY dimension: 388 1\n",
      "Fit method: kernelpls\n",
      "Number of components considered: 17\n",
      "\n",
      "VALIDATION: RMSEP\n",
      "Cross-validated using 10 random segments.\n",
      "       (Intercept)  1 comps  2 comps  3 comps  4 comps  5 comps  6 comps\n",
      "CV            4335     2196     1894     1752     1672     1496     1416\n",
      "adjCV         4335     2188     1891     1743     1636     1461     1393\n",
      "       7 comps  8 comps  9 comps  10 comps  11 comps  12 comps  13 comps\n",
      "CV        1395     1398     1386      1384      1384      1385      1384\n",
      "adjCV     1374     1377     1366      1365      1365      1366      1365\n",
      "       14 comps  15 comps  16 comps  17 comps\n",
      "CV         1385      1385      1385      1385\n",
      "adjCV      1365      1366      1366      1366\n",
      "\n",
      "TRAINING: % variance explained\n",
      "      1 comps  2 comps  3 comps  4 comps  5 comps  6 comps  7 comps  8 comps\n",
      "X       26.91    43.08    63.26    65.16    68.50    73.75    76.10    79.03\n",
      "Apps    76.64    83.93    87.14    91.90    93.49    93.85    93.91    93.94\n",
      "      9 comps  10 comps  11 comps  12 comps  13 comps  14 comps  15 comps\n",
      "X       81.76     85.41     89.03     91.38     93.31     95.43     97.41\n",
      "Apps    93.96     93.96     93.96     93.97     93.97     93.97     93.97\n",
      "      16 comps  17 comps\n",
      "X        98.78    100.00\n",
      "Apps     93.97     93.97\n"
     ]
    }
   ],
   "source": [
    "fit.pls <- plsr(Apps ~ ., data = College.train, scale = TRUE, validation = \"CV\")\n",
    "summary(fit.pls)"
   ]
  },
  {
   "cell_type": "markdown",
   "metadata": {},
   "source": [
    "Similarly, we can also plot the MSEP as a function of $M$ with the <font color=\"blue\">validationplot()</font>"
   ]
  },
  {
   "cell_type": "code",
   "execution_count": 14,
   "metadata": {},
   "outputs": [
    {
     "data": {
      "image/png": "[encoded data removed]",
      "text/plain": [
       "Plot with title \"Apps\""
      ]
     },
     "metadata": {},
     "output_type": "display_data"
    }
   ],
   "source": [
    "validationplot(fit.pls, val.type = \"MSEP\")"
   ]
  },
  {
   "cell_type": "markdown",
   "metadata": {},
   "source": [
    "The plot shows that MSEP drops sharply while M changes from 1 to 5. After that, adding more component does not improve the MSEP too much. Here we are going to choose $M=10$ and compute the test MSE."
   ]
  },
  {
   "cell_type": "code",
   "execution_count": 15,
   "metadata": {},
   "outputs": [
    {
     "data": {
      "text/html": [
       "1134531.44247191"
      ],
      "text/latex": [
       "1134531.44247191"
      ],
      "text/markdown": [
       "1134531.44247191"
      ],
      "text/plain": [
       "[1] 1134531"
      ]
     },
     "metadata": {},
     "output_type": "display_data"
    }
   ],
   "source": [
    "pred.pls <- predict(fit.pls, College.test, ncomp = 10)\n",
    "mean((pred.pls - College.test$Apps)^2)"
   ]
  },
  {
   "cell_type": "markdown",
   "metadata": {},
   "source": [
    "The PLS model yielded lower MSE than did the PCR model.\n",
    "\n",
    "You have seen how to use the <font color=\"blue\">validationplot</font> to assess how many components are optimal. Actually, there are some other plots that we can use to diagnose the fitted models. For example,\n",
    "\n",
    "* Plots of the regression coefficients or loadings"
   ]
  },
  {
   "cell_type": "code",
   "execution_count": 16,
   "metadata": {},
   "outputs": [
    {
     "data": {
      "image/png": "[encoded data removed]",
      "text/plain": [
       "Plot with title \"Apps\""
      ]
     },
     "metadata": {},
     "output_type": "display_data"
    }
   ],
   "source": [
    "plot(fit.pls, plottype=\"coef\", ncomp= 1:3, legendpos=\"topright\")"
   ]
  },
  {
   "cell_type": "markdown",
   "metadata": {},
   "source": [
    "The above figure shows plots of the regression vectors for several different number of components at once. The plots describes how strongly each component in the PLSR depends on the original variables, and in what direction. \n",
    "\n",
    "In the case of PCR, we can plot the loading vector for each component.\n",
    "\n",
    "* Score plots\n"
   ]
  },
  {
   "cell_type": "code",
   "execution_count": 17,
   "metadata": {},
   "outputs": [
    {
     "data": {
      "image/png": "[encoded data removed]",
      "text/plain": [
       "plot without title"
      ]
     },
     "metadata": {},
     "output_type": "display_data"
    }
   ],
   "source": [
    "plot(fit.pls, comps=1:3, plottype=\"scores\")"
   ]
  },
  {
   "cell_type": "markdown",
   "metadata": {},
   "source": [
    "Score plots are often used to look for patterns, groups or outliers in the data. The numbers in parentheses after the component labels are the relative amount of X variance explained by each component. The explained variances can be extracted explicitly with"
   ]
  },
  {
   "cell_type": "code",
   "execution_count": 18,
   "metadata": {},
   "outputs": [
    {
     "data": {
      "text/html": [
       "<dl class=dl-horizontal>\n",
       "\t<dt>Comp 1</dt>\n",
       "\t\t<dd>26.914448977782</dd>\n",
       "\t<dt>Comp 2</dt>\n",
       "\t\t<dd>16.1643672195435</dd>\n",
       "\t<dt>Comp 3</dt>\n",
       "\t\t<dd>20.1793194802186</dd>\n",
       "\t<dt>Comp 4</dt>\n",
       "\t\t<dd>1.90623354622655</dd>\n",
       "\t<dt>Comp 5</dt>\n",
       "\t\t<dd>3.33341835596039</dd>\n",
       "\t<dt>Comp 6</dt>\n",
       "\t\t<dd>5.24932378122937</dd>\n",
       "\t<dt>Comp 7</dt>\n",
       "\t\t<dd>2.35120122478706</dd>\n",
       "\t<dt>Comp 8</dt>\n",
       "\t\t<dd>2.92825940927468</dd>\n",
       "\t<dt>Comp 9</dt>\n",
       "\t\t<dd>2.72867951594263</dd>\n",
       "\t<dt>Comp 10</dt>\n",
       "\t\t<dd>3.65425387463821</dd>\n",
       "\t<dt>Comp 11</dt>\n",
       "\t\t<dd>3.61596647388958</dd>\n",
       "\t<dt>Comp 12</dt>\n",
       "\t\t<dd>2.35474391648237</dd>\n",
       "\t<dt>Comp 13</dt>\n",
       "\t\t<dd>1.93354485294331</dd>\n",
       "\t<dt>Comp 14</dt>\n",
       "\t\t<dd>2.1185175023239</dd>\n",
       "\t<dt>Comp 15</dt>\n",
       "\t\t<dd>1.97652321387812</dd>\n",
       "\t<dt>Comp 16</dt>\n",
       "\t\t<dd>1.37173917630616</dd>\n",
       "\t<dt>Comp 17</dt>\n",
       "\t\t<dd>1.21945947857367</dd>\n",
       "</dl>\n"
      ],
      "text/latex": [
       "\\begin{description*}\n",
       "\\item[Comp 1] 26.914448977782\n",
       "\\item[Comp 2] 16.1643672195435\n",
       "\\item[Comp 3] 20.1793194802186\n",
       "\\item[Comp 4] 1.90623354622655\n",
       "\\item[Comp 5] 3.33341835596039\n",
       "\\item[Comp 6] 5.24932378122937\n",
       "\\item[Comp 7] 2.35120122478706\n",
       "\\item[Comp 8] 2.92825940927468\n",
       "\\item[Comp 9] 2.72867951594263\n",
       "\\item[Comp 10] 3.65425387463821\n",
       "\\item[Comp 11] 3.61596647388958\n",
       "\\item[Comp 12] 2.35474391648237\n",
       "\\item[Comp 13] 1.93354485294331\n",
       "\\item[Comp 14] 2.1185175023239\n",
       "\\item[Comp 15] 1.97652321387812\n",
       "\\item[Comp 16] 1.37173917630616\n",
       "\\item[Comp 17] 1.21945947857367\n",
       "\\end{description*}\n"
      ],
      "text/markdown": [
       "Comp 1\n",
       ":   26.914448977782Comp 2\n",
       ":   16.1643672195435Comp 3\n",
       ":   20.1793194802186Comp 4\n",
       ":   1.90623354622655Comp 5\n",
       ":   3.33341835596039Comp 6\n",
       ":   5.24932378122937Comp 7\n",
       ":   2.35120122478706Comp 8\n",
       ":   2.92825940927468Comp 9\n",
       ":   2.72867951594263Comp 10\n",
       ":   3.65425387463821Comp 11\n",
       ":   3.61596647388958Comp 12\n",
       ":   2.35474391648237Comp 13\n",
       ":   1.93354485294331Comp 14\n",
       ":   2.1185175023239Comp 15\n",
       ":   1.97652321387812Comp 16\n",
       ":   1.37173917630616Comp 17\n",
       ":   1.21945947857367\n",
       "\n"
      ],
      "text/plain": [
       "   Comp 1    Comp 2    Comp 3    Comp 4    Comp 5    Comp 6    Comp 7    Comp 8 \n",
       "26.914449 16.164367 20.179319  1.906234  3.333418  5.249324  2.351201  2.928259 \n",
       "   Comp 9   Comp 10   Comp 11   Comp 12   Comp 13   Comp 14   Comp 15   Comp 16 \n",
       " 2.728680  3.654254  3.615966  2.354744  1.933545  2.118518  1.976523  1.371739 \n",
       "  Comp 17 \n",
       " 1.219459 "
      ]
     },
     "metadata": {},
     "output_type": "display_data"
    }
   ],
   "source": [
    "explvar(fit.pls)"
   ]
  },
  {
   "cell_type": "markdown",
   "metadata": {},
   "source": [
    "For more dicussions on inspecting fitted models, please refer to Section 7 of <a href=\"https://cran.r-project.org/web/packages/pls/vignettes/pls-manual.pdf\">\"Introduction to the pls Package\"</a>."
   ]
  },
  {
   "cell_type": "markdown",
   "metadata": {},
   "source": [
    "##  2. Predict per capital crime crate in the \"Boston\" data set\n",
    "\n",
    "In this exercise, we are going to investigate the methods discussed in this week and week 5. "
   ]
  },
  {
   "cell_type": "code",
   "execution_count": 19,
   "metadata": {},
   "outputs": [
    {
     "name": "stderr",
     "output_type": "stream",
     "text": [
      "Loading required package: MASS\n",
      "Loading required package: glmnet\n",
      "Loading required package: Matrix\n",
      "Loading required package: foreach\n",
      "Loaded glmnet 2.0-16\n",
      "\n"
     ]
    }
   ],
   "source": [
    "require(\"MASS\")\n",
    "require(\"glmnet\")"
   ]
  },
  {
   "cell_type": "markdown",
   "metadata": {},
   "source": [
    "Firstly, split the data set into a training set and a test set."
   ]
  },
  {
   "cell_type": "code",
   "execution_count": 20,
   "metadata": {},
   "outputs": [],
   "source": [
    "set.seed(0)\n",
    "train = sample(c(TRUE,FALSE), dim(Boston)[1], rep=TRUE)\n",
    "test = (!train)\n",
    "\n",
    "Boston_train = Boston[train,]\n",
    "Boston_test = Boston[test,]"
   ]
  },
  {
   "cell_type": "markdown",
   "metadata": {},
   "source": [
    "In the rest of the task, you are going to \n",
    "1. Try out some of the regression methods such as the lasso, ridge regression,  PCR and PLSR Present and discuss results for the approaches that you consider.\n",
    "1. Propose a model (or set of models) that seem to perform well on this data set, and justify your answer. Make sure that you are evaluating model performance using validation set error, cross-validation, or some other reasonable alternative, as opposed to using training error.\n",
    "1. Does your chosen model involve all of the features in the data set? Why or why not? "
   ]
  },
  {
   "cell_type": "markdown",
   "metadata": {},
   "source": [
    "Let's start with Ridge regression model"
   ]
  },
  {
   "cell_type": "code",
   "execution_count": 21,
   "metadata": {},
   "outputs": [
    {
     "name": "stdout",
     "output_type": "stream",
     "text": [
      "[1] \"ridge regression CV best value of lambda (one standard error): 477.250\"\n"
     ]
    },
    {
     "data": {
      "image/png": "[encoded data removed]",
      "text/plain": [
       "plot without title"
      ]
     },
     "metadata": {},
     "output_type": "display_data"
    }
   ],
   "source": [
    "Y = Boston_train$crim \n",
    "MM = model.matrix( crim ~ ., data=Boston_train )\n",
    "cv.out = cv.glmnet(MM, Y, alpha=0 )\n",
    "plot(cv.out) \n",
    "bestlam = cv.out$lambda.1se\n",
    "print(sprintf(\"ridge regression CV best value of lambda (one standard error): %.3f\", bestlam))"
   ]
  },
  {
   "cell_type": "markdown",
   "metadata": {},
   "source": [
    "Now, compute the test MSE:"
   ]
  },
  {
   "cell_type": "code",
   "execution_count": 22,
   "metadata": {},
   "outputs": [
    {
     "name": "stdout",
     "output_type": "stream",
     "text": [
      "[1] \"Ridge regression test MSE=     63.826\"\n"
     ]
    }
   ],
   "source": [
    "ridge.mod = glmnet( MM, Y, alpha=0 )\n",
    "Y_hat = predict( ridge.mod, s=bestlam, newx=model.matrix( crim ~ ., data=Boston_test ))\n",
    "MSE =mean( ( Boston_test$crim - Y_hat )^2 ) \n",
    "print(sprintf( \"Ridge regression test MSE= %10.3f\", MSE )) "
   ]
  },
  {
   "cell_type": "markdown",
   "metadata": {},
   "source": [
    "Then, let's test the Lasso model. You only need to chance <font color=\"brown\">alpha</font> to 1 in the <font color = \"blue\">cv.glmnet()</font> function."
   ]
  },
  {
   "cell_type": "code",
   "execution_count": 23,
   "metadata": {},
   "outputs": [
    {
     "name": "stdout",
     "output_type": "stream",
     "text": [
      "[1] \"Lasso regression test MSE= 63.572\"\n",
      "[1] \"lasso coefficients\"\n",
      "15 x 1 sparse Matrix of class \"dgCMatrix\"\n",
      "                     1\n",
      "(Intercept) 3.07011734\n",
      "(Intercept) .         \n",
      "zn          .         \n",
      "indus       .         \n",
      "chas        .         \n",
      "nox         .         \n",
      "rm          .         \n",
      "age         .         \n",
      "dis         .         \n",
      "rad         0.05507813\n",
      "tax         .         \n",
      "ptratio     .         \n",
      "black       .         \n",
      "lstat       .         \n",
      "medv        .         \n"
     ]
    },
    {
     "data": {
      "image/png": "[encoded data removed]",
      "text/plain": [
       "plot without title"
      ]
     },
     "metadata": {},
     "output_type": "display_data"
    }
   ],
   "source": [
    "cv.out = cv.glmnet( MM, Y, alpha=1 )\n",
    "plot( cv.out ) \n",
    "bestlam = cv.out$lambda.1se\n",
    "lasso.mod = glmnet( MM, Y, alpha=1 )\n",
    "Y_hat = predict( lasso.mod, s=bestlam, newx=model.matrix(crim ~ ., data=Boston_test))\n",
    "MSE =mean((Boston_test$crim - Y_hat )^2)\n",
    "print(sprintf(\"Lasso regression test MSE= %.3f\", MSE))\n",
    "print(\"lasso coefficients\")\n",
    "print(predict(lasso.mod, type=\"coefficients\", s=bestlam))"
   ]
  },
  {
   "cell_type": "markdown",
   "metadata": {},
   "source": [
    "Now, we try the PCR model by following what you have done in the first exercise."
   ]
  },
  {
   "cell_type": "code",
   "execution_count": 24,
   "metadata": {},
   "outputs": [
    {
     "data": {
      "image/png": "[encoded data removed]",
      "text/plain": [
       "Plot with title \"crim\""
      ]
     },
     "metadata": {},
     "output_type": "display_data"
    }
   ],
   "source": [
    "pcr.mod = pcr( crim ~ ., data=Boston_train, scale=TRUE, validation=\"CV\" )\n",
    "validationplot( pcr.mod, val.type=\"MSEP\" ) "
   ]
  },
  {
   "cell_type": "markdown",
   "metadata": {},
   "source": [
    "The validation plot looks suggests that we should use 3 predictors."
   ]
  },
  {
   "cell_type": "code",
   "execution_count": 25,
   "metadata": {},
   "outputs": [
    {
     "name": "stdout",
     "output_type": "stream",
     "text": [
      "[1] \"PCR (with ncomp=     3) test MSE=     40.049\"\n"
     ]
    }
   ],
   "source": [
    "ncomp = 3\n",
    "Y_hat = predict(pcr.mod, Boston_test, ncomp=ncomp)\n",
    "MSE = mean((Boston_test$crim - Y_hat )^2)\n",
    "print(sprintf(\"PCR (with ncomp= %5d) test MSE= %10.3f\", ncomp, MSE))"
   ]
  },
  {
   "cell_type": "markdown",
   "metadata": {},
   "source": [
    "Finally, let's try to fit a PLS model."
   ]
  },
  {
   "cell_type": "code",
   "execution_count": 26,
   "metadata": {},
   "outputs": [
    {
     "data": {
      "image/png": "[encoded data removed]",
      "text/plain": [
       "Plot with title \"crim\""
      ]
     },
     "metadata": {},
     "output_type": "display_data"
    }
   ],
   "source": [
    "pls.mod = plsr( crim ~ ., data=Boston_train, scale=TRUE, validation=\"CV\" )\n",
    "validationplot( pls.mod, val.type=\"MSEP\" ) "
   ]
  },
  {
   "cell_type": "markdown",
   "metadata": {
    "scrolled": false
   },
   "source": [
    "The CV suggests the best $M$ is 5."
   ]
  },
  {
   "cell_type": "code",
   "execution_count": 27,
   "metadata": {},
   "outputs": [
    {
     "name": "stdout",
     "output_type": "stream",
     "text": [
      "[1] \"PLS (with ncomp=     5) test MSE=     35.258\"\n"
     ]
    }
   ],
   "source": [
    "ncomp=5\n",
    "Y_hat = predict( pls.mod, Boston_test, ncomp=ncomp)\n",
    "MSE = mean((Boston_test$crim - Y_hat )^2) \n",
    "print(sprintf(\"PLS (with ncomp= %5d) test MSE= %10.3f\", ncomp, MSE))"
   ]
  },
  {
   "cell_type": "markdown",
   "metadata": {},
   "source": [
    "By looking at the test MSE, which model does give the lowest test MSE?"
   ]
  },
  {
   "cell_type": "code",
   "execution_count": null,
   "metadata": {},
   "outputs": [],
   "source": []
  },
  {
   "cell_type": "code",
   "execution_count": null,
   "metadata": {},
   "outputs": [],
   "source": []
  }
 ],
 "metadata": {
  "kernelspec": {
   "display_name": "R",
   "language": "R",
   "name": "ir"
  },
  "language_info": {
   "codemirror_mode": "r",
   "file_extension": ".r",
   "mimetype": "text/x-r-source",
   "name": "R",
   "pygments_lexer": "r",
   "version": "3.4.4"
  }
 },
 "nbformat": 4,
 "nbformat_minor": 1
}
