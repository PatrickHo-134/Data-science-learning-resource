{
 "cells": [
  {
   "cell_type": "markdown",
   "metadata": {},
   "source": [
    "# Week 6 tutorial - Resampling methods\n",
    "\n",
    "The materials used in this tutorial are based on the applied exercises provided in the book <font color=\"brown\">\"An Introduction to Statistical Learning with Applications in R\"</font> (<a href=\"http://www-bcf.usc.edu/~gareth/ISL/\">ISLR</a>). We are trying to demonstrate how to use R to use resampling methods and assess their performance on real-world datasets. Besides the exercises that we are going to cover in this tutorial, it is worth trying the other applied exercises by yourself in Section 5.4."
   ]
  },
  {
   "cell_type": "markdown",
   "metadata": {},
   "source": [
    "## Question 1 Predicting the default status on credit card payment\n",
    "\n",
    "This question should be answered using the **Default** data set, which is part of the <font color=\"red\">ISLR</font> package. This data contains the information of 10,000 customers to see how they default on their credit card debt."
   ]
  },
  {
   "cell_type": "code",
   "execution_count": 30,
   "metadata": {
    "collapsed": true
   },
   "outputs": [],
   "source": [
    "library(ISLR)"
   ]
  },
  {
   "cell_type": "code",
   "execution_count": 31,
   "metadata": {},
   "outputs": [
    {
     "data": {
      "text/html": [
       "<table>\n",
       "<thead><tr><th scope=col>default</th><th scope=col>student</th><th scope=col>balance</th><th scope=col>income</th></tr></thead>\n",
       "<tbody>\n",
       "\t<tr><td>No       </td><td>No       </td><td> 729.5265</td><td>44361.625</td></tr>\n",
       "\t<tr><td>No       </td><td>Yes      </td><td> 817.1804</td><td>12106.135</td></tr>\n",
       "\t<tr><td>No       </td><td>No       </td><td>1073.5492</td><td>31767.139</td></tr>\n",
       "\t<tr><td>No       </td><td>No       </td><td> 529.2506</td><td>35704.494</td></tr>\n",
       "\t<tr><td>No       </td><td>No       </td><td> 785.6559</td><td>38463.496</td></tr>\n",
       "\t<tr><td>No       </td><td>Yes      </td><td> 919.5885</td><td> 7491.559</td></tr>\n",
       "</tbody>\n",
       "</table>\n"
      ],
      "text/latex": [
       "\\begin{tabular}{r|llll}\n",
       " default & student & balance & income\\\\\n",
       "\\hline\n",
       "\t No        & No        &  729.5265 & 44361.625\\\\\n",
       "\t No        & Yes       &  817.1804 & 12106.135\\\\\n",
       "\t No        & No        & 1073.5492 & 31767.139\\\\\n",
       "\t No        & No        &  529.2506 & 35704.494\\\\\n",
       "\t No        & No        &  785.6559 & 38463.496\\\\\n",
       "\t No        & Yes       &  919.5885 &  7491.559\\\\\n",
       "\\end{tabular}\n"
      ],
      "text/markdown": [
       "\n",
       "default | student | balance | income | \n",
       "|---|---|---|---|---|---|\n",
       "| No        | No        |  729.5265 | 44361.625 | \n",
       "| No        | Yes       |  817.1804 | 12106.135 | \n",
       "| No        | No        | 1073.5492 | 31767.139 | \n",
       "| No        | No        |  529.2506 | 35704.494 | \n",
       "| No        | No        |  785.6559 | 38463.496 | \n",
       "| No        | Yes       |  919.5885 |  7491.559 | \n",
       "\n",
       "\n"
      ],
      "text/plain": [
       "  default student balance   income   \n",
       "1 No      No       729.5265 44361.625\n",
       "2 No      Yes      817.1804 12106.135\n",
       "3 No      No      1073.5492 31767.139\n",
       "4 No      No       529.2506 35704.494\n",
       "5 No      No       785.6559 38463.496\n",
       "6 No      Yes      919.5885  7491.559"
      ]
     },
     "metadata": {},
     "output_type": "display_data"
    }
   ],
   "source": [
    "head(Default)"
   ]
  },
  {
   "cell_type": "markdown",
   "metadata": {},
   "source": [
    "This dataset consists of 10,000 observations on the following 4 variables. (The following detail is copied and pasted from <a href=\"https://cran.r-project.org/web/packages/ISLR/ISLR.pdf\">here</a>)\n",
    "* <font color=\"orange\">default</font> A factor with levels No and Yes indicating whether the customer defaulted on their debt\n",
    "* <font color=\"orange\">student</font> A factor with levels No and Yes indicating whether the customer is a student\n",
    "* <font color=\"orange\">balance</font> The average balance that the customer has remaining on their credit card after making their monthly payment\n",
    "* <font color=\"orange\">income</font> Income of customer\n",
    "\n"
   ]
  },
  {
   "cell_type": "markdown",
   "metadata": {},
   "source": [
    "We can have a look at the structure of <font color=\"orange\">Default</font> using the <a href=\"https://stat.ethz.ch/R-manual/R-devel/library/utils/html/str.html\">str()</a> function. The function will give us information of the data that you should know. For example, the data type of each column, the total number of observations, the total number of variables, etc. Note that the <font color=\"orange\">default</font> and <font color=\"orange\">student</font> are categorical variables (or factors) with two levels."
   ]
  },
  {
   "cell_type": "code",
   "execution_count": 32,
   "metadata": {},
   "outputs": [
    {
     "name": "stdout",
     "output_type": "stream",
     "text": [
      "'data.frame':\t10000 obs. of  4 variables:\n",
      " $ default: Factor w/ 2 levels \"No\",\"Yes\": 1 1 1 1 1 1 1 1 1 1 ...\n",
      " $ student: Factor w/ 2 levels \"No\",\"Yes\": 1 2 1 1 1 2 1 2 1 1 ...\n",
      " $ balance: num  730 817 1074 529 786 ...\n",
      " $ income : num  44362 12106 31767 35704 38463 ...\n"
     ]
    }
   ],
   "source": [
    "str(Default)"
   ]
  },
  {
   "cell_type": "code",
   "execution_count": 33,
   "metadata": {},
   "outputs": [
    {
     "data": {
      "text/html": [
       "<ol class=list-inline>\n",
       "\t<li>No</li>\n",
       "\t<li>No</li>\n",
       "\t<li>No</li>\n",
       "\t<li>No</li>\n",
       "\t<li>No</li>\n",
       "\t<li>No</li>\n",
       "</ol>\n",
       "\n",
       "<details>\n",
       "\t<summary style=display:list-item;cursor:pointer>\n",
       "\t\t<strong>Levels</strong>:\n",
       "\t</summary>\n",
       "\t<ol class=list-inline>\n",
       "\t\t<li>'No'</li>\n",
       "\t\t<li>'Yes'</li>\n",
       "\t</ol>\n",
       "</details>"
      ],
      "text/latex": [
       "\\begin{enumerate*}\n",
       "\\item No\n",
       "\\item No\n",
       "\\item No\n",
       "\\item No\n",
       "\\item No\n",
       "\\item No\n",
       "\\end{enumerate*}\n",
       "\n",
       "\\emph{Levels}: \\begin{enumerate*}\n",
       "\\item 'No'\n",
       "\\item 'Yes'\n",
       "\\end{enumerate*}\n"
      ],
      "text/markdown": [
       "1. No\n",
       "2. No\n",
       "3. No\n",
       "4. No\n",
       "5. No\n",
       "6. No\n",
       "\n",
       "\n",
       "\n",
       "**Levels**: 1. 'No'\n",
       "2. 'Yes'\n",
       "\n",
       "\n"
      ],
      "text/plain": [
       "[1] No No No No No No\n",
       "Levels: No Yes"
      ]
     },
     "metadata": {},
     "output_type": "display_data"
    }
   ],
   "source": [
    "head(Default$default)"
   ]
  },
  {
   "cell_type": "markdown",
   "metadata": {},
   "source": [
    "We can look at the information of the variables using <a href=\"https://stat.ethz.ch/R-manual/R-devel/library/base/html/summary.html\">summary()</a> function."
   ]
  },
  {
   "cell_type": "code",
   "execution_count": 34,
   "metadata": {},
   "outputs": [
    {
     "data": {
      "text/plain": [
       " default    student       balance           income     \n",
       " No :9667   No :7056   Min.   :   0.0   Min.   :  772  \n",
       " Yes: 333   Yes:2944   1st Qu.: 481.7   1st Qu.:21340  \n",
       "                       Median : 823.6   Median :34553  \n",
       "                       Mean   : 835.4   Mean   :33517  \n",
       "                       3rd Qu.:1166.3   3rd Qu.:43808  \n",
       "                       Max.   :2654.3   Max.   :73554  "
      ]
     },
     "metadata": {},
     "output_type": "display_data"
    }
   ],
   "source": [
    "summary(Default)"
   ]
  },
  {
   "cell_type": "markdown",
   "metadata": {},
   "source": [
    "### 1.1 Fit a logistic regression model that uses <font color=\"orange\">income</font> and <font color=\"orange\">balance</font> to predict <font color=\"orange\">default</font>. "
   ]
  },
  {
   "cell_type": "code",
   "execution_count": 35,
   "metadata": {},
   "outputs": [
    {
     "data": {
      "text/plain": [
       "\n",
       "Call:\n",
       "glm(formula = default ~ income + balance, family = \"binomial\", \n",
       "    data = Default)\n",
       "\n",
       "Deviance Residuals: \n",
       "    Min       1Q   Median       3Q      Max  \n",
       "-2.4725  -0.1444  -0.0574  -0.0211   3.7245  \n",
       "\n",
       "Coefficients:\n",
       "              Estimate Std. Error z value Pr(>|z|)    \n",
       "(Intercept) -1.154e+01  4.348e-01 -26.545  < 2e-16 ***\n",
       "income       2.081e-05  4.985e-06   4.174 2.99e-05 ***\n",
       "balance      5.647e-03  2.274e-04  24.836  < 2e-16 ***\n",
       "---\n",
       "Signif. codes:  0 ‘***’ 0.001 ‘**’ 0.01 ‘*’ 0.05 ‘.’ 0.1 ‘ ’ 1\n",
       "\n",
       "(Dispersion parameter for binomial family taken to be 1)\n",
       "\n",
       "    Null deviance: 2920.6  on 9999  degrees of freedom\n",
       "Residual deviance: 1579.0  on 9997  degrees of freedom\n",
       "AIC: 1585\n",
       "\n",
       "Number of Fisher Scoring iterations: 8\n"
      ]
     },
     "metadata": {},
     "output_type": "display_data"
    }
   ],
   "source": [
    "fit.glm <- glm(default ~ income + balance, data = Default, family = \"binomial\")\n",
    "summary(fit.glm)"
   ]
  },
  {
   "cell_type": "markdown",
   "metadata": {},
   "source": [
    "The predictors are significantly associated with the response (<font color=\"orange\">default</font>) variable. We can use the Chisq test to check how well is the logistic regression model in comparison with a null model.  "
   ]
  },
  {
   "cell_type": "code",
   "execution_count": 36,
   "metadata": {},
   "outputs": [
    {
     "data": {
      "text/html": [
       "4.54090612621103e-292"
      ],
      "text/latex": [
       "4.54090612621103e-292"
      ],
      "text/markdown": [
       "4.54090612621103e-292"
      ],
      "text/plain": [
       "[1] 4.540906e-292"
      ]
     },
     "metadata": {},
     "output_type": "display_data"
    }
   ],
   "source": [
    "with(fit.glm, pchisq(null.deviance - deviance, df.null - df.residual, lower.tail = FALSE))"
   ]
  },
  {
   "cell_type": "markdown",
   "metadata": {},
   "source": [
    "The p-value of the Chisq test is quite low. It tells us that our model fits significantly better than an empty model."
   ]
  },
  {
   "cell_type": "markdown",
   "metadata": {},
   "source": [
    "### 1.2 Using the validation set approach, estimate the test error of this model. \n",
    "\n",
    "In order to do this, you must perform the following steps:\n",
    "\n",
    "* Split the sample set into a training set and a validation set.\n",
    "* Fit a multiple logistic regression model using only the training observations.\n",
    "* Obtain a prediction of default status for each individual in the validation set by computing the posterior probability of default for that individual, and classifying the individual to the <font color=\"orange\">default</font> category if the posterior probability is greater than 0.5.\n",
    "* Compute the validation set error, which is the fraction of the observations in the validation set that are misclassified."
   ]
  },
  {
   "cell_type": "code",
   "execution_count": 37,
   "metadata": {
    "collapsed": true
   },
   "outputs": [],
   "source": [
    "set.seed(1234)\n",
    "train <- sample(dim(Default)[1], dim(Default)[1] / 2)"
   ]
  },
  {
   "cell_type": "code",
   "execution_count": 38,
   "metadata": {},
   "outputs": [
    {
     "data": {
      "text/plain": [
       "\n",
       "Call:\n",
       "glm(formula = default ~ income + balance, family = \"binomial\", \n",
       "    data = Default, subset = train)\n",
       "\n",
       "Deviance Residuals: \n",
       "    Min       1Q   Median       3Q      Max  \n",
       "-2.0472  -0.1523  -0.0634  -0.0244   3.6569  \n",
       "\n",
       "Coefficients:\n",
       "              Estimate Std. Error z value Pr(>|z|)    \n",
       "(Intercept) -1.111e+01  5.843e-01  -19.01  < 2e-16 ***\n",
       "income       2.034e-05  6.849e-06    2.97  0.00298 ** \n",
       "balance      5.407e-03  3.056e-04   17.70  < 2e-16 ***\n",
       "---\n",
       "Signif. codes:  0 ‘***’ 0.001 ‘**’ 0.01 ‘*’ 0.05 ‘.’ 0.1 ‘ ’ 1\n",
       "\n",
       "(Dispersion parameter for binomial family taken to be 1)\n",
       "\n",
       "    Null deviance: 1497.19  on 4999  degrees of freedom\n",
       "Residual deviance:  839.49  on 4997  degrees of freedom\n",
       "AIC: 845.49\n",
       "\n",
       "Number of Fisher Scoring iterations: 8\n"
      ]
     },
     "metadata": {},
     "output_type": "display_data"
    }
   ],
   "source": [
    "fit.glm.t <- glm(default ~ income + balance, data = Default, family = \"binomial\", subset = train)\n",
    "summary(fit.glm.t)"
   ]
  },
  {
   "cell_type": "code",
   "execution_count": 39,
   "metadata": {},
   "outputs": [
    {
     "data": {
      "text/plain": [
       "        test.default\n",
       "pred.glm   No  Yes\n",
       "     No  4821  107\n",
       "     Yes   18   54"
      ]
     },
     "metadata": {},
     "output_type": "display_data"
    }
   ],
   "source": [
    "probs <- predict(fit.glm.t, newdata = Default[-train, ], type = \"response\")\n",
    "pred.glm <- rep(\"No\", length(probs))\n",
    "pred.glm[probs > 0.5] <- \"Yes\"\n",
    "test.default = Default[-train,]$default\n",
    "table(pred.glm, test.default)"
   ]
  },
  {
   "cell_type": "markdown",
   "metadata": {},
   "source": [
    "The matrix shows that the fitted model predicted that a total of 4928 (4821+107) customers would not default. The sensitivity is the percentage of correct prediction of default, which is computed as 54/(54+107) = 33.54%. The specificity is the percentage of correct prediction of non-default, 4821/(4821+18) = 99.63%. Therefore, it is clear that the specifity is quite high, but the sensitivity is very low.\n",
    "\n",
    "The validation set error, which is the fraction of the observations in the validation set that are misclassified, is calculated using the following code:"
   ]
  },
  {
   "cell_type": "code",
   "execution_count": 40,
   "metadata": {},
   "outputs": [
    {
     "data": {
      "text/html": [
       "0.025"
      ],
      "text/latex": [
       "0.025"
      ],
      "text/markdown": [
       "0.025"
      ],
      "text/plain": [
       "[1] 0.025"
      ]
     },
     "metadata": {},
     "output_type": "display_data"
    }
   ],
   "source": [
    "mean(pred.glm != test.default)"
   ]
  },
  {
   "cell_type": "markdown",
   "metadata": {},
   "source": [
    "### 1.3 Repeat the process in <font color=\"red\">1.2</font> three times, using three different splits of the observations into a training set and a validation set. Comment on the results obtained. \n",
    "In this task, we are going to predict three different splits for the observations. We used the <font color=\"orange\">income</font> variable to split the data set. "
   ]
  },
  {
   "cell_type": "code",
   "execution_count": 41,
   "metadata": {},
   "outputs": [
    {
     "data": {
      "text/html": [
       "<ol class=list-inline>\n",
       "\t<li>771.967729386357</li>\n",
       "\t<li>73554.2334951972</li>\n",
       "</ol>\n"
      ],
      "text/latex": [
       "\\begin{enumerate*}\n",
       "\\item 771.967729386357\n",
       "\\item 73554.2334951972\n",
       "\\end{enumerate*}\n"
      ],
      "text/markdown": [
       "1. 771.967729386357\n",
       "2. 73554.2334951972\n",
       "\n",
       "\n"
      ],
      "text/plain": [
       "[1]   771.9677 73554.2335"
      ]
     },
     "metadata": {},
     "output_type": "display_data"
    },
    {
     "data": {
      "text/html": [
       "<dl class=dl-horizontal>\n",
       "\t<dt>33%</dt>\n",
       "\t\t<dd>25309.3827428752</dd>\n",
       "\t<dt>67%</dt>\n",
       "\t\t<dd>40732.3262921677</dd>\n",
       "</dl>\n"
      ],
      "text/latex": [
       "\\begin{description*}\n",
       "\\item[33\\textbackslash{}\\%] 25309.3827428752\n",
       "\\item[67\\textbackslash{}\\%] 40732.3262921677\n",
       "\\end{description*}\n"
      ],
      "text/markdown": [
       "33%\n",
       ":   25309.382742875267%\n",
       ":   40732.3262921677\n",
       "\n"
      ],
      "text/plain": [
       "     33%      67% \n",
       "25309.38 40732.33 "
      ]
     },
     "metadata": {},
     "output_type": "display_data"
    }
   ],
   "source": [
    "range(Default$income)\n",
    "quantile(Default$income, c(0.33, 0.67))"
   ]
  },
  {
   "cell_type": "code",
   "execution_count": 42,
   "metadata": {},
   "outputs": [],
   "source": [
    "train1 = (Default$income > 25306.38)\n",
    "train2 = (Default$income < 25306.38 | (Default$income > 40732.33))\n",
    "train3 = (Default$income < 40732.33)"
   ]
  },
  {
   "cell_type": "code",
   "execution_count": 43,
   "metadata": {},
   "outputs": [
    {
     "data": {
      "text/plain": [
       "         test.default1\n",
       "pred.glm1   No  Yes\n",
       "      No  3123   80\n",
       "      Yes   42   53"
      ]
     },
     "metadata": {},
     "output_type": "display_data"
    }
   ],
   "source": [
    "fit.glm1 <- glm(default ~ income + balance, data = Default, family = \"binomial\", subset = train1)\n",
    "probs1 <- predict(fit.glm1, newdata = Default[!train1, ], type = \"response\")\n",
    "pred.glm1 <- rep(\"No\", length(probs1))\n",
    "pred.glm1[probs1 > 0.5] <- \"Yes\"\n",
    "test.default1 = Default[!train1,]$default\n",
    "table(pred.glm1, test.default1)"
   ]
  },
  {
   "cell_type": "code",
   "execution_count": 44,
   "metadata": {},
   "outputs": [
    {
     "data": {
      "text/html": [
       "0.0369921164342025"
      ],
      "text/latex": [
       "0.0369921164342025"
      ],
      "text/markdown": [
       "0.0369921164342025"
      ],
      "text/plain": [
       "[1] 0.03699212"
      ]
     },
     "metadata": {},
     "output_type": "display_data"
    }
   ],
   "source": [
    "mean(pred.glm1 != test.default1)"
   ]
  },
  {
   "cell_type": "markdown",
   "metadata": {},
   "source": [
    "The validation error for the model is generated based on the first train data set (train1) is 3.7%."
   ]
  },
  {
   "cell_type": "code",
   "execution_count": 45,
   "metadata": {},
   "outputs": [
    {
     "data": {
      "text/plain": [
       "         test.default2\n",
       "pred.glm2   No  Yes\n",
       "      No  3296   73\n",
       "      Yes    6   27"
      ]
     },
     "metadata": {},
     "output_type": "display_data"
    }
   ],
   "source": [
    "fit.glm2 <- glm(default ~ income + balance, data = Default, family = \"binomial\", subset = train2)\n",
    "probs2 <- predict(fit.glm2, newdata = Default[!train2, ], type = \"response\")\n",
    "pred.glm2 <- rep(\"No\", length(probs2))\n",
    "pred.glm2[probs2 > 0.5] <- \"Yes\"\n",
    "test.default2 = Default[!train2,]$default\n",
    "table(pred.glm2, test.default2)"
   ]
  },
  {
   "cell_type": "code",
   "execution_count": 46,
   "metadata": {},
   "outputs": [
    {
     "data": {
      "text/html": [
       "0.0232216343327454"
      ],
      "text/latex": [
       "0.0232216343327454"
      ],
      "text/markdown": [
       "0.0232216343327454"
      ],
      "text/plain": [
       "[1] 0.02322163"
      ]
     },
     "metadata": {},
     "output_type": "display_data"
    }
   ],
   "source": [
    "mean(pred.glm2 != test.default2)"
   ]
  },
  {
   "cell_type": "markdown",
   "metadata": {},
   "source": [
    "The validation error for the model is generated based on the second train data set (train2) is 2.32%."
   ]
  },
  {
   "cell_type": "code",
   "execution_count": 47,
   "metadata": {},
   "outputs": [
    {
     "data": {
      "text/plain": [
       "         test.default3\n",
       "pred.glm3   No  Yes\n",
       "      No  3183   61\n",
       "      Yes   17   39"
      ]
     },
     "metadata": {},
     "output_type": "display_data"
    }
   ],
   "source": [
    "fit.glm3 <- glm(default ~ income + balance, data = Default, family = \"binomial\", subset = train3)\n",
    "probs3 <- predict(fit.glm3, newdata = Default[!train3, ], type = \"response\")\n",
    "pred.glm3 <- rep(\"No\", length(probs3))\n",
    "pred.glm3[probs3 > 0.5] <- \"Yes\"\n",
    "test.default3 = Default[!train3,]$default\n",
    "table(pred.glm3, test.default3)"
   ]
  },
  {
   "cell_type": "code",
   "execution_count": 48,
   "metadata": {},
   "outputs": [
    {
     "data": {
      "text/html": [
       "0.0236363636363636"
      ],
      "text/latex": [
       "0.0236363636363636"
      ],
      "text/markdown": [
       "0.0236363636363636"
      ],
      "text/plain": [
       "[1] 0.02363636"
      ]
     },
     "metadata": {},
     "output_type": "display_data"
    }
   ],
   "source": [
    "mean(pred.glm3 != test.default3)"
   ]
  },
  {
   "cell_type": "markdown",
   "metadata": {},
   "source": [
    "The validation error for the model is generated based on the third train data set (train3) is 2.36%. "
   ]
  },
  {
   "cell_type": "markdown",
   "metadata": {},
   "source": [
    "As can be seen, the validation error rate veries for different train data sets. It depends on which observations are included in the training set and which observations are included in the validation set."
   ]
  },
  {
   "cell_type": "markdown",
   "metadata": {},
   "source": [
    "### 1.4 Now consider a logistic regression model that predicts the probability of <font color=\"orange\">default</font> using <font color=\"orange\">income</font>, <font color=\"orange\">balance</font>, and a dummy variable for <font color=\"orange\">student</font>. Estimate the test error for this model using the validation set approach. Comment on whether or not including a dummy variable for <font color=\"orange\">student</font> leads to a reduction in the test error rate.\n"
   ]
  },
  {
   "cell_type": "code",
   "execution_count": 49,
   "metadata": {},
   "outputs": [
    {
     "data": {
      "text/plain": [
       "\n",
       "Call:\n",
       "glm(formula = default ~ income + balance + student, family = \"binomial\", \n",
       "    data = Default, subset = train)\n",
       "\n",
       "Deviance Residuals: \n",
       "    Min       1Q   Median       3Q      Max  \n",
       "-2.0769  -0.1527  -0.0620  -0.0238   3.6193  \n",
       "\n",
       "Coefficients:\n",
       "              Estimate Std. Error z value Pr(>|z|)    \n",
       "(Intercept) -1.058e+01  6.653e-01 -15.908   <2e-16 ***\n",
       "income       6.690e-06  1.104e-05   0.606    0.544    \n",
       "balance      5.472e-03  3.102e-04  17.640   <2e-16 ***\n",
       "studentYes  -5.027e-01  3.175e-01  -1.583    0.113    \n",
       "---\n",
       "Signif. codes:  0 ‘***’ 0.001 ‘**’ 0.01 ‘*’ 0.05 ‘.’ 0.1 ‘ ’ 1\n",
       "\n",
       "(Dispersion parameter for binomial family taken to be 1)\n",
       "\n",
       "    Null deviance: 1497.2  on 4999  degrees of freedom\n",
       "Residual deviance:  837.0  on 4996  degrees of freedom\n",
       "AIC: 845\n",
       "\n",
       "Number of Fisher Scoring iterations: 8\n"
      ]
     },
     "metadata": {},
     "output_type": "display_data"
    }
   ],
   "source": [
    "fit.glm4 <- glm(default ~ income + balance + student, data = Default, family = \"binomial\", subset = train)\n",
    "summary(fit.glm4)"
   ]
  },
  {
   "cell_type": "markdown",
   "metadata": {},
   "source": [
    "In the new model, there are some variables which are not significantly associated with the response variable. "
   ]
  },
  {
   "cell_type": "code",
   "execution_count": 50,
   "metadata": {},
   "outputs": [
    {
     "data": {
      "text/plain": [
       "         test.default\n",
       "pred.glm4   No  Yes\n",
       "      No  4820  108\n",
       "      Yes   19   53"
      ]
     },
     "metadata": {},
     "output_type": "display_data"
    }
   ],
   "source": [
    "probs4 <- predict(fit.glm4, newdata = Default[-train, ], type = \"response\")\n",
    "pred.glm4 <- rep(\"No\", length(probs4))\n",
    "pred.glm4[probs4 > 0.5] <- \"Yes\"\n",
    "test.default = Default[-train,]$default\n",
    "table(pred.glm4, test.default)"
   ]
  },
  {
   "cell_type": "code",
   "execution_count": 51,
   "metadata": {},
   "outputs": [
    {
     "data": {
      "text/html": [
       "0.0254"
      ],
      "text/latex": [
       "0.0254"
      ],
      "text/markdown": [
       "0.0254"
      ],
      "text/plain": [
       "[1] 0.0254"
      ]
     },
     "metadata": {},
     "output_type": "display_data"
    }
   ],
   "source": [
    "mean(pred.glm4 != test.default)"
   ]
  },
  {
   "cell_type": "markdown",
   "metadata": {},
   "source": [
    "The validation error has increased slightly in comparison with the model without dummy variable for <font color=\"orange\">student</font>. It seems adding <font color=\"orange\">student</font> variable does not lead to reduction in validation error."
   ]
  },
  {
   "cell_type": "markdown",
   "metadata": {},
   "source": [
    "## Question 2 Using Bootstrap on predicting the default status\n",
    "\n",
    "We continue to consider the use of a logistic regression model to predict the probability of <font color=\"orange\">default</font> using <font color=\"orange\">income</font> and <font color=\"orange\">balance</font> on the <font color=\"orange\">Default</font> data set. In particular, we will now compute estimates for the standard errors of the <font color=\"orange\">income</font> and <font color=\"orange\">balance</font> logistic regression coefficients in two different ways: (1) using the bootstrap, and (2) using the standard formula for computing the standard errors in the <font color=\"blue\">glm()</font> function. Do not forget to set a random seed before beginning your analysis."
   ]
  },
  {
   "cell_type": "markdown",
   "metadata": {
    "collapsed": true
   },
   "source": [
    "### 2.1 Using the <font color=\"blue\">summary()</font> and <font color=\"blue\">glm()</font> functions, determine the estimated standard errors for the coefficients associated with <font color=\"orange\">income</font> and <font color=\"orange\">balance</font> in a multiple logistic regression model that uses both predictors."
   ]
  },
  {
   "cell_type": "code",
   "execution_count": 52,
   "metadata": {
    "collapsed": true
   },
   "outputs": [],
   "source": [
    "library(ISLR)"
   ]
  },
  {
   "cell_type": "code",
   "execution_count": 53,
   "metadata": {},
   "outputs": [
    {
     "data": {
      "text/plain": [
       "\n",
       "Call:\n",
       "glm(formula = default ~ income + balance, family = \"binomial\", \n",
       "    data = Default)\n",
       "\n",
       "Deviance Residuals: \n",
       "    Min       1Q   Median       3Q      Max  \n",
       "-2.4725  -0.1444  -0.0574  -0.0211   3.7245  \n",
       "\n",
       "Coefficients:\n",
       "              Estimate Std. Error z value Pr(>|z|)    \n",
       "(Intercept) -1.154e+01  4.348e-01 -26.545  < 2e-16 ***\n",
       "income       2.081e-05  4.985e-06   4.174 2.99e-05 ***\n",
       "balance      5.647e-03  2.274e-04  24.836  < 2e-16 ***\n",
       "---\n",
       "Signif. codes:  0 ‘***’ 0.001 ‘**’ 0.01 ‘*’ 0.05 ‘.’ 0.1 ‘ ’ 1\n",
       "\n",
       "(Dispersion parameter for binomial family taken to be 1)\n",
       "\n",
       "    Null deviance: 2920.6  on 9999  degrees of freedom\n",
       "Residual deviance: 1579.0  on 9997  degrees of freedom\n",
       "AIC: 1585\n",
       "\n",
       "Number of Fisher Scoring iterations: 8\n"
      ]
     },
     "metadata": {},
     "output_type": "display_data"
    }
   ],
   "source": [
    "fit.glm <- glm(default ~ income + balance, data = Default, family = \"binomial\")\n",
    "summary(fit.glm)"
   ]
  },
  {
   "cell_type": "markdown",
   "metadata": {},
   "source": [
    "The <font color=\"blue\">glm()</font> estimates the standard errors for the coefficients β0, β1 and β2 are respectively $0.4347564$, $4.9851672x10^{-6}$ and $2.2737314x10^{-4}$.\n",
    "Large standard errors for the logistic regression coefficients may lead to invalid statistical inferences. "
   ]
  },
  {
   "cell_type": "markdown",
   "metadata": {},
   "source": [
    "### 2.2 Write a function, <font color=\"blue\">boot.fn()</font>, that takes as input the <font color=\"orange\">Default</font> data set as well as an index of the observations, and that outputs the coefficient estimates for <font color=\"orange\">income</font> and <font color=\"orange\">balance</font> in the multiple logistic regression model."
   ]
  },
  {
   "cell_type": "code",
   "execution_count": 54,
   "metadata": {},
   "outputs": [],
   "source": [
    "boot.fn <- function(data, index) {\n",
    "    fit <- glm(default ~ income + balance, data = data, family = \"binomial\", subset = index)\n",
    "    return (coef(fit))\n",
    "}"
   ]
  },
  {
   "cell_type": "code",
   "execution_count": 55,
   "metadata": {},
   "outputs": [
    {
     "data": {
      "text/html": [
       "<dl class=dl-horizontal>\n",
       "\t<dt>(Intercept)</dt>\n",
       "\t\t<dd>-11.3921244665306</dd>\n",
       "\t<dt>income</dt>\n",
       "\t\t<dd>2.35316845692377e-05</dd>\n",
       "\t<dt>balance</dt>\n",
       "\t\t<dd>0.00546686110511193</dd>\n",
       "</dl>\n"
      ],
      "text/latex": [
       "\\begin{description*}\n",
       "\\item[(Intercept)] -11.3921244665306\n",
       "\\item[income] 2.35316845692377e-05\n",
       "\\item[balance] 0.00546686110511193\n",
       "\\end{description*}\n"
      ],
      "text/markdown": [
       "(Intercept)\n",
       ":   -11.3921244665306income\n",
       ":   2.35316845692377e-05balance\n",
       ":   0.00546686110511193\n",
       "\n"
      ],
      "text/plain": [
       "  (Intercept)        income       balance \n",
       "-1.139212e+01  2.353168e-05  5.466861e-03 "
      ]
     },
     "metadata": {},
     "output_type": "display_data"
    }
   ],
   "source": [
    "index <- sample(dim(Default)[1], dim(Default)[1] / 2)\n",
    "boot.fn(Default, index)"
   ]
  },
  {
   "cell_type": "markdown",
   "metadata": {},
   "source": [
    "This function can make the logistic model based on sample data sets."
   ]
  },
  {
   "cell_type": "code",
   "execution_count": 56,
   "metadata": {},
   "outputs": [
    {
     "data": {
      "text/html": [
       "<dl class=dl-horizontal>\n",
       "\t<dt>(Intercept)</dt>\n",
       "\t\t<dd>-22.5660685232924</dd>\n",
       "\t<dt>income</dt>\n",
       "\t\t<dd>&lt;NA&gt;</dd>\n",
       "\t<dt>balance</dt>\n",
       "\t\t<dd>&lt;NA&gt;</dd>\n",
       "</dl>\n"
      ],
      "text/latex": [
       "\\begin{description*}\n",
       "\\item[(Intercept)] -22.5660685232924\n",
       "\\item[income] <NA>\n",
       "\\item[balance] <NA>\n",
       "\\end{description*}\n"
      ],
      "text/markdown": [
       "(Intercept)\n",
       ":   -22.5660685232924income\n",
       ":   &lt;NA&gt;balance\n",
       ":   &lt;NA&gt;\n",
       "\n"
      ],
      "text/plain": [
       "(Intercept)      income     balance \n",
       "  -22.56607          NA          NA "
      ]
     },
     "metadata": {},
     "output_type": "display_data"
    }
   ],
   "source": [
    "boot.fn(Default, 1000)"
   ]
  },
  {
   "cell_type": "markdown",
   "metadata": {},
   "source": [
    "### 2.3 Use the <a href=\"https://cran.r-project.org/web/packages/boot/boot.pdf\">boot()</a> function together with your <font color=\"blue\">boot.fn()</font> function to estimate the standard errors of the logistic regression coefficients for <font color=\"orange\">income</font> and <font color=\"orange\">balance</font>.\n",
    " "
   ]
  },
  {
   "cell_type": "code",
   "execution_count": 57,
   "metadata": {},
   "outputs": [
    {
     "data": {
      "text/plain": [
       "\n",
       "ORDINARY NONPARAMETRIC BOOTSTRAP\n",
       "\n",
       "\n",
       "Call:\n",
       "boot(data = Default, statistic = boot.fn, R = 1000)\n",
       "\n",
       "\n",
       "Bootstrap Statistics :\n",
       "         original        bias     std. error\n",
       "t1* -1.154047e+01 -1.909078e-02 4.309840e-01\n",
       "t2*  2.080898e-05 -2.601640e-08 4.787041e-06\n",
       "t3*  5.647103e-03  1.128372e-05 2.232473e-04"
      ]
     },
     "metadata": {},
     "output_type": "display_data"
    }
   ],
   "source": [
    "library(boot)\n",
    "set.seed(1234)\n",
    "boot(Default, boot.fn, 1000)"
   ]
  },
  {
   "cell_type": "markdown",
   "metadata": {},
   "source": [
    "The bootstrap estimates of the standard errors for the coefficients β0, β1 and β2 are respectively $0.43$, $4.787 x 10^{-6}$ and $2.232 x 10^{-4}$."
   ]
  },
  {
   "cell_type": "markdown",
   "metadata": {},
   "source": [
    "### 2.4 Comment on the estimated standard errors obtained using the <font color=\"blue\">glm()</font> function and using your bootstrap function."
   ]
  },
  {
   "cell_type": "markdown",
   "metadata": {},
   "source": [
    "The standard errors for coefficients of both functions are pretty close to each other. However, the standard errors obtained from bootstrap function is slightly lower."
   ]
  },
  {
   "cell_type": "code",
   "execution_count": null,
   "metadata": {},
   "outputs": [],
   "source": [
    "set.seed(1234)\n",
    "boot(Default, boot.fn, 10000)"
   ]
  }
 ],
 "metadata": {
  "kernelspec": {
   "display_name": "R",
   "language": "R",
   "name": "ir"
  },
  "language_info": {
   "codemirror_mode": "r",
   "file_extension": ".r",
   "mimetype": "text/x-r-source",
   "name": "R",
   "pygments_lexer": "r",
   "version": "3.4.4"
  }
 },
 "nbformat": 4,
 "nbformat_minor": 1
}
