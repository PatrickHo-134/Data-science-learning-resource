{
 "cells": [
  {
   "cell_type": "markdown",
   "metadata": {},
   "source": [
    "# Tree-based Methods\n",
    "\n",
    "The materials used in this tutorial are based on the applied exercises provided in the book \"An Introduction to Statistical Learning with Applications in R\" (ISLR). We are trying to demonstrate how to implement the following tree based method:\n",
    "\n",
    "* Decision tree\n",
    "* Random forest \n",
    "* Bagging \n",
    "\n",
    "2 variants of decision tree method is random forest and gradient boost tree\n",
    "\n",
    "for decision tree, we will use the whole dataset (all attributes), while in random forest it use a subset of data (how to subset data is similar to boostrapping)\n",
    "\n",
    "First you need to install libraries\n",
    "\n",
    "```r\n",
    "install.packages(\"tree\")\n",
    "install.packages(\"randomForest\")\n",
    "```"
   ]
  },
  {
   "cell_type": "code",
   "execution_count": 31,
   "metadata": {},
   "outputs": [],
   "source": [
    "#load all the libraries\n",
    "# install.packages(\"randomForest\", repos = 'http://cran.us.r-project.org')\n",
    "require(tree)\n",
    "require(randomForest)\n",
    "library(glmnet)\n",
    "library(gbm)\n",
    "library(ISLR)"
   ]
  },
  {
   "cell_type": "markdown",
   "metadata": {
    "collapsed": true
   },
   "source": [
    "## 1. Predict purchase in OJ dataset\n",
    "In this question, we will treat <font color=\"brown\">Purchase</font> as the response in <font color=\"brown\">OJ</font> dataset. This dataset consists of 1070 observations on the following 18 variables. (The following detail is copied and pasted from <a href=\"https://cran.r-project.org/web/packages/ISLR/ISLR.pdf\">here</a>)"
   ]
  },
  {
   "cell_type": "code",
   "execution_count": 32,
   "metadata": {},
   "outputs": [],
   "source": [
    "?OJ"
   ]
  },
  {
   "cell_type": "code",
   "execution_count": 33,
   "metadata": {},
   "outputs": [
    {
     "data": {
      "text/html": [
       "<table>\n",
       "<thead><tr><th scope=col>Purchase</th><th scope=col>WeekofPurchase</th><th scope=col>StoreID</th><th scope=col>PriceCH</th><th scope=col>PriceMM</th><th scope=col>DiscCH</th><th scope=col>DiscMM</th><th scope=col>SpecialCH</th><th scope=col>SpecialMM</th><th scope=col>LoyalCH</th><th scope=col>SalePriceMM</th><th scope=col>SalePriceCH</th><th scope=col>PriceDiff</th><th scope=col>Store7</th><th scope=col>PctDiscMM</th><th scope=col>PctDiscCH</th><th scope=col>ListPriceDiff</th><th scope=col>STORE</th></tr></thead>\n",
       "<tbody>\n",
       "\t<tr><td>CH      </td><td>237     </td><td>1       </td><td>1.75    </td><td>1.99    </td><td>0.00    </td><td>0.0     </td><td>0       </td><td>0       </td><td>0.500000</td><td>1.99    </td><td>1.75    </td><td> 0.24   </td><td>No      </td><td>0.000000</td><td>0.000000</td><td>0.24    </td><td>1       </td></tr>\n",
       "\t<tr><td>CH      </td><td>239     </td><td>1       </td><td>1.75    </td><td>1.99    </td><td>0.00    </td><td>0.3     </td><td>0       </td><td>1       </td><td>0.600000</td><td>1.69    </td><td>1.75    </td><td>-0.06   </td><td>No      </td><td>0.150754</td><td>0.000000</td><td>0.24    </td><td>1       </td></tr>\n",
       "\t<tr><td>CH      </td><td>245     </td><td>1       </td><td>1.86    </td><td>2.09    </td><td>0.17    </td><td>0.0     </td><td>0       </td><td>0       </td><td>0.680000</td><td>2.09    </td><td>1.69    </td><td> 0.40   </td><td>No      </td><td>0.000000</td><td>0.091398</td><td>0.23    </td><td>1       </td></tr>\n",
       "\t<tr><td>MM      </td><td>227     </td><td>1       </td><td>1.69    </td><td>1.69    </td><td>0.00    </td><td>0.0     </td><td>0       </td><td>0       </td><td>0.400000</td><td>1.69    </td><td>1.69    </td><td> 0.00   </td><td>No      </td><td>0.000000</td><td>0.000000</td><td>0.00    </td><td>1       </td></tr>\n",
       "\t<tr><td>CH      </td><td>228     </td><td>7       </td><td>1.69    </td><td>1.69    </td><td>0.00    </td><td>0.0     </td><td>0       </td><td>0       </td><td>0.956535</td><td>1.69    </td><td>1.69    </td><td> 0.00   </td><td>Yes     </td><td>0.000000</td><td>0.000000</td><td>0.00    </td><td>0       </td></tr>\n",
       "\t<tr><td>CH      </td><td>230     </td><td>7       </td><td>1.69    </td><td>1.99    </td><td>0.00    </td><td>0.0     </td><td>0       </td><td>1       </td><td>0.965228</td><td>1.99    </td><td>1.69    </td><td> 0.30   </td><td>Yes     </td><td>0.000000</td><td>0.000000</td><td>0.30    </td><td>0       </td></tr>\n",
       "</tbody>\n",
       "</table>\n"
      ],
      "text/latex": [
       "\\begin{tabular}{r|llllllllllllllllll}\n",
       " Purchase & WeekofPurchase & StoreID & PriceCH & PriceMM & DiscCH & DiscMM & SpecialCH & SpecialMM & LoyalCH & SalePriceMM & SalePriceCH & PriceDiff & Store7 & PctDiscMM & PctDiscCH & ListPriceDiff & STORE\\\\\n",
       "\\hline\n",
       "\t CH       & 237      & 1        & 1.75     & 1.99     & 0.00     & 0.0      & 0        & 0        & 0.500000 & 1.99     & 1.75     &  0.24    & No       & 0.000000 & 0.000000 & 0.24     & 1       \\\\\n",
       "\t CH       & 239      & 1        & 1.75     & 1.99     & 0.00     & 0.3      & 0        & 1        & 0.600000 & 1.69     & 1.75     & -0.06    & No       & 0.150754 & 0.000000 & 0.24     & 1       \\\\\n",
       "\t CH       & 245      & 1        & 1.86     & 2.09     & 0.17     & 0.0      & 0        & 0        & 0.680000 & 2.09     & 1.69     &  0.40    & No       & 0.000000 & 0.091398 & 0.23     & 1       \\\\\n",
       "\t MM       & 227      & 1        & 1.69     & 1.69     & 0.00     & 0.0      & 0        & 0        & 0.400000 & 1.69     & 1.69     &  0.00    & No       & 0.000000 & 0.000000 & 0.00     & 1       \\\\\n",
       "\t CH       & 228      & 7        & 1.69     & 1.69     & 0.00     & 0.0      & 0        & 0        & 0.956535 & 1.69     & 1.69     &  0.00    & Yes      & 0.000000 & 0.000000 & 0.00     & 0       \\\\\n",
       "\t CH       & 230      & 7        & 1.69     & 1.99     & 0.00     & 0.0      & 0        & 1        & 0.965228 & 1.99     & 1.69     &  0.30    & Yes      & 0.000000 & 0.000000 & 0.30     & 0       \\\\\n",
       "\\end{tabular}\n"
      ],
      "text/markdown": [
       "\n",
       "Purchase | WeekofPurchase | StoreID | PriceCH | PriceMM | DiscCH | DiscMM | SpecialCH | SpecialMM | LoyalCH | SalePriceMM | SalePriceCH | PriceDiff | Store7 | PctDiscMM | PctDiscCH | ListPriceDiff | STORE | \n",
       "|---|---|---|---|---|---|\n",
       "| CH       | 237      | 1        | 1.75     | 1.99     | 0.00     | 0.0      | 0        | 0        | 0.500000 | 1.99     | 1.75     |  0.24    | No       | 0.000000 | 0.000000 | 0.24     | 1        | \n",
       "| CH       | 239      | 1        | 1.75     | 1.99     | 0.00     | 0.3      | 0        | 1        | 0.600000 | 1.69     | 1.75     | -0.06    | No       | 0.150754 | 0.000000 | 0.24     | 1        | \n",
       "| CH       | 245      | 1        | 1.86     | 2.09     | 0.17     | 0.0      | 0        | 0        | 0.680000 | 2.09     | 1.69     |  0.40    | No       | 0.000000 | 0.091398 | 0.23     | 1        | \n",
       "| MM       | 227      | 1        | 1.69     | 1.69     | 0.00     | 0.0      | 0        | 0        | 0.400000 | 1.69     | 1.69     |  0.00    | No       | 0.000000 | 0.000000 | 0.00     | 1        | \n",
       "| CH       | 228      | 7        | 1.69     | 1.69     | 0.00     | 0.0      | 0        | 0        | 0.956535 | 1.69     | 1.69     |  0.00    | Yes      | 0.000000 | 0.000000 | 0.00     | 0        | \n",
       "| CH       | 230      | 7        | 1.69     | 1.99     | 0.00     | 0.0      | 0        | 1        | 0.965228 | 1.99     | 1.69     |  0.30    | Yes      | 0.000000 | 0.000000 | 0.30     | 0        | \n",
       "\n",
       "\n"
      ],
      "text/plain": [
       "  Purchase WeekofPurchase StoreID PriceCH PriceMM DiscCH DiscMM SpecialCH\n",
       "1 CH       237            1       1.75    1.99    0.00   0.0    0        \n",
       "2 CH       239            1       1.75    1.99    0.00   0.3    0        \n",
       "3 CH       245            1       1.86    2.09    0.17   0.0    0        \n",
       "4 MM       227            1       1.69    1.69    0.00   0.0    0        \n",
       "5 CH       228            7       1.69    1.69    0.00   0.0    0        \n",
       "6 CH       230            7       1.69    1.99    0.00   0.0    0        \n",
       "  SpecialMM LoyalCH  SalePriceMM SalePriceCH PriceDiff Store7 PctDiscMM\n",
       "1 0         0.500000 1.99        1.75         0.24     No     0.000000 \n",
       "2 1         0.600000 1.69        1.75        -0.06     No     0.150754 \n",
       "3 0         0.680000 2.09        1.69         0.40     No     0.000000 \n",
       "4 0         0.400000 1.69        1.69         0.00     No     0.000000 \n",
       "5 0         0.956535 1.69        1.69         0.00     Yes    0.000000 \n",
       "6 1         0.965228 1.99        1.69         0.30     Yes    0.000000 \n",
       "  PctDiscCH ListPriceDiff STORE\n",
       "1 0.000000  0.24          1    \n",
       "2 0.000000  0.24          1    \n",
       "3 0.091398  0.23          1    \n",
       "4 0.000000  0.00          1    \n",
       "5 0.000000  0.00          0    \n",
       "6 0.000000  0.30          0    "
      ]
     },
     "metadata": {},
     "output_type": "display_data"
    }
   ],
   "source": [
    "head(OJ)"
   ]
  },
  {
   "cell_type": "code",
   "execution_count": 34,
   "metadata": {},
   "outputs": [
    {
     "data": {
      "text/plain": [
       "\n",
       " CH  MM \n",
       "653 417 "
      ]
     },
     "metadata": {},
     "output_type": "display_data"
    }
   ],
   "source": [
    "table(OJ$Purchase)"
   ]
  },
  {
   "cell_type": "code",
   "execution_count": 35,
   "metadata": {},
   "outputs": [
    {
     "data": {
      "text/html": [
       "<ol class=list-inline>\n",
       "\t<li>1070</li>\n",
       "\t<li>18</li>\n",
       "</ol>\n"
      ],
      "text/latex": [
       "\\begin{enumerate*}\n",
       "\\item 1070\n",
       "\\item 18\n",
       "\\end{enumerate*}\n"
      ],
      "text/markdown": [
       "1. 1070\n",
       "2. 18\n",
       "\n",
       "\n"
      ],
      "text/plain": [
       "[1] 1070   18"
      ]
     },
     "metadata": {},
     "output_type": "display_data"
    }
   ],
   "source": [
    "dim(OJ)"
   ]
  },
  {
   "cell_type": "markdown",
   "metadata": {},
   "source": [
    "### 1.1 Create a training set containing a random sample of 800 observations, and a test set containing the remaining observation."
   ]
  },
  {
   "cell_type": "code",
   "execution_count": 36,
   "metadata": {},
   "outputs": [],
   "source": [
    "set.seed(1)\n",
    "train = sample(1:nrow(OJ), 800)"
   ]
  },
  {
   "cell_type": "code",
   "execution_count": 37,
   "metadata": {},
   "outputs": [
    {
     "data": {
      "text/plain": [
       "\n",
       "Classification tree:\n",
       "tree(formula = Purchase ~ ., data = OJ[train, ])\n",
       "Variables actually used in tree construction:\n",
       "[1] \"LoyalCH\"       \"PriceDiff\"     \"SpecialCH\"     \"ListPriceDiff\"\n",
       "Number of terminal nodes:  8 \n",
       "Residual mean deviance:  0.7305 = 578.6 / 792 \n",
       "Misclassification error rate: 0.165 = 132 / 800 "
      ]
     },
     "metadata": {},
     "output_type": "display_data"
    }
   ],
   "source": [
    "# A tree is grown by binary recursive partitioning using the response in the specified formula and\n",
    "# choosing splits from the terms of the right-hand-side\n",
    "tree.OJ = tree( Purchase ~ ., data=OJ[train,] )\n",
    "summary(tree.OJ)"
   ]
  },
  {
   "cell_type": "markdown",
   "metadata": {},
   "source": [
    "The tree only uses four variables \n",
    "* LoyalCH\n",
    "* PriceDiff\n",
    "* SpecialCH\n",
    "* ListPriceDiff\n",
    "\n",
    "They are the important predictors that are used to construct the decision tree. \n",
    "\n",
    "The train error rate is 0.165 for this classification tree. There are 8 terminal nodes in this tree."
   ]
  },
  {
   "cell_type": "markdown",
   "metadata": {},
   "source": [
    "### 1.2 Create a text output for the tree"
   ]
  },
  {
   "cell_type": "code",
   "execution_count": 38,
   "metadata": {},
   "outputs": [
    {
     "data": {
      "text/plain": [
       "node), split, n, deviance, yval, (yprob)\n",
       "      * denotes terminal node\n",
       "\n",
       " 1) root 800 1064.00 CH ( 0.61750 0.38250 )  \n",
       "   2) LoyalCH < 0.508643 350  409.30 MM ( 0.27143 0.72857 )  \n",
       "     4) LoyalCH < 0.264232 166  122.10 MM ( 0.12048 0.87952 )  \n",
       "       8) LoyalCH < 0.0356415 57   10.07 MM ( 0.01754 0.98246 ) *\n",
       "       9) LoyalCH > 0.0356415 109  100.90 MM ( 0.17431 0.82569 ) *\n",
       "     5) LoyalCH > 0.264232 184  248.80 MM ( 0.40761 0.59239 )  \n",
       "      10) PriceDiff < 0.195 83   91.66 MM ( 0.24096 0.75904 )  \n",
       "        20) SpecialCH < 0.5 70   60.89 MM ( 0.15714 0.84286 ) *\n",
       "        21) SpecialCH > 0.5 13   16.05 CH ( 0.69231 0.30769 ) *\n",
       "      11) PriceDiff > 0.195 101  139.20 CH ( 0.54455 0.45545 ) *\n",
       "   3) LoyalCH > 0.508643 450  318.10 CH ( 0.88667 0.11333 )  \n",
       "     6) LoyalCH < 0.764572 172  188.90 CH ( 0.76163 0.23837 )  \n",
       "      12) ListPriceDiff < 0.235 70   95.61 CH ( 0.57143 0.42857 ) *\n",
       "      13) ListPriceDiff > 0.235 102   69.76 CH ( 0.89216 0.10784 ) *\n",
       "     7) LoyalCH > 0.764572 278   86.14 CH ( 0.96403 0.03597 ) *"
      ]
     },
     "metadata": {},
     "output_type": "display_data"
    }
   ],
   "source": [
    "tree.OJ"
   ]
  },
  {
   "cell_type": "markdown",
   "metadata": {},
   "source": [
    "Let's pick terminal node labeled “11)”. The splitting variable at this node is 𝙿𝚛𝚒𝚌𝚎𝙳𝚒𝚏𝚏. \n",
    "\n",
    "* The splitting value of this node is 0.195. \n",
    "* There are 101 points in the subtree below this node. \n",
    "* The deviance for all points contained in region below this node is 139.20. \n",
    "* A * in the line denotes that this is in fact a terminal node. \n",
    "* The prediction at this node is 𝚂𝚊𝚕𝚎𝚜 = CH. \n",
    "* About 54.4% points in this node have 𝙲𝙷 as value of 𝚂𝚊𝚕𝚎𝚜. Remaining 45.5% points have 𝙼𝙼 as value of 𝚂𝚊𝚕𝚎𝚜."
   ]
  },
  {
   "cell_type": "markdown",
   "metadata": {},
   "source": [
    "### 1.3 Create a plot of the tree, and interpret the results"
   ]
  },
  {
   "cell_type": "code",
   "execution_count": 39,
   "metadata": {},
   "outputs": [
    {
     "data": {
      "image/png": "[encoded data removed]",
      "text/plain": [
       "plot without title"
      ]
     },
     "metadata": {},
     "output_type": "display_data"
    }
   ],
   "source": [
    "plot(tree.OJ)\n",
    "text(tree.OJ, pretty = 1)"
   ]
  },
  {
   "cell_type": "markdown",
   "metadata": {},
   "source": [
    "𝙻𝚘𝚢𝚊𝚕𝙲𝙷 is the most important variable of the tree, in fact top 3 nodes contain 𝙻𝚘𝚢𝚊𝚕𝙲𝙷. \n",
    "\n",
    "If 𝙻𝚘𝚢𝚊𝚕𝙲𝙷<𝟶.𝟸64, the tree predicts 𝙼𝙼. \n",
    "\n",
    "If 𝙻𝚘𝚢𝚊𝚕𝙲𝙷>𝟶.𝟽𝟼5, the tree predicts 𝙲𝙷. \n",
    "\n",
    "For intermediate values of 𝙻𝚘𝚢𝚊𝚕𝙲𝙷, the decision also depends on the value of 𝙿𝚛𝚒𝚌𝚎𝙳𝚒𝚏𝚏.\n",
    "\n"
   ]
  },
  {
   "cell_type": "markdown",
   "metadata": {},
   "source": [
    "### 1.4 Predict the response on the test data, and produce the confusion matrix comparing the test labels to the predicted test labels. What is the error rate?"
   ]
  },
  {
   "cell_type": "code",
   "execution_count": 40,
   "metadata": {},
   "outputs": [
    {
     "name": "stdout",
     "output_type": "stream",
     "text": [
      "     \n",
      "y_hat  CH  MM\n",
      "   CH 147  49\n",
      "   MM  12  62\n",
      "[1] \"original tree: classificaion error rate on the test dataset:\"\n"
     ]
    },
    {
     "data": {
      "text/html": [
       "0.225925925925926"
      ],
      "text/latex": [
       "0.225925925925926"
      ],
      "text/markdown": [
       "0.225925925925926"
      ],
      "text/plain": [
       "[1] 0.2259259"
      ]
     },
     "metadata": {},
     "output_type": "display_data"
    }
   ],
   "source": [
    "y_hat = predict( tree.OJ, newdata=OJ[-train,], type=\"class\" ) # gives classification labels\n",
    "CM = table( y_hat, OJ[-train,]$Purchase )   # confusion matrix\n",
    "print( CM )\n",
    "print( 'original tree: classificaion error rate on the test dataset:')\n",
    "#or print( ( CM[1,2] + CM[2,1] ) / sum(CM) )\n",
    "mean(y_hat!=OJ[-train,]$Purchase)"
   ]
  },
  {
   "cell_type": "markdown",
   "metadata": {},
   "source": [
    "### 1.5 Apply the <font color=\"blue\">cv.tree()</font> function to the training set in order to determine the optimal tree size. Produce plots with tree size and cross-validation classification error rate. Which tree size is chosen?"
   ]
  },
  {
   "cell_type": "code",
   "execution_count": 41,
   "metadata": {},
   "outputs": [
    {
     "data": {
      "text/plain": [
       "$size\n",
       "[1] 8 5 2 1\n",
       "\n",
       "$dev\n",
       "[1] 156 156 156 306\n",
       "\n",
       "$k\n",
       "[1]       -Inf   0.000000   4.666667 160.000000\n",
       "\n",
       "$method\n",
       "[1] \"misclass\"\n",
       "\n",
       "attr(,\"class\")\n",
       "[1] \"prune\"         \"tree.sequence\""
      ]
     },
     "metadata": {},
     "output_type": "display_data"
    }
   ],
   "source": [
    "# Runs a K-fold cross-validation experiment to find the deviance or number of misclassifications as a\n",
    "# function of the cost-complexity parameter k.\n",
    "cv.OJ = cv.tree( tree.OJ, FUN=prune.misclass )\n",
    "cv.OJ"
   ]
  },
  {
   "cell_type": "code",
   "execution_count": 44,
   "metadata": {},
   "outputs": [
    {
     "data": {
      "image/png": "[encoded data removed]",
      "text/plain": [
       "plot without title"
      ]
     },
     "metadata": {},
     "output_type": "display_data"
    }
   ],
   "source": [
    "par(mfrow=c(1,2))\n",
    "plot(cv.OJ$size, cv.OJ$dev, type =\"b\", xlab=\"size\", ylab=\"CV error\")\n",
    "# plot(cv.carseats$size,cv.carseats$dev,type=\"b\")\n",
    "plot(cv.OJ$k, cv.OJ$dev, type=\"b\")"
   ]
  },
  {
   "cell_type": "markdown",
   "metadata": {},
   "source": [
    "The best size number are 2, 5 and 8. Let's choose 5."
   ]
  },
  {
   "cell_type": "markdown",
   "metadata": {},
   "source": [
    "### 1.6 Produce a pruned tree corresponding to the optimal tree size obtained using cross-validation."
   ]
  },
  {
   "cell_type": "code",
   "execution_count": 12,
   "metadata": {},
   "outputs": [
    {
     "data": {
      "image/png": "[encoded data removed]",
      "text/plain": [
       "plot without title"
      ]
     },
     "metadata": {},
     "output_type": "display_data"
    }
   ],
   "source": [
    "# Determines a nested sequence of subtrees of the supplied tree by recursively “snipping” off the least\n",
    "# important splits.\n",
    "# prune.missclass is an abbreviation for prune.tree(method = 'missclass')\n",
    "\n",
    "prune.OJ = prune.misclass(tree.OJ, best=5 )\n",
    "plot(prune.OJ)\n",
    "text(prune.OJ)"
   ]
  },
  {
   "cell_type": "markdown",
   "metadata": {},
   "source": [
    "### 1.7 Compare the training error rates between the pruned and unpruned trees. Which is higher?"
   ]
  },
  {
   "cell_type": "code",
   "execution_count": 13,
   "metadata": {},
   "outputs": [
    {
     "data": {
      "text/plain": [
       "\n",
       "Classification tree:\n",
       "tree(formula = Purchase ~ ., data = OJ[train, ])\n",
       "Variables actually used in tree construction:\n",
       "[1] \"LoyalCH\"       \"PriceDiff\"     \"SpecialCH\"     \"ListPriceDiff\"\n",
       "Number of terminal nodes:  8 \n",
       "Residual mean deviance:  0.7305 = 578.6 / 792 \n",
       "Misclassification error rate: 0.165 = 132 / 800 "
      ]
     },
     "metadata": {},
     "output_type": "display_data"
    }
   ],
   "source": [
    "summary(tree.OJ)"
   ]
  },
  {
   "cell_type": "code",
   "execution_count": 14,
   "metadata": {},
   "outputs": [
    {
     "data": {
      "text/plain": [
       "\n",
       "Classification tree:\n",
       "snip.tree(tree = tree.OJ, nodes = 3:4)\n",
       "Variables actually used in tree construction:\n",
       "[1] \"LoyalCH\"   \"PriceDiff\" \"SpecialCH\"\n",
       "Number of terminal nodes:  5 \n",
       "Residual mean deviance:  0.8256 = 656.4 / 795 \n",
       "Misclassification error rate: 0.165 = 132 / 800 "
      ]
     },
     "metadata": {},
     "output_type": "display_data"
    }
   ],
   "source": [
    "summary(prune.OJ)"
   ]
  },
  {
   "cell_type": "markdown",
   "metadata": {},
   "source": [
    "The train error for both classification trees are the same at 0.165, but the residual mean deviance for the pruned tree is higher."
   ]
  },
  {
   "cell_type": "markdown",
   "metadata": {},
   "source": [
    "### 1.8 Compare the testing error rates between the pruned and unpruned trees. Which is higher?"
   ]
  },
  {
   "cell_type": "code",
   "execution_count": 15,
   "metadata": {},
   "outputs": [
    {
     "name": "stdout",
     "output_type": "stream",
     "text": [
      "           \n",
      "y_hat.prune  CH  MM\n",
      "         CH 147  49\n",
      "         MM  12  62\n",
      "[1] \"prune tree: classificaion error rate on the test dataset:\"\n"
     ]
    },
    {
     "data": {
      "text/html": [
       "0.225925925925926"
      ],
      "text/latex": [
       "0.225925925925926"
      ],
      "text/markdown": [
       "0.225925925925926"
      ],
      "text/plain": [
       "[1] 0.2259259"
      ]
     },
     "metadata": {},
     "output_type": "display_data"
    }
   ],
   "source": [
    "y_hat.prune = predict( prune.OJ, newdata=OJ[-train,], type=\"class\" ) # gives classification labels\n",
    "CM.prune = table( y_hat.prune, OJ[-train,]$Purchase )   # confusion matrix\n",
    "print( CM.prune )\n",
    "print( 'prune tree: classificaion error rate on the test dataset:')\n",
    "# or print( ( CM.prune[1,2] + CM.prune[2,1] ) / sum(CM.prune) )\n",
    "mean(y_hat.prune!=OJ[-train,]$Purchase)"
   ]
  },
  {
   "cell_type": "markdown",
   "metadata": {
    "collapsed": true
   },
   "source": [
    "## 2. Use boosting to predict Salary in the Hitters dataset \n",
    "\n",
    "In this task, we are going to study how to fit a boosted regression tree.\n",
    "\n",
    "### 2.1 Prepare the training and the testing datasets.\n",
    "There are some observations for whom the salary information is unknown. We need to exclude those observations from the datasets. And then, log-transform the salaries."
   ]
  },
  {
   "cell_type": "code",
   "execution_count": 21,
   "metadata": {},
   "outputs": [
    {
     "data": {
      "text/html": [
       "59"
      ],
      "text/latex": [
       "59"
      ],
      "text/markdown": [
       "59"
      ],
      "text/plain": [
       "[1] 59"
      ]
     },
     "metadata": {},
     "output_type": "display_data"
    }
   ],
   "source": [
    "sum(is.na(Hitters$Salary))"
   ]
  },
  {
   "cell_type": "code",
   "execution_count": 22,
   "metadata": {},
   "outputs": [],
   "source": [
    "Hitters <- na.omit(Hitters)\n",
    "Hitters$Salary <- log(Hitters$Salary)"
   ]
  },
  {
   "cell_type": "markdown",
   "metadata": {},
   "source": [
    "As what you have done in the task 1 above, we generate the training and testing splits."
   ]
  },
  {
   "cell_type": "code",
   "execution_count": 23,
   "metadata": {},
   "outputs": [],
   "source": [
    "train <- 1:200\n",
    "Hitters.train <- Hitters[train, ]\n",
    "Hitters.test <- Hitters[-train, ]"
   ]
  },
  {
   "cell_type": "markdown",
   "metadata": {},
   "source": [
    "### 2.2 Fit a boosted tree \n",
    "Perform boosting on the training set with 1000 trees for a range of values of the shrinkage parameter $\\lambda$.\n",
    "Produce twos plots:\n",
    "* one with different shrinkage values on the x-axis and the corresponding training set MSE on the y-axis.\n",
    "* one with different shrinkage values on the x-axis and the corresponding testing set MSE on the y-axis."
   ]
  },
  {
   "cell_type": "code",
   "execution_count": 24,
   "metadata": {},
   "outputs": [],
   "source": [
    "set.seed(1)"
   ]
  },
  {
   "cell_type": "code",
   "execution_count": 25,
   "metadata": {},
   "outputs": [],
   "source": [
    "pows = seq(-10, -0.2, by = 0.1)\n",
    "lambdas = 10^pows\n",
    "length.lambdas = length(lambdas)\n",
    "train.errors = rep(NA, length.lambdas)\n",
    "test.errors = rep(NA, length.lambdas)"
   ]
  },
  {
   "cell_type": "markdown",
   "metadata": {},
   "source": [
    "Now, perform the boosting with the setting above."
   ]
  },
  {
   "cell_type": "code",
   "execution_count": 26,
   "metadata": {},
   "outputs": [],
   "source": [
    "for (i in 1:length.lambdas) {\n",
    "    # Fits generalized boosted regression models.\n",
    "    boost.hitters = gbm(Salary ~ ., data = Hitters.train, distribution = \"gaussian\", n.trees = 1000, shrinkage = lambdas[i])\n",
    "    # use the built model to predict train data\n",
    "    train.pred = predict(boost.hitters, Hitters.train, n.trees = 1000)\n",
    "    # use the built model to predict test data\n",
    "    test.pred = predict(boost.hitters, Hitters.test, n.trees = 1000)\n",
    "    # calculate train and test error\n",
    "    train.errors[i] = mean((Hitters.train$Salary - train.pred)^2)\n",
    "    test.errors[i] = mean((Hitters.test$Salary - test.pred)^2)\n",
    "}"
   ]
  },
  {
   "cell_type": "markdown",
   "metadata": {},
   "source": [
    "Plot the training/testing MSE as a function of $\\lambda$s results below"
   ]
  },
  {
   "cell_type": "code",
   "execution_count": 27,
   "metadata": {},
   "outputs": [
    {
     "data": {
      "text/html": [
       "<ol class=list-inline>\n",
       "\t<li>0.5</li>\n",
       "\t<li>1</li>\n",
       "\t<li>0</li>\n",
       "\t<li>1</li>\n",
       "</ol>\n"
      ],
      "text/latex": [
       "\\begin{enumerate*}\n",
       "\\item 0.5\n",
       "\\item 1\n",
       "\\item 0\n",
       "\\item 1\n",
       "\\end{enumerate*}\n"
      ],
      "text/markdown": [
       "1. 0.5\n",
       "2. 1\n",
       "3. 0\n",
       "4. 1\n",
       "\n",
       "\n"
      ],
      "text/plain": [
       "[1] 0.5 1.0 0.0 1.0"
      ]
     },
     "metadata": {},
     "output_type": "display_data"
    },
    {
     "data": {
      "image/png": "[encoded data removed]",
      "text/plain": [
       "plot without title"
      ]
     },
     "metadata": {},
     "output_type": "display_data"
    }
   ],
   "source": [
    "par(mfcol=c(1,2),  pty = \"s\")\n",
    "plot(lambdas, train.errors, type = \"b\", xlab = \"Shrinkage values\", ylab = \"Training MSE\")\n",
    "plot(lambdas, test.errors, type = \"b\", xlab = \"Shrinkage values\", ylab = \"Testing MSE\")\n",
    "par(\"fig\")"
   ]
  },
  {
   "cell_type": "markdown",
   "metadata": {},
   "source": [
    "What is the min test error?"
   ]
  },
  {
   "cell_type": "code",
   "execution_count": 28,
   "metadata": {},
   "outputs": [
    {
     "data": {
      "text/html": [
       "0.254026510444201"
      ],
      "text/latex": [
       "0.254026510444201"
      ],
      "text/markdown": [
       "0.254026510444201"
      ],
      "text/plain": [
       "[1] 0.2540265"
      ]
     },
     "metadata": {},
     "output_type": "display_data"
    }
   ],
   "source": [
    "min(test.errors)"
   ]
  },
  {
   "cell_type": "code",
   "execution_count": 29,
   "metadata": {},
   "outputs": [
    {
     "data": {
      "text/html": [
       "0.0794328234724282"
      ],
      "text/latex": [
       "0.0794328234724282"
      ],
      "text/markdown": [
       "0.0794328234724282"
      ],
      "text/plain": [
       "[1] 0.07943282"
      ]
     },
     "metadata": {},
     "output_type": "display_data"
    }
   ],
   "source": [
    "lambdas[which.min(test.errors)]"
   ]
  },
  {
   "cell_type": "markdown",
   "metadata": {},
   "source": [
    "### 2.3 Comparison\n",
    "\n",
    "Compare the test MSE of boosting to the test MSE that results from applying the regression approaches: \n",
    "* regression \n",
    "* lasso regression\n",
    "* Ridge regression"
   ]
  },
  {
   "cell_type": "code",
   "execution_count": 25,
   "metadata": {},
   "outputs": [
    {
     "data": {
      "text/html": [
       "0.491795937545494"
      ],
      "text/latex": [
       "0.491795937545494"
      ],
      "text/markdown": [
       "0.491795937545494"
      ],
      "text/plain": [
       "[1] 0.4917959"
      ]
     },
     "metadata": {},
     "output_type": "display_data"
    }
   ],
   "source": [
    "# fit a linear model\n",
    "fit1 <- lm(Salary ~ ., data = Hitters.train)\n",
    "pred1 <- predict(fit1, Hitters.test)\n",
    "mean((pred1 - Hitters.test$Salary)^2)"
   ]
  },
  {
   "cell_type": "code",
   "execution_count": 26,
   "metadata": {},
   "outputs": [
    {
     "data": {
      "text/html": [
       "0.457028250141243"
      ],
      "text/latex": [
       "0.457028250141243"
      ],
      "text/markdown": [
       "0.457028250141243"
      ],
      "text/plain": [
       "[1] 0.4570283"
      ]
     },
     "metadata": {},
     "output_type": "display_data"
    }
   ],
   "source": [
    "x <- model.matrix(Salary ~ ., data = Hitters.train)\n",
    "x.test <- model.matrix(Salary ~ ., data = Hitters.test)\n",
    "y <- Hitters.train$Salary\n",
    "\n",
    "# Extremely efficient procedures for fitting the entire lasso or elastic-net regularization path for linear regression, \n",
    "# logistic and multinomial regression models, Poisson regression and the Cox model. \n",
    "# Two recent additions are the multiple-response Gaussian, and the grouped multinomial regression. \n",
    "# The algorithm uses cyclical coordinate descent in a path-wise fashion\n",
    "fit2 <- glmnet(x, y, alpha = 0) # alpha=0 used for Ridge regression\n",
    "pred2 <- predict(fit2, s = 0.01, newx = x.test)\n",
    "mean((pred2 - Hitters.test$Salary)^2)"
   ]
  },
  {
   "cell_type": "code",
   "execution_count": 27,
   "metadata": {},
   "outputs": [
    {
     "data": {
      "text/html": [
       "0.470053732710274"
      ],
      "text/latex": [
       "0.470053732710274"
      ],
      "text/markdown": [
       "0.470053732710274"
      ],
      "text/plain": [
       "[1] 0.4700537"
      ]
     },
     "metadata": {},
     "output_type": "display_data"
    }
   ],
   "source": [
    "fit3 <- glmnet(x, y, alpha = 1) # alpha=1 used for Lasso regression\n",
    "pred3 <- predict(fit3, s = 0.01, newx = x.test)\n",
    "mean((pred3 - Hitters.test$Salary)^2)"
   ]
  },
  {
   "cell_type": "markdown",
   "metadata": {},
   "source": [
    "Both linear model and regularization like Lasso have higher test MSE than boosting."
   ]
  },
  {
   "cell_type": "markdown",
   "metadata": {},
   "source": [
    "### 2.4 Which variables appear to be the most important predictors in the boosted model ?"
   ]
  },
  {
   "cell_type": "code",
   "execution_count": 28,
   "metadata": {},
   "outputs": [
    {
     "data": {
      "text/html": [
       "<table>\n",
       "<thead><tr><th></th><th scope=col>var</th><th scope=col>rel.inf</th></tr></thead>\n",
       "<tbody>\n",
       "\t<tr><th scope=row>CAtBat</th><td>CAtBat    </td><td>20.8404970</td></tr>\n",
       "\t<tr><th scope=row>CRBI</th><td>CRBI      </td><td>12.3158959</td></tr>\n",
       "\t<tr><th scope=row>Walks</th><td>Walks     </td><td> 7.4186037</td></tr>\n",
       "\t<tr><th scope=row>PutOuts</th><td>PutOuts   </td><td> 7.1958539</td></tr>\n",
       "\t<tr><th scope=row>Years</th><td>Years     </td><td> 6.3104535</td></tr>\n",
       "\t<tr><th scope=row>CWalks</th><td>CWalks    </td><td> 6.0221656</td></tr>\n",
       "\t<tr><th scope=row>CHmRun</th><td>CHmRun    </td><td> 5.7759763</td></tr>\n",
       "\t<tr><th scope=row>CHits</th><td>CHits     </td><td> 4.8914360</td></tr>\n",
       "\t<tr><th scope=row>AtBat</th><td>AtBat     </td><td> 4.2187460</td></tr>\n",
       "\t<tr><th scope=row>RBI</th><td>RBI       </td><td> 4.0812410</td></tr>\n",
       "\t<tr><th scope=row>Hits</th><td>Hits      </td><td> 4.0117255</td></tr>\n",
       "\t<tr><th scope=row>Assists</th><td>Assists   </td><td> 3.8786634</td></tr>\n",
       "\t<tr><th scope=row>HmRun</th><td>HmRun     </td><td> 3.6386178</td></tr>\n",
       "\t<tr><th scope=row>CRuns</th><td>CRuns     </td><td> 3.3230296</td></tr>\n",
       "\t<tr><th scope=row>Errors</th><td>Errors    </td><td> 2.6369128</td></tr>\n",
       "\t<tr><th scope=row>Runs</th><td>Runs      </td><td> 2.2048386</td></tr>\n",
       "\t<tr><th scope=row>Division</th><td>Division  </td><td> 0.5347342</td></tr>\n",
       "\t<tr><th scope=row>NewLeague</th><td>NewLeague </td><td> 0.4943540</td></tr>\n",
       "\t<tr><th scope=row>League</th><td>League    </td><td> 0.2062551</td></tr>\n",
       "</tbody>\n",
       "</table>\n"
      ],
      "text/latex": [
       "\\begin{tabular}{r|ll}\n",
       "  & var & rel.inf\\\\\n",
       "\\hline\n",
       "\tCAtBat & CAtBat     & 20.8404970\\\\\n",
       "\tCRBI & CRBI       & 12.3158959\\\\\n",
       "\tWalks & Walks      &  7.4186037\\\\\n",
       "\tPutOuts & PutOuts    &  7.1958539\\\\\n",
       "\tYears & Years      &  6.3104535\\\\\n",
       "\tCWalks & CWalks     &  6.0221656\\\\\n",
       "\tCHmRun & CHmRun     &  5.7759763\\\\\n",
       "\tCHits & CHits      &  4.8914360\\\\\n",
       "\tAtBat & AtBat      &  4.2187460\\\\\n",
       "\tRBI & RBI        &  4.0812410\\\\\n",
       "\tHits & Hits       &  4.0117255\\\\\n",
       "\tAssists & Assists    &  3.8786634\\\\\n",
       "\tHmRun & HmRun      &  3.6386178\\\\\n",
       "\tCRuns & CRuns      &  3.3230296\\\\\n",
       "\tErrors & Errors     &  2.6369128\\\\\n",
       "\tRuns & Runs       &  2.2048386\\\\\n",
       "\tDivision & Division   &  0.5347342\\\\\n",
       "\tNewLeague & NewLeague  &  0.4943540\\\\\n",
       "\tLeague & League     &  0.2062551\\\\\n",
       "\\end{tabular}\n"
      ],
      "text/markdown": [
       "\n",
       "| <!--/--> | var | rel.inf | \n",
       "|---|---|---|---|---|---|---|---|---|---|---|---|---|---|---|---|---|---|---|\n",
       "| CAtBat | CAtBat     | 20.8404970 | \n",
       "| CRBI | CRBI       | 12.3158959 | \n",
       "| Walks | Walks      |  7.4186037 | \n",
       "| PutOuts | PutOuts    |  7.1958539 | \n",
       "| Years | Years      |  6.3104535 | \n",
       "| CWalks | CWalks     |  6.0221656 | \n",
       "| CHmRun | CHmRun     |  5.7759763 | \n",
       "| CHits | CHits      |  4.8914360 | \n",
       "| AtBat | AtBat      |  4.2187460 | \n",
       "| RBI | RBI        |  4.0812410 | \n",
       "| Hits | Hits       |  4.0117255 | \n",
       "| Assists | Assists    |  3.8786634 | \n",
       "| HmRun | HmRun      |  3.6386178 | \n",
       "| CRuns | CRuns      |  3.3230296 | \n",
       "| Errors | Errors     |  2.6369128 | \n",
       "| Runs | Runs       |  2.2048386 | \n",
       "| Division | Division   |  0.5347342 | \n",
       "| NewLeague | NewLeague  |  0.4943540 | \n",
       "| League | League     |  0.2062551 | \n",
       "\n",
       "\n"
      ],
      "text/plain": [
       "          var       rel.inf   \n",
       "CAtBat    CAtBat    20.8404970\n",
       "CRBI      CRBI      12.3158959\n",
       "Walks     Walks      7.4186037\n",
       "PutOuts   PutOuts    7.1958539\n",
       "Years     Years      6.3104535\n",
       "CWalks    CWalks     6.0221656\n",
       "CHmRun    CHmRun     5.7759763\n",
       "CHits     CHits      4.8914360\n",
       "AtBat     AtBat      4.2187460\n",
       "RBI       RBI        4.0812410\n",
       "Hits      Hits       4.0117255\n",
       "Assists   Assists    3.8786634\n",
       "HmRun     HmRun      3.6386178\n",
       "CRuns     CRuns      3.3230296\n",
       "Errors    Errors     2.6369128\n",
       "Runs      Runs       2.2048386\n",
       "Division  Division   0.5347342\n",
       "NewLeague NewLeague  0.4943540\n",
       "League    League     0.2062551"
      ]
     },
     "metadata": {},
     "output_type": "display_data"
    },
    {
     "data": {
      "image/png": "[encoded data removed]",
      "text/plain": [
       "plot without title"
      ]
     },
     "metadata": {},
     "output_type": "display_data"
    }
   ],
   "source": [
    "boost.hitters <- gbm(Salary ~ ., data = Hitters.train, distribution = \"gaussian\", n.trees = 1000, \n",
    "                     shrinkage = lambdas[which.min(test.errors)]) # use minimum test error from boosting\n",
    "summary(boost.hitters)"
   ]
  },
  {
   "cell_type": "markdown",
   "metadata": {},
   "source": [
    "We may see that “CAtBat” is by far the most important variable."
   ]
  },
  {
   "cell_type": "markdown",
   "metadata": {},
   "source": [
    "### 2.5 Now apply bagging to the training set. What is the test set MSE for this approach ?"
   ]
  },
  {
   "cell_type": "code",
   "execution_count": 29,
   "metadata": {},
   "outputs": [
    {
     "data": {
      "text/html": [
       "0.22993242086693"
      ],
      "text/latex": [
       "0.22993242086693"
      ],
      "text/markdown": [
       "0.22993242086693"
      ],
      "text/plain": [
       "[1] 0.2299324"
      ]
     },
     "metadata": {},
     "output_type": "display_data"
    }
   ],
   "source": [
    "set.seed(1)\n",
    "bag.hitters <- randomForest(Salary ~ ., data = Hitters.train, mtry = 19, ntree = 500)\n",
    "yhat.bag <- predict(bag.hitters, newdata = Hitters.test)\n",
    "mean((yhat.bag - Hitters.test$Salary)^2)"
   ]
  },
  {
   "cell_type": "markdown",
   "metadata": {},
   "source": [
    "The test MSE for bagging is 0.23, which is slightly lower than the test MSE for boosting."
   ]
  },
  {
   "cell_type": "code",
   "execution_count": null,
   "metadata": {
    "collapsed": true
   },
   "outputs": [],
   "source": []
  }
 ],
 "metadata": {
  "kernelspec": {
   "display_name": "R",
   "language": "R",
   "name": "ir"
  },
  "language_info": {
   "codemirror_mode": "r",
   "file_extension": ".r",
   "mimetype": "text/x-r-source",
   "name": "R",
   "pygments_lexer": "r",
   "version": "3.4.4"
  }
 },
 "nbformat": 4,
 "nbformat_minor": 1
}
