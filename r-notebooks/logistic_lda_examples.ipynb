{
 "cells": [
  {
   "cell_type": "markdown",
   "metadata": {},
   "source": [
    "In this notebook, we will demonstrate how to run Logistic Regression and Linear Discriminant analysis on the Boston data set. We will show how to fit classification models in order to predict whether a given suburb has a crime rate above or below the median. Explore logistic regression, LDA, and KNN models using various subsets of the predictors. Describe your findings."
   ]
  },
  {
   "cell_type": "code",
   "execution_count": 1,
   "metadata": {},
   "outputs": [
    {
     "name": "stderr",
     "output_type": "stream",
     "text": [
      "Loading required package: lattice\n",
      "Loading required package: ggplot2\n"
     ]
    }
   ],
   "source": [
    "library(ISLR)\n",
    "library(MASS)\n",
    "library(caret)"
   ]
  },
  {
   "cell_type": "markdown",
   "metadata": {},
   "source": [
    "# 1. The Boston Housing Dataset"
   ]
  },
  {
   "cell_type": "code",
   "execution_count": 2,
   "metadata": {},
   "outputs": [],
   "source": [
    "attach(Boston)"
   ]
  },
  {
   "cell_type": "code",
   "execution_count": 3,
   "metadata": {},
   "outputs": [
    {
     "name": "stdout",
     "output_type": "stream",
     "text": [
      "'data.frame':\t506 obs. of  14 variables:\n",
      " $ crim   : num  0.00632 0.02731 0.02729 0.03237 0.06905 ...\n",
      " $ zn     : num  18 0 0 0 0 0 12.5 12.5 12.5 12.5 ...\n",
      " $ indus  : num  2.31 7.07 7.07 2.18 2.18 2.18 7.87 7.87 7.87 7.87 ...\n",
      " $ chas   : int  0 0 0 0 0 0 0 0 0 0 ...\n",
      " $ nox    : num  0.538 0.469 0.469 0.458 0.458 0.458 0.524 0.524 0.524 0.524 ...\n",
      " $ rm     : num  6.58 6.42 7.18 7 7.15 ...\n",
      " $ age    : num  65.2 78.9 61.1 45.8 54.2 58.7 66.6 96.1 100 85.9 ...\n",
      " $ dis    : num  4.09 4.97 4.97 6.06 6.06 ...\n",
      " $ rad    : int  1 2 2 3 3 3 5 5 5 5 ...\n",
      " $ tax    : num  296 242 242 222 222 222 311 311 311 311 ...\n",
      " $ ptratio: num  15.3 17.8 17.8 18.7 18.7 18.7 15.2 15.2 15.2 15.2 ...\n",
      " $ black  : num  397 397 393 395 397 ...\n",
      " $ lstat  : num  4.98 9.14 4.03 2.94 5.33 ...\n",
      " $ medv   : num  24 21.6 34.7 33.4 36.2 28.7 22.9 27.1 16.5 18.9 ...\n"
     ]
    }
   ],
   "source": [
    "str(Boston)"
   ]
  },
  {
   "cell_type": "code",
   "execution_count": 4,
   "metadata": {},
   "outputs": [
    {
     "data": {
      "text/plain": [
       "      crim                zn             indus            chas        \n",
       " Min.   : 0.00632   Min.   :  0.00   Min.   : 0.46   Min.   :0.00000  \n",
       " 1st Qu.: 0.08204   1st Qu.:  0.00   1st Qu.: 5.19   1st Qu.:0.00000  \n",
       " Median : 0.25651   Median :  0.00   Median : 9.69   Median :0.00000  \n",
       " Mean   : 3.61352   Mean   : 11.36   Mean   :11.14   Mean   :0.06917  \n",
       " 3rd Qu.: 3.67708   3rd Qu.: 12.50   3rd Qu.:18.10   3rd Qu.:0.00000  \n",
       " Max.   :88.97620   Max.   :100.00   Max.   :27.74   Max.   :1.00000  \n",
       "      nox               rm             age              dis        \n",
       " Min.   :0.3850   Min.   :3.561   Min.   :  2.90   Min.   : 1.130  \n",
       " 1st Qu.:0.4490   1st Qu.:5.886   1st Qu.: 45.02   1st Qu.: 2.100  \n",
       " Median :0.5380   Median :6.208   Median : 77.50   Median : 3.207  \n",
       " Mean   :0.5547   Mean   :6.285   Mean   : 68.57   Mean   : 3.795  \n",
       " 3rd Qu.:0.6240   3rd Qu.:6.623   3rd Qu.: 94.08   3rd Qu.: 5.188  \n",
       " Max.   :0.8710   Max.   :8.780   Max.   :100.00   Max.   :12.127  \n",
       "      rad              tax           ptratio          black       \n",
       " Min.   : 1.000   Min.   :187.0   Min.   :12.60   Min.   :  0.32  \n",
       " 1st Qu.: 4.000   1st Qu.:279.0   1st Qu.:17.40   1st Qu.:375.38  \n",
       " Median : 5.000   Median :330.0   Median :19.05   Median :391.44  \n",
       " Mean   : 9.549   Mean   :408.2   Mean   :18.46   Mean   :356.67  \n",
       " 3rd Qu.:24.000   3rd Qu.:666.0   3rd Qu.:20.20   3rd Qu.:396.23  \n",
       " Max.   :24.000   Max.   :711.0   Max.   :22.00   Max.   :396.90  \n",
       "     lstat            medv      \n",
       " Min.   : 1.73   Min.   : 5.00  \n",
       " 1st Qu.: 6.95   1st Qu.:17.02  \n",
       " Median :11.36   Median :21.20  \n",
       " Mean   :12.65   Mean   :22.53  \n",
       " 3rd Qu.:16.95   3rd Qu.:25.00  \n",
       " Max.   :37.97   Max.   :50.00  "
      ]
     },
     "metadata": {},
     "output_type": "display_data"
    }
   ],
   "source": [
    "summary(Boston)"
   ]
  },
  {
   "cell_type": "code",
   "execution_count": 5,
   "metadata": {},
   "outputs": [
    {
     "data": {
      "text/html": [
       "<dl class=dl-horizontal>\n",
       "\t<dt>crim</dt>\n",
       "\t\t<dd>8.60154510533249</dd>\n",
       "\t<dt>zn</dt>\n",
       "\t\t<dd>23.3224529945151</dd>\n",
       "\t<dt>indus</dt>\n",
       "\t\t<dd>6.86035294089759</dd>\n",
       "\t<dt>chas</dt>\n",
       "\t\t<dd>0.25399404134041</dd>\n",
       "\t<dt>nox</dt>\n",
       "\t\t<dd>0.115877675667556</dd>\n",
       "\t<dt>rm</dt>\n",
       "\t\t<dd>0.702617143415323</dd>\n",
       "\t<dt>age</dt>\n",
       "\t\t<dd>28.1488614069036</dd>\n",
       "\t<dt>dis</dt>\n",
       "\t\t<dd>2.10571012662761</dd>\n",
       "\t<dt>rad</dt>\n",
       "\t\t<dd>8.70725938423937</dd>\n",
       "\t<dt>tax</dt>\n",
       "\t\t<dd>168.537116054959</dd>\n",
       "\t<dt>ptratio</dt>\n",
       "\t\t<dd>2.16494552371444</dd>\n",
       "\t<dt>black</dt>\n",
       "\t\t<dd>91.2948643841578</dd>\n",
       "\t<dt>lstat</dt>\n",
       "\t\t<dd>7.14106151134857</dd>\n",
       "</dl>\n"
      ],
      "text/latex": [
       "\\begin{description*}\n",
       "\\item[crim] 8.60154510533249\n",
       "\\item[zn] 23.3224529945151\n",
       "\\item[indus] 6.86035294089759\n",
       "\\item[chas] 0.25399404134041\n",
       "\\item[nox] 0.115877675667556\n",
       "\\item[rm] 0.702617143415323\n",
       "\\item[age] 28.1488614069036\n",
       "\\item[dis] 2.10571012662761\n",
       "\\item[rad] 8.70725938423937\n",
       "\\item[tax] 168.537116054959\n",
       "\\item[ptratio] 2.16494552371444\n",
       "\\item[black] 91.2948643841578\n",
       "\\item[lstat] 7.14106151134857\n",
       "\\end{description*}\n"
      ],
      "text/markdown": [
       "crim\n",
       ":   8.60154510533249zn\n",
       ":   23.3224529945151indus\n",
       ":   6.86035294089759chas\n",
       ":   0.25399404134041nox\n",
       ":   0.115877675667556rm\n",
       ":   0.702617143415323age\n",
       ":   28.1488614069036dis\n",
       ":   2.10571012662761rad\n",
       ":   8.70725938423937tax\n",
       ":   168.537116054959ptratio\n",
       ":   2.16494552371444black\n",
       ":   91.2948643841578lstat\n",
       ":   7.14106151134857\n",
       "\n"
      ],
      "text/plain": [
       "       crim          zn       indus        chas         nox          rm \n",
       "  8.6015451  23.3224530   6.8603529   0.2539940   0.1158777   0.7026171 \n",
       "        age         dis         rad         tax     ptratio       black \n",
       " 28.1488614   2.1057101   8.7072594 168.5371161   2.1649455  91.2948644 \n",
       "      lstat \n",
       "  7.1410615 "
      ]
     },
     "metadata": {},
     "output_type": "display_data"
    }
   ],
   "source": [
    "sapply(Boston[, -14], sd)"
   ]
  },
  {
   "cell_type": "markdown",
   "metadata": {},
   "source": [
    "## 1.1 Create response variable \n",
    "We are going to introduce a variable whether or not the crime rate is above or below the median.\n",
    "If the crime rate is above the median, the response variable is set to 1, otherwise 0."
   ]
  },
  {
   "cell_type": "code",
   "execution_count": 6,
   "metadata": {},
   "outputs": [
    {
     "data": {
      "text/plain": [
       "\n",
       " No Yes \n",
       "253 253 "
      ]
     },
     "metadata": {},
     "output_type": "display_data"
    }
   ],
   "source": [
    "Boston$resp <- \"No\"\n",
    "Boston$resp[crim > median(crim)] <- 'Yes'\n",
    "Boston$resp <- factor(Boston$resp)\n",
    "table(Boston$resp)"
   ]
  },
  {
   "cell_type": "markdown",
   "metadata": {},
   "source": [
    "Now, we can drop the old crime variable."
   ]
  },
  {
   "cell_type": "code",
   "execution_count": 7,
   "metadata": {},
   "outputs": [
    {
     "data": {
      "text/html": [
       "<table>\n",
       "<thead><tr><th scope=col>zn</th><th scope=col>indus</th><th scope=col>chas</th><th scope=col>nox</th><th scope=col>rm</th><th scope=col>age</th><th scope=col>dis</th><th scope=col>rad</th><th scope=col>tax</th><th scope=col>ptratio</th><th scope=col>black</th><th scope=col>lstat</th><th scope=col>medv</th><th scope=col>resp</th></tr></thead>\n",
       "<tbody>\n",
       "\t<tr><td>18    </td><td>2.31  </td><td>0     </td><td>0.538 </td><td>6.575 </td><td>65.2  </td><td>4.0900</td><td>1     </td><td>296   </td><td>15.3  </td><td>396.90</td><td>4.98  </td><td>24.0  </td><td>No    </td></tr>\n",
       "\t<tr><td> 0    </td><td>7.07  </td><td>0     </td><td>0.469 </td><td>6.421 </td><td>78.9  </td><td>4.9671</td><td>2     </td><td>242   </td><td>17.8  </td><td>396.90</td><td>9.14  </td><td>21.6  </td><td>No    </td></tr>\n",
       "\t<tr><td> 0    </td><td>7.07  </td><td>0     </td><td>0.469 </td><td>7.185 </td><td>61.1  </td><td>4.9671</td><td>2     </td><td>242   </td><td>17.8  </td><td>392.83</td><td>4.03  </td><td>34.7  </td><td>No    </td></tr>\n",
       "\t<tr><td> 0    </td><td>2.18  </td><td>0     </td><td>0.458 </td><td>6.998 </td><td>45.8  </td><td>6.0622</td><td>3     </td><td>222   </td><td>18.7  </td><td>394.63</td><td>2.94  </td><td>33.4  </td><td>No    </td></tr>\n",
       "\t<tr><td> 0    </td><td>2.18  </td><td>0     </td><td>0.458 </td><td>7.147 </td><td>54.2  </td><td>6.0622</td><td>3     </td><td>222   </td><td>18.7  </td><td>396.90</td><td>5.33  </td><td>36.2  </td><td>No    </td></tr>\n",
       "\t<tr><td> 0    </td><td>2.18  </td><td>0     </td><td>0.458 </td><td>6.430 </td><td>58.7  </td><td>6.0622</td><td>3     </td><td>222   </td><td>18.7  </td><td>394.12</td><td>5.21  </td><td>28.7  </td><td>No    </td></tr>\n",
       "</tbody>\n",
       "</table>\n"
      ],
      "text/latex": [
       "\\begin{tabular}{r|llllllllllllll}\n",
       " zn & indus & chas & nox & rm & age & dis & rad & tax & ptratio & black & lstat & medv & resp\\\\\n",
       "\\hline\n",
       "\t 18     & 2.31   & 0      & 0.538  & 6.575  & 65.2   & 4.0900 & 1      & 296    & 15.3   & 396.90 & 4.98   & 24.0   & No    \\\\\n",
       "\t  0     & 7.07   & 0      & 0.469  & 6.421  & 78.9   & 4.9671 & 2      & 242    & 17.8   & 396.90 & 9.14   & 21.6   & No    \\\\\n",
       "\t  0     & 7.07   & 0      & 0.469  & 7.185  & 61.1   & 4.9671 & 2      & 242    & 17.8   & 392.83 & 4.03   & 34.7   & No    \\\\\n",
       "\t  0     & 2.18   & 0      & 0.458  & 6.998  & 45.8   & 6.0622 & 3      & 222    & 18.7   & 394.63 & 2.94   & 33.4   & No    \\\\\n",
       "\t  0     & 2.18   & 0      & 0.458  & 7.147  & 54.2   & 6.0622 & 3      & 222    & 18.7   & 396.90 & 5.33   & 36.2   & No    \\\\\n",
       "\t  0     & 2.18   & 0      & 0.458  & 6.430  & 58.7   & 6.0622 & 3      & 222    & 18.7   & 394.12 & 5.21   & 28.7   & No    \\\\\n",
       "\\end{tabular}\n"
      ],
      "text/markdown": [
       "\n",
       "zn | indus | chas | nox | rm | age | dis | rad | tax | ptratio | black | lstat | medv | resp | \n",
       "|---|---|---|---|---|---|\n",
       "| 18     | 2.31   | 0      | 0.538  | 6.575  | 65.2   | 4.0900 | 1      | 296    | 15.3   | 396.90 | 4.98   | 24.0   | No     | \n",
       "|  0     | 7.07   | 0      | 0.469  | 6.421  | 78.9   | 4.9671 | 2      | 242    | 17.8   | 396.90 | 9.14   | 21.6   | No     | \n",
       "|  0     | 7.07   | 0      | 0.469  | 7.185  | 61.1   | 4.9671 | 2      | 242    | 17.8   | 392.83 | 4.03   | 34.7   | No     | \n",
       "|  0     | 2.18   | 0      | 0.458  | 6.998  | 45.8   | 6.0622 | 3      | 222    | 18.7   | 394.63 | 2.94   | 33.4   | No     | \n",
       "|  0     | 2.18   | 0      | 0.458  | 7.147  | 54.2   | 6.0622 | 3      | 222    | 18.7   | 396.90 | 5.33   | 36.2   | No     | \n",
       "|  0     | 2.18   | 0      | 0.458  | 6.430  | 58.7   | 6.0622 | 3      | 222    | 18.7   | 394.12 | 5.21   | 28.7   | No     | \n",
       "\n",
       "\n"
      ],
      "text/plain": [
       "  zn indus chas nox   rm    age  dis    rad tax ptratio black  lstat medv resp\n",
       "1 18 2.31  0    0.538 6.575 65.2 4.0900 1   296 15.3    396.90 4.98  24.0 No  \n",
       "2  0 7.07  0    0.469 6.421 78.9 4.9671 2   242 17.8    396.90 9.14  21.6 No  \n",
       "3  0 7.07  0    0.469 7.185 61.1 4.9671 2   242 17.8    392.83 4.03  34.7 No  \n",
       "4  0 2.18  0    0.458 6.998 45.8 6.0622 3   222 18.7    394.63 2.94  33.4 No  \n",
       "5  0 2.18  0    0.458 7.147 54.2 6.0622 3   222 18.7    396.90 5.33  36.2 No  \n",
       "6  0 2.18  0    0.458 6.430 58.7 6.0622 3   222 18.7    394.12 5.21  28.7 No  "
      ]
     },
     "metadata": {},
     "output_type": "display_data"
    }
   ],
   "source": [
    "Boston <- Boston[-drop(1)]\n",
    "head(Boston)"
   ]
  },
  {
   "cell_type": "markdown",
   "metadata": {},
   "source": [
    "The next thing we need to do is create training and testing data."
   ]
  },
  {
   "cell_type": "code",
   "execution_count": 8,
   "metadata": {},
   "outputs": [],
   "source": [
    "inTrain <- createDataPartition(y = Boston$resp, p = 0.80, list = FALSE)\n",
    "train <- Boston[inTrain,]\n",
    "test <- Boston[-inTrain,]"
   ]
  },
  {
   "cell_type": "code",
   "execution_count": 9,
   "metadata": {},
   "outputs": [
    {
     "data": {
      "text/plain": [
       "\n",
       " No Yes \n",
       "203 203 "
      ]
     },
     "metadata": {},
     "output_type": "display_data"
    },
    {
     "data": {
      "text/plain": [
       "\n",
       " No Yes \n",
       " 50  50 "
      ]
     },
     "metadata": {},
     "output_type": "display_data"
    }
   ],
   "source": [
    "table(train$resp)\n",
    "table(test$resp)"
   ]
  },
  {
   "cell_type": "markdown",
   "metadata": {},
   "source": [
    "## 1.2 Identification of near zero variance predictors\n",
    "\n",
    "Now, let's check the near zero variance predictors, which have the following two characteristics\n",
    "    1. They have very few unique values relative to the number of samples\n",
    "    2. the ratio of the frequency of the most common value to the frequency of the second most common value is large\n",
    "    \n",
    "This kind of predictor is not only non-informative, it can break some models you may want to fit to your data. For example, we usually break a categorical variable with many categories into several dummy variables. Hence, when one of the categories have zero observations, it becomes a dummy variable full of zeros.    \n",
    "\n",
    "the function nearZeroVar from the caret can help us idenfity those near zero variance predictors."
   ]
  },
  {
   "cell_type": "code",
   "execution_count": 10,
   "metadata": {},
   "outputs": [
    {
     "data": {
      "text/html": [
       "<table>\n",
       "<thead><tr><th></th><th scope=col>freqRatio</th><th scope=col>percentUnique</th><th scope=col>zeroVar</th><th scope=col>nzv</th></tr></thead>\n",
       "<tbody>\n",
       "\t<tr><th scope=row>zn</th><td>17.714286 </td><td> 5.1383399</td><td>FALSE     </td><td>FALSE     </td></tr>\n",
       "\t<tr><th scope=row>indus</th><td> 4.400000 </td><td>15.0197628</td><td>FALSE     </td><td>FALSE     </td></tr>\n",
       "\t<tr><th scope=row>chas</th><td>13.457143 </td><td> 0.3952569</td><td>FALSE     </td><td>FALSE     </td></tr>\n",
       "\t<tr><th scope=row>nox</th><td> 1.277778 </td><td>16.0079051</td><td>FALSE     </td><td>FALSE     </td></tr>\n",
       "\t<tr><th scope=row>rm</th><td> 1.000000 </td><td>88.1422925</td><td>FALSE     </td><td>FALSE     </td></tr>\n",
       "\t<tr><th scope=row>age</th><td>10.750000 </td><td>70.3557312</td><td>FALSE     </td><td>FALSE     </td></tr>\n",
       "\t<tr><th scope=row>dis</th><td> 1.250000 </td><td>81.4229249</td><td>FALSE     </td><td>FALSE     </td></tr>\n",
       "\t<tr><th scope=row>rad</th><td> 1.147826 </td><td> 1.7786561</td><td>FALSE     </td><td>FALSE     </td></tr>\n",
       "\t<tr><th scope=row>tax</th><td> 3.300000 </td><td>13.0434783</td><td>FALSE     </td><td>FALSE     </td></tr>\n",
       "\t<tr><th scope=row>ptratio</th><td> 4.117647 </td><td> 9.0909091</td><td>FALSE     </td><td>FALSE     </td></tr>\n",
       "\t<tr><th scope=row>black</th><td>40.333333 </td><td>70.5533597</td><td>FALSE     </td><td>FALSE     </td></tr>\n",
       "\t<tr><th scope=row>lstat</th><td> 1.000000 </td><td>89.9209486</td><td>FALSE     </td><td>FALSE     </td></tr>\n",
       "\t<tr><th scope=row>medv</th><td> 2.000000 </td><td>45.2569170</td><td>FALSE     </td><td>FALSE     </td></tr>\n",
       "\t<tr><th scope=row>resp</th><td> 1.000000 </td><td> 0.3952569</td><td>FALSE     </td><td>FALSE     </td></tr>\n",
       "</tbody>\n",
       "</table>\n"
      ],
      "text/latex": [
       "\\begin{tabular}{r|llll}\n",
       "  & freqRatio & percentUnique & zeroVar & nzv\\\\\n",
       "\\hline\n",
       "\tzn & 17.714286  &  5.1383399 & FALSE      & FALSE     \\\\\n",
       "\tindus &  4.400000  & 15.0197628 & FALSE      & FALSE     \\\\\n",
       "\tchas & 13.457143  &  0.3952569 & FALSE      & FALSE     \\\\\n",
       "\tnox &  1.277778  & 16.0079051 & FALSE      & FALSE     \\\\\n",
       "\trm &  1.000000  & 88.1422925 & FALSE      & FALSE     \\\\\n",
       "\tage & 10.750000  & 70.3557312 & FALSE      & FALSE     \\\\\n",
       "\tdis &  1.250000  & 81.4229249 & FALSE      & FALSE     \\\\\n",
       "\trad &  1.147826  &  1.7786561 & FALSE      & FALSE     \\\\\n",
       "\ttax &  3.300000  & 13.0434783 & FALSE      & FALSE     \\\\\n",
       "\tptratio &  4.117647  &  9.0909091 & FALSE      & FALSE     \\\\\n",
       "\tblack & 40.333333  & 70.5533597 & FALSE      & FALSE     \\\\\n",
       "\tlstat &  1.000000  & 89.9209486 & FALSE      & FALSE     \\\\\n",
       "\tmedv &  2.000000  & 45.2569170 & FALSE      & FALSE     \\\\\n",
       "\tresp &  1.000000  &  0.3952569 & FALSE      & FALSE     \\\\\n",
       "\\end{tabular}\n"
      ],
      "text/markdown": [
       "\n",
       "| <!--/--> | freqRatio | percentUnique | zeroVar | nzv | \n",
       "|---|---|---|---|---|---|---|---|---|---|---|---|---|---|\n",
       "| zn | 17.714286  |  5.1383399 | FALSE      | FALSE      | \n",
       "| indus |  4.400000  | 15.0197628 | FALSE      | FALSE      | \n",
       "| chas | 13.457143  |  0.3952569 | FALSE      | FALSE      | \n",
       "| nox |  1.277778  | 16.0079051 | FALSE      | FALSE      | \n",
       "| rm |  1.000000  | 88.1422925 | FALSE      | FALSE      | \n",
       "| age | 10.750000  | 70.3557312 | FALSE      | FALSE      | \n",
       "| dis |  1.250000  | 81.4229249 | FALSE      | FALSE      | \n",
       "| rad |  1.147826  |  1.7786561 | FALSE      | FALSE      | \n",
       "| tax |  3.300000  | 13.0434783 | FALSE      | FALSE      | \n",
       "| ptratio |  4.117647  |  9.0909091 | FALSE      | FALSE      | \n",
       "| black | 40.333333  | 70.5533597 | FALSE      | FALSE      | \n",
       "| lstat |  1.000000  | 89.9209486 | FALSE      | FALSE      | \n",
       "| medv |  2.000000  | 45.2569170 | FALSE      | FALSE      | \n",
       "| resp |  1.000000  |  0.3952569 | FALSE      | FALSE      | \n",
       "\n",
       "\n"
      ],
      "text/plain": [
       "        freqRatio percentUnique zeroVar nzv  \n",
       "zn      17.714286  5.1383399    FALSE   FALSE\n",
       "indus    4.400000 15.0197628    FALSE   FALSE\n",
       "chas    13.457143  0.3952569    FALSE   FALSE\n",
       "nox      1.277778 16.0079051    FALSE   FALSE\n",
       "rm       1.000000 88.1422925    FALSE   FALSE\n",
       "age     10.750000 70.3557312    FALSE   FALSE\n",
       "dis      1.250000 81.4229249    FALSE   FALSE\n",
       "rad      1.147826  1.7786561    FALSE   FALSE\n",
       "tax      3.300000 13.0434783    FALSE   FALSE\n",
       "ptratio  4.117647  9.0909091    FALSE   FALSE\n",
       "black   40.333333 70.5533597    FALSE   FALSE\n",
       "lstat    1.000000 89.9209486    FALSE   FALSE\n",
       "medv     2.000000 45.2569170    FALSE   FALSE\n",
       "resp     1.000000  0.3952569    FALSE   FALSE"
      ]
     },
     "metadata": {},
     "output_type": "display_data"
    }
   ],
   "source": [
    "nzv <- nearZeroVar(Boston, saveMetrics = TRUE)\n",
    "nzv"
   ]
  },
  {
   "cell_type": "markdown",
   "metadata": {},
   "source": [
    "The result given by the nearZeroVar function shows that no variables are near zero variance.\n",
    "\n",
    "## 1.3 Check the correlation between each pair of predictors."
   ]
  },
  {
   "cell_type": "code",
   "execution_count": 11,
   "metadata": {},
   "outputs": [
    {
     "data": {
      "text/html": [
       "<table>\n",
       "<thead><tr><th></th><th scope=col>zn</th><th scope=col>indus</th><th scope=col>chas</th><th scope=col>nox</th><th scope=col>rm</th><th scope=col>age</th><th scope=col>dis</th><th scope=col>rad</th><th scope=col>tax</th><th scope=col>ptratio</th><th scope=col>black</th><th scope=col>lstat</th><th scope=col>medv</th></tr></thead>\n",
       "<tbody>\n",
       "\t<tr><th scope=row>zn</th><td> 1.00000000 </td><td>-0.53382819 </td><td>-0.042696719</td><td>-0.51660371 </td><td> 0.31199059 </td><td>-0.56953734 </td><td> 0.66440822 </td><td>-0.311947826</td><td>-0.31456332 </td><td>-0.3916785  </td><td> 0.17552032 </td><td>-0.4129946  </td><td> 0.3604453  </td></tr>\n",
       "\t<tr><th scope=row>indus</th><td>-0.53382819 </td><td> 1.00000000 </td><td> 0.062938027</td><td> 0.76365145 </td><td>-0.39167585 </td><td> 0.64477851 </td><td>-0.70802699 </td><td> 0.595129275</td><td> 0.72076018 </td><td> 0.3832476  </td><td>-0.35697654 </td><td> 0.6037997  </td><td>-0.4837252  </td></tr>\n",
       "\t<tr><th scope=row>chas</th><td>-0.04269672 </td><td> 0.06293803 </td><td> 1.000000000</td><td> 0.09120281 </td><td> 0.09125123 </td><td> 0.08651777 </td><td>-0.09917578 </td><td>-0.007368241</td><td>-0.03558652 </td><td>-0.1215152  </td><td> 0.04878848 </td><td>-0.0539293  </td><td> 0.1752602  </td></tr>\n",
       "\t<tr><th scope=row>nox</th><td>-0.51660371 </td><td> 0.76365145 </td><td> 0.091202807</td><td> 1.00000000 </td><td>-0.30218819 </td><td> 0.73147010 </td><td>-0.76923011 </td><td> 0.611440563</td><td> 0.66802320 </td><td> 0.1889327  </td><td>-0.38005064 </td><td> 0.5908789  </td><td>-0.4273208  </td></tr>\n",
       "\t<tr><th scope=row>rm</th><td> 0.31199059 </td><td>-0.39167585 </td><td> 0.091251225</td><td>-0.30218819 </td><td> 1.00000000 </td><td>-0.24026493 </td><td> 0.20524621 </td><td>-0.209846668</td><td>-0.29204783 </td><td>-0.3555015  </td><td> 0.12806864 </td><td>-0.6138083  </td><td> 0.6953599  </td></tr>\n",
       "\t<tr><th scope=row>age</th><td>-0.56953734 </td><td> 0.64477851 </td><td> 0.086517774</td><td> 0.73147010 </td><td>-0.24026493 </td><td> 1.00000000 </td><td>-0.74788054 </td><td> 0.456022452</td><td> 0.50645559 </td><td> 0.2615150  </td><td>-0.27353398 </td><td> 0.6023385  </td><td>-0.3769546  </td></tr>\n",
       "\t<tr><th scope=row>dis</th><td> 0.66440822 </td><td>-0.70802699 </td><td>-0.099175780</td><td>-0.76923011 </td><td> 0.20524621 </td><td>-0.74788054 </td><td> 1.00000000 </td><td>-0.494587930</td><td>-0.53443158 </td><td>-0.2324705  </td><td> 0.29151167 </td><td>-0.4969958  </td><td> 0.2499287  </td></tr>\n",
       "\t<tr><th scope=row>rad</th><td>-0.31194783 </td><td> 0.59512927 </td><td>-0.007368241</td><td> 0.61144056 </td><td>-0.20984667 </td><td> 0.45602245 </td><td>-0.49458793 </td><td> 1.000000000</td><td> 0.91022819 </td><td> 0.4647412  </td><td>-0.44441282 </td><td> 0.4886763  </td><td>-0.3816262  </td></tr>\n",
       "\t<tr><th scope=row>tax</th><td>-0.31456332 </td><td> 0.72076018 </td><td>-0.035586518</td><td> 0.66802320 </td><td>-0.29204783 </td><td> 0.50645559 </td><td>-0.53443158 </td><td> 0.910228189</td><td> 1.00000000 </td><td> 0.4608530  </td><td>-0.44180801 </td><td> 0.5439934  </td><td>-0.4685359  </td></tr>\n",
       "\t<tr><th scope=row>ptratio</th><td>-0.39167855 </td><td> 0.38324756 </td><td>-0.121515174</td><td> 0.18893268 </td><td>-0.35550149 </td><td> 0.26151501 </td><td>-0.23247054 </td><td> 0.464741179</td><td> 0.46085304 </td><td> 1.0000000  </td><td>-0.17738330 </td><td> 0.3740443  </td><td>-0.5077867  </td></tr>\n",
       "\t<tr><th scope=row>black</th><td> 0.17552032 </td><td>-0.35697654 </td><td> 0.048788485</td><td>-0.38005064 </td><td> 0.12806864 </td><td>-0.27353398 </td><td> 0.29151167 </td><td>-0.444412816</td><td>-0.44180801 </td><td>-0.1773833  </td><td> 1.00000000 </td><td>-0.3660869  </td><td> 0.3334608  </td></tr>\n",
       "\t<tr><th scope=row>lstat</th><td>-0.41299457 </td><td> 0.60379972 </td><td>-0.053929298</td><td> 0.59087892 </td><td>-0.61380827 </td><td> 0.60233853 </td><td>-0.49699583 </td><td> 0.488676335</td><td> 0.54399341 </td><td> 0.3740443  </td><td>-0.36608690 </td><td> 1.0000000  </td><td>-0.7376627  </td></tr>\n",
       "\t<tr><th scope=row>medv</th><td> 0.36044534 </td><td>-0.48372516 </td><td> 0.175260177</td><td>-0.42732077 </td><td> 0.69535995 </td><td>-0.37695457 </td><td> 0.24992873 </td><td>-0.381626231</td><td>-0.46853593 </td><td>-0.5077867  </td><td> 0.33346082 </td><td>-0.7376627  </td><td> 1.0000000  </td></tr>\n",
       "</tbody>\n",
       "</table>\n"
      ],
      "text/latex": [
       "\\begin{tabular}{r|lllllllllllll}\n",
       "  & zn & indus & chas & nox & rm & age & dis & rad & tax & ptratio & black & lstat & medv\\\\\n",
       "\\hline\n",
       "\tzn &  1.00000000  & -0.53382819  & -0.042696719 & -0.51660371  &  0.31199059  & -0.56953734  &  0.66440822  & -0.311947826 & -0.31456332  & -0.3916785   &  0.17552032  & -0.4129946   &  0.3604453  \\\\\n",
       "\tindus & -0.53382819  &  1.00000000  &  0.062938027 &  0.76365145  & -0.39167585  &  0.64477851  & -0.70802699  &  0.595129275 &  0.72076018  &  0.3832476   & -0.35697654  &  0.6037997   & -0.4837252  \\\\\n",
       "\tchas & -0.04269672  &  0.06293803  &  1.000000000 &  0.09120281  &  0.09125123  &  0.08651777  & -0.09917578  & -0.007368241 & -0.03558652  & -0.1215152   &  0.04878848  & -0.0539293   &  0.1752602  \\\\\n",
       "\tnox & -0.51660371  &  0.76365145  &  0.091202807 &  1.00000000  & -0.30218819  &  0.73147010  & -0.76923011  &  0.611440563 &  0.66802320  &  0.1889327   & -0.38005064  &  0.5908789   & -0.4273208  \\\\\n",
       "\trm &  0.31199059  & -0.39167585  &  0.091251225 & -0.30218819  &  1.00000000  & -0.24026493  &  0.20524621  & -0.209846668 & -0.29204783  & -0.3555015   &  0.12806864  & -0.6138083   &  0.6953599  \\\\\n",
       "\tage & -0.56953734  &  0.64477851  &  0.086517774 &  0.73147010  & -0.24026493  &  1.00000000  & -0.74788054  &  0.456022452 &  0.50645559  &  0.2615150   & -0.27353398  &  0.6023385   & -0.3769546  \\\\\n",
       "\tdis &  0.66440822  & -0.70802699  & -0.099175780 & -0.76923011  &  0.20524621  & -0.74788054  &  1.00000000  & -0.494587930 & -0.53443158  & -0.2324705   &  0.29151167  & -0.4969958   &  0.2499287  \\\\\n",
       "\trad & -0.31194783  &  0.59512927  & -0.007368241 &  0.61144056  & -0.20984667  &  0.45602245  & -0.49458793  &  1.000000000 &  0.91022819  &  0.4647412   & -0.44441282  &  0.4886763   & -0.3816262  \\\\\n",
       "\ttax & -0.31456332  &  0.72076018  & -0.035586518 &  0.66802320  & -0.29204783  &  0.50645559  & -0.53443158  &  0.910228189 &  1.00000000  &  0.4608530   & -0.44180801  &  0.5439934   & -0.4685359  \\\\\n",
       "\tptratio & -0.39167855  &  0.38324756  & -0.121515174 &  0.18893268  & -0.35550149  &  0.26151501  & -0.23247054  &  0.464741179 &  0.46085304  &  1.0000000   & -0.17738330  &  0.3740443   & -0.5077867  \\\\\n",
       "\tblack &  0.17552032  & -0.35697654  &  0.048788485 & -0.38005064  &  0.12806864  & -0.27353398  &  0.29151167  & -0.444412816 & -0.44180801  & -0.1773833   &  1.00000000  & -0.3660869   &  0.3334608  \\\\\n",
       "\tlstat & -0.41299457  &  0.60379972  & -0.053929298 &  0.59087892  & -0.61380827  &  0.60233853  & -0.49699583  &  0.488676335 &  0.54399341  &  0.3740443   & -0.36608690  &  1.0000000   & -0.7376627  \\\\\n",
       "\tmedv &  0.36044534  & -0.48372516  &  0.175260177 & -0.42732077  &  0.69535995  & -0.37695457  &  0.24992873  & -0.381626231 & -0.46853593  & -0.5077867   &  0.33346082  & -0.7376627   &  1.0000000  \\\\\n",
       "\\end{tabular}\n"
      ],
      "text/markdown": [
       "\n",
       "| <!--/--> | zn | indus | chas | nox | rm | age | dis | rad | tax | ptratio | black | lstat | medv | \n",
       "|---|---|---|---|---|---|---|---|---|---|---|---|---|\n",
       "| zn |  1.00000000  | -0.53382819  | -0.042696719 | -0.51660371  |  0.31199059  | -0.56953734  |  0.66440822  | -0.311947826 | -0.31456332  | -0.3916785   |  0.17552032  | -0.4129946   |  0.3604453   | \n",
       "| indus | -0.53382819  |  1.00000000  |  0.062938027 |  0.76365145  | -0.39167585  |  0.64477851  | -0.70802699  |  0.595129275 |  0.72076018  |  0.3832476   | -0.35697654  |  0.6037997   | -0.4837252   | \n",
       "| chas | -0.04269672  |  0.06293803  |  1.000000000 |  0.09120281  |  0.09125123  |  0.08651777  | -0.09917578  | -0.007368241 | -0.03558652  | -0.1215152   |  0.04878848  | -0.0539293   |  0.1752602   | \n",
       "| nox | -0.51660371  |  0.76365145  |  0.091202807 |  1.00000000  | -0.30218819  |  0.73147010  | -0.76923011  |  0.611440563 |  0.66802320  |  0.1889327   | -0.38005064  |  0.5908789   | -0.4273208   | \n",
       "| rm |  0.31199059  | -0.39167585  |  0.091251225 | -0.30218819  |  1.00000000  | -0.24026493  |  0.20524621  | -0.209846668 | -0.29204783  | -0.3555015   |  0.12806864  | -0.6138083   |  0.6953599   | \n",
       "| age | -0.56953734  |  0.64477851  |  0.086517774 |  0.73147010  | -0.24026493  |  1.00000000  | -0.74788054  |  0.456022452 |  0.50645559  |  0.2615150   | -0.27353398  |  0.6023385   | -0.3769546   | \n",
       "| dis |  0.66440822  | -0.70802699  | -0.099175780 | -0.76923011  |  0.20524621  | -0.74788054  |  1.00000000  | -0.494587930 | -0.53443158  | -0.2324705   |  0.29151167  | -0.4969958   |  0.2499287   | \n",
       "| rad | -0.31194783  |  0.59512927  | -0.007368241 |  0.61144056  | -0.20984667  |  0.45602245  | -0.49458793  |  1.000000000 |  0.91022819  |  0.4647412   | -0.44441282  |  0.4886763   | -0.3816262   | \n",
       "| tax | -0.31456332  |  0.72076018  | -0.035586518 |  0.66802320  | -0.29204783  |  0.50645559  | -0.53443158  |  0.910228189 |  1.00000000  |  0.4608530   | -0.44180801  |  0.5439934   | -0.4685359   | \n",
       "| ptratio | -0.39167855  |  0.38324756  | -0.121515174 |  0.18893268  | -0.35550149  |  0.26151501  | -0.23247054  |  0.464741179 |  0.46085304  |  1.0000000   | -0.17738330  |  0.3740443   | -0.5077867   | \n",
       "| black |  0.17552032  | -0.35697654  |  0.048788485 | -0.38005064  |  0.12806864  | -0.27353398  |  0.29151167  | -0.444412816 | -0.44180801  | -0.1773833   |  1.00000000  | -0.3660869   |  0.3334608   | \n",
       "| lstat | -0.41299457  |  0.60379972  | -0.053929298 |  0.59087892  | -0.61380827  |  0.60233853  | -0.49699583  |  0.488676335 |  0.54399341  |  0.3740443   | -0.36608690  |  1.0000000   | -0.7376627   | \n",
       "| medv |  0.36044534  | -0.48372516  |  0.175260177 | -0.42732077  |  0.69535995  | -0.37695457  |  0.24992873  | -0.381626231 | -0.46853593  | -0.5077867   |  0.33346082  | -0.7376627   |  1.0000000   | \n",
       "\n",
       "\n"
      ],
      "text/plain": [
       "        zn          indus       chas         nox         rm         \n",
       "zn       1.00000000 -0.53382819 -0.042696719 -0.51660371  0.31199059\n",
       "indus   -0.53382819  1.00000000  0.062938027  0.76365145 -0.39167585\n",
       "chas    -0.04269672  0.06293803  1.000000000  0.09120281  0.09125123\n",
       "nox     -0.51660371  0.76365145  0.091202807  1.00000000 -0.30218819\n",
       "rm       0.31199059 -0.39167585  0.091251225 -0.30218819  1.00000000\n",
       "age     -0.56953734  0.64477851  0.086517774  0.73147010 -0.24026493\n",
       "dis      0.66440822 -0.70802699 -0.099175780 -0.76923011  0.20524621\n",
       "rad     -0.31194783  0.59512927 -0.007368241  0.61144056 -0.20984667\n",
       "tax     -0.31456332  0.72076018 -0.035586518  0.66802320 -0.29204783\n",
       "ptratio -0.39167855  0.38324756 -0.121515174  0.18893268 -0.35550149\n",
       "black    0.17552032 -0.35697654  0.048788485 -0.38005064  0.12806864\n",
       "lstat   -0.41299457  0.60379972 -0.053929298  0.59087892 -0.61380827\n",
       "medv     0.36044534 -0.48372516  0.175260177 -0.42732077  0.69535995\n",
       "        age         dis         rad          tax         ptratio    black      \n",
       "zn      -0.56953734  0.66440822 -0.311947826 -0.31456332 -0.3916785  0.17552032\n",
       "indus    0.64477851 -0.70802699  0.595129275  0.72076018  0.3832476 -0.35697654\n",
       "chas     0.08651777 -0.09917578 -0.007368241 -0.03558652 -0.1215152  0.04878848\n",
       "nox      0.73147010 -0.76923011  0.611440563  0.66802320  0.1889327 -0.38005064\n",
       "rm      -0.24026493  0.20524621 -0.209846668 -0.29204783 -0.3555015  0.12806864\n",
       "age      1.00000000 -0.74788054  0.456022452  0.50645559  0.2615150 -0.27353398\n",
       "dis     -0.74788054  1.00000000 -0.494587930 -0.53443158 -0.2324705  0.29151167\n",
       "rad      0.45602245 -0.49458793  1.000000000  0.91022819  0.4647412 -0.44441282\n",
       "tax      0.50645559 -0.53443158  0.910228189  1.00000000  0.4608530 -0.44180801\n",
       "ptratio  0.26151501 -0.23247054  0.464741179  0.46085304  1.0000000 -0.17738330\n",
       "black   -0.27353398  0.29151167 -0.444412816 -0.44180801 -0.1773833  1.00000000\n",
       "lstat    0.60233853 -0.49699583  0.488676335  0.54399341  0.3740443 -0.36608690\n",
       "medv    -0.37695457  0.24992873 -0.381626231 -0.46853593 -0.5077867  0.33346082\n",
       "        lstat      medv      \n",
       "zn      -0.4129946  0.3604453\n",
       "indus    0.6037997 -0.4837252\n",
       "chas    -0.0539293  0.1752602\n",
       "nox      0.5908789 -0.4273208\n",
       "rm      -0.6138083  0.6953599\n",
       "age      0.6023385 -0.3769546\n",
       "dis     -0.4969958  0.2499287\n",
       "rad      0.4886763 -0.3816262\n",
       "tax      0.5439934 -0.4685359\n",
       "ptratio  0.3740443 -0.5077867\n",
       "black   -0.3660869  0.3334608\n",
       "lstat    1.0000000 -0.7376627\n",
       "medv    -0.7376627  1.0000000"
      ]
     },
     "metadata": {},
     "output_type": "display_data"
    }
   ],
   "source": [
    "Boston_cor <- cor(Boston[,-14])\n",
    "Boston_cor"
   ]
  },
  {
   "cell_type": "code",
   "execution_count": 12,
   "metadata": {},
   "outputs": [
    {
     "data": {
      "text/html": [
       "<ol class=list-inline>\n",
       "\t<li>2</li>\n",
       "\t<li>4</li>\n",
       "\t<li>9</li>\n",
       "</ol>\n"
      ],
      "text/latex": [
       "\\begin{enumerate*}\n",
       "\\item 2\n",
       "\\item 4\n",
       "\\item 9\n",
       "\\end{enumerate*}\n"
      ],
      "text/markdown": [
       "1. 2\n",
       "2. 4\n",
       "3. 9\n",
       "\n",
       "\n"
      ],
      "text/plain": [
       "[1] 2 4 9"
      ]
     },
     "metadata": {},
     "output_type": "display_data"
    }
   ],
   "source": [
    "highCor <- findCorrelation(Boston_cor, cutoff = 0.75)\n",
    "highCor"
   ]
  },
  {
   "cell_type": "markdown",
   "metadata": {},
   "source": [
    "The [findCorrelation](http://www.inside-r.org/packages/cran/caret/docs/findCorrelation) function returns a vector of integers corresponding to columns to remove to reduce pair-wise correlations. It shows that <font color='red'>indus</font> and <font color='red'>nox</font> are highly correlated, and <font color='red'>indus</font> is highly correlated with <font color='red'>tax</font>. For the demonstration purpose, we will remove <font color='red'>nox</font> and <font color='red'>tax</font>"
   ]
  },
  {
   "cell_type": "code",
   "execution_count": 13,
   "metadata": {},
   "outputs": [],
   "source": [
    "train_cor <- train[,-drop(c(2,9))]\n",
    "test_cor <- test[,-drop(c(2,9))]"
   ]
  },
  {
   "cell_type": "markdown",
   "metadata": {},
   "source": [
    "# 2. Logistic regression model\n",
    "\n",
    "## 2.1 Training a logistic regression model and interpret it"
   ]
  },
  {
   "cell_type": "code",
   "execution_count": 14,
   "metadata": {},
   "outputs": [
    {
     "name": "stderr",
     "output_type": "stream",
     "text": [
      "Warning message:\n",
      "\"glm.fit: fitted probabilities numerically 0 or 1 occurred\"Warning message:\n",
      "\"glm.fit: fitted probabilities numerically 0 or 1 occurred\"Warning message:\n",
      "\"glm.fit: fitted probabilities numerically 0 or 1 occurred\"Warning message:\n",
      "\"glm.fit: fitted probabilities numerically 0 or 1 occurred\"Warning message:\n",
      "\"glm.fit: fitted probabilities numerically 0 or 1 occurred\"Warning message:\n",
      "\"glm.fit: fitted probabilities numerically 0 or 1 occurred\"Warning message:\n",
      "\"glm.fit: fitted probabilities numerically 0 or 1 occurred\"Warning message:\n",
      "\"glm.fit: fitted probabilities numerically 0 or 1 occurred\"Warning message:\n",
      "\"glm.fit: fitted probabilities numerically 0 or 1 occurred\"Warning message:\n",
      "\"glm.fit: fitted probabilities numerically 0 or 1 occurred\"Warning message:\n",
      "\"glm.fit: fitted probabilities numerically 0 or 1 occurred\"Warning message:\n",
      "\"glm.fit: fitted probabilities numerically 0 or 1 occurred\"Warning message:\n",
      "\"glm.fit: fitted probabilities numerically 0 or 1 occurred\"Warning message:\n",
      "\"glm.fit: fitted probabilities numerically 0 or 1 occurred\"Warning message:\n",
      "\"glm.fit: fitted probabilities numerically 0 or 1 occurred\"Warning message:\n",
      "\"glm.fit: fitted probabilities numerically 0 or 1 occurred\"Warning message:\n",
      "\"glm.fit: fitted probabilities numerically 0 or 1 occurred\"Warning message:\n",
      "\"glm.fit: fitted probabilities numerically 0 or 1 occurred\"Warning message:\n",
      "\"glm.fit: fitted probabilities numerically 0 or 1 occurred\"Warning message:\n",
      "\"glm.fit: fitted probabilities numerically 0 or 1 occurred\"Warning message:\n",
      "\"glm.fit: fitted probabilities numerically 0 or 1 occurred\""
     ]
    }
   ],
   "source": [
    "logit <- train(resp~., data=train, method='glm', family=binomial(link='logit'), preProcess=c('scale', 'center'))"
   ]
  },
  {
   "cell_type": "markdown",
   "metadata": {},
   "source": [
    "If you run the above code and recieve the following error message:\n",
    "```R\n",
    "Error in requireNamespaceQuietStop(\"e1071\"): package e1071 is required\n",
    "```\n",
    "please install the e1071 package with the following command \n",
    "```\n",
    "install.packages('e1071', dependencies=TRUE)\n",
    "```"
   ]
  },
  {
   "cell_type": "code",
   "execution_count": 15,
   "metadata": {},
   "outputs": [
    {
     "data": {
      "text/plain": [
       "\n",
       "Call:\n",
       "NULL\n",
       "\n",
       "Deviance Residuals: \n",
       "    Min       1Q   Median       3Q      Max  \n",
       "-1.6848  -0.1373  -0.0005   0.0021   3.4994  \n",
       "\n",
       "Coefficients:\n",
       "            Estimate Std. Error z value Pr(>|z|)    \n",
       "(Intercept)  3.28147    0.89908   3.650 0.000262 ***\n",
       "zn          -1.50194    0.90310  -1.663 0.096293 .  \n",
       "indus       -0.38805    0.38838  -0.999 0.317727    \n",
       "chas         0.31728    0.20790   1.526 0.126972    \n",
       "nox          5.83701    0.99281   5.879 4.12e-09 ***\n",
       "rm          -0.42020    0.60887  -0.690 0.490115    \n",
       "age          0.96787    0.40365   2.398 0.016495 *  \n",
       "dis          1.53870    0.56053   2.745 0.006049 ** \n",
       "rad          5.60037    1.55786   3.595 0.000325 ***\n",
       "tax         -1.39791    0.54743  -2.554 0.010663 *  \n",
       "ptratio      0.97173    0.34761   2.795 0.005183 ** \n",
       "black       -3.44377    1.29773  -2.654 0.007962 ** \n",
       "lstat       -0.04404    0.42200  -0.104 0.916886    \n",
       "medv         1.58698    0.74196   2.139 0.032442 *  \n",
       "---\n",
       "Signif. codes:  0 '***' 0.001 '**' 0.01 '*' 0.05 '.' 0.1 ' ' 1\n",
       "\n",
       "(Dispersion parameter for binomial family taken to be 1)\n",
       "\n",
       "    Null deviance: 562.84  on 405  degrees of freedom\n",
       "Residual deviance: 152.54  on 392  degrees of freedom\n",
       "AIC: 180.54\n",
       "\n",
       "Number of Fisher Scoring iterations: 9\n"
      ]
     },
     "metadata": {},
     "output_type": "display_data"
    }
   ],
   "source": [
    "summary(logit)"
   ]
  },
  {
   "cell_type": "markdown",
   "metadata": {},
   "source": [
    "* In the output above, the first thing we see is the call, this is R reminding us what the model we ran was, what options we specified, etc.\n",
    "\n",
    "* Next we see the deviance residuals, which are a measure of model fit. This part of output shows the distribution of the deviance residuals for individual cases used in the model. Below we discuss how to use summaries of the deviance statistic to assess model fit.\n",
    "    * **Deviance residual** is a generalization of the idea of using the sum of squares of residuals in ordinary least squares to cases where model-fitting is achieved by maximum likelihood.\n",
    "    * Deviance residuals and regular residuals should have similar properties. Like the residuals in linear regression, the deviance residuals shown in the result should looks roughly symmetric. \n",
    "\n",
    "* The next part of the output shows the coefficients, their standard errors, the z-statistic (sometimes called a Wald z-statistic), and the associated p-values. Both nox and rad are statistically significant.\n",
    "    * **Z-value**: The z-value is the regression coefficient divided by its standard error. It is also sometimes called the z-statistic. If the z-value is too big in magnitude (i.e., either too positive or too negative), it indicates that the corresponding true regression coefficient is not 0 and the corresponding X-variable matters. When to use t-value v.s. z-value?\n",
    "    <img src=\"http://www.statisticshowto.com/wp-content/uploads/2013/08/t-score-vs.-z-score.png\">\n",
    "    * Coefficient interpretation: The logistic regression coefficients give the change in the log odds of the outcome for a one unit increase in the predictor variable.\n",
    "        * For every one unit change in nox, the log odds of crime  (versus non-crime) increases by  5.6775.\n",
    "        * For a one unit increase in rad, the log odds of crime increases by 4.7558.\n",
    "\n",
    "Note: The relationship between the regression coefficient, its standard error, the z-value, and the p-value is virtually identical both logistic regression and regular least-squares regression. So if you understand this is regular regression, you also understand it in logistic regression.\n",
    "\n",
    "* Below the table of coefficients are fit indices, including the null and deviance residuals and the AIC. Later we show an example of how you can use these values to help assess model fit.\n",
    "    * **Null deviance** indicates that if we assume the model is constant. In other words, the null deviance shows how well the response variable is predicted by a model that includes only the intercept\n",
    "    * **Residual deviance** indicates how well the response variable is predicted with your model.\n",
    "    * **The Akaike Information Criterion (AIC)** provides a method for assessing the quality of your model through comparison of related models.  It’s based on the Deviance, but penalizes you for making the model more complicated.  Much like adjusted R-squared, it’s intent is to prevent you from including irrelevant predictors. If you have more than one similar candidate models (where all of the variables of the simpler model occur in the more complex models), then you should select the model that has the smallest AIC. AIC estimates the relative information lost by a given model: the less information a model loses, the higher the quality of that model\n",
    "* **Fisher’s scoring algorithm** is a derivative of Newton’s method for solving maximum likelihood problems numerically. For the model above we see that Fisher’s Scoring Algorithm needed six iterations to perform the fit.This doesn’t really tell you a lot that you need to know, other than the fact that the model did indeed converge, and had no trouble doing it.\n",
    "\n",
    "\n",
    "We can use the `confint` function to obtain confidence intervals for the coefficient estimates. Note that for logistic models, confidence intervals are based on the profiled log-likelihood function."
   ]
  },
  {
   "cell_type": "code",
   "execution_count": 16,
   "metadata": {},
   "outputs": [
    {
     "name": "stderr",
     "output_type": "stream",
     "text": [
      "Waiting for profiling to be done...\n",
      "Warning message:\n",
      "\"glm.fit: fitted probabilities numerically 0 or 1 occurred\"Warning message:\n",
      "\"glm.fit: fitted probabilities numerically 0 or 1 occurred\"Warning message:\n",
      "\"glm.fit: fitted probabilities numerically 0 or 1 occurred\"Warning message:\n",
      "\"glm.fit: fitted probabilities numerically 0 or 1 occurred\"Warning message:\n",
      "\"glm.fit: fitted probabilities numerically 0 or 1 occurred\"Warning message:\n",
      "\"glm.fit: fitted probabilities numerically 0 or 1 occurred\"Warning message:\n",
      "\"glm.fit: fitted probabilities numerically 0 or 1 occurred\"Warning message:\n",
      "\"glm.fit: fitted probabilities numerically 0 or 1 occurred\"Warning message:\n",
      "\"glm.fit: fitted probabilities numerically 0 or 1 occurred\"Warning message:\n",
      "\"glm.fit: fitted probabilities numerically 0 or 1 occurred\"Warning message:\n",
      "\"glm.fit: fitted probabilities numerically 0 or 1 occurred\"Warning message:\n",
      "\"glm.fit: fitted probabilities numerically 0 or 1 occurred\"Warning message:\n",
      "\"glm.fit: fitted probabilities numerically 0 or 1 occurred\"Warning message:\n",
      "\"glm.fit: fitted probabilities numerically 0 or 1 occurred\"Warning message:\n",
      "\"glm.fit: fitted probabilities numerically 0 or 1 occurred\"Warning message:\n",
      "\"glm.fit: fitted probabilities numerically 0 or 1 occurred\"Warning message:\n",
      "\"glm.fit: fitted probabilities numerically 0 or 1 occurred\"Warning message:\n",
      "\"glm.fit: fitted probabilities numerically 0 or 1 occurred\"Warning message:\n",
      "\"glm.fit: fitted probabilities numerically 0 or 1 occurred\"Warning message:\n",
      "\"glm.fit: fitted probabilities numerically 0 or 1 occurred\"Warning message:\n",
      "\"glm.fit: fitted probabilities numerically 0 or 1 occurred\"Warning message:\n",
      "\"glm.fit: fitted probabilities numerically 0 or 1 occurred\"Warning message:\n",
      "\"glm.fit: fitted probabilities numerically 0 or 1 occurred\"Warning message:\n",
      "\"glm.fit: fitted probabilities numerically 0 or 1 occurred\"Warning message:\n",
      "\"glm.fit: fitted probabilities numerically 0 or 1 occurred\"Warning message:\n",
      "\"glm.fit: fitted probabilities numerically 0 or 1 occurred\"Warning message:\n",
      "\"glm.fit: fitted probabilities numerically 0 or 1 occurred\"Warning message:\n",
      "\"glm.fit: fitted probabilities numerically 0 or 1 occurred\"Warning message:\n",
      "\"glm.fit: fitted probabilities numerically 0 or 1 occurred\"Warning message:\n",
      "\"glm.fit: fitted probabilities numerically 0 or 1 occurred\"Warning message:\n",
      "\"glm.fit: fitted probabilities numerically 0 or 1 occurred\"Warning message:\n",
      "\"glm.fit: fitted probabilities numerically 0 or 1 occurred\"Warning message:\n",
      "\"glm.fit: fitted probabilities numerically 0 or 1 occurred\"Warning message:\n",
      "\"glm.fit: fitted probabilities numerically 0 or 1 occurred\"Warning message:\n",
      "\"glm.fit: fitted probabilities numerically 0 or 1 occurred\"Warning message:\n",
      "\"glm.fit: fitted probabilities numerically 0 or 1 occurred\"Warning message:\n",
      "\"glm.fit: fitted probabilities numerically 0 or 1 occurred\"Warning message:\n",
      "\"glm.fit: fitted probabilities numerically 0 or 1 occurred\"Warning message:\n",
      "\"glm.fit: fitted probabilities numerically 0 or 1 occurred\"Warning message:\n",
      "\"glm.fit: fitted probabilities numerically 0 or 1 occurred\"Warning message:\n",
      "\"glm.fit: fitted probabilities numerically 0 or 1 occurred\"Warning message:\n",
      "\"glm.fit: fitted probabilities numerically 0 or 1 occurred\"Warning message:\n",
      "\"glm.fit: fitted probabilities numerically 0 or 1 occurred\"Warning message:\n",
      "\"glm.fit: fitted probabilities numerically 0 or 1 occurred\"Warning message:\n",
      "\"glm.fit: fitted probabilities numerically 0 or 1 occurred\"Warning message:\n",
      "\"glm.fit: fitted probabilities numerically 0 or 1 occurred\"Warning message:\n",
      "\"glm.fit: fitted probabilities numerically 0 or 1 occurred\"Warning message:\n",
      "\"glm.fit: fitted probabilities numerically 0 or 1 occurred\"Warning message:\n",
      "\"glm.fit: fitted probabilities numerically 0 or 1 occurred\"Warning message:\n",
      "\"glm.fit: fitted probabilities numerically 0 or 1 occurred\"Warning message:\n",
      "\"glm.fit: fitted probabilities numerically 0 or 1 occurred\"Warning message:\n",
      "\"glm.fit: fitted probabilities numerically 0 or 1 occurred\"Warning message:\n",
      "\"glm.fit: fitted probabilities numerically 0 or 1 occurred\"Warning message:\n",
      "\"glm.fit: fitted probabilities numerically 0 or 1 occurred\"Warning message:\n",
      "\"glm.fit: fitted probabilities numerically 0 or 1 occurred\"Warning message:\n",
      "\"glm.fit: fitted probabilities numerically 0 or 1 occurred\"Warning message:\n",
      "\"glm.fit: fitted probabilities numerically 0 or 1 occurred\"Warning message:\n",
      "\"glm.fit: fitted probabilities numerically 0 or 1 occurred\"Warning message:\n",
      "\"glm.fit: fitted probabilities numerically 0 or 1 occurred\"Warning message:\n",
      "\"glm.fit: fitted probabilities numerically 0 or 1 occurred\"Warning message:\n",
      "\"glm.fit: fitted probabilities numerically 0 or 1 occurred\"Warning message:\n",
      "\"glm.fit: fitted probabilities numerically 0 or 1 occurred\"Warning message:\n",
      "\"glm.fit: fitted probabilities numerically 0 or 1 occurred\"Warning message:\n",
      "\"glm.fit: fitted probabilities numerically 0 or 1 occurred\"Warning message:\n",
      "\"glm.fit: fitted probabilities numerically 0 or 1 occurred\"Warning message:\n",
      "\"glm.fit: fitted probabilities numerically 0 or 1 occurred\"Warning message:\n",
      "\"glm.fit: fitted probabilities numerically 0 or 1 occurred\"Warning message:\n",
      "\"glm.fit: fitted probabilities numerically 0 or 1 occurred\"Warning message:\n",
      "\"glm.fit: fitted probabilities numerically 0 or 1 occurred\"Warning message:\n",
      "\"glm.fit: fitted probabilities numerically 0 or 1 occurred\"Warning message:\n",
      "\"glm.fit: fitted probabilities numerically 0 or 1 occurred\"Warning message:\n",
      "\"glm.fit: fitted probabilities numerically 0 or 1 occurred\"Warning message:\n",
      "\"glm.fit: fitted probabilities numerically 0 or 1 occurred\"Warning message:\n",
      "\"glm.fit: fitted probabilities numerically 0 or 1 occurred\"Warning message:\n",
      "\"glm.fit: fitted probabilities numerically 0 or 1 occurred\"Warning message:\n",
      "\"glm.fit: fitted probabilities numerically 0 or 1 occurred\"Warning message:\n",
      "\"glm.fit: fitted probabilities numerically 0 or 1 occurred\"Warning message:\n",
      "\"glm.fit: fitted probabilities numerically 0 or 1 occurred\"Warning message:\n",
      "\"glm.fit: fitted probabilities numerically 0 or 1 occurred\"Warning message:\n",
      "\"glm.fit: fitted probabilities numerically 0 or 1 occurred\"Warning message:\n",
      "\"glm.fit: fitted probabilities numerically 0 or 1 occurred\"Warning message:\n",
      "\"glm.fit: fitted probabilities numerically 0 or 1 occurred\"Warning message:\n",
      "\"glm.fit: fitted probabilities numerically 0 or 1 occurred\"Warning message:\n",
      "\"glm.fit: fitted probabilities numerically 0 or 1 occurred\"Warning message:\n",
      "\"glm.fit: fitted probabilities numerically 0 or 1 occurred\"Warning message:\n",
      "\"glm.fit: fitted probabilities numerically 0 or 1 occurred\"Warning message:\n",
      "\"glm.fit: fitted probabilities numerically 0 or 1 occurred\"Warning message:\n",
      "\"glm.fit: fitted probabilities numerically 0 or 1 occurred\"Warning message:\n",
      "\"glm.fit: fitted probabilities numerically 0 or 1 occurred\"Warning message:\n",
      "\"glm.fit: fitted probabilities numerically 0 or 1 occurred\"Warning message:\n",
      "\"glm.fit: fitted probabilities numerically 0 or 1 occurred\"Warning message:\n",
      "\"glm.fit: fitted probabilities numerically 0 or 1 occurred\"Warning message:\n",
      "\"glm.fit: fitted probabilities numerically 0 or 1 occurred\"Warning message:\n",
      "\"glm.fit: fitted probabilities numerically 0 or 1 occurred\"Warning message:\n",
      "\"glm.fit: fitted probabilities numerically 0 or 1 occurred\"Warning message:\n",
      "\"glm.fit: fitted probabilities numerically 0 or 1 occurred\"Warning message:\n",
      "\"glm.fit: fitted probabilities numerically 0 or 1 occurred\"Warning message:\n",
      "\"glm.fit: fitted probabilities numerically 0 or 1 occurred\"Warning message:\n",
      "\"glm.fit: fitted probabilities numerically 0 or 1 occurred\"Warning message:\n",
      "\"glm.fit: fitted probabilities numerically 0 or 1 occurred\"Warning message:\n",
      "\"glm.fit: fitted probabilities numerically 0 or 1 occurred\"Warning message:\n",
      "\"glm.fit: fitted probabilities numerically 0 or 1 occurred\"Warning message:\n",
      "\"glm.fit: fitted probabilities numerically 0 or 1 occurred\"Warning message:\n",
      "\"glm.fit: fitted probabilities numerically 0 or 1 occurred\"Warning message:\n",
      "\"glm.fit: fitted probabilities numerically 0 or 1 occurred\"Warning message:\n",
      "\"glm.fit: fitted probabilities numerically 0 or 1 occurred\"Warning message:\n",
      "\"glm.fit: fitted probabilities numerically 0 or 1 occurred\"Warning message:\n"
     ]
    },
    {
     "name": "stderr",
     "output_type": "stream",
     "text": [
      "\"glm.fit: fitted probabilities numerically 0 or 1 occurred\"Warning message:\n",
      "\"glm.fit: fitted probabilities numerically 0 or 1 occurred\"Warning message:\n",
      "\"glm.fit: fitted probabilities numerically 0 or 1 occurred\"Warning message:\n",
      "\"glm.fit: fitted probabilities numerically 0 or 1 occurred\"Warning message:\n",
      "\"glm.fit: fitted probabilities numerically 0 or 1 occurred\"Warning message:\n",
      "\"glm.fit: fitted probabilities numerically 0 or 1 occurred\"Warning message:\n",
      "\"glm.fit: fitted probabilities numerically 0 or 1 occurred\"Warning message:\n",
      "\"glm.fit: fitted probabilities numerically 0 or 1 occurred\"Warning message:\n",
      "\"glm.fit: fitted probabilities numerically 0 or 1 occurred\"Warning message:\n",
      "\"glm.fit: fitted probabilities numerically 0 or 1 occurred\"Warning message:\n",
      "\"glm.fit: fitted probabilities numerically 0 or 1 occurred\"Warning message:\n",
      "\"glm.fit: fitted probabilities numerically 0 or 1 occurred\"Warning message:\n",
      "\"glm.fit: fitted probabilities numerically 0 or 1 occurred\"Warning message:\n",
      "\"glm.fit: fitted probabilities numerically 0 or 1 occurred\"Warning message:\n",
      "\"glm.fit: fitted probabilities numerically 0 or 1 occurred\"Warning message:\n",
      "\"glm.fit: fitted probabilities numerically 0 or 1 occurred\"Warning message:\n",
      "\"glm.fit: fitted probabilities numerically 0 or 1 occurred\"Warning message:\n",
      "\"glm.fit: fitted probabilities numerically 0 or 1 occurred\"Warning message:\n",
      "\"glm.fit: fitted probabilities numerically 0 or 1 occurred\"Warning message:\n",
      "\"glm.fit: fitted probabilities numerically 0 or 1 occurred\"Warning message:\n",
      "\"glm.fit: fitted probabilities numerically 0 or 1 occurred\"Warning message:\n",
      "\"glm.fit: fitted probabilities numerically 0 or 1 occurred\""
     ]
    },
    {
     "data": {
      "text/html": [
       "<table>\n",
       "<thead><tr><th></th><th scope=col>coef</th><th scope=col>2.5 %</th><th scope=col>97.5 %</th></tr></thead>\n",
       "<tbody>\n",
       "\t<tr><th scope=row>(Intercept)</th><td> 3.2814733 </td><td> 1.6023931 </td><td> 5.13428092</td></tr>\n",
       "\t<tr><th scope=row>zn</th><td>-1.5019405 </td><td>-3.4628951 </td><td> 0.03057966</td></tr>\n",
       "\t<tr><th scope=row>indus</th><td>-0.3880474 </td><td>-1.1804949 </td><td> 0.36499988</td></tr>\n",
       "\t<tr><th scope=row>chas</th><td> 0.3172821 </td><td>-0.0895728 </td><td> 0.73260867</td></tr>\n",
       "\t<tr><th scope=row>nox</th><td> 5.8370106 </td><td> 4.0346887 </td><td> 7.94693866</td></tr>\n",
       "\t<tr><th scope=row>rm</th><td>-0.4201961 </td><td>-1.6251824 </td><td> 0.77788671</td></tr>\n",
       "\t<tr><th scope=row>age</th><td> 0.9678683 </td><td> 0.1992879 </td><td> 1.79315046</td></tr>\n",
       "\t<tr><th scope=row>dis</th><td> 1.5387040 </td><td> 0.4803712 </td><td> 2.69390372</td></tr>\n",
       "\t<tr><th scope=row>rad</th><td> 5.6003651 </td><td> 2.8750499 </td><td> 8.88527919</td></tr>\n",
       "\t<tr><th scope=row>tax</th><td>-1.3979088 </td><td>-2.5604828 </td><td>-0.37318001</td></tr>\n",
       "\t<tr><th scope=row>ptratio</th><td> 0.9717282 </td><td> 0.3204301 </td><td> 1.69488940</td></tr>\n",
       "\t<tr><th scope=row>black</th><td>-3.4437725 </td><td>-6.2825829 </td><td>-1.28840208</td></tr>\n",
       "\t<tr><th scope=row>lstat</th><td>-0.0440392 </td><td>-0.8937557 </td><td> 0.77508781</td></tr>\n",
       "\t<tr><th scope=row>medv</th><td> 1.5869820 </td><td> 0.1834167 </td><td> 3.10947390</td></tr>\n",
       "</tbody>\n",
       "</table>\n"
      ],
      "text/latex": [
       "\\begin{tabular}{r|lll}\n",
       "  & coef & 2.5 \\% & 97.5 \\%\\\\\n",
       "\\hline\n",
       "\t(Intercept) &  3.2814733  &  1.6023931  &  5.13428092\\\\\n",
       "\tzn & -1.5019405  & -3.4628951  &  0.03057966\\\\\n",
       "\tindus & -0.3880474  & -1.1804949  &  0.36499988\\\\\n",
       "\tchas &  0.3172821  & -0.0895728  &  0.73260867\\\\\n",
       "\tnox &  5.8370106  &  4.0346887  &  7.94693866\\\\\n",
       "\trm & -0.4201961  & -1.6251824  &  0.77788671\\\\\n",
       "\tage &  0.9678683  &  0.1992879  &  1.79315046\\\\\n",
       "\tdis &  1.5387040  &  0.4803712  &  2.69390372\\\\\n",
       "\trad &  5.6003651  &  2.8750499  &  8.88527919\\\\\n",
       "\ttax & -1.3979088  & -2.5604828  & -0.37318001\\\\\n",
       "\tptratio &  0.9717282  &  0.3204301  &  1.69488940\\\\\n",
       "\tblack & -3.4437725  & -6.2825829  & -1.28840208\\\\\n",
       "\tlstat & -0.0440392  & -0.8937557  &  0.77508781\\\\\n",
       "\tmedv &  1.5869820  &  0.1834167  &  3.10947390\\\\\n",
       "\\end{tabular}\n"
      ],
      "text/markdown": [
       "\n",
       "| <!--/--> | coef | 2.5 % | 97.5 % | \n",
       "|---|---|---|---|---|---|---|---|---|---|---|---|---|---|\n",
       "| (Intercept) |  3.2814733  |  1.6023931  |  5.13428092 | \n",
       "| zn | -1.5019405  | -3.4628951  |  0.03057966 | \n",
       "| indus | -0.3880474  | -1.1804949  |  0.36499988 | \n",
       "| chas |  0.3172821  | -0.0895728  |  0.73260867 | \n",
       "| nox |  5.8370106  |  4.0346887  |  7.94693866 | \n",
       "| rm | -0.4201961  | -1.6251824  |  0.77788671 | \n",
       "| age |  0.9678683  |  0.1992879  |  1.79315046 | \n",
       "| dis |  1.5387040  |  0.4803712  |  2.69390372 | \n",
       "| rad |  5.6003651  |  2.8750499  |  8.88527919 | \n",
       "| tax | -1.3979088  | -2.5604828  | -0.37318001 | \n",
       "| ptratio |  0.9717282  |  0.3204301  |  1.69488940 | \n",
       "| black | -3.4437725  | -6.2825829  | -1.28840208 | \n",
       "| lstat | -0.0440392  | -0.8937557  |  0.77508781 | \n",
       "| medv |  1.5869820  |  0.1834167  |  3.10947390 | \n",
       "\n",
       "\n"
      ],
      "text/plain": [
       "            coef       2.5 %      97.5 %     \n",
       "(Intercept)  3.2814733  1.6023931  5.13428092\n",
       "zn          -1.5019405 -3.4628951  0.03057966\n",
       "indus       -0.3880474 -1.1804949  0.36499988\n",
       "chas         0.3172821 -0.0895728  0.73260867\n",
       "nox          5.8370106  4.0346887  7.94693866\n",
       "rm          -0.4201961 -1.6251824  0.77788671\n",
       "age          0.9678683  0.1992879  1.79315046\n",
       "dis          1.5387040  0.4803712  2.69390372\n",
       "rad          5.6003651  2.8750499  8.88527919\n",
       "tax         -1.3979088 -2.5604828 -0.37318001\n",
       "ptratio      0.9717282  0.3204301  1.69488940\n",
       "black       -3.4437725 -6.2825829 -1.28840208\n",
       "lstat       -0.0440392 -0.8937557  0.77508781\n",
       "medv         1.5869820  0.1834167  3.10947390"
      ]
     },
     "metadata": {},
     "output_type": "display_data"
    }
   ],
   "source": [
    "cbind(coef= coef(logit$finalModel), confint(logit$finalModel))"
   ]
  },
  {
   "cell_type": "markdown",
   "metadata": {},
   "source": [
    "Let's have a look at how important each variable is in the current model."
   ]
  },
  {
   "cell_type": "code",
   "execution_count": 17,
   "metadata": {},
   "outputs": [
    {
     "data": {},
     "metadata": {},
     "output_type": "display_data"
    },
    {
     "data": {
      "image/png": "[encoded data removed]",
      "text/plain": [
       "plot without title"
      ]
     },
     "metadata": {},
     "output_type": "display_data"
    }
   ],
   "source": [
    "plot(varImp(logit, scale = TRUE), main = \"Variable importance for logistic regression\")"
   ]
  },
  {
   "cell_type": "markdown",
   "metadata": {},
   "source": [
    "## 2.1 Measures of how well our model fits. \n",
    "\n",
    "This can be particularly useful when comparing competing models. The output produced by summary(logit) include the null and deviance residuals and the AIC. One measure of model fit is the significance of the overall model. This test asks whether the model with predictors fits significantly better than a model with just an intercept (i.e., a null model). The test statistic is the difference between the residual deviance for the model with predictors and the null model. The test statistic is distributed chi-squared with degrees of freedom equal to the differences in degrees of freedom between the current and the null model (i.e., the number of predictor variables in the model). \n",
    "\n",
    "To find the difference in deviance for the two models (i.e., the test statistic) we can use the command:"
   ]
  },
  {
   "cell_type": "code",
   "execution_count": 18,
   "metadata": {},
   "outputs": [
    {
     "data": {
      "text/html": [
       "410.296251768366"
      ],
      "text/latex": [
       "410.296251768366"
      ],
      "text/markdown": [
       "410.296251768366"
      ],
      "text/plain": [
       "[1] 410.2963"
      ]
     },
     "metadata": {},
     "output_type": "display_data"
    }
   ],
   "source": [
    "with(logit$finalModel, null.deviance - deviance)"
   ]
  },
  {
   "cell_type": "markdown",
   "metadata": {},
   "source": [
    "The degrees of freedom for the difference between the two models is equal to the number of predictor variables in the mode, and can be obtained using:"
   ]
  },
  {
   "cell_type": "code",
   "execution_count": 19,
   "metadata": {},
   "outputs": [
    {
     "data": {
      "text/html": [
       "13"
      ],
      "text/latex": [
       "13"
      ],
      "text/markdown": [
       "13"
      ],
      "text/plain": [
       "[1] 13"
      ]
     },
     "metadata": {},
     "output_type": "display_data"
    }
   ],
   "source": [
    "with(logit$finalModel, df.null - df.residual)"
   ]
  },
  {
   "cell_type": "markdown",
   "metadata": {},
   "source": [
    "Finally, the p-value can be obtained using "
   ]
  },
  {
   "cell_type": "code",
   "execution_count": 20,
   "metadata": {},
   "outputs": [
    {
     "data": {
      "text/html": [
       "1.49346843199062e-79"
      ],
      "text/latex": [
       "1.49346843199062e-79"
      ],
      "text/markdown": [
       "1.49346843199062e-79"
      ],
      "text/plain": [
       "[1] 1.493468e-79"
      ]
     },
     "metadata": {},
     "output_type": "display_data"
    }
   ],
   "source": [
    "with(logit$finalModel, pchisq(null.deviance - deviance, df.null - df.residual, lower.tail = FALSE))"
   ]
  },
  {
   "cell_type": "markdown",
   "metadata": {},
   "source": [
    "The chi-square of 386.34 with 13 degrees of freedom and an associated p-value of less than 0.001 tells us that our model as a whole fits significantly better than an empty model. This is sometimes called a likelihood ratio test (the deviance residual is -2*log likelihood).\n",
    "\n",
    "You can also use the ANOVA test to compare models as we did in linear regression."
   ]
  },
  {
   "cell_type": "markdown",
   "metadata": {},
   "source": [
    "## 2.2 Accessing the predictive ability of the model\n",
    "\n",
    "The function confusionMatrix can also be used to summarize the results of a classification model."
   ]
  },
  {
   "cell_type": "code",
   "execution_count": 21,
   "metadata": {},
   "outputs": [
    {
     "data": {
      "text/plain": [
       "Confusion Matrix and Statistics\n",
       "\n",
       "          Reference\n",
       "Prediction No Yes\n",
       "       No  46   6\n",
       "       Yes  4  44\n",
       "                                         \n",
       "               Accuracy : 0.9            \n",
       "                 95% CI : (0.8238, 0.951)\n",
       "    No Information Rate : 0.5            \n",
       "    P-Value [Acc > NIR] : <2e-16         \n",
       "                                         \n",
       "                  Kappa : 0.8            \n",
       " Mcnemar's Test P-Value : 0.7518         \n",
       "                                         \n",
       "            Sensitivity : 0.9200         \n",
       "            Specificity : 0.8800         \n",
       "         Pos Pred Value : 0.8846         \n",
       "         Neg Pred Value : 0.9167         \n",
       "             Prevalence : 0.5000         \n",
       "         Detection Rate : 0.4600         \n",
       "   Detection Prevalence : 0.5200         \n",
       "      Balanced Accuracy : 0.9000         \n",
       "                                         \n",
       "       'Positive' Class : No             \n",
       "                                         "
      ]
     },
     "metadata": {},
     "output_type": "display_data"
    }
   ],
   "source": [
    "confusionMatrix(predict(logit, test[,-14]), test$resp)"
   ]
  },
  {
   "cell_type": "markdown",
   "metadata": {},
   "source": [
    "The 0.93 accuracy on the test set is quite a good results. However, keep in mind that this result is dependent on the way of splitting the whole data set into training and testing sets. Therefore, if you which for a more precise score, you would be better off running kind of cross-validation such as k-fold cross validation, which will be covered later.\n",
    "\n",
    "\n",
    "What are the other statistics? For example,\n",
    "\n",
    "* No information rate:  the largest proportion of the observed classes\n",
    "* P-Value [Acc > NIR]: A hypothesis test is also computed to evaluate whether the overall accuracy rate is greater than the rate of the largest class\n",
    "* Sensitivity: the percentage of suburbs having crime rate below median that are correctly identified. \n",
    "* Specificity: the percentage of suburbs having crime rate above median that are correctly identified.\n",
    "\n",
    "Refer to [Measure model performance](http://topepo.github.io/caret/other.html) for detailed discussion.\n",
    "\n",
    "Now we are going to plot the ROC curve "
   ]
  },
  {
   "cell_type": "code",
   "execution_count": 22,
   "metadata": {},
   "outputs": [
    {
     "name": "stderr",
     "output_type": "stream",
     "text": [
      "Type 'citation(\"pROC\")' for a citation.\n",
      "\n",
      "Attaching package: 'pROC'\n",
      "\n",
      "The following objects are masked from 'package:stats':\n",
      "\n",
      "    cov, smooth, var\n",
      "\n"
     ]
    }
   ],
   "source": [
    "# install.packages(\"pROC\", repos='http://cran.us.r-project.org')\n",
    "library(pROC)"
   ]
  },
  {
   "cell_type": "code",
   "execution_count": 23,
   "metadata": {},
   "outputs": [
    {
     "data": {
      "text/html": [
       "<table>\n",
       "<thead><tr><th></th><th scope=col>No</th><th scope=col>Yes</th></tr></thead>\n",
       "<tbody>\n",
       "\t<tr><th scope=row>5</th><td>0.8244575</td><td>0.1755425</td></tr>\n",
       "\t<tr><th scope=row>10</th><td>0.7225959</td><td>0.2774041</td></tr>\n",
       "\t<tr><th scope=row>11</th><td>0.8818964</td><td>0.1181036</td></tr>\n",
       "\t<tr><th scope=row>12</th><td>0.8455835</td><td>0.1544165</td></tr>\n",
       "\t<tr><th scope=row>18</th><td>0.3708158</td><td>0.6291842</td></tr>\n",
       "\t<tr><th scope=row>23</th><td>0.5620831</td><td>0.4379169</td></tr>\n",
       "</tbody>\n",
       "</table>\n"
      ],
      "text/latex": [
       "\\begin{tabular}{r|ll}\n",
       "  & No & Yes\\\\\n",
       "\\hline\n",
       "\t5 & 0.8244575 & 0.1755425\\\\\n",
       "\t10 & 0.7225959 & 0.2774041\\\\\n",
       "\t11 & 0.8818964 & 0.1181036\\\\\n",
       "\t12 & 0.8455835 & 0.1544165\\\\\n",
       "\t18 & 0.3708158 & 0.6291842\\\\\n",
       "\t23 & 0.5620831 & 0.4379169\\\\\n",
       "\\end{tabular}\n"
      ],
      "text/markdown": [
       "\n",
       "| <!--/--> | No | Yes | \n",
       "|---|---|---|---|---|---|\n",
       "| 5 | 0.8244575 | 0.1755425 | \n",
       "| 10 | 0.7225959 | 0.2774041 | \n",
       "| 11 | 0.8818964 | 0.1181036 | \n",
       "| 12 | 0.8455835 | 0.1544165 | \n",
       "| 18 | 0.3708158 | 0.6291842 | \n",
       "| 23 | 0.5620831 | 0.4379169 | \n",
       "\n",
       "\n"
      ],
      "text/plain": [
       "   No        Yes      \n",
       "5  0.8244575 0.1755425\n",
       "10 0.7225959 0.2774041\n",
       "11 0.8818964 0.1181036\n",
       "12 0.8455835 0.1544165\n",
       "18 0.3708158 0.6291842\n",
       "23 0.5620831 0.4379169"
      ]
     },
     "metadata": {},
     "output_type": "display_data"
    }
   ],
   "source": [
    "logit.probs <- predict(logit, test[,-14], type=\"prob\")\n",
    "head(logit.probs)"
   ]
  },
  {
   "cell_type": "code",
   "execution_count": 24,
   "metadata": {},
   "outputs": [],
   "source": [
    "logit.ROC <- roc(predictor=logit.probs$Yes, response=test$resp, levels=rev(levels(test$resp)))"
   ]
  },
  {
   "cell_type": "code",
   "execution_count": 25,
   "metadata": {},
   "outputs": [
    {
     "data": {
      "text/html": [
       "0.9536"
      ],
      "text/latex": [
       "0.9536"
      ],
      "text/markdown": [
       "0.9536"
      ],
      "text/plain": [
       "Area under the curve: 0.9536"
      ]
     },
     "metadata": {},
     "output_type": "display_data"
    }
   ],
   "source": [
    "logit.ROC$auc"
   ]
  },
  {
   "cell_type": "code",
   "execution_count": 26,
   "metadata": {},
   "outputs": [
    {
     "data": {
      "image/png": "[encoded data removed]",
      "text/plain": [
       "Plot with title \"logit regression ROC\""
      ]
     },
     "metadata": {},
     "output_type": "display_data"
    }
   ],
   "source": [
    "plot(logit.ROC,main=\"logit regression ROC\")"
   ]
  },
  {
   "cell_type": "markdown",
   "metadata": {},
   "source": [
    "## 2.3 Refine the model with less predictors\n",
    "\n",
    "Now we can run the `anova()` function to analyze the table of deviance."
   ]
  },
  {
   "cell_type": "code",
   "execution_count": 27,
   "metadata": {},
   "outputs": [
    {
     "name": "stderr",
     "output_type": "stream",
     "text": [
      "Warning message:\n",
      "\"glm.fit: fitted probabilities numerically 0 or 1 occurred\"Warning message:\n",
      "\"glm.fit: fitted probabilities numerically 0 or 1 occurred\""
     ]
    },
    {
     "data": {
      "text/html": [
       "<table>\n",
       "<thead><tr><th></th><th scope=col>Df</th><th scope=col>Deviance</th><th scope=col>Resid. Df</th><th scope=col>Resid. Dev</th><th scope=col>Pr(&gt;Chi)</th></tr></thead>\n",
       "<tbody>\n",
       "\t<tr><th scope=row>NULL</th><td>NA          </td><td>          NA</td><td>405         </td><td>562.8355    </td><td>          NA</td></tr>\n",
       "\t<tr><th scope=row>zn</th><td> 1          </td><td>108.59901999</td><td>404         </td><td>454.2365    </td><td>1.986729e-25</td></tr>\n",
       "\t<tr><th scope=row>indus</th><td> 1          </td><td> 86.63171643</td><td>403         </td><td>367.6048    </td><td>1.307336e-20</td></tr>\n",
       "\t<tr><th scope=row>chas</th><td> 1          </td><td>  1.13969171</td><td>402         </td><td>366.4651    </td><td>2.857175e-01</td></tr>\n",
       "\t<tr><th scope=row>nox</th><td> 1          </td><td>127.38578186</td><td>401         </td><td>239.0793    </td><td>1.529550e-29</td></tr>\n",
       "\t<tr><th scope=row>rm</th><td> 1          </td><td>  7.18222537</td><td>400         </td><td>231.8971    </td><td>7.362933e-03</td></tr>\n",
       "\t<tr><th scope=row>age</th><td> 1          </td><td>  0.01356578</td><td>399         </td><td>231.8835    </td><td>9.072783e-01</td></tr>\n",
       "\t<tr><th scope=row>dis</th><td> 1          </td><td>  9.99610968</td><td>398         </td><td>221.8874    </td><td>1.568713e-03</td></tr>\n",
       "\t<tr><th scope=row>rad</th><td> 1          </td><td> 42.86306380</td><td>397         </td><td>179.0243    </td><td>5.870872e-11</td></tr>\n",
       "\t<tr><th scope=row>tax</th><td> 1          </td><td>  6.78252505</td><td>396         </td><td>172.2418    </td><td>9.205458e-03</td></tr>\n",
       "\t<tr><th scope=row>ptratio</th><td> 1          </td><td>  2.71300507</td><td>395         </td><td>169.5288    </td><td>9.953333e-02</td></tr>\n",
       "\t<tr><th scope=row>black</th><td> 1          </td><td> 11.98658794</td><td>394         </td><td>157.5422    </td><td>5.358481e-04</td></tr>\n",
       "\t<tr><th scope=row>lstat</th><td> 1          </td><td>  0.05071036</td><td>393         </td><td>157.4915    </td><td>8.218318e-01</td></tr>\n",
       "\t<tr><th scope=row>medv</th><td> 1          </td><td>  4.95224872</td><td>392         </td><td>152.5393    </td><td>2.605676e-02</td></tr>\n",
       "</tbody>\n",
       "</table>\n"
      ],
      "text/latex": [
       "\\begin{tabular}{r|lllll}\n",
       "  & Df & Deviance & Resid. Df & Resid. Dev & Pr(>Chi)\\\\\n",
       "\\hline\n",
       "\tNULL & NA           &           NA & 405          & 562.8355     &           NA\\\\\n",
       "\tzn &  1           & 108.59901999 & 404          & 454.2365     & 1.986729e-25\\\\\n",
       "\tindus &  1           &  86.63171643 & 403          & 367.6048     & 1.307336e-20\\\\\n",
       "\tchas &  1           &   1.13969171 & 402          & 366.4651     & 2.857175e-01\\\\\n",
       "\tnox &  1           & 127.38578186 & 401          & 239.0793     & 1.529550e-29\\\\\n",
       "\trm &  1           &   7.18222537 & 400          & 231.8971     & 7.362933e-03\\\\\n",
       "\tage &  1           &   0.01356578 & 399          & 231.8835     & 9.072783e-01\\\\\n",
       "\tdis &  1           &   9.99610968 & 398          & 221.8874     & 1.568713e-03\\\\\n",
       "\trad &  1           &  42.86306380 & 397          & 179.0243     & 5.870872e-11\\\\\n",
       "\ttax &  1           &   6.78252505 & 396          & 172.2418     & 9.205458e-03\\\\\n",
       "\tptratio &  1           &   2.71300507 & 395          & 169.5288     & 9.953333e-02\\\\\n",
       "\tblack &  1           &  11.98658794 & 394          & 157.5422     & 5.358481e-04\\\\\n",
       "\tlstat &  1           &   0.05071036 & 393          & 157.4915     & 8.218318e-01\\\\\n",
       "\tmedv &  1           &   4.95224872 & 392          & 152.5393     & 2.605676e-02\\\\\n",
       "\\end{tabular}\n"
      ],
      "text/markdown": [
       "\n",
       "| <!--/--> | Df | Deviance | Resid. Df | Resid. Dev | Pr(>Chi) | \n",
       "|---|---|---|---|---|---|---|---|---|---|---|---|---|---|\n",
       "| NULL | NA           |           NA | 405          | 562.8355     |           NA | \n",
       "| zn |  1           | 108.59901999 | 404          | 454.2365     | 1.986729e-25 | \n",
       "| indus |  1           |  86.63171643 | 403          | 367.6048     | 1.307336e-20 | \n",
       "| chas |  1           |   1.13969171 | 402          | 366.4651     | 2.857175e-01 | \n",
       "| nox |  1           | 127.38578186 | 401          | 239.0793     | 1.529550e-29 | \n",
       "| rm |  1           |   7.18222537 | 400          | 231.8971     | 7.362933e-03 | \n",
       "| age |  1           |   0.01356578 | 399          | 231.8835     | 9.072783e-01 | \n",
       "| dis |  1           |   9.99610968 | 398          | 221.8874     | 1.568713e-03 | \n",
       "| rad |  1           |  42.86306380 | 397          | 179.0243     | 5.870872e-11 | \n",
       "| tax |  1           |   6.78252505 | 396          | 172.2418     | 9.205458e-03 | \n",
       "| ptratio |  1           |   2.71300507 | 395          | 169.5288     | 9.953333e-02 | \n",
       "| black |  1           |  11.98658794 | 394          | 157.5422     | 5.358481e-04 | \n",
       "| lstat |  1           |   0.05071036 | 393          | 157.4915     | 8.218318e-01 | \n",
       "| medv |  1           |   4.95224872 | 392          | 152.5393     | 2.605676e-02 | \n",
       "\n",
       "\n"
      ],
      "text/plain": [
       "        Df Deviance     Resid. Df Resid. Dev Pr(>Chi)    \n",
       "NULL    NA           NA 405       562.8355             NA\n",
       "zn       1 108.59901999 404       454.2365   1.986729e-25\n",
       "indus    1  86.63171643 403       367.6048   1.307336e-20\n",
       "chas     1   1.13969171 402       366.4651   2.857175e-01\n",
       "nox      1 127.38578186 401       239.0793   1.529550e-29\n",
       "rm       1   7.18222537 400       231.8971   7.362933e-03\n",
       "age      1   0.01356578 399       231.8835   9.072783e-01\n",
       "dis      1   9.99610968 398       221.8874   1.568713e-03\n",
       "rad      1  42.86306380 397       179.0243   5.870872e-11\n",
       "tax      1   6.78252505 396       172.2418   9.205458e-03\n",
       "ptratio  1   2.71300507 395       169.5288   9.953333e-02\n",
       "black    1  11.98658794 394       157.5422   5.358481e-04\n",
       "lstat    1   0.05071036 393       157.4915   8.218318e-01\n",
       "medv     1   4.95224872 392       152.5393   2.605676e-02"
      ]
     },
     "metadata": {},
     "output_type": "display_data"
    }
   ],
   "source": [
    "anova(logit$finalModel, test = \"Chisq\")"
   ]
  },
  {
   "cell_type": "markdown",
   "metadata": {},
   "source": [
    "The difference between the null deviance and the residual deviance shows how our model is doing against the null model. Analyzing the table we can see the drop in deviance when adding each variable one at a time. Again, \n",
    "adding zn, indus, nox and rad significantly reduces the residual deviance. The other variables seem to \n",
    "improve the model less even though some of them also have a low p-value. A large p-value here indicates\n",
    "that the model without the variable explains more or less the same amount of variation. Ultimately, what\n",
    "we would like to see is a significant drop in deviance and the AIC.\n",
    "\n",
    "Removing the non-significant ones, we keep the four variables, zn, indus, nox and rad."
   ]
  },
  {
   "cell_type": "code",
   "execution_count": 28,
   "metadata": {},
   "outputs": [
    {
     "data": {
      "text/plain": [
       "\n",
       "Call:\n",
       "NULL\n",
       "\n",
       "Deviance Residuals: \n",
       "     Min        1Q    Median        3Q       Max  \n",
       "-2.00748  -0.26179  -0.00486   0.01204   2.83509  \n",
       "\n",
       "Coefficients:\n",
       "            Estimate Std. Error z value Pr(>|z|)    \n",
       "(Intercept)   2.0328     0.6713   3.028 0.002460 ** \n",
       "zn           -1.0522     0.6240  -1.686 0.091750 .  \n",
       "indus        -0.5615     0.2838  -1.979 0.047840 *  \n",
       "rad           3.9423     1.0539   3.741 0.000183 ***\n",
       "nox           3.6296     0.6400   5.671 1.42e-08 ***\n",
       "---\n",
       "Signif. codes:  0 '***' 0.001 '**' 0.01 '*' 0.05 '.' 0.1 ' ' 1\n",
       "\n",
       "(Dispersion parameter for binomial family taken to be 1)\n",
       "\n",
       "    Null deviance: 562.84  on 405  degrees of freedom\n",
       "Residual deviance: 196.92  on 401  degrees of freedom\n",
       "AIC: 206.92\n",
       "\n",
       "Number of Fisher Scoring iterations: 8\n"
      ]
     },
     "metadata": {},
     "output_type": "display_data"
    }
   ],
   "source": [
    "#library(car)\n",
    "logit_s <- train(resp ~ zn + indus + rad + nox, data=train, method='glm', family=binomial(link='logit'), preProcess=c('scale', 'center'))\n",
    "summary(logit_s)"
   ]
  },
  {
   "cell_type": "code",
   "execution_count": 29,
   "metadata": {},
   "outputs": [
    {
     "data": {
      "text/plain": [
       "Confusion Matrix and Statistics\n",
       "\n",
       "          Reference\n",
       "Prediction No Yes\n",
       "       No  47  12\n",
       "       Yes  3  38\n",
       "                                          \n",
       "               Accuracy : 0.85            \n",
       "                 95% CI : (0.7647, 0.9135)\n",
       "    No Information Rate : 0.5             \n",
       "    P-Value [Acc > NIR] : 2.413e-13       \n",
       "                                          \n",
       "                  Kappa : 0.7             \n",
       " Mcnemar's Test P-Value : 0.03887         \n",
       "                                          \n",
       "            Sensitivity : 0.9400          \n",
       "            Specificity : 0.7600          \n",
       "         Pos Pred Value : 0.7966          \n",
       "         Neg Pred Value : 0.9268          \n",
       "             Prevalence : 0.5000          \n",
       "         Detection Rate : 0.4700          \n",
       "   Detection Prevalence : 0.5900          \n",
       "      Balanced Accuracy : 0.8500          \n",
       "                                          \n",
       "       'Positive' Class : No              \n",
       "                                          "
      ]
     },
     "metadata": {},
     "output_type": "display_data"
    }
   ],
   "source": [
    "confusionMatrix(predict(logit_s, test[,-14]), test$resp)"
   ]
  },
  {
   "cell_type": "markdown",
   "metadata": {},
   "source": [
    "## 2.4 Variance Inflation Factors\n",
    "\n",
    "it is a measure of how much the variance of the estimated regression coefficient is \"inflated\" by the existence of correlation among the predictor variables in the model.\n",
    "\n",
    " A VIF of 1 means that there is no correlation among the k-th predictor and the remaining predictor variables, and hence the variance of the k-th coefficient is not inflated at all. The general rule of thumb is that VIFs exceeding 4 warrant further investigation, while VIFs exceeding 10 are signs of serious multicollinearity requiring correction.\n",
    " \n",
    "The two VIFs for rad and nox are close to 1, which means that there is nearly no correlation between rad and nox."
   ]
  },
  {
   "cell_type": "code",
   "execution_count": 30,
   "metadata": {},
   "outputs": [
    {
     "name": "stderr",
     "output_type": "stream",
     "text": [
      "Loading required package: carData\n"
     ]
    },
    {
     "data": {
      "text/html": [
       "<dl class=dl-horizontal>\n",
       "\t<dt>zn</dt>\n",
       "\t\t<dd>1.8490953513709</dd>\n",
       "\t<dt>indus</dt>\n",
       "\t\t<dd>3.02823041244687</dd>\n",
       "\t<dt>chas</dt>\n",
       "\t\t<dd>1.35842221006515</dd>\n",
       "\t<dt>nox</dt>\n",
       "\t\t<dd>4.1386603978072</dd>\n",
       "\t<dt>rm</dt>\n",
       "\t\t<dd>6.59878288500794</dd>\n",
       "\t<dt>age</dt>\n",
       "\t\t<dd>2.45570097103884</dd>\n",
       "\t<dt>dis</dt>\n",
       "\t\t<dd>4.07938869785937</dd>\n",
       "\t<dt>rad</dt>\n",
       "\t\t<dd>1.98139009081498</dd>\n",
       "\t<dt>tax</dt>\n",
       "\t\t<dd>2.09551026572563</dd>\n",
       "\t<dt>ptratio</dt>\n",
       "\t\t<dd>2.43500525127753</dd>\n",
       "\t<dt>black</dt>\n",
       "\t\t<dd>1.33001541472109</dd>\n",
       "\t<dt>lstat</dt>\n",
       "\t\t<dd>2.97041972728789</dd>\n",
       "\t<dt>medv</dt>\n",
       "\t\t<dd>8.57445010755934</dd>\n",
       "</dl>\n"
      ],
      "text/latex": [
       "\\begin{description*}\n",
       "\\item[zn] 1.8490953513709\n",
       "\\item[indus] 3.02823041244687\n",
       "\\item[chas] 1.35842221006515\n",
       "\\item[nox] 4.1386603978072\n",
       "\\item[rm] 6.59878288500794\n",
       "\\item[age] 2.45570097103884\n",
       "\\item[dis] 4.07938869785937\n",
       "\\item[rad] 1.98139009081498\n",
       "\\item[tax] 2.09551026572563\n",
       "\\item[ptratio] 2.43500525127753\n",
       "\\item[black] 1.33001541472109\n",
       "\\item[lstat] 2.97041972728789\n",
       "\\item[medv] 8.57445010755934\n",
       "\\end{description*}\n"
      ],
      "text/markdown": [
       "zn\n",
       ":   1.8490953513709indus\n",
       ":   3.02823041244687chas\n",
       ":   1.35842221006515nox\n",
       ":   4.1386603978072rm\n",
       ":   6.59878288500794age\n",
       ":   2.45570097103884dis\n",
       ":   4.07938869785937rad\n",
       ":   1.98139009081498tax\n",
       ":   2.09551026572563ptratio\n",
       ":   2.43500525127753black\n",
       ":   1.33001541472109lstat\n",
       ":   2.97041972728789medv\n",
       ":   8.57445010755934\n",
       "\n"
      ],
      "text/plain": [
       "      zn    indus     chas      nox       rm      age      dis      rad \n",
       "1.849095 3.028230 1.358422 4.138660 6.598783 2.455701 4.079389 1.981390 \n",
       "     tax  ptratio    black    lstat     medv \n",
       "2.095510 2.435005 1.330015 2.970420 8.574450 "
      ]
     },
     "metadata": {},
     "output_type": "display_data"
    }
   ],
   "source": [
    "library(car)\n",
    "vif(logit$finalModel)"
   ]
  },
  {
   "cell_type": "code",
   "execution_count": 31,
   "metadata": {},
   "outputs": [
    {
     "data": {
      "text/html": [
       "<dl class=dl-horizontal>\n",
       "\t<dt>zn</dt>\n",
       "\t\t<dd>1.08057063032099</dd>\n",
       "\t<dt>indus</dt>\n",
       "\t\t<dd>2.26429611139049</dd>\n",
       "\t<dt>rad</dt>\n",
       "\t\t<dd>1.10598296867058</dd>\n",
       "\t<dt>nox</dt>\n",
       "\t\t<dd>2.23101024095003</dd>\n",
       "</dl>\n"
      ],
      "text/latex": [
       "\\begin{description*}\n",
       "\\item[zn] 1.08057063032099\n",
       "\\item[indus] 2.26429611139049\n",
       "\\item[rad] 1.10598296867058\n",
       "\\item[nox] 2.23101024095003\n",
       "\\end{description*}\n"
      ],
      "text/markdown": [
       "zn\n",
       ":   1.08057063032099indus\n",
       ":   2.26429611139049rad\n",
       ":   1.10598296867058nox\n",
       ":   2.23101024095003\n",
       "\n"
      ],
      "text/plain": [
       "      zn    indus      rad      nox \n",
       "1.080571 2.264296 1.105983 2.231010 "
      ]
     },
     "metadata": {},
     "output_type": "display_data"
    }
   ],
   "source": [
    "vif(logit_s$finalModel)"
   ]
  },
  {
   "cell_type": "markdown",
   "metadata": {},
   "source": [
    "# Linear Discriminant Analysis\n",
    "\n",
    "Now, we carry out LDA on the same data set."
   ]
  },
  {
   "cell_type": "code",
   "execution_count": 32,
   "metadata": {},
   "outputs": [],
   "source": [
    "LDA <- train(resp~., data = train_cor, method = 'lda', preProcess=c('scale', 'center'))"
   ]
  },
  {
   "cell_type": "code",
   "execution_count": 33,
   "metadata": {},
   "outputs": [
    {
     "data": {
      "text/plain": [
       "Call:\n",
       "lda(x, grouping = y)\n",
       "\n",
       "Prior probabilities of groups:\n",
       " No Yes \n",
       "0.5 0.5 \n",
       "\n",
       "Group means:\n",
       "           zn        chas        nox         rm        age        dis\n",
       "No   0.425984 -0.08885984 -0.7345326  0.1604563 -0.6087041  0.6168389\n",
       "Yes -0.425984  0.08885984  0.7345326 -0.1604563  0.6087041 -0.6168389\n",
       "           rad    ptratio      black      lstat       medv\n",
       "No  -0.6472536 -0.2672159  0.3492408 -0.4613124  0.2852916\n",
       "Yes  0.6472536  0.2672159 -0.3492408  0.4613124 -0.2852916\n",
       "\n",
       "Coefficients of linear discriminants:\n",
       "                LD1\n",
       "zn      -0.13531801\n",
       "chas     0.03230381\n",
       "nox      0.94236992\n",
       "rm       0.03939345\n",
       "age      0.30305091\n",
       "dis      0.07671521\n",
       "rad      0.60745197\n",
       "ptratio  0.05579898\n",
       "black   -0.12024296\n",
       "lstat    0.09131731\n",
       "medv     0.34458588"
      ]
     },
     "metadata": {},
     "output_type": "display_data"
    }
   ],
   "source": [
    "LDA$finalModel"
   ]
  },
  {
   "cell_type": "markdown",
   "metadata": {},
   "source": [
    "The above results show that \n",
    "* $\\hat\\pi_1 = 0.5$ and $\\hat\\pi_2 = 0.5$ the prior probability of a observation belonging to classes No and Yes respectively.\n",
    "* Group means show the estimate of $\\mu_k$"
   ]
  },
  {
   "cell_type": "code",
   "execution_count": 34,
   "metadata": {
    "scrolled": true
   },
   "outputs": [
    {
     "data": {
      "text/plain": [
       "Confusion Matrix and Statistics\n",
       "\n",
       "          Reference\n",
       "Prediction No Yes\n",
       "       No  49   1\n",
       "       Yes 14  36\n",
       "                                          \n",
       "               Accuracy : 0.85            \n",
       "                 95% CI : (0.7647, 0.9135)\n",
       "    No Information Rate : 0.63            \n",
       "    P-Value [Acc > NIR] : 1.043e-06       \n",
       "                                          \n",
       "                  Kappa : 0.7             \n",
       " Mcnemar's Test P-Value : 0.001946        \n",
       "                                          \n",
       "            Sensitivity : 0.7778          \n",
       "            Specificity : 0.9730          \n",
       "         Pos Pred Value : 0.9800          \n",
       "         Neg Pred Value : 0.7200          \n",
       "             Prevalence : 0.6300          \n",
       "         Detection Rate : 0.4900          \n",
       "   Detection Prevalence : 0.5000          \n",
       "      Balanced Accuracy : 0.8754          \n",
       "                                          \n",
       "       'Positive' Class : No              \n",
       "                                          "
      ]
     },
     "metadata": {},
     "output_type": "display_data"
    }
   ],
   "source": [
    "confusionMatrix(test_cor$resp, predict(LDA, test_cor[,-14]))"
   ]
  },
  {
   "cell_type": "markdown",
   "metadata": {},
   "source": [
    "# Quadratic Discriminant Analysis"
   ]
  },
  {
   "cell_type": "code",
   "execution_count": 35,
   "metadata": {},
   "outputs": [
    {
     "data": {
      "text/plain": [
       "Call:\n",
       "qda(x, grouping = y)\n",
       "\n",
       "Prior probabilities of groups:\n",
       " No Yes \n",
       "0.5 0.5 \n",
       "\n",
       "Group means:\n",
       "           zn        chas        nox         rm        age        dis\n",
       "No   0.425984 -0.08885984 -0.7345326  0.1604563 -0.6087041  0.6168389\n",
       "Yes -0.425984  0.08885984  0.7345326 -0.1604563  0.6087041 -0.6168389\n",
       "           rad    ptratio      black      lstat       medv\n",
       "No  -0.6472536 -0.2672159  0.3492408 -0.4613124  0.2852916\n",
       "Yes  0.6472536  0.2672159 -0.3492408  0.4613124 -0.2852916"
      ]
     },
     "metadata": {},
     "output_type": "display_data"
    }
   ],
   "source": [
    "QDA <- train(resp~., data=train_cor, method='qda', preProcess=c('scale', 'center'))\n",
    "QDA$finalModel"
   ]
  },
  {
   "cell_type": "code",
   "execution_count": 36,
   "metadata": {},
   "outputs": [
    {
     "data": {
      "text/plain": [
       "Confusion Matrix and Statistics\n",
       "\n",
       "          Reference\n",
       "Prediction No Yes\n",
       "       No  49   1\n",
       "       Yes 14  36\n",
       "                                          \n",
       "               Accuracy : 0.85            \n",
       "                 95% CI : (0.7647, 0.9135)\n",
       "    No Information Rate : 0.63            \n",
       "    P-Value [Acc > NIR] : 1.043e-06       \n",
       "                                          \n",
       "                  Kappa : 0.7             \n",
       " Mcnemar's Test P-Value : 0.001946        \n",
       "                                          \n",
       "            Sensitivity : 0.7778          \n",
       "            Specificity : 0.9730          \n",
       "         Pos Pred Value : 0.9800          \n",
       "         Neg Pred Value : 0.7200          \n",
       "             Prevalence : 0.6300          \n",
       "         Detection Rate : 0.4900          \n",
       "   Detection Prevalence : 0.5000          \n",
       "      Balanced Accuracy : 0.8754          \n",
       "                                          \n",
       "       'Positive' Class : No              \n",
       "                                          "
      ]
     },
     "metadata": {},
     "output_type": "display_data"
    }
   ],
   "source": [
    "confusionMatrix(test_cor$resp, predict(LDA, test_cor[,-14]))"
   ]
  },
  {
   "cell_type": "code",
   "execution_count": null,
   "metadata": {},
   "outputs": [],
   "source": []
  },
  {
   "cell_type": "code",
   "execution_count": null,
   "metadata": {},
   "outputs": [],
   "source": []
  }
 ],
 "metadata": {
  "kernelspec": {
   "display_name": "R",
   "language": "R",
   "name": "ir"
  },
  "language_info": {
   "codemirror_mode": "r",
   "file_extension": ".r",
   "mimetype": "text/x-r-source",
   "name": "R",
   "pygments_lexer": "r",
   "version": "3.4.4"
  }
 },
 "nbformat": 4,
 "nbformat_minor": 1
}
